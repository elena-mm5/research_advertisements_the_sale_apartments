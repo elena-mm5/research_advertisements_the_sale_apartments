{
 "cells": [
  {
   "cell_type": "markdown",
   "metadata": {},
   "source": [
    "# Исследование объявлений о продаже квартир\n",
    "\n",
    "В вашем распоряжении данные сервиса Яндекс.Недвижимость — архив объявлений о продаже квартир в Санкт-Петербурге и соседних населённых пунктов за несколько лет. Нужно научиться определять рыночную стоимость объектов недвижимости. Ваша задача — установить параметры. Это позволит построить автоматизированную систему: она отследит аномалии и мошенническую деятельность. \n",
    "\n",
    "По каждой квартире на продажу доступны два вида данных. Первые вписаны пользователем, вторые — получены автоматически на основе картографических данных. Например, расстояние до центра, аэропорта, ближайшего парка и водоёма. \n",
    "\n",
    "Цель исследования:\n",
    "\n",
    "1. Определить рыночную стоимость объектов недвижимости;\n",
    "2. Установить параметры, которые позволят отслеживать аномалии и мошенническую деятельность;\n",
    "3. Установить, какие факторы влияют на ценообразование стоимости квартир.\n",
    "\n",
    "Ход исследования:\n",
    "\n",
    "Данные о недвижимости я получу из файла `'/datasets/real_estate_data.csv'` и изучу общую информацию о них. \n",
    "\n",
    "Я проверю данные на ошибки и аномалии, поищу возможность их исправления, которые не приведут к искажению конечного результата, далее оценю какие факторы влияют на ценообразование стоимости квартир, создам необходимые визуализации данных для качественного исследовательского анализа. \n",
    "\n",
    "Таким образом, мое исследование пройдет в несколько этапов:\n",
    "\n",
    "1. Обзор данных;\n",
    "2. Предобработка данных;\n",
    "3. Расчеты и добавление результатов в таблицу;\n",
    "4. Проведение анализа данных для Санкт-Петербурга и Ленинградской области;\n",
    "5. Установление факторов, влияющих на ценообразование стоимости квартир;\n",
    "6. Написание общего вывода.\n",
    "\n",
    "\n",
    "\n",
    "\n"
   ]
  },
  {
   "cell_type": "markdown",
   "metadata": {},
   "source": [
    "`airports_nearest` — расстояние до ближайшего аэропорта в метрах (м)\n",
    "\n",
    "`balcony` — число балконов\n",
    "\n",
    "`ceiling_height` — высота потолков (м)\n",
    "\n",
    "`cityCenters_nearest` — расстояние до центра города (м)\n",
    "\n",
    "`days_exposition` — сколько дней было размещено объявление (от публикации до снятия)\n",
    "\n",
    "`first_day_exposition` — дата публикации\n",
    "\n",
    "`floor` — этаж\n",
    "\n",
    "`floors_total` — всего этажей в доме\n",
    "\n",
    "`is_apartment` — апартаменты (булев тип)\n",
    "\n",
    "`kitchen_area` — площадь кухни в квадратных метрах (м²)\n",
    "\n",
    "`last_price` — цена на момент снятия с публикации\n",
    "\n",
    "`living_area` — жилая площадь в квадратных метрах (м²)\n",
    "\n",
    "`locality_name` — название населённого пункта\n",
    "\n",
    "`open_plan` — свободная планировка (булев тип)\n",
    "\n",
    "`parks_around3000` — число парков в радиусе 3 км\n",
    "\n",
    "`parks_nearest` — расстояние до ближайшего парка (м)\n",
    "\n",
    "`ponds_around3000` — число водоёмов в радиусе 3 км\n",
    "\n",
    "`ponds_nearest` — расстояние до ближайшего водоёма (м)\n",
    "\n",
    "`rooms` — число комнат\n",
    "\n",
    "`studio` — квартира-студия (булев тип)\n",
    "\n",
    "`total_area` — общая площадь квартиры в квадратных метрах (м²)\n",
    "\n",
    "`total_images` — число фотографий квартиры в объявлении"
   ]
  },
  {
   "cell_type": "markdown",
   "metadata": {},
   "source": [
    "### Откройте файл с данными и изучите общую информацию. "
   ]
  },
  {
   "cell_type": "code",
   "execution_count": 1,
   "metadata": {},
   "outputs": [],
   "source": [
    "import pandas as pd\n",
    "import seaborn as sns\n",
    "import matplotlib.pyplot as plt\n",
    "import numpy as np"
   ]
  },
  {
   "cell_type": "code",
   "execution_count": 2,
   "metadata": {},
   "outputs": [
    {
     "data": {
      "text/html": [
       "<div>\n",
       "<style scoped>\n",
       "    .dataframe tbody tr th:only-of-type {\n",
       "        vertical-align: middle;\n",
       "    }\n",
       "\n",
       "    .dataframe tbody tr th {\n",
       "        vertical-align: top;\n",
       "    }\n",
       "\n",
       "    .dataframe thead th {\n",
       "        text-align: right;\n",
       "    }\n",
       "</style>\n",
       "<table border=\"1\" class=\"dataframe\">\n",
       "  <thead>\n",
       "    <tr style=\"text-align: right;\">\n",
       "      <th></th>\n",
       "      <th>total_images</th>\n",
       "      <th>last_price</th>\n",
       "      <th>total_area</th>\n",
       "      <th>first_day_exposition</th>\n",
       "      <th>rooms</th>\n",
       "      <th>ceiling_height</th>\n",
       "      <th>floors_total</th>\n",
       "      <th>living_area</th>\n",
       "      <th>floor</th>\n",
       "      <th>is_apartment</th>\n",
       "      <th>...</th>\n",
       "      <th>kitchen_area</th>\n",
       "      <th>balcony</th>\n",
       "      <th>locality_name</th>\n",
       "      <th>airports_nearest</th>\n",
       "      <th>cityCenters_nearest</th>\n",
       "      <th>parks_around3000</th>\n",
       "      <th>parks_nearest</th>\n",
       "      <th>ponds_around3000</th>\n",
       "      <th>ponds_nearest</th>\n",
       "      <th>days_exposition</th>\n",
       "    </tr>\n",
       "  </thead>\n",
       "  <tbody>\n",
       "    <tr>\n",
       "      <th>0</th>\n",
       "      <td>20</td>\n",
       "      <td>13000000.0</td>\n",
       "      <td>108.0</td>\n",
       "      <td>2019-03-07T00:00:00</td>\n",
       "      <td>3</td>\n",
       "      <td>2.70</td>\n",
       "      <td>16.0</td>\n",
       "      <td>51.0</td>\n",
       "      <td>8</td>\n",
       "      <td>NaN</td>\n",
       "      <td>...</td>\n",
       "      <td>25.0</td>\n",
       "      <td>NaN</td>\n",
       "      <td>Санкт-Петербург</td>\n",
       "      <td>18863.0</td>\n",
       "      <td>16028.0</td>\n",
       "      <td>1.0</td>\n",
       "      <td>482.0</td>\n",
       "      <td>2.0</td>\n",
       "      <td>755.0</td>\n",
       "      <td>NaN</td>\n",
       "    </tr>\n",
       "    <tr>\n",
       "      <th>1</th>\n",
       "      <td>7</td>\n",
       "      <td>3350000.0</td>\n",
       "      <td>40.4</td>\n",
       "      <td>2018-12-04T00:00:00</td>\n",
       "      <td>1</td>\n",
       "      <td>NaN</td>\n",
       "      <td>11.0</td>\n",
       "      <td>18.6</td>\n",
       "      <td>1</td>\n",
       "      <td>NaN</td>\n",
       "      <td>...</td>\n",
       "      <td>11.0</td>\n",
       "      <td>2.0</td>\n",
       "      <td>посёлок Шушары</td>\n",
       "      <td>12817.0</td>\n",
       "      <td>18603.0</td>\n",
       "      <td>0.0</td>\n",
       "      <td>NaN</td>\n",
       "      <td>0.0</td>\n",
       "      <td>NaN</td>\n",
       "      <td>81.0</td>\n",
       "    </tr>\n",
       "    <tr>\n",
       "      <th>2</th>\n",
       "      <td>10</td>\n",
       "      <td>5196000.0</td>\n",
       "      <td>56.0</td>\n",
       "      <td>2015-08-20T00:00:00</td>\n",
       "      <td>2</td>\n",
       "      <td>NaN</td>\n",
       "      <td>5.0</td>\n",
       "      <td>34.3</td>\n",
       "      <td>4</td>\n",
       "      <td>NaN</td>\n",
       "      <td>...</td>\n",
       "      <td>8.3</td>\n",
       "      <td>0.0</td>\n",
       "      <td>Санкт-Петербург</td>\n",
       "      <td>21741.0</td>\n",
       "      <td>13933.0</td>\n",
       "      <td>1.0</td>\n",
       "      <td>90.0</td>\n",
       "      <td>2.0</td>\n",
       "      <td>574.0</td>\n",
       "      <td>558.0</td>\n",
       "    </tr>\n",
       "    <tr>\n",
       "      <th>3</th>\n",
       "      <td>0</td>\n",
       "      <td>64900000.0</td>\n",
       "      <td>159.0</td>\n",
       "      <td>2015-07-24T00:00:00</td>\n",
       "      <td>3</td>\n",
       "      <td>NaN</td>\n",
       "      <td>14.0</td>\n",
       "      <td>NaN</td>\n",
       "      <td>9</td>\n",
       "      <td>NaN</td>\n",
       "      <td>...</td>\n",
       "      <td>NaN</td>\n",
       "      <td>0.0</td>\n",
       "      <td>Санкт-Петербург</td>\n",
       "      <td>28098.0</td>\n",
       "      <td>6800.0</td>\n",
       "      <td>2.0</td>\n",
       "      <td>84.0</td>\n",
       "      <td>3.0</td>\n",
       "      <td>234.0</td>\n",
       "      <td>424.0</td>\n",
       "    </tr>\n",
       "    <tr>\n",
       "      <th>4</th>\n",
       "      <td>2</td>\n",
       "      <td>10000000.0</td>\n",
       "      <td>100.0</td>\n",
       "      <td>2018-06-19T00:00:00</td>\n",
       "      <td>2</td>\n",
       "      <td>3.03</td>\n",
       "      <td>14.0</td>\n",
       "      <td>32.0</td>\n",
       "      <td>13</td>\n",
       "      <td>NaN</td>\n",
       "      <td>...</td>\n",
       "      <td>41.0</td>\n",
       "      <td>NaN</td>\n",
       "      <td>Санкт-Петербург</td>\n",
       "      <td>31856.0</td>\n",
       "      <td>8098.0</td>\n",
       "      <td>2.0</td>\n",
       "      <td>112.0</td>\n",
       "      <td>1.0</td>\n",
       "      <td>48.0</td>\n",
       "      <td>121.0</td>\n",
       "    </tr>\n",
       "  </tbody>\n",
       "</table>\n",
       "<p>5 rows × 22 columns</p>\n",
       "</div>"
      ],
      "text/plain": [
       "   total_images  last_price  total_area first_day_exposition  rooms  \\\n",
       "0            20  13000000.0       108.0  2019-03-07T00:00:00      3   \n",
       "1             7   3350000.0        40.4  2018-12-04T00:00:00      1   \n",
       "2            10   5196000.0        56.0  2015-08-20T00:00:00      2   \n",
       "3             0  64900000.0       159.0  2015-07-24T00:00:00      3   \n",
       "4             2  10000000.0       100.0  2018-06-19T00:00:00      2   \n",
       "\n",
       "   ceiling_height  floors_total  living_area  floor is_apartment  ...  \\\n",
       "0            2.70          16.0         51.0      8          NaN  ...   \n",
       "1             NaN          11.0         18.6      1          NaN  ...   \n",
       "2             NaN           5.0         34.3      4          NaN  ...   \n",
       "3             NaN          14.0          NaN      9          NaN  ...   \n",
       "4            3.03          14.0         32.0     13          NaN  ...   \n",
       "\n",
       "   kitchen_area  balcony    locality_name  airports_nearest  \\\n",
       "0          25.0      NaN  Санкт-Петербург           18863.0   \n",
       "1          11.0      2.0   посёлок Шушары           12817.0   \n",
       "2           8.3      0.0  Санкт-Петербург           21741.0   \n",
       "3           NaN      0.0  Санкт-Петербург           28098.0   \n",
       "4          41.0      NaN  Санкт-Петербург           31856.0   \n",
       "\n",
       "  cityCenters_nearest  parks_around3000  parks_nearest  ponds_around3000  \\\n",
       "0             16028.0               1.0          482.0               2.0   \n",
       "1             18603.0               0.0            NaN               0.0   \n",
       "2             13933.0               1.0           90.0               2.0   \n",
       "3              6800.0               2.0           84.0               3.0   \n",
       "4              8098.0               2.0          112.0               1.0   \n",
       "\n",
       "   ponds_nearest  days_exposition  \n",
       "0          755.0              NaN  \n",
       "1            NaN             81.0  \n",
       "2          574.0            558.0  \n",
       "3          234.0            424.0  \n",
       "4           48.0            121.0  \n",
       "\n",
       "[5 rows x 22 columns]"
      ]
     },
     "execution_count": 2,
     "metadata": {},
     "output_type": "execute_result"
    }
   ],
   "source": [
    "data = pd.read_csv('/datasets/real_estate_data.csv',  sep='\\t')\n",
    "data.head(5)"
   ]
  },
  {
   "cell_type": "code",
   "execution_count": 3,
   "metadata": {},
   "outputs": [
    {
     "name": "stdout",
     "output_type": "stream",
     "text": [
      "<class 'pandas.core.frame.DataFrame'>\n",
      "RangeIndex: 23699 entries, 0 to 23698\n",
      "Data columns (total 22 columns):\n",
      " #   Column                Non-Null Count  Dtype  \n",
      "---  ------                --------------  -----  \n",
      " 0   total_images          23699 non-null  int64  \n",
      " 1   last_price            23699 non-null  float64\n",
      " 2   total_area            23699 non-null  float64\n",
      " 3   first_day_exposition  23699 non-null  object \n",
      " 4   rooms                 23699 non-null  int64  \n",
      " 5   ceiling_height        14504 non-null  float64\n",
      " 6   floors_total          23613 non-null  float64\n",
      " 7   living_area           21796 non-null  float64\n",
      " 8   floor                 23699 non-null  int64  \n",
      " 9   is_apartment          2775 non-null   object \n",
      " 10  studio                23699 non-null  bool   \n",
      " 11  open_plan             23699 non-null  bool   \n",
      " 12  kitchen_area          21421 non-null  float64\n",
      " 13  balcony               12180 non-null  float64\n",
      " 14  locality_name         23650 non-null  object \n",
      " 15  airports_nearest      18157 non-null  float64\n",
      " 16  cityCenters_nearest   18180 non-null  float64\n",
      " 17  parks_around3000      18181 non-null  float64\n",
      " 18  parks_nearest         8079 non-null   float64\n",
      " 19  ponds_around3000      18181 non-null  float64\n",
      " 20  ponds_nearest         9110 non-null   float64\n",
      " 21  days_exposition       20518 non-null  float64\n",
      "dtypes: bool(2), float64(14), int64(3), object(3)\n",
      "memory usage: 3.7+ MB\n"
     ]
    }
   ],
   "source": [
    "data.info()"
   ]
  },
  {
   "cell_type": "markdown",
   "metadata": {},
   "source": [
    "    По данной информации можно увидеть некорректные наименования столбцов, очень много пропусков и неверные типы данных."
   ]
  },
  {
   "cell_type": "code",
   "execution_count": 4,
   "metadata": {},
   "outputs": [
    {
     "data": {
      "text/plain": [
       "total_images                0\n",
       "last_price                  0\n",
       "total_area                  0\n",
       "first_day_exposition        0\n",
       "rooms                       0\n",
       "ceiling_height           9195\n",
       "floors_total               86\n",
       "living_area              1903\n",
       "floor                       0\n",
       "is_apartment            20924\n",
       "studio                      0\n",
       "open_plan                   0\n",
       "kitchen_area             2278\n",
       "balcony                 11519\n",
       "locality_name              49\n",
       "airports_nearest         5542\n",
       "cityCenters_nearest      5519\n",
       "parks_around3000         5518\n",
       "parks_nearest           15620\n",
       "ponds_around3000         5518\n",
       "ponds_nearest           14589\n",
       "days_exposition          3181\n",
       "dtype: int64"
      ]
     },
     "execution_count": 4,
     "metadata": {},
     "output_type": "execute_result"
    }
   ],
   "source": [
    "data.isna().sum()"
   ]
  },
  {
   "cell_type": "code",
   "execution_count": 5,
   "metadata": {},
   "outputs": [
    {
     "name": "stdout",
     "output_type": "stream",
     "text": [
      "total_images: 0.00%\n",
      "last_price: 0.00%\n",
      "total_area: 0.00%\n",
      "first_day_exposition: 0.00%\n",
      "rooms: 0.00%\n",
      "ceiling_height: 38.80%\n",
      "floors_total: 0.36%\n",
      "living_area: 8.03%\n",
      "floor: 0.00%\n",
      "is_apartment: 88.29%\n",
      "studio: 0.00%\n",
      "open_plan: 0.00%\n",
      "kitchen_area: 9.61%\n",
      "balcony: 48.61%\n",
      "locality_name: 0.21%\n",
      "airports_nearest: 23.38%\n",
      "cityCenters_nearest: 23.29%\n",
      "parks_around3000: 23.28%\n",
      "parks_nearest: 65.91%\n",
      "ponds_around3000: 23.28%\n",
      "ponds_nearest: 61.56%\n",
      "days_exposition: 13.42%\n"
     ]
    }
   ],
   "source": [
    "for col in data.columns:\n",
    "    print(f'{col}: {data[col].isna().sum() / data.shape[0] * 100:.2f}%')"
   ]
  },
  {
   "cell_type": "code",
   "execution_count": 6,
   "metadata": {},
   "outputs": [
    {
     "data": {
      "text/plain": [
       "<AxesSubplot:>"
      ]
     },
     "execution_count": 6,
     "metadata": {},
     "output_type": "execute_result"
    },
    {
     "data": {
      "image/png": "[encoded data removed]",
      "text/plain": [
       "<Figure size 720x432 with 2 Axes>"
      ]
     },
     "metadata": {
      "needs_background": "light"
     },
     "output_type": "display_data"
    }
   ],
   "source": [
    "plt.figure(figsize=(10, 6))\n",
    "sns.heatmap(data.isna().transpose())"
   ]
  },
  {
   "cell_type": "markdown",
   "metadata": {},
   "source": [
    "    В данном датасете (в 14 позициях) очень много пропусков, из-за которых может зависеть результат. Один из них незначительный - days_exposition, что говорит о том, что объявление еще не снято с публикации. "
   ]
  },
  {
   "cell_type": "code",
   "execution_count": 7,
   "metadata": {},
   "outputs": [
    {
     "data": {
      "image/png": "[encoded data removed]",
      "text/plain": [
       "<Figure size 1080x1440 with 20 Axes>"
      ]
     },
     "metadata": {
      "needs_background": "light"
     },
     "output_type": "display_data"
    }
   ],
   "source": [
    "data.hist(figsize=(15, 20))\n",
    "plt.show();"
   ]
  },
  {
   "cell_type": "code",
   "execution_count": 8,
   "metadata": {},
   "outputs": [
    {
     "data": {
      "text/html": [
       "<div>\n",
       "<style scoped>\n",
       "    .dataframe tbody tr th:only-of-type {\n",
       "        vertical-align: middle;\n",
       "    }\n",
       "\n",
       "    .dataframe tbody tr th {\n",
       "        vertical-align: top;\n",
       "    }\n",
       "\n",
       "    .dataframe thead th {\n",
       "        text-align: right;\n",
       "    }\n",
       "</style>\n",
       "<table border=\"1\" class=\"dataframe\">\n",
       "  <thead>\n",
       "    <tr style=\"text-align: right;\">\n",
       "      <th></th>\n",
       "      <th>total_images</th>\n",
       "      <th>last_price</th>\n",
       "      <th>total_area</th>\n",
       "      <th>rooms</th>\n",
       "      <th>ceiling_height</th>\n",
       "      <th>floors_total</th>\n",
       "      <th>living_area</th>\n",
       "      <th>floor</th>\n",
       "      <th>kitchen_area</th>\n",
       "      <th>balcony</th>\n",
       "      <th>airports_nearest</th>\n",
       "      <th>cityCenters_nearest</th>\n",
       "      <th>parks_around3000</th>\n",
       "      <th>parks_nearest</th>\n",
       "      <th>ponds_around3000</th>\n",
       "      <th>ponds_nearest</th>\n",
       "      <th>days_exposition</th>\n",
       "    </tr>\n",
       "  </thead>\n",
       "  <tbody>\n",
       "    <tr>\n",
       "      <th>count</th>\n",
       "      <td>23699.000000</td>\n",
       "      <td>2.369900e+04</td>\n",
       "      <td>23699.000000</td>\n",
       "      <td>23699.000000</td>\n",
       "      <td>14504.000000</td>\n",
       "      <td>23613.000000</td>\n",
       "      <td>21796.000000</td>\n",
       "      <td>23699.000000</td>\n",
       "      <td>21421.000000</td>\n",
       "      <td>12180.000000</td>\n",
       "      <td>18157.000000</td>\n",
       "      <td>18180.000000</td>\n",
       "      <td>18181.000000</td>\n",
       "      <td>8079.000000</td>\n",
       "      <td>18181.000000</td>\n",
       "      <td>9110.000000</td>\n",
       "      <td>20518.000000</td>\n",
       "    </tr>\n",
       "    <tr>\n",
       "      <th>mean</th>\n",
       "      <td>9.858475</td>\n",
       "      <td>6.541549e+06</td>\n",
       "      <td>60.348651</td>\n",
       "      <td>2.070636</td>\n",
       "      <td>2.771499</td>\n",
       "      <td>10.673824</td>\n",
       "      <td>34.457852</td>\n",
       "      <td>5.892358</td>\n",
       "      <td>10.569807</td>\n",
       "      <td>1.150082</td>\n",
       "      <td>28793.672193</td>\n",
       "      <td>14191.277833</td>\n",
       "      <td>0.611408</td>\n",
       "      <td>490.804555</td>\n",
       "      <td>0.770255</td>\n",
       "      <td>517.980900</td>\n",
       "      <td>180.888634</td>\n",
       "    </tr>\n",
       "    <tr>\n",
       "      <th>std</th>\n",
       "      <td>5.682529</td>\n",
       "      <td>1.088701e+07</td>\n",
       "      <td>35.654083</td>\n",
       "      <td>1.078405</td>\n",
       "      <td>1.261056</td>\n",
       "      <td>6.597173</td>\n",
       "      <td>22.030445</td>\n",
       "      <td>4.885249</td>\n",
       "      <td>5.905438</td>\n",
       "      <td>1.071300</td>\n",
       "      <td>12630.880622</td>\n",
       "      <td>8608.386210</td>\n",
       "      <td>0.802074</td>\n",
       "      <td>342.317995</td>\n",
       "      <td>0.938346</td>\n",
       "      <td>277.720643</td>\n",
       "      <td>219.727988</td>\n",
       "    </tr>\n",
       "    <tr>\n",
       "      <th>min</th>\n",
       "      <td>0.000000</td>\n",
       "      <td>1.219000e+04</td>\n",
       "      <td>12.000000</td>\n",
       "      <td>0.000000</td>\n",
       "      <td>1.000000</td>\n",
       "      <td>1.000000</td>\n",
       "      <td>2.000000</td>\n",
       "      <td>1.000000</td>\n",
       "      <td>1.300000</td>\n",
       "      <td>0.000000</td>\n",
       "      <td>0.000000</td>\n",
       "      <td>181.000000</td>\n",
       "      <td>0.000000</td>\n",
       "      <td>1.000000</td>\n",
       "      <td>0.000000</td>\n",
       "      <td>13.000000</td>\n",
       "      <td>1.000000</td>\n",
       "    </tr>\n",
       "    <tr>\n",
       "      <th>25%</th>\n",
       "      <td>6.000000</td>\n",
       "      <td>3.400000e+06</td>\n",
       "      <td>40.000000</td>\n",
       "      <td>1.000000</td>\n",
       "      <td>2.520000</td>\n",
       "      <td>5.000000</td>\n",
       "      <td>18.600000</td>\n",
       "      <td>2.000000</td>\n",
       "      <td>7.000000</td>\n",
       "      <td>0.000000</td>\n",
       "      <td>18585.000000</td>\n",
       "      <td>9238.000000</td>\n",
       "      <td>0.000000</td>\n",
       "      <td>288.000000</td>\n",
       "      <td>0.000000</td>\n",
       "      <td>294.000000</td>\n",
       "      <td>45.000000</td>\n",
       "    </tr>\n",
       "    <tr>\n",
       "      <th>50%</th>\n",
       "      <td>9.000000</td>\n",
       "      <td>4.650000e+06</td>\n",
       "      <td>52.000000</td>\n",
       "      <td>2.000000</td>\n",
       "      <td>2.650000</td>\n",
       "      <td>9.000000</td>\n",
       "      <td>30.000000</td>\n",
       "      <td>4.000000</td>\n",
       "      <td>9.100000</td>\n",
       "      <td>1.000000</td>\n",
       "      <td>26726.000000</td>\n",
       "      <td>13098.500000</td>\n",
       "      <td>0.000000</td>\n",
       "      <td>455.000000</td>\n",
       "      <td>1.000000</td>\n",
       "      <td>502.000000</td>\n",
       "      <td>95.000000</td>\n",
       "    </tr>\n",
       "    <tr>\n",
       "      <th>75%</th>\n",
       "      <td>14.000000</td>\n",
       "      <td>6.800000e+06</td>\n",
       "      <td>69.900000</td>\n",
       "      <td>3.000000</td>\n",
       "      <td>2.800000</td>\n",
       "      <td>16.000000</td>\n",
       "      <td>42.300000</td>\n",
       "      <td>8.000000</td>\n",
       "      <td>12.000000</td>\n",
       "      <td>2.000000</td>\n",
       "      <td>37273.000000</td>\n",
       "      <td>16293.000000</td>\n",
       "      <td>1.000000</td>\n",
       "      <td>612.000000</td>\n",
       "      <td>1.000000</td>\n",
       "      <td>729.000000</td>\n",
       "      <td>232.000000</td>\n",
       "    </tr>\n",
       "    <tr>\n",
       "      <th>max</th>\n",
       "      <td>50.000000</td>\n",
       "      <td>7.630000e+08</td>\n",
       "      <td>900.000000</td>\n",
       "      <td>19.000000</td>\n",
       "      <td>100.000000</td>\n",
       "      <td>60.000000</td>\n",
       "      <td>409.700000</td>\n",
       "      <td>33.000000</td>\n",
       "      <td>112.000000</td>\n",
       "      <td>5.000000</td>\n",
       "      <td>84869.000000</td>\n",
       "      <td>65968.000000</td>\n",
       "      <td>3.000000</td>\n",
       "      <td>3190.000000</td>\n",
       "      <td>3.000000</td>\n",
       "      <td>1344.000000</td>\n",
       "      <td>1580.000000</td>\n",
       "    </tr>\n",
       "  </tbody>\n",
       "</table>\n",
       "</div>"
      ],
      "text/plain": [
       "       total_images    last_price    total_area         rooms  ceiling_height  \\\n",
       "count  23699.000000  2.369900e+04  23699.000000  23699.000000    14504.000000   \n",
       "mean       9.858475  6.541549e+06     60.348651      2.070636        2.771499   \n",
       "std        5.682529  1.088701e+07     35.654083      1.078405        1.261056   \n",
       "min        0.000000  1.219000e+04     12.000000      0.000000        1.000000   \n",
       "25%        6.000000  3.400000e+06     40.000000      1.000000        2.520000   \n",
       "50%        9.000000  4.650000e+06     52.000000      2.000000        2.650000   \n",
       "75%       14.000000  6.800000e+06     69.900000      3.000000        2.800000   \n",
       "max       50.000000  7.630000e+08    900.000000     19.000000      100.000000   \n",
       "\n",
       "       floors_total   living_area         floor  kitchen_area       balcony  \\\n",
       "count  23613.000000  21796.000000  23699.000000  21421.000000  12180.000000   \n",
       "mean      10.673824     34.457852      5.892358     10.569807      1.150082   \n",
       "std        6.597173     22.030445      4.885249      5.905438      1.071300   \n",
       "min        1.000000      2.000000      1.000000      1.300000      0.000000   \n",
       "25%        5.000000     18.600000      2.000000      7.000000      0.000000   \n",
       "50%        9.000000     30.000000      4.000000      9.100000      1.000000   \n",
       "75%       16.000000     42.300000      8.000000     12.000000      2.000000   \n",
       "max       60.000000    409.700000     33.000000    112.000000      5.000000   \n",
       "\n",
       "       airports_nearest  cityCenters_nearest  parks_around3000  parks_nearest  \\\n",
       "count      18157.000000         18180.000000      18181.000000    8079.000000   \n",
       "mean       28793.672193         14191.277833          0.611408     490.804555   \n",
       "std        12630.880622          8608.386210          0.802074     342.317995   \n",
       "min            0.000000           181.000000          0.000000       1.000000   \n",
       "25%        18585.000000          9238.000000          0.000000     288.000000   \n",
       "50%        26726.000000         13098.500000          0.000000     455.000000   \n",
       "75%        37273.000000         16293.000000          1.000000     612.000000   \n",
       "max        84869.000000         65968.000000          3.000000    3190.000000   \n",
       "\n",
       "       ponds_around3000  ponds_nearest  days_exposition  \n",
       "count      18181.000000    9110.000000     20518.000000  \n",
       "mean           0.770255     517.980900       180.888634  \n",
       "std            0.938346     277.720643       219.727988  \n",
       "min            0.000000      13.000000         1.000000  \n",
       "25%            0.000000     294.000000        45.000000  \n",
       "50%            1.000000     502.000000        95.000000  \n",
       "75%            1.000000     729.000000       232.000000  \n",
       "max            3.000000    1344.000000      1580.000000  "
      ]
     },
     "execution_count": 8,
     "metadata": {},
     "output_type": "execute_result"
    }
   ],
   "source": [
    "data.describe()"
   ]
  },
  {
   "cell_type": "markdown",
   "metadata": {},
   "source": [
    "    Помимо пропущенных значений, необходимо еще проверить их на адекватность. Например, на максимальные и минимальные значения. Сразу можно сказать, что есть аномалии, например, в максимальной площади квартиры, максимальной высоте, жилой площади и т.д. "
   ]
  },
  {
   "cell_type": "markdown",
   "metadata": {},
   "source": [
    "### Предобработка данных"
   ]
  },
  {
   "cell_type": "markdown",
   "metadata": {},
   "source": [
    "    Для начала, приведем в порядок наименования колонок."
   ]
  },
  {
   "cell_type": "code",
   "execution_count": 9,
   "metadata": {},
   "outputs": [],
   "source": [
    "data.rename(columns = {'cityCenters_nearest':'city_centers_nearest', 'parks_around3000' : 'parks_around_3km', \n",
    "                      'ponds_around3000' : 'ponds_around_3km'}, inplace = True )"
   ]
  },
  {
   "cell_type": "markdown",
   "metadata": {},
   "source": [
    "    Переведем колонку с датой публикации в формат DATETIME для того, чтобы в дальнейшем можно было работать с ней."
   ]
  },
  {
   "cell_type": "code",
   "execution_count": 10,
   "metadata": {},
   "outputs": [],
   "source": [
    "data['first_day_exposition'] = pd.to_datetime(data['first_day_exposition'], format='%Y-%m-%dT%H:%M:%S')"
   ]
  },
  {
   "cell_type": "markdown",
   "metadata": {},
   "source": [
    "#### Заполнение пропусков"
   ]
  },
  {
   "cell_type": "markdown",
   "metadata": {},
   "source": [
    "***ceiling_height***"
   ]
  },
  {
   "cell_type": "markdown",
   "metadata": {},
   "source": [
    "    Итак, по узаконенным строительным нормам и правилам (СНиП) высота потолков в жилых помещениях должна быть не меньше 2.5 метров, поэтому данные пропуски заполним этим значением. \n",
    "\n",
    "    Возможно, данный пропуск возник из-за человеческого фактора."
   ]
  },
  {
   "cell_type": "code",
   "execution_count": 11,
   "metadata": {},
   "outputs": [],
   "source": [
    "data['ceiling_height'] = data['ceiling_height'].fillna(2.5)"
   ]
  },
  {
   "cell_type": "markdown",
   "metadata": {},
   "source": [
    "***living_area***"
   ]
  },
  {
   "cell_type": "markdown",
   "metadata": {},
   "source": [
    "    Далее, рассмотрим пропуски в жилой площади. Данный пропуск возник, возможно, из-за человеческого фактора, а возможно из-за ошибки при выгрузке.\n",
    "\n",
    "    Данный пропуск заполним медианой, сгруппировав по общему числу комнат."
   ]
  },
  {
   "cell_type": "code",
   "execution_count": 12,
   "metadata": {},
   "outputs": [],
   "source": [
    "rooms_group = data.groupby('rooms')['living_area'].agg('median').to_dict()\n",
    "data_area = data[data['living_area'].isna()]\n",
    "\n",
    "for index in data_area['rooms'].unique():\n",
    "    data.loc[(data['living_area'].isna()) & (data['rooms'] == index), 'living_area'] = rooms_group[index]"
   ]
  },
  {
   "cell_type": "markdown",
   "metadata": {},
   "source": [
    "***is_apartment***"
   ]
  },
  {
   "cell_type": "markdown",
   "metadata": {},
   "source": [
    "    Наблюдается очень много пропусков в данной колонке, не заполнено около 88 % от всего датасета. Это связано с тем, что человек при заполнении данных просто не указал, что это НЕ апартаменты, т.е. решил пропустить данную информацию. А, возможно, что при заполнении анкеты там было только \"да\" в выпадающем списке или же данные просто не выгрузились. \n",
    "    \n",
    "    Данный пропуск заполним False."
   ]
  },
  {
   "cell_type": "code",
   "execution_count": 13,
   "metadata": {},
   "outputs": [],
   "source": [
    "data['is_apartment'] = data['is_apartment'].fillna(False)"
   ]
  },
  {
   "cell_type": "markdown",
   "metadata": {},
   "source": [
    "***kitchen_area***"
   ]
  },
  {
   "cell_type": "markdown",
   "metadata": {},
   "source": [
    "    Далее, рассмотрим пропуски в площади кухни. Данный пропуск возник или из-за человеческого фактора или же произошла техническая ошибка при выгрузке. \n",
    "\n",
    "    Данный пропуск заполним медианой, сгруппировав по общему числу комнат."
   ]
  },
  {
   "cell_type": "code",
   "execution_count": 14,
   "metadata": {},
   "outputs": [],
   "source": [
    "kitchen_group = data.groupby('rooms')['kitchen_area'].agg('median').to_dict()\n",
    "data_area_kitchen = data[data['kitchen_area'].isna()]\n",
    "\n",
    "for index in data_area_kitchen['rooms'].unique():\n",
    "    data.loc[(data['kitchen_area'].isna()) & (data['rooms'] == index), 'kitchen_area'] = kitchen_group[index]"
   ]
  },
  {
   "cell_type": "code",
   "execution_count": 15,
   "metadata": {},
   "outputs": [
    {
     "data": {
      "text/plain": [
       "197"
      ]
     },
     "execution_count": 15,
     "metadata": {},
     "output_type": "execute_result"
    }
   ],
   "source": [
    "data['kitchen_area'].isna().sum()"
   ]
  },
  {
   "cell_type": "markdown",
   "metadata": {},
   "source": [
    "    Осталось всего 197 пропусков. Важно понять, почему. Ниже можно увидеть, что площадь кухни не стоит там, где общее количество комнат равны 0. Это, скорее всего, квартира-студия, а обычно кухня в такой квартире стоит прямо в комнате. Склоняюсь к тому, чтобы поставить там 0... или все же сделать равной жилой площади?))))"
   ]
  },
  {
   "cell_type": "code",
   "execution_count": 16,
   "metadata": {},
   "outputs": [
    {
     "data": {
      "text/html": [
       "<div>\n",
       "<style scoped>\n",
       "    .dataframe tbody tr th:only-of-type {\n",
       "        vertical-align: middle;\n",
       "    }\n",
       "\n",
       "    .dataframe tbody tr th {\n",
       "        vertical-align: top;\n",
       "    }\n",
       "\n",
       "    .dataframe thead th {\n",
       "        text-align: right;\n",
       "    }\n",
       "</style>\n",
       "<table border=\"1\" class=\"dataframe\">\n",
       "  <thead>\n",
       "    <tr style=\"text-align: right;\">\n",
       "      <th></th>\n",
       "      <th>total_images</th>\n",
       "      <th>last_price</th>\n",
       "      <th>total_area</th>\n",
       "      <th>first_day_exposition</th>\n",
       "      <th>rooms</th>\n",
       "      <th>ceiling_height</th>\n",
       "      <th>floors_total</th>\n",
       "      <th>living_area</th>\n",
       "      <th>floor</th>\n",
       "      <th>is_apartment</th>\n",
       "      <th>...</th>\n",
       "      <th>kitchen_area</th>\n",
       "      <th>balcony</th>\n",
       "      <th>locality_name</th>\n",
       "      <th>airports_nearest</th>\n",
       "      <th>city_centers_nearest</th>\n",
       "      <th>parks_around_3km</th>\n",
       "      <th>parks_nearest</th>\n",
       "      <th>ponds_around_3km</th>\n",
       "      <th>ponds_nearest</th>\n",
       "      <th>days_exposition</th>\n",
       "    </tr>\n",
       "  </thead>\n",
       "  <tbody>\n",
       "    <tr>\n",
       "      <th>144</th>\n",
       "      <td>1</td>\n",
       "      <td>2450000.0</td>\n",
       "      <td>27.00</td>\n",
       "      <td>2017-03-30</td>\n",
       "      <td>0</td>\n",
       "      <td>2.5</td>\n",
       "      <td>24.0</td>\n",
       "      <td>15.50</td>\n",
       "      <td>2</td>\n",
       "      <td>False</td>\n",
       "      <td>...</td>\n",
       "      <td>NaN</td>\n",
       "      <td>2.0</td>\n",
       "      <td>посёлок Мурино</td>\n",
       "      <td>NaN</td>\n",
       "      <td>NaN</td>\n",
       "      <td>NaN</td>\n",
       "      <td>NaN</td>\n",
       "      <td>NaN</td>\n",
       "      <td>NaN</td>\n",
       "      <td>181.0</td>\n",
       "    </tr>\n",
       "    <tr>\n",
       "      <th>349</th>\n",
       "      <td>4</td>\n",
       "      <td>2320000.0</td>\n",
       "      <td>25.00</td>\n",
       "      <td>2017-09-27</td>\n",
       "      <td>0</td>\n",
       "      <td>2.5</td>\n",
       "      <td>14.0</td>\n",
       "      <td>17.00</td>\n",
       "      <td>1</td>\n",
       "      <td>False</td>\n",
       "      <td>...</td>\n",
       "      <td>NaN</td>\n",
       "      <td>0.0</td>\n",
       "      <td>деревня Кудрово</td>\n",
       "      <td>NaN</td>\n",
       "      <td>NaN</td>\n",
       "      <td>NaN</td>\n",
       "      <td>NaN</td>\n",
       "      <td>NaN</td>\n",
       "      <td>NaN</td>\n",
       "      <td>45.0</td>\n",
       "    </tr>\n",
       "    <tr>\n",
       "      <th>440</th>\n",
       "      <td>8</td>\n",
       "      <td>2480000.0</td>\n",
       "      <td>27.11</td>\n",
       "      <td>2018-03-12</td>\n",
       "      <td>0</td>\n",
       "      <td>2.5</td>\n",
       "      <td>17.0</td>\n",
       "      <td>24.75</td>\n",
       "      <td>4</td>\n",
       "      <td>False</td>\n",
       "      <td>...</td>\n",
       "      <td>NaN</td>\n",
       "      <td>2.0</td>\n",
       "      <td>Санкт-Петербург</td>\n",
       "      <td>38171.0</td>\n",
       "      <td>15015.0</td>\n",
       "      <td>0.0</td>\n",
       "      <td>NaN</td>\n",
       "      <td>2.0</td>\n",
       "      <td>982.0</td>\n",
       "      <td>64.0</td>\n",
       "    </tr>\n",
       "    <tr>\n",
       "      <th>508</th>\n",
       "      <td>0</td>\n",
       "      <td>3375000.0</td>\n",
       "      <td>34.40</td>\n",
       "      <td>2017-03-28</td>\n",
       "      <td>0</td>\n",
       "      <td>2.5</td>\n",
       "      <td>26.0</td>\n",
       "      <td>24.30</td>\n",
       "      <td>19</td>\n",
       "      <td>False</td>\n",
       "      <td>...</td>\n",
       "      <td>NaN</td>\n",
       "      <td>1.0</td>\n",
       "      <td>посёлок Парголово</td>\n",
       "      <td>53115.0</td>\n",
       "      <td>19292.0</td>\n",
       "      <td>0.0</td>\n",
       "      <td>NaN</td>\n",
       "      <td>1.0</td>\n",
       "      <td>593.0</td>\n",
       "      <td>430.0</td>\n",
       "    </tr>\n",
       "    <tr>\n",
       "      <th>608</th>\n",
       "      <td>2</td>\n",
       "      <td>1850000.0</td>\n",
       "      <td>25.00</td>\n",
       "      <td>2019-02-20</td>\n",
       "      <td>0</td>\n",
       "      <td>2.5</td>\n",
       "      <td>10.0</td>\n",
       "      <td>18.00</td>\n",
       "      <td>7</td>\n",
       "      <td>False</td>\n",
       "      <td>...</td>\n",
       "      <td>NaN</td>\n",
       "      <td>NaN</td>\n",
       "      <td>посёлок Шушары</td>\n",
       "      <td>NaN</td>\n",
       "      <td>NaN</td>\n",
       "      <td>NaN</td>\n",
       "      <td>NaN</td>\n",
       "      <td>NaN</td>\n",
       "      <td>NaN</td>\n",
       "      <td>29.0</td>\n",
       "    </tr>\n",
       "    <tr>\n",
       "      <th>...</th>\n",
       "      <td>...</td>\n",
       "      <td>...</td>\n",
       "      <td>...</td>\n",
       "      <td>...</td>\n",
       "      <td>...</td>\n",
       "      <td>...</td>\n",
       "      <td>...</td>\n",
       "      <td>...</td>\n",
       "      <td>...</td>\n",
       "      <td>...</td>\n",
       "      <td>...</td>\n",
       "      <td>...</td>\n",
       "      <td>...</td>\n",
       "      <td>...</td>\n",
       "      <td>...</td>\n",
       "      <td>...</td>\n",
       "      <td>...</td>\n",
       "      <td>...</td>\n",
       "      <td>...</td>\n",
       "      <td>...</td>\n",
       "      <td>...</td>\n",
       "    </tr>\n",
       "    <tr>\n",
       "      <th>23210</th>\n",
       "      <td>7</td>\n",
       "      <td>3200000.0</td>\n",
       "      <td>26.00</td>\n",
       "      <td>2017-09-01</td>\n",
       "      <td>0</td>\n",
       "      <td>2.5</td>\n",
       "      <td>25.0</td>\n",
       "      <td>18.00</td>\n",
       "      <td>16</td>\n",
       "      <td>False</td>\n",
       "      <td>...</td>\n",
       "      <td>NaN</td>\n",
       "      <td>0.0</td>\n",
       "      <td>Санкт-Петербург</td>\n",
       "      <td>11405.0</td>\n",
       "      <td>13222.0</td>\n",
       "      <td>0.0</td>\n",
       "      <td>NaN</td>\n",
       "      <td>1.0</td>\n",
       "      <td>623.0</td>\n",
       "      <td>14.0</td>\n",
       "    </tr>\n",
       "    <tr>\n",
       "      <th>23442</th>\n",
       "      <td>0</td>\n",
       "      <td>2500000.0</td>\n",
       "      <td>27.70</td>\n",
       "      <td>2017-09-28</td>\n",
       "      <td>0</td>\n",
       "      <td>2.5</td>\n",
       "      <td>24.0</td>\n",
       "      <td>18.00</td>\n",
       "      <td>4</td>\n",
       "      <td>False</td>\n",
       "      <td>...</td>\n",
       "      <td>NaN</td>\n",
       "      <td>2.0</td>\n",
       "      <td>посёлок Мурино</td>\n",
       "      <td>NaN</td>\n",
       "      <td>NaN</td>\n",
       "      <td>NaN</td>\n",
       "      <td>NaN</td>\n",
       "      <td>NaN</td>\n",
       "      <td>NaN</td>\n",
       "      <td>4.0</td>\n",
       "    </tr>\n",
       "    <tr>\n",
       "      <th>23554</th>\n",
       "      <td>15</td>\n",
       "      <td>3350000.0</td>\n",
       "      <td>26.00</td>\n",
       "      <td>2018-09-07</td>\n",
       "      <td>0</td>\n",
       "      <td>2.5</td>\n",
       "      <td>19.0</td>\n",
       "      <td>18.00</td>\n",
       "      <td>8</td>\n",
       "      <td>False</td>\n",
       "      <td>...</td>\n",
       "      <td>NaN</td>\n",
       "      <td>NaN</td>\n",
       "      <td>Санкт-Петербург</td>\n",
       "      <td>18090.0</td>\n",
       "      <td>17092.0</td>\n",
       "      <td>0.0</td>\n",
       "      <td>NaN</td>\n",
       "      <td>2.0</td>\n",
       "      <td>112.0</td>\n",
       "      <td>31.0</td>\n",
       "    </tr>\n",
       "    <tr>\n",
       "      <th>23592</th>\n",
       "      <td>10</td>\n",
       "      <td>1450000.0</td>\n",
       "      <td>29.00</td>\n",
       "      <td>2017-11-11</td>\n",
       "      <td>0</td>\n",
       "      <td>2.5</td>\n",
       "      <td>9.0</td>\n",
       "      <td>18.00</td>\n",
       "      <td>8</td>\n",
       "      <td>False</td>\n",
       "      <td>...</td>\n",
       "      <td>NaN</td>\n",
       "      <td>2.0</td>\n",
       "      <td>Никольское</td>\n",
       "      <td>NaN</td>\n",
       "      <td>NaN</td>\n",
       "      <td>NaN</td>\n",
       "      <td>NaN</td>\n",
       "      <td>NaN</td>\n",
       "      <td>NaN</td>\n",
       "      <td>82.0</td>\n",
       "    </tr>\n",
       "    <tr>\n",
       "      <th>23637</th>\n",
       "      <td>8</td>\n",
       "      <td>2350000.0</td>\n",
       "      <td>26.00</td>\n",
       "      <td>2018-06-26</td>\n",
       "      <td>0</td>\n",
       "      <td>2.5</td>\n",
       "      <td>25.0</td>\n",
       "      <td>17.00</td>\n",
       "      <td>4</td>\n",
       "      <td>False</td>\n",
       "      <td>...</td>\n",
       "      <td>NaN</td>\n",
       "      <td>2.0</td>\n",
       "      <td>посёлок Бугры</td>\n",
       "      <td>NaN</td>\n",
       "      <td>NaN</td>\n",
       "      <td>NaN</td>\n",
       "      <td>NaN</td>\n",
       "      <td>NaN</td>\n",
       "      <td>NaN</td>\n",
       "      <td>207.0</td>\n",
       "    </tr>\n",
       "  </tbody>\n",
       "</table>\n",
       "<p>197 rows × 22 columns</p>\n",
       "</div>"
      ],
      "text/plain": [
       "       total_images  last_price  total_area first_day_exposition  rooms  \\\n",
       "144               1   2450000.0       27.00           2017-03-30      0   \n",
       "349               4   2320000.0       25.00           2017-09-27      0   \n",
       "440               8   2480000.0       27.11           2018-03-12      0   \n",
       "508               0   3375000.0       34.40           2017-03-28      0   \n",
       "608               2   1850000.0       25.00           2019-02-20      0   \n",
       "...             ...         ...         ...                  ...    ...   \n",
       "23210             7   3200000.0       26.00           2017-09-01      0   \n",
       "23442             0   2500000.0       27.70           2017-09-28      0   \n",
       "23554            15   3350000.0       26.00           2018-09-07      0   \n",
       "23592            10   1450000.0       29.00           2017-11-11      0   \n",
       "23637             8   2350000.0       26.00           2018-06-26      0   \n",
       "\n",
       "       ceiling_height  floors_total  living_area  floor  is_apartment  ...  \\\n",
       "144               2.5          24.0        15.50      2         False  ...   \n",
       "349               2.5          14.0        17.00      1         False  ...   \n",
       "440               2.5          17.0        24.75      4         False  ...   \n",
       "508               2.5          26.0        24.30     19         False  ...   \n",
       "608               2.5          10.0        18.00      7         False  ...   \n",
       "...               ...           ...          ...    ...           ...  ...   \n",
       "23210             2.5          25.0        18.00     16         False  ...   \n",
       "23442             2.5          24.0        18.00      4         False  ...   \n",
       "23554             2.5          19.0        18.00      8         False  ...   \n",
       "23592             2.5           9.0        18.00      8         False  ...   \n",
       "23637             2.5          25.0        17.00      4         False  ...   \n",
       "\n",
       "       kitchen_area  balcony      locality_name  airports_nearest  \\\n",
       "144             NaN      2.0     посёлок Мурино               NaN   \n",
       "349             NaN      0.0    деревня Кудрово               NaN   \n",
       "440             NaN      2.0    Санкт-Петербург           38171.0   \n",
       "508             NaN      1.0  посёлок Парголово           53115.0   \n",
       "608             NaN      NaN     посёлок Шушары               NaN   \n",
       "...             ...      ...                ...               ...   \n",
       "23210           NaN      0.0    Санкт-Петербург           11405.0   \n",
       "23442           NaN      2.0     посёлок Мурино               NaN   \n",
       "23554           NaN      NaN    Санкт-Петербург           18090.0   \n",
       "23592           NaN      2.0         Никольское               NaN   \n",
       "23637           NaN      2.0      посёлок Бугры               NaN   \n",
       "\n",
       "      city_centers_nearest  parks_around_3km  parks_nearest  ponds_around_3km  \\\n",
       "144                    NaN               NaN            NaN               NaN   \n",
       "349                    NaN               NaN            NaN               NaN   \n",
       "440                15015.0               0.0            NaN               2.0   \n",
       "508                19292.0               0.0            NaN               1.0   \n",
       "608                    NaN               NaN            NaN               NaN   \n",
       "...                    ...               ...            ...               ...   \n",
       "23210              13222.0               0.0            NaN               1.0   \n",
       "23442                  NaN               NaN            NaN               NaN   \n",
       "23554              17092.0               0.0            NaN               2.0   \n",
       "23592                  NaN               NaN            NaN               NaN   \n",
       "23637                  NaN               NaN            NaN               NaN   \n",
       "\n",
       "       ponds_nearest  days_exposition  \n",
       "144              NaN            181.0  \n",
       "349              NaN             45.0  \n",
       "440            982.0             64.0  \n",
       "508            593.0            430.0  \n",
       "608              NaN             29.0  \n",
       "...              ...              ...  \n",
       "23210          623.0             14.0  \n",
       "23442            NaN              4.0  \n",
       "23554          112.0             31.0  \n",
       "23592            NaN             82.0  \n",
       "23637            NaN            207.0  \n",
       "\n",
       "[197 rows x 22 columns]"
      ]
     },
     "execution_count": 16,
     "metadata": {},
     "output_type": "execute_result"
    }
   ],
   "source": [
    "data[data['kitchen_area'].isna()]"
   ]
  },
  {
   "cell_type": "code",
   "execution_count": 17,
   "metadata": {},
   "outputs": [],
   "source": [
    "data['kitchen_area'] = data['kitchen_area'].fillna(0)"
   ]
  },
  {
   "cell_type": "markdown",
   "metadata": {},
   "source": [
    "***balcony***"
   ]
  },
  {
   "cell_type": "markdown",
   "metadata": {},
   "source": [
    "    Наблюдается почти 50% пропусков в данной колонке. Возможно, продавец не указал число балконов, потому что их нет, поэтому логичнее данный пропуск заполнить 0. "
   ]
  },
  {
   "cell_type": "code",
   "execution_count": 18,
   "metadata": {},
   "outputs": [],
   "source": [
    "data['balcony'] = data['balcony'].fillna(0)"
   ]
  },
  {
   "cell_type": "markdown",
   "metadata": {},
   "source": [
    "***locality_name***"
   ]
  },
  {
   "cell_type": "markdown",
   "metadata": {},
   "source": [
    "    В данной колонке очень мало пропусков, скорее всего возникших из-за того, что продавец не поставил метку расположения квартиры. Но с ними так же можно поработать, например, взять расстояние до центра города и по нему определить локацию.   "
   ]
  },
  {
   "cell_type": "code",
   "execution_count": 19,
   "metadata": {},
   "outputs": [],
   "source": [
    "data_local = data[(data['locality_name'].isna()) & (data['city_centers_nearest'] > 0)]\n",
    "data_local_sort = sorted(data_local['city_centers_nearest'].unique())"
   ]
  },
  {
   "cell_type": "code",
   "execution_count": 20,
   "metadata": {},
   "outputs": [
    {
     "name": "stdout",
     "output_type": "stream",
     "text": [
      "1322.0 - ['Санкт-Петербург' nan]\n",
      "1780.0 - ['Санкт-Петербург' nan]\n",
      "3039.0 - ['Санкт-Петербург' nan]\n",
      "3312.0 - ['Санкт-Петербург' nan]\n",
      "3801.0 - ['Санкт-Петербург' nan]\n",
      "3902.0 - ['Санкт-Петербург' nan]\n",
      "4065.0 - ['Санкт-Петербург' nan]\n",
      "4069.0 - ['Санкт-Петербург' nan]\n",
      "4258.0 - ['Санкт-Петербург' nan]\n",
      "4383.0 - ['Санкт-Петербург' nan]\n",
      "4474.0 - ['Санкт-Петербург' nan]\n",
      "4604.0 - ['Санкт-Петербург' nan]\n",
      "4627.0 - ['Санкт-Петербург' nan]\n",
      "4805.0 - ['Санкт-Петербург' nan]\n",
      "5382.0 - ['Санкт-Петербург' nan]\n",
      "8127.0 - ['Санкт-Петербург' nan]\n",
      "8429.0 - ['Санкт-Петербург' nan]\n",
      "8582.0 - ['Санкт-Петербург' nan]\n",
      "8619.0 - ['Санкт-Петербург' nan]\n",
      "8943.0 - ['Санкт-Петербург' nan]\n",
      "9497.0 - ['Санкт-Петербург' nan]\n",
      "9538.0 - ['Санкт-Петербург' nan]\n",
      "9633.0 - ['Санкт-Петербург' nan]\n",
      "10976.0 - ['Санкт-Петербург' nan]\n",
      "12332.0 - ['Санкт-Петербург' nan]\n",
      "16788.0 - ['Санкт-Петербург' nan]\n",
      "17369.0 - ['Санкт-Петербург' nan 'посёлок Шушары']\n",
      "23659.0 - ['Санкт-Петербург' 'посёлок Шушары' 'посёлок Парголово' 'посёлок Стрельна'\n",
      " nan 'поселок Мурино']\n",
      "31813.0 - ['Санкт-Петербург' 'посёлок Шушары' 'посёлок Парголово' 'Пушкин'\n",
      " 'Петергоф' 'посёлок Металлострой' 'Красное Село' 'Колпино' 'Павловск'\n",
      " 'посёлок Стрельна' 'посёлок Александровская' nan 'посёлок Песочный'\n",
      " 'посёлок Петро-Славянка' 'поселок Лисий Нос' 'посёлок Левашово'\n",
      " 'Сестрорецк' 'поселок Мурино' 'посёлок Лисий Нос' 'посёлок Понтонный'\n",
      " 'посёлок Усть-Ижора']\n",
      "31897.0 - ['Санкт-Петербург' 'посёлок Шушары' 'посёлок Парголово' 'Пушкин'\n",
      " 'Петергоф' 'посёлок Металлострой' 'Красное Село' 'Колпино' 'Павловск'\n",
      " 'посёлок Стрельна' 'посёлок Александровская' nan 'посёлок Песочный'\n",
      " 'посёлок Петро-Славянка' 'поселок Лисий Нос' 'посёлок Левашово'\n",
      " 'Сестрорецк' 'поселок Мурино' 'посёлок Лисий Нос' 'посёлок Понтонный'\n",
      " 'посёлок Усть-Ижора']\n",
      "41294.0 - ['Санкт-Петербург' 'посёлок Шушары' 'посёлок Парголово' 'Петергоф'\n",
      " 'Пушкин' 'Колпино' 'посёлок Металлострой' 'Павловск' 'Сестрорецк'\n",
      " 'Красное Село' 'посёлок Понтонный' 'посёлок Стрельна'\n",
      " 'посёлок Александровская' nan 'Ломоносов' 'посёлок Песочный'\n",
      " 'посёлок Петро-Славянка' 'посёлок Сапёрный' 'посёлок Щеглово'\n",
      " 'поселок Лисий Нос' 'посёлок Левашово' 'посёлок Белоостров'\n",
      " 'поселок Мурино' 'посёлок Лисий Нос' 'посёлок Усть-Ижора']\n"
     ]
    }
   ],
   "source": [
    "for index in data_local_sort:\n",
    "    print(f\"{index} - {data[data['city_centers_nearest'] <= index]['locality_name'].unique()}\")"
   ]
  },
  {
   "cell_type": "markdown",
   "metadata": {},
   "source": [
    "    Видно, что до 17 км. наблюдается только \"Санкт-Петербург\". Поэтому до данного значения можно проставить локацию - Санкт-Петербург."
   ]
  },
  {
   "cell_type": "code",
   "execution_count": 21,
   "metadata": {},
   "outputs": [],
   "source": [
    "for index in range(len(data_local_sort)):\n",
    "    if data_local_sort[index] >= 17369:\n",
    "        break\n",
    "    data.loc[(data['locality_name'].isna()) & (data['city_centers_nearest'] <= data_local_sort[index]), 'locality_name'] = 'Санкт-Петербург'"
   ]
  },
  {
   "cell_type": "code",
   "execution_count": 22,
   "metadata": {},
   "outputs": [
    {
     "data": {
      "text/plain": [
       "20"
      ]
     },
     "execution_count": 22,
     "metadata": {},
     "output_type": "execute_result"
    }
   ],
   "source": [
    "data['locality_name'].isna().sum()"
   ]
  },
  {
   "cell_type": "markdown",
   "metadata": {},
   "source": [
    "    Так как пропущенных значений осталось очень мало, их можно удалить. "
   ]
  },
  {
   "cell_type": "code",
   "execution_count": 23,
   "metadata": {},
   "outputs": [],
   "source": [
    "data.dropna(subset=['locality_name'], inplace=True)"
   ]
  },
  {
   "cell_type": "markdown",
   "metadata": {},
   "source": [
    "***airports_nearest, city_centers_nearest, parks_around_3km, parks_nearest, ponds_around_3km, ponds_nearest***"
   ]
  },
  {
   "cell_type": "markdown",
   "metadata": {},
   "source": [
    "    Наблюдается много пропусков с расстояниями до какого-либо объекта. Скорее всего, произошла техническая ошибка, что карты не смогли идентифицировать расстояние до данных объектов, хотя может быть такое, что близких этих объектов нет, поэтому и стоит пропуск. Можно их заполнить медианой. \n",
    "    \n",
    "    Но в лучшем случае, конечно, поработать с Картами и находить ближайший объект, т.к. это очень влияет на цену. Многие хотят жить в экологичном районе))"
   ]
  },
  {
   "cell_type": "code",
   "execution_count": 24,
   "metadata": {},
   "outputs": [],
   "source": [
    "for index in data.columns[-7:-1]:\n",
    "    data.loc[data[index].isna(), index] = data[index].sort_values(ascending=True).median()"
   ]
  },
  {
   "cell_type": "markdown",
   "metadata": {},
   "source": [
    "***floors_total***"
   ]
  },
  {
   "cell_type": "markdown",
   "metadata": {},
   "source": [
    "    Далее, посмотрим на кол-во этажей в доме. Пропусков в данной колонке составляет всего 86. Данный пропуск, возможно, так же был не заполнен из-за человеческого фактора или в базе Я.Недвижимость не было данных о данном доме.\n",
    "\n",
    "    Т.к. данных пропусков очень мало, можно было их оставить, но все-таки можно сгруппировать по расстоянию до центра и локации, далее посчитать медиану."
   ]
  },
  {
   "cell_type": "code",
   "execution_count": 25,
   "metadata": {},
   "outputs": [],
   "source": [
    "data['floors_total'] = data['floors_total'].fillna(data.groupby('city_centers_nearest')['floors_total'].transform('median'))\n",
    "data['floors_total'] = data['floors_total'].fillna(data.groupby('locality_name')['floors_total'].transform('median'))"
   ]
  },
  {
   "cell_type": "code",
   "execution_count": 26,
   "metadata": {},
   "outputs": [
    {
     "data": {
      "text/plain": [
       "total_images               0\n",
       "last_price                 0\n",
       "total_area                 0\n",
       "first_day_exposition       0\n",
       "rooms                      0\n",
       "ceiling_height             0\n",
       "floors_total               0\n",
       "living_area                0\n",
       "floor                      0\n",
       "is_apartment               0\n",
       "studio                     0\n",
       "open_plan                  0\n",
       "kitchen_area               0\n",
       "balcony                    0\n",
       "locality_name              0\n",
       "airports_nearest           0\n",
       "city_centers_nearest       0\n",
       "parks_around_3km           0\n",
       "parks_nearest              0\n",
       "ponds_around_3km           0\n",
       "ponds_nearest              0\n",
       "days_exposition         3180\n",
       "dtype: int64"
      ]
     },
     "execution_count": 26,
     "metadata": {},
     "output_type": "execute_result"
    }
   ],
   "source": [
    "data.isna().sum()"
   ]
  },
  {
   "cell_type": "markdown",
   "metadata": {},
   "source": [
    "    Как было сказано выше, последний пропуск не будем заполнять, т.к. объявления на момент выгрузки данных не снято. "
   ]
  },
  {
   "cell_type": "markdown",
   "metadata": {},
   "source": [
    "#### Неявные дубликаты"
   ]
  },
  {
   "cell_type": "code",
   "execution_count": 27,
   "metadata": {},
   "outputs": [
    {
     "data": {
      "text/plain": [
       "0"
      ]
     },
     "execution_count": 27,
     "metadata": {},
     "output_type": "execute_result"
    }
   ],
   "source": [
    "data.duplicated().sum()"
   ]
  },
  {
   "cell_type": "markdown",
   "metadata": {},
   "source": [
    "    Дубликатов в данных нет, но необходимо обработать неявные дубликаты в таблице locality_name. Будем заменять все \"ё\" на \"е\" и \"городской поселок\" поменяем на \"поселок городского типа\""
   ]
  },
  {
   "cell_type": "code",
   "execution_count": 28,
   "metadata": {},
   "outputs": [],
   "source": [
    "data['locality_name'] = data['locality_name'].str.lower().str.replace('ё', 'е').str.replace(\"городской поселок\", \"поселок городского типа\")"
   ]
  },
  {
   "cell_type": "code",
   "execution_count": 29,
   "metadata": {},
   "outputs": [],
   "source": [
    "max_rows = pd.get_option(\"display.max_rows\")\n",
    "pd.set_option(\"display.max_rows\", None)"
   ]
  },
  {
   "cell_type": "code",
   "execution_count": 30,
   "metadata": {},
   "outputs": [
    {
     "data": {
      "text/plain": [
       "санкт-петербург                                            15750\n",
       "поселок мурино                                               556\n",
       "поселок шушары                                               440\n",
       "всеволожск                                                   398\n",
       "пушкин                                                       369\n",
       "колпино                                                      338\n",
       "поселок парголово                                            327\n",
       "гатчина                                                      307\n",
       "деревня кудрово                                              299\n",
       "выборг                                                       237\n",
       "петергоф                                                     201\n",
       "сестрорецк                                                   183\n",
       "красное село                                                 178\n",
       "кудрово                                                      173\n",
       "деревня новое девяткино                                      144\n",
       "сертолово                                                    142\n",
       "ломоносов                                                    133\n",
       "кириши                                                       125\n",
       "поселок бугры                                                114\n",
       "сланцы                                                       112\n",
       "волхов                                                       111\n",
       "тосно                                                        104\n",
       "кингисепп                                                    104\n",
       "кронштадт                                                     96\n",
       "никольское                                                    93\n",
       "коммунар                                                      89\n",
       "сосновый бор                                                  87\n",
       "кировск                                                       84\n",
       "отрадное                                                      80\n",
       "поселок городского типа янино-1                               68\n",
       "поселок металлострой                                          66\n",
       "приозерск                                                     66\n",
       "деревня старая                                                64\n",
       "шлиссельбург                                                  57\n",
       "луга                                                          56\n",
       "тихвин                                                        49\n",
       "поселок стрельна                                              44\n",
       "поселок тельмана                                              41\n",
       "поселок городского типа рощино                                39\n",
       "павловск                                                      38\n",
       "поселок городского типа имени свердлова                       36\n",
       "волосово                                                      36\n",
       "поселок романовка                                             36\n",
       "поселок городского типа кузьмоловский                         35\n",
       "мурино                                                        34\n",
       "поселок городского типа мга                                   33\n",
       "поселок городского типа сиверский                             29\n",
       "ивангород                                                     28\n",
       "поселок городского типа новоселье                             28\n",
       "зеленогорск                                                   24\n",
       "сясьстрой                                                     24\n",
       "поселок щеглово                                               23\n",
       "поселок городского типа вырица                                22\n",
       "поселок новый свет                                            22\n",
       "поселок городского типа синявино                              21\n",
       "поселок понтонный                                             20\n",
       "поселок городского типа токсово                               20\n",
       "деревня лесколово                                             20\n",
       "поселок новогорелово                                          20\n",
       "деревня вартемяги                                             20\n",
       "лодейное поле                                                 20\n",
       "подпорожье                                                    19\n",
       "поселок сосново                                               18\n",
       "пикалево                                                      18\n",
       "поселок городского типа большая ижора                         17\n",
       "деревня бегуницы                                              17\n",
       "поселок городского типа имени морозова                        17\n",
       "поселок городского типа назия                                 17\n",
       "бокситогорск                                                  16\n",
       "деревня большие колпаны                                       16\n",
       "поселок аннино                                                16\n",
       "поселок городского типа дубровка                              15\n",
       "деревня горбунки                                              15\n",
       "поселок городского типа лебяжье                               15\n",
       "поселок городского типа рахья                                 15\n",
       "новая ладога                                                  14\n",
       "поселок елизаветино                                           13\n",
       "поселок городского типа ульяновка                             13\n",
       "поселок городского типа кузнечное                             13\n",
       "каменногорск                                                  13\n",
       "деревня гарболово                                             13\n",
       "деревня белогорка                                             11\n",
       "поселок городского типа советский                             11\n",
       "деревня колтуши                                               11\n",
       "светогорск                                                    11\n",
       "деревня гостилицы                                             11\n",
       "деревня малое верево                                          11\n",
       "деревня мистолово                                             11\n",
       "поселок городского типа павлово                               11\n",
       "поселок мичуринское                                           11\n",
       "деревня нурма                                                 11\n",
       "поселок войсковицы                                            10\n",
       "деревня лаголово                                              10\n",
       "деревня низино                                                10\n",
       "деревня сяськелево                                            10\n",
       "поселок молодцово                                              9\n",
       "поселок городского типа приладожский                           9\n",
       "село русско-высоцкое                                           9\n",
       "деревня оржицы                                                 9\n",
       "поселок сельцо                                                 9\n",
       "деревня малое карлино                                          9\n",
       "деревня батово                                                 9\n",
       "поселок кобралово                                              9\n",
       "поселок пудость                                                9\n",
       "поселок первомайское                                           8\n",
       "приморск                                                       8\n",
       "поселок суходолье                                              8\n",
       "любань                                                         8\n",
       "поселок стеклянный                                             8\n",
       "поселок городского типа красный бор                            8\n",
       "поселок ильичево                                               8\n",
       "деревня федоровское                                            8\n",
       "поселок запорожское                                            8\n",
       "деревня калитино                                               7\n",
       "деревня кузьмолово                                             7\n",
       "деревня малые колпаны                                          7\n",
       "деревня куттузи                                                7\n",
       "деревня кипень                                                 7\n",
       "поселок углово                                                 7\n",
       "село павлово                                                   7\n",
       "деревня кальтино                                               7\n",
       "поселок городского типа федоровское                            7\n",
       "поселок городского типа никольский                             7\n",
       "деревня извара                                                 7\n",
       "поселок городского типа тайцы                                  6\n",
       "поселок терволово                                              6\n",
       "поселок ушаки                                                  6\n",
       "поселок саперный                                               6\n",
       "деревня яльгелево                                              6\n",
       "поселок кобринское                                             6\n",
       "поселок городского типа форносово                              6\n",
       "деревня заневка                                                6\n",
       "поселок городского типа важины                                 6\n",
       "деревня пудомяги                                               6\n",
       "поселок поляны                                                 6\n",
       "поселок победа                                                 6\n",
       "деревня лампово                                                6\n",
       "деревня пеники                                                 6\n",
       "деревня лопухинка                                              6\n",
       "поселок новый учхоз                                            6\n",
       "поселок молодежное                                             5\n",
       "поселок петровское                                             5\n",
       "поселок городского типа дружная горка                          5\n",
       "поселок селезнево                                              5\n",
       "поселок гаврилово                                              5\n",
       "поселок войскорово                                             5\n",
       "деревня юкки                                                   5\n",
       "поселок усть-луга                                              5\n",
       "поселок плодовое                                               5\n",
       "село копорье                                                   5\n",
       "поселок семрино                                                5\n",
       "поселок городского типа лесогорский                            5\n",
       "поселок мельниково                                             5\n",
       "поселок глажево                                                5\n",
       "поселок станции вещево                                         4\n",
       "поселок гарболово                                              4\n",
       "поселок перово                                                 4\n",
       "поселок кикерино                                               4\n",
       "поселок городского типа будогощь                               4\n",
       "деревня разбегаево                                             4\n",
       "поселок суйда                                                  4\n",
       "деревня парицы                                                 4\n",
       "высоцк                                                         4\n",
       "поселок репино                                                 4\n",
       "деревня разметелево                                            4\n",
       "деревня агалатово                                              4\n",
       "поселок песочный                                               4\n",
       "поселок торфяное                                               4\n",
       "деревня большая вруда                                          4\n",
       "поселок старая малукса                                         4\n",
       "деревня келози                                                 4\n",
       "поселок цвелодубово                                            4\n",
       "поселок глебычево                                              3\n",
       "деревня аро                                                    3\n",
       "поселок красная долина                                         3\n",
       "село рождествено                                               3\n",
       "поселок зимитицы                                               3\n",
       "поселок пригородный                                            3\n",
       "деревня старополье                                             3\n",
       "деревня торосово                                               3\n",
       "деревня старосиверская                                         3\n",
       "деревня ваганово                                               3\n",
       "поселок жилгородок                                             3\n",
       "поселок станции громово                                        3\n",
       "поселок котельский                                             3\n",
       "поселок возрождение                                            3\n",
       "поселок лукаши                                                 3\n",
       "поселок громово                                                3\n",
       "поселок заводской                                              3\n",
       "поселок оредеж                                                 3\n",
       "деревня торошковичи                                            3\n",
       "поселок любань                                                 3\n",
       "поселок городского типа ефимовский                             3\n",
       "поселок лисий нос                                              3\n",
       "поселок торковичи                                              3\n",
       "деревня заклинье                                               3\n",
       "поселок городского типа виллози                                3\n",
       "деревня ненимяки                                               2\n",
       "деревня фалилеево                                              2\n",
       "деревня рабитицы                                               2\n",
       "деревня выскатка                                               2\n",
       "деревня мины                                                   2\n",
       "деревня коркино                                                2\n",
       "деревня старая пустошь                                         2\n",
       "село паша                                                      2\n",
       "поселок починок                                                2\n",
       "село путилово                                                  2\n",
       "поселок городского типа рябово                                 2\n",
       "поселок сумино                                                 2\n",
       "деревня глинка                                                 2\n",
       "поселок ленинское                                              2\n",
       "деревня суоранда                                               2\n",
       "деревня ям-тесово                                              2\n",
       "поселок совхозный                                              2\n",
       "деревня тарасово                                               2\n",
       "поселок усть-ижора                                             2\n",
       "деревня старые бегуницы                                        2\n",
       "поселок лесное                                                 2\n",
       "поселок станции приветнинское                                  2\n",
       "поселок барышево                                               2\n",
       "поселок житково                                                2\n",
       "поселок пушное                                                 2\n",
       "поселок коробицыно                                             2\n",
       "деревня камышовка                                              2\n",
       "деревня бор                                                    2\n",
       "поселок кингисеппский                                          2\n",
       "поселок пансионат зеленый бор                                  2\n",
       "поселок серебрянский                                           2\n",
       "поселок александровская                                        2\n",
       "поселок городского типа вознесенье                             2\n",
       "поселок рябово                                                 2\n",
       "поселок саперное                                               2\n",
       "поселок станции свирь                                          2\n",
       "село старая ладога                                             2\n",
       "деревня лупполово                                              1\n",
       "поселок петро-славянка                                         1\n",
       "деревня пельгора                                               1\n",
       "садовое товарищество садко                                     1\n",
       "деревня большое рейзино                                        1\n",
       "деревня мануйлово                                              1\n",
       "деревня реброво                                                1\n",
       "садовое товарищество новая ропша                               1\n",
       "деревня русско                                                 1\n",
       "коттеджный поселок кивеннапа север                             1\n",
       "поселок плоское                                                1\n",
       "деревня курковицы                                              1\n",
       "деревня тихковицы                                              1\n",
       "поселок рабитицы                                               1\n",
       "поселок пчевжа                                                 1\n",
       "деревня старое хинколово                                       1\n",
       "поселок высокоключевой                                         1\n",
       "деревня кривко                                                 1\n",
       "село шум                                                       1\n",
       "деревня каськово                                               1\n",
       "поселок жилпоселок                                             1\n",
       "поселок тесово-4                                               1\n",
       "поселок володарское                                            1\n",
       "деревня хапо-ое                                                1\n",
       "деревня пчева                                                  1\n",
       "деревня снегиревка                                             1\n",
       "деревня меньково                                               1\n",
       "деревня сижно                                                  1\n",
       "поселок гончарово                                              1\n",
       "поселок платформа 69-й километр                                1\n",
       "деревня борисова грива                                         1\n",
       "деревня тойворово                                              1\n",
       "поселок белоостров                                             1\n",
       "деревня лаврики                                                1\n",
       "поселок цвылево                                                1\n",
       "садовое товарищество приладожский                              1\n",
       "поселок каложицы                                               1\n",
       "деревня рапполово                                              1\n",
       "деревня большая пустомержа                                     1\n",
       "поселок при железнодорожной станции приветнинское              1\n",
       "поселок городского типа свирьстрой                             1\n",
       "поселок гладкое                                                1\n",
       "деревня нижние осельки                                         1\n",
       "поселок алексеевка                                             1\n",
       "поселок станции лужайка                                        1\n",
       "поселок левашово                                               1\n",
       "деревня иссад                                                  1\n",
       "деревня новолисино                                             1\n",
       "деревня кисельня                                               1\n",
       "садоводческое некоммерческое товарищество лесная поляна        1\n",
       "деревня чудской бор                                            1\n",
       "коттеджный поселок счастье                                     1\n",
       "деревня трубников бор                                          1\n",
       "село никольское                                                1\n",
       "поселок калитино                                               1\n",
       "деревня зимитицы                                               1\n",
       "деревня ялгино                                                 1\n",
       "поселок красносельское                                         1\n",
       "деревня пустынка                                               1\n",
       "садовое товарищество рахья                                     1\n",
       "деревня терпилицы                                              1\n",
       "поселок кирпичное                                              1\n",
       "поселок дружноселье                                            1\n",
       "поселок при железнодорожной станции вещево                     1\n",
       "деревня большой сабск                                          1\n",
       "поселок ропша                                                  1\n",
       "поселок станции корнево                                        1\n",
       "поселок дзержинского                                           1\n",
       "деревня пижма                                                  1\n",
       "деревня вахнова кара                                           1\n",
       "поселок севастьяново                                           1\n",
       "деревня щеглово                                                1\n",
       "деревня раздолье                                               1\n",
       "поселок форт красная горка                                     1\n",
       "поселок городского типа кондратьево                            1\n",
       "деревня котлы                                                  1\n",
       "деревня пикколово                                              1\n",
       "поселок мыза-ивановка                                          1\n",
       "поселок шугозеро                                               1\n",
       "поселок почап                                                  1\n",
       "деревня куровицы                                               1\n",
       "деревня хязельки                                               1\n",
       "деревня малая романовка                                        1\n",
       "поселок коммунары                                              1\n",
       "деревня нижняя                                                 1\n",
       "поселок семиозерье                                             1\n",
       "деревня шпаньково                                              1\n",
       "поселок ромашки                                                1\n",
       "коттеджный поселок лесное                                      1\n",
       "Name: locality_name, dtype: int64"
      ]
     },
     "execution_count": 30,
     "metadata": {},
     "output_type": "execute_result"
    }
   ],
   "source": [
    "data['locality_name'].value_counts()"
   ]
  },
  {
   "cell_type": "markdown",
   "metadata": {},
   "source": [
    "    Далее, для дальнейшего анализа, можно сгруппировать названия по типу населенного пункта, затем создать дополнительный признак, по которым легче будет ориентироваться (т.е. 0 - это город, 1 - деревня и т.д.)"
   ]
  },
  {
   "cell_type": "code",
   "execution_count": 31,
   "metadata": {},
   "outputs": [],
   "source": [
    "settlements = {\"деревня\": set(), \"село\": set(), \"поселок\": set(), \"поселок городского типа\": set()}"
   ]
  },
  {
   "cell_type": "code",
   "execution_count": 32,
   "metadata": {},
   "outputs": [],
   "source": [
    "for name in settlements:\n",
    "    settlements[name] = set(data['locality_name'][data['locality_name'].str.contains(name)].str.replace(name, '').str.strip().unique())"
   ]
  },
  {
   "cell_type": "code",
   "execution_count": 33,
   "metadata": {},
   "outputs": [],
   "source": [
    "settlements[\"село\"] = set(el for el in settlements[\"село\"] if not \"пок \" in el)\n",
    "settlements[\"поселок\"] = set(el for el in settlements[\"поселок\"] if not \"городского типа\" in el)"
   ]
  },
  {
   "cell_type": "code",
   "execution_count": 34,
   "metadata": {},
   "outputs": [],
   "source": [
    "settlements[\"деревня\"] = settlements[\"деревня\"] - settlements[\"село\"] - settlements[\"поселок\"] - settlements[\"поселок городского типа\"]\n",
    "settlements[\"село\"] = settlements[\"село\"] - settlements[\"поселок\"] - settlements[\"поселок городского типа\"]\n",
    "settlements[\"поселок\"] = settlements[\"поселок\"] - settlements[\"поселок городского типа\"]"
   ]
  },
  {
   "cell_type": "code",
   "execution_count": 35,
   "metadata": {
    "scrolled": false
   },
   "outputs": [
    {
     "data": {
      "text/plain": [
       "{'деревня': {'агалатово',\n",
       "  'аро',\n",
       "  'батово',\n",
       "  'бегуницы',\n",
       "  'белогорка',\n",
       "  'большая вруда',\n",
       "  'большая пустомержа',\n",
       "  'большие колпаны',\n",
       "  'большое рейзино',\n",
       "  'большой сабск',\n",
       "  'бор',\n",
       "  'борисова грива',\n",
       "  'ваганово',\n",
       "  'вартемяги',\n",
       "  'вахнова кара',\n",
       "  'выскатка',\n",
       "  'глинка',\n",
       "  'горбунки',\n",
       "  'гостилицы',\n",
       "  'заклинье',\n",
       "  'заневка',\n",
       "  'извара',\n",
       "  'иссад',\n",
       "  'кальтино',\n",
       "  'камышовка',\n",
       "  'каськово',\n",
       "  'келози',\n",
       "  'кипень',\n",
       "  'кисельня',\n",
       "  'колтуши',\n",
       "  'коркино',\n",
       "  'котлы',\n",
       "  'кривко',\n",
       "  'кудрово',\n",
       "  'кузьмолово',\n",
       "  'курковицы',\n",
       "  'куровицы',\n",
       "  'куттузи',\n",
       "  'лаврики',\n",
       "  'лаголово',\n",
       "  'лампово',\n",
       "  'лесколово',\n",
       "  'лопухинка',\n",
       "  'лупполово',\n",
       "  'малая романовка',\n",
       "  'малое верево',\n",
       "  'малое карлино',\n",
       "  'малые колпаны',\n",
       "  'мануйлово',\n",
       "  'меньково',\n",
       "  'мины',\n",
       "  'мистолово',\n",
       "  'ненимяки',\n",
       "  'нижние осельки',\n",
       "  'нижняя',\n",
       "  'низино',\n",
       "  'новое девяткино',\n",
       "  'новолисино',\n",
       "  'нурма',\n",
       "  'оржицы',\n",
       "  'парицы',\n",
       "  'пельгора',\n",
       "  'пеники',\n",
       "  'пижма',\n",
       "  'пикколово',\n",
       "  'пудомяги',\n",
       "  'пустынка',\n",
       "  'пчева',\n",
       "  'разбегаево',\n",
       "  'раздолье',\n",
       "  'разметелево',\n",
       "  'рапполово',\n",
       "  'реброво',\n",
       "  'русско',\n",
       "  'сижно',\n",
       "  'снегиревка',\n",
       "  'старая',\n",
       "  'старая пустошь',\n",
       "  'старое хинколово',\n",
       "  'старополье',\n",
       "  'старосиверская',\n",
       "  'старые бегуницы',\n",
       "  'суоранда',\n",
       "  'сяськелево',\n",
       "  'тарасово',\n",
       "  'терпилицы',\n",
       "  'тихковицы',\n",
       "  'тойворово',\n",
       "  'торосово',\n",
       "  'торошковичи',\n",
       "  'трубников бор',\n",
       "  'фалилеево',\n",
       "  'хапо-ое',\n",
       "  'хязельки',\n",
       "  'чудской бор',\n",
       "  'шпаньково',\n",
       "  'юкки',\n",
       "  'ялгино',\n",
       "  'яльгелево',\n",
       "  'ям-тесово'},\n",
       " 'село': {'копорье',\n",
       "  'красное',\n",
       "  'никольское',\n",
       "  'паша',\n",
       "  'путилово',\n",
       "  'рождествено',\n",
       "  'русско-высоцкое',\n",
       "  'старая ладога',\n",
       "  'шум'},\n",
       " 'поселок': {'александровская',\n",
       "  'алексеевка',\n",
       "  'аннино',\n",
       "  'барышево',\n",
       "  'белоостров',\n",
       "  'бугры',\n",
       "  'возрождение',\n",
       "  'войсковицы',\n",
       "  'войскорово',\n",
       "  'володарское',\n",
       "  'высокоключевой',\n",
       "  'гаврилово',\n",
       "  'гарболово',\n",
       "  'гладкое',\n",
       "  'глажево',\n",
       "  'глебычево',\n",
       "  'гончарово',\n",
       "  'громово',\n",
       "  'дзержинского',\n",
       "  'дружноселье',\n",
       "  'елизаветино',\n",
       "  'жил',\n",
       "  'жилгородок',\n",
       "  'житково',\n",
       "  'заводской',\n",
       "  'запорожское',\n",
       "  'зимитицы',\n",
       "  'ильичево',\n",
       "  'калитино',\n",
       "  'каложицы',\n",
       "  'кикерино',\n",
       "  'кингисеппский',\n",
       "  'кирпичное',\n",
       "  'кобралово',\n",
       "  'кобринское',\n",
       "  'коммунары',\n",
       "  'коробицыно',\n",
       "  'котельский',\n",
       "  'коттеджный  кивеннапа север',\n",
       "  'коттеджный  лесное',\n",
       "  'коттеджный  счастье',\n",
       "  'красная долина',\n",
       "  'красносельское',\n",
       "  'левашово',\n",
       "  'ленинское',\n",
       "  'лесное',\n",
       "  'лисий нос',\n",
       "  'лукаши',\n",
       "  'любань',\n",
       "  'мельниково',\n",
       "  'металлострой',\n",
       "  'мичуринское',\n",
       "  'молодежное',\n",
       "  'молодцово',\n",
       "  'мурино',\n",
       "  'мыза-ивановка',\n",
       "  'новогорелово',\n",
       "  'новый свет',\n",
       "  'новый учхоз',\n",
       "  'оредеж',\n",
       "  'пансионат зеленый бор',\n",
       "  'парголово',\n",
       "  'первомайское',\n",
       "  'перово',\n",
       "  'песочный',\n",
       "  'петро-славянка',\n",
       "  'петровское',\n",
       "  'платформа 69-й километр',\n",
       "  'плодовое',\n",
       "  'плоское',\n",
       "  'победа',\n",
       "  'поляны',\n",
       "  'понтонный',\n",
       "  'почап',\n",
       "  'починок',\n",
       "  'при железнодорожной станции вещево',\n",
       "  'при железнодорожной станции приветнинское',\n",
       "  'пригородный',\n",
       "  'пудость',\n",
       "  'пушное',\n",
       "  'пчевжа',\n",
       "  'рабитицы',\n",
       "  'репино',\n",
       "  'романовка',\n",
       "  'ромашки',\n",
       "  'ропша',\n",
       "  'саперное',\n",
       "  'саперный',\n",
       "  'севастьяново',\n",
       "  'селезнево',\n",
       "  'сельцо',\n",
       "  'семиозерье',\n",
       "  'семрино',\n",
       "  'серебрянский',\n",
       "  'совхозный',\n",
       "  'сосново',\n",
       "  'станции вещево',\n",
       "  'станции громово',\n",
       "  'станции корнево',\n",
       "  'станции лужайка',\n",
       "  'станции приветнинское',\n",
       "  'станции свирь',\n",
       "  'старая малукса',\n",
       "  'стеклянный',\n",
       "  'стрельна',\n",
       "  'суйда',\n",
       "  'сумино',\n",
       "  'суходолье',\n",
       "  'тельмана',\n",
       "  'терволово',\n",
       "  'тесово-4',\n",
       "  'торковичи',\n",
       "  'торфяное',\n",
       "  'углово',\n",
       "  'усть-ижора',\n",
       "  'усть-луга',\n",
       "  'ушаки',\n",
       "  'форт красная горка',\n",
       "  'цвелодубово',\n",
       "  'цвылево',\n",
       "  'шугозеро',\n",
       "  'шушары',\n",
       "  'щеглово'},\n",
       " 'поселок городского типа': {'большая ижора',\n",
       "  'будогощь',\n",
       "  'важины',\n",
       "  'виллози',\n",
       "  'вознесенье',\n",
       "  'вырица',\n",
       "  'дружная горка',\n",
       "  'дубровка',\n",
       "  'ефимовский',\n",
       "  'имени морозова',\n",
       "  'имени свердлова',\n",
       "  'кондратьево',\n",
       "  'красный бор',\n",
       "  'кузнечное',\n",
       "  'кузьмоловский',\n",
       "  'лебяжье',\n",
       "  'лесогорский',\n",
       "  'мга',\n",
       "  'назия',\n",
       "  'никольский',\n",
       "  'новоселье',\n",
       "  'павлово',\n",
       "  'приладожский',\n",
       "  'рахья',\n",
       "  'рощино',\n",
       "  'рябово',\n",
       "  'свирьстрой',\n",
       "  'сиверский',\n",
       "  'синявино',\n",
       "  'советский',\n",
       "  'тайцы',\n",
       "  'токсово',\n",
       "  'ульяновка',\n",
       "  'федоровское',\n",
       "  'форносово',\n",
       "  'янино-1'}}"
      ]
     },
     "execution_count": 35,
     "metadata": {},
     "output_type": "execute_result"
    }
   ],
   "source": [
    "settlements"
   ]
  },
  {
   "cell_type": "markdown",
   "metadata": {},
   "source": [
    "    Добавим данный признак в таблицу"
   ]
  },
  {
   "cell_type": "code",
   "execution_count": 36,
   "metadata": {},
   "outputs": [],
   "source": [
    "data[\"settlement_type\"] = 0"
   ]
  },
  {
   "cell_type": "code",
   "execution_count": 37,
   "metadata": {},
   "outputs": [],
   "source": [
    "settlements_types = {\"город\": 0, \"деревня\": 1, \"село\": 2, \"поселок\": 3, \"поселок городского типа\": 4}"
   ]
  },
  {
   "cell_type": "code",
   "execution_count": 38,
   "metadata": {},
   "outputs": [],
   "source": [
    "for settlement, places in settlements.items():\n",
    "    for place in places:\n",
    "        condition = data[\"locality_name\"].str.contains(place)\n",
    "        data.loc[condition, \"settlement_type\"] = settlements_types[settlement]\n",
    "        data.loc[condition, \"locality_name\"] = f\"{settlement} {place}\" "
   ]
  },
  {
   "cell_type": "code",
   "execution_count": 39,
   "metadata": {},
   "outputs": [
    {
     "data": {
      "text/html": [
       "<div>\n",
       "<style scoped>\n",
       "    .dataframe tbody tr th:only-of-type {\n",
       "        vertical-align: middle;\n",
       "    }\n",
       "\n",
       "    .dataframe tbody tr th {\n",
       "        vertical-align: top;\n",
       "    }\n",
       "\n",
       "    .dataframe thead th {\n",
       "        text-align: right;\n",
       "    }\n",
       "</style>\n",
       "<table border=\"1\" class=\"dataframe\">\n",
       "  <thead>\n",
       "    <tr style=\"text-align: right;\">\n",
       "      <th></th>\n",
       "      <th>total_images</th>\n",
       "      <th>last_price</th>\n",
       "      <th>total_area</th>\n",
       "      <th>first_day_exposition</th>\n",
       "      <th>rooms</th>\n",
       "      <th>ceiling_height</th>\n",
       "      <th>floors_total</th>\n",
       "      <th>living_area</th>\n",
       "      <th>floor</th>\n",
       "      <th>is_apartment</th>\n",
       "      <th>...</th>\n",
       "      <th>balcony</th>\n",
       "      <th>locality_name</th>\n",
       "      <th>airports_nearest</th>\n",
       "      <th>city_centers_nearest</th>\n",
       "      <th>parks_around_3km</th>\n",
       "      <th>parks_nearest</th>\n",
       "      <th>ponds_around_3km</th>\n",
       "      <th>ponds_nearest</th>\n",
       "      <th>days_exposition</th>\n",
       "      <th>settlement_type</th>\n",
       "    </tr>\n",
       "  </thead>\n",
       "  <tbody>\n",
       "    <tr>\n",
       "      <th>0</th>\n",
       "      <td>20</td>\n",
       "      <td>13000000.0</td>\n",
       "      <td>108.0</td>\n",
       "      <td>2019-03-07</td>\n",
       "      <td>3</td>\n",
       "      <td>2.70</td>\n",
       "      <td>16.0</td>\n",
       "      <td>51.0</td>\n",
       "      <td>8</td>\n",
       "      <td>False</td>\n",
       "      <td>...</td>\n",
       "      <td>0.0</td>\n",
       "      <td>санкт-петербург</td>\n",
       "      <td>18863.0</td>\n",
       "      <td>16028.0</td>\n",
       "      <td>1.0</td>\n",
       "      <td>482.0</td>\n",
       "      <td>2.0</td>\n",
       "      <td>755.0</td>\n",
       "      <td>NaN</td>\n",
       "      <td>0</td>\n",
       "    </tr>\n",
       "    <tr>\n",
       "      <th>1</th>\n",
       "      <td>7</td>\n",
       "      <td>3350000.0</td>\n",
       "      <td>40.4</td>\n",
       "      <td>2018-12-04</td>\n",
       "      <td>1</td>\n",
       "      <td>2.50</td>\n",
       "      <td>11.0</td>\n",
       "      <td>18.6</td>\n",
       "      <td>1</td>\n",
       "      <td>False</td>\n",
       "      <td>...</td>\n",
       "      <td>2.0</td>\n",
       "      <td>поселок шушары</td>\n",
       "      <td>12817.0</td>\n",
       "      <td>18603.0</td>\n",
       "      <td>0.0</td>\n",
       "      <td>455.0</td>\n",
       "      <td>0.0</td>\n",
       "      <td>503.0</td>\n",
       "      <td>81.0</td>\n",
       "      <td>3</td>\n",
       "    </tr>\n",
       "    <tr>\n",
       "      <th>2</th>\n",
       "      <td>10</td>\n",
       "      <td>5196000.0</td>\n",
       "      <td>56.0</td>\n",
       "      <td>2015-08-20</td>\n",
       "      <td>2</td>\n",
       "      <td>2.50</td>\n",
       "      <td>5.0</td>\n",
       "      <td>34.3</td>\n",
       "      <td>4</td>\n",
       "      <td>False</td>\n",
       "      <td>...</td>\n",
       "      <td>0.0</td>\n",
       "      <td>санкт-петербург</td>\n",
       "      <td>21741.0</td>\n",
       "      <td>13933.0</td>\n",
       "      <td>1.0</td>\n",
       "      <td>90.0</td>\n",
       "      <td>2.0</td>\n",
       "      <td>574.0</td>\n",
       "      <td>558.0</td>\n",
       "      <td>0</td>\n",
       "    </tr>\n",
       "    <tr>\n",
       "      <th>3</th>\n",
       "      <td>0</td>\n",
       "      <td>64900000.0</td>\n",
       "      <td>159.0</td>\n",
       "      <td>2015-07-24</td>\n",
       "      <td>3</td>\n",
       "      <td>2.50</td>\n",
       "      <td>14.0</td>\n",
       "      <td>45.0</td>\n",
       "      <td>9</td>\n",
       "      <td>False</td>\n",
       "      <td>...</td>\n",
       "      <td>0.0</td>\n",
       "      <td>санкт-петербург</td>\n",
       "      <td>28098.0</td>\n",
       "      <td>6800.0</td>\n",
       "      <td>2.0</td>\n",
       "      <td>84.0</td>\n",
       "      <td>3.0</td>\n",
       "      <td>234.0</td>\n",
       "      <td>424.0</td>\n",
       "      <td>0</td>\n",
       "    </tr>\n",
       "    <tr>\n",
       "      <th>4</th>\n",
       "      <td>2</td>\n",
       "      <td>10000000.0</td>\n",
       "      <td>100.0</td>\n",
       "      <td>2018-06-19</td>\n",
       "      <td>2</td>\n",
       "      <td>3.03</td>\n",
       "      <td>14.0</td>\n",
       "      <td>32.0</td>\n",
       "      <td>13</td>\n",
       "      <td>False</td>\n",
       "      <td>...</td>\n",
       "      <td>0.0</td>\n",
       "      <td>санкт-петербург</td>\n",
       "      <td>31856.0</td>\n",
       "      <td>8098.0</td>\n",
       "      <td>2.0</td>\n",
       "      <td>112.0</td>\n",
       "      <td>1.0</td>\n",
       "      <td>48.0</td>\n",
       "      <td>121.0</td>\n",
       "      <td>0</td>\n",
       "    </tr>\n",
       "  </tbody>\n",
       "</table>\n",
       "<p>5 rows × 23 columns</p>\n",
       "</div>"
      ],
      "text/plain": [
       "   total_images  last_price  total_area first_day_exposition  rooms  \\\n",
       "0            20  13000000.0       108.0           2019-03-07      3   \n",
       "1             7   3350000.0        40.4           2018-12-04      1   \n",
       "2            10   5196000.0        56.0           2015-08-20      2   \n",
       "3             0  64900000.0       159.0           2015-07-24      3   \n",
       "4             2  10000000.0       100.0           2018-06-19      2   \n",
       "\n",
       "   ceiling_height  floors_total  living_area  floor  is_apartment  ...  \\\n",
       "0            2.70          16.0         51.0      8         False  ...   \n",
       "1            2.50          11.0         18.6      1         False  ...   \n",
       "2            2.50           5.0         34.3      4         False  ...   \n",
       "3            2.50          14.0         45.0      9         False  ...   \n",
       "4            3.03          14.0         32.0     13         False  ...   \n",
       "\n",
       "   balcony    locality_name  airports_nearest  city_centers_nearest  \\\n",
       "0      0.0  санкт-петербург           18863.0               16028.0   \n",
       "1      2.0   поселок шушары           12817.0               18603.0   \n",
       "2      0.0  санкт-петербург           21741.0               13933.0   \n",
       "3      0.0  санкт-петербург           28098.0                6800.0   \n",
       "4      0.0  санкт-петербург           31856.0                8098.0   \n",
       "\n",
       "  parks_around_3km  parks_nearest  ponds_around_3km  ponds_nearest  \\\n",
       "0              1.0          482.0               2.0          755.0   \n",
       "1              0.0          455.0               0.0          503.0   \n",
       "2              1.0           90.0               2.0          574.0   \n",
       "3              2.0           84.0               3.0          234.0   \n",
       "4              2.0          112.0               1.0           48.0   \n",
       "\n",
       "   days_exposition  settlement_type  \n",
       "0              NaN                0  \n",
       "1             81.0                3  \n",
       "2            558.0                0  \n",
       "3            424.0                0  \n",
       "4            121.0                0  \n",
       "\n",
       "[5 rows x 23 columns]"
      ]
     },
     "execution_count": 39,
     "metadata": {},
     "output_type": "execute_result"
    }
   ],
   "source": [
    "data.head()"
   ]
  },
  {
   "cell_type": "markdown",
   "metadata": {},
   "source": [
    "#### Обработка выбросов, аномалии"
   ]
  },
  {
   "cell_type": "code",
   "execution_count": 40,
   "metadata": {},
   "outputs": [
    {
     "data": {
      "text/html": [
       "<div>\n",
       "<style scoped>\n",
       "    .dataframe tbody tr th:only-of-type {\n",
       "        vertical-align: middle;\n",
       "    }\n",
       "\n",
       "    .dataframe tbody tr th {\n",
       "        vertical-align: top;\n",
       "    }\n",
       "\n",
       "    .dataframe thead th {\n",
       "        text-align: right;\n",
       "    }\n",
       "</style>\n",
       "<table border=\"1\" class=\"dataframe\">\n",
       "  <thead>\n",
       "    <tr style=\"text-align: right;\">\n",
       "      <th></th>\n",
       "      <th>total_images</th>\n",
       "      <th>last_price</th>\n",
       "      <th>total_area</th>\n",
       "      <th>rooms</th>\n",
       "      <th>ceiling_height</th>\n",
       "      <th>floors_total</th>\n",
       "      <th>living_area</th>\n",
       "      <th>floor</th>\n",
       "      <th>kitchen_area</th>\n",
       "      <th>balcony</th>\n",
       "      <th>airports_nearest</th>\n",
       "      <th>city_centers_nearest</th>\n",
       "      <th>parks_around_3km</th>\n",
       "      <th>parks_nearest</th>\n",
       "      <th>ponds_around_3km</th>\n",
       "      <th>ponds_nearest</th>\n",
       "      <th>days_exposition</th>\n",
       "      <th>settlement_type</th>\n",
       "    </tr>\n",
       "  </thead>\n",
       "  <tbody>\n",
       "    <tr>\n",
       "      <th>count</th>\n",
       "      <td>23679.000000</td>\n",
       "      <td>2.367900e+04</td>\n",
       "      <td>23679.000000</td>\n",
       "      <td>23679.000000</td>\n",
       "      <td>23679.000000</td>\n",
       "      <td>23679.000000</td>\n",
       "      <td>23679.000000</td>\n",
       "      <td>23679.000000</td>\n",
       "      <td>23679.000000</td>\n",
       "      <td>23679.000000</td>\n",
       "      <td>23679.000000</td>\n",
       "      <td>23679.000000</td>\n",
       "      <td>23679.000000</td>\n",
       "      <td>23679.000000</td>\n",
       "      <td>23679.000000</td>\n",
       "      <td>23679.000000</td>\n",
       "      <td>20499.000000</td>\n",
       "      <td>23679.000000</td>\n",
       "    </tr>\n",
       "    <tr>\n",
       "      <th>mean</th>\n",
       "      <td>9.860425</td>\n",
       "      <td>6.542966e+06</td>\n",
       "      <td>60.342856</td>\n",
       "      <td>2.070738</td>\n",
       "      <td>2.666256</td>\n",
       "      <td>10.677942</td>\n",
       "      <td>34.323689</td>\n",
       "      <td>5.891803</td>\n",
       "      <td>10.374472</td>\n",
       "      <td>0.591326</td>\n",
       "      <td>28315.093712</td>\n",
       "      <td>13931.789772</td>\n",
       "      <td>0.469446</td>\n",
       "      <td>467.216099</td>\n",
       "      <td>0.823683</td>\n",
       "      <td>508.815913</td>\n",
       "      <td>180.898288</td>\n",
       "      <td>0.453989</td>\n",
       "    </tr>\n",
       "    <tr>\n",
       "      <th>std</th>\n",
       "      <td>5.681051</td>\n",
       "      <td>1.089114e+07</td>\n",
       "      <td>35.656865</td>\n",
       "      <td>1.078640</td>\n",
       "      <td>0.995766</td>\n",
       "      <td>6.596024</td>\n",
       "      <td>21.706586</td>\n",
       "      <td>4.882818</td>\n",
       "      <td>5.715761</td>\n",
       "      <td>0.959529</td>\n",
       "      <td>11091.667776</td>\n",
       "      <td>7552.653969</td>\n",
       "      <td>0.748725</td>\n",
       "      <td>200.663689</td>\n",
       "      <td>0.827837</td>\n",
       "      <td>172.385499</td>\n",
       "      <td>219.781544</td>\n",
       "      <td>1.051379</td>\n",
       "    </tr>\n",
       "    <tr>\n",
       "      <th>min</th>\n",
       "      <td>0.000000</td>\n",
       "      <td>1.219000e+04</td>\n",
       "      <td>12.000000</td>\n",
       "      <td>0.000000</td>\n",
       "      <td>1.000000</td>\n",
       "      <td>1.000000</td>\n",
       "      <td>2.000000</td>\n",
       "      <td>1.000000</td>\n",
       "      <td>0.000000</td>\n",
       "      <td>0.000000</td>\n",
       "      <td>0.000000</td>\n",
       "      <td>181.000000</td>\n",
       "      <td>0.000000</td>\n",
       "      <td>1.000000</td>\n",
       "      <td>0.000000</td>\n",
       "      <td>13.000000</td>\n",
       "      <td>1.000000</td>\n",
       "      <td>0.000000</td>\n",
       "    </tr>\n",
       "    <tr>\n",
       "      <th>25%</th>\n",
       "      <td>6.000000</td>\n",
       "      <td>3.400000e+06</td>\n",
       "      <td>40.000000</td>\n",
       "      <td>1.000000</td>\n",
       "      <td>2.500000</td>\n",
       "      <td>5.000000</td>\n",
       "      <td>18.400000</td>\n",
       "      <td>2.000000</td>\n",
       "      <td>7.200000</td>\n",
       "      <td>0.000000</td>\n",
       "      <td>21178.500000</td>\n",
       "      <td>10914.500000</td>\n",
       "      <td>0.000000</td>\n",
       "      <td>455.000000</td>\n",
       "      <td>0.000000</td>\n",
       "      <td>503.000000</td>\n",
       "      <td>45.000000</td>\n",
       "      <td>0.000000</td>\n",
       "    </tr>\n",
       "    <tr>\n",
       "      <th>50%</th>\n",
       "      <td>9.000000</td>\n",
       "      <td>4.650000e+06</td>\n",
       "      <td>52.000000</td>\n",
       "      <td>2.000000</td>\n",
       "      <td>2.500000</td>\n",
       "      <td>9.000000</td>\n",
       "      <td>30.300000</td>\n",
       "      <td>4.000000</td>\n",
       "      <td>9.040000</td>\n",
       "      <td>0.000000</td>\n",
       "      <td>26737.000000</td>\n",
       "      <td>13094.000000</td>\n",
       "      <td>0.000000</td>\n",
       "      <td>455.000000</td>\n",
       "      <td>1.000000</td>\n",
       "      <td>503.000000</td>\n",
       "      <td>95.000000</td>\n",
       "      <td>0.000000</td>\n",
       "    </tr>\n",
       "    <tr>\n",
       "      <th>75%</th>\n",
       "      <td>14.000000</td>\n",
       "      <td>6.800000e+06</td>\n",
       "      <td>69.800000</td>\n",
       "      <td>3.000000</td>\n",
       "      <td>2.700000</td>\n",
       "      <td>16.000000</td>\n",
       "      <td>42.700000</td>\n",
       "      <td>8.000000</td>\n",
       "      <td>11.500000</td>\n",
       "      <td>1.000000</td>\n",
       "      <td>34355.000000</td>\n",
       "      <td>15245.000000</td>\n",
       "      <td>1.000000</td>\n",
       "      <td>455.000000</td>\n",
       "      <td>1.000000</td>\n",
       "      <td>503.000000</td>\n",
       "      <td>232.000000</td>\n",
       "      <td>0.000000</td>\n",
       "    </tr>\n",
       "    <tr>\n",
       "      <th>max</th>\n",
       "      <td>50.000000</td>\n",
       "      <td>7.630000e+08</td>\n",
       "      <td>900.000000</td>\n",
       "      <td>19.000000</td>\n",
       "      <td>100.000000</td>\n",
       "      <td>60.000000</td>\n",
       "      <td>409.700000</td>\n",
       "      <td>33.000000</td>\n",
       "      <td>112.000000</td>\n",
       "      <td>5.000000</td>\n",
       "      <td>84869.000000</td>\n",
       "      <td>65968.000000</td>\n",
       "      <td>3.000000</td>\n",
       "      <td>3190.000000</td>\n",
       "      <td>3.000000</td>\n",
       "      <td>1344.000000</td>\n",
       "      <td>1580.000000</td>\n",
       "      <td>4.000000</td>\n",
       "    </tr>\n",
       "  </tbody>\n",
       "</table>\n",
       "</div>"
      ],
      "text/plain": [
       "       total_images    last_price    total_area         rooms  ceiling_height  \\\n",
       "count  23679.000000  2.367900e+04  23679.000000  23679.000000    23679.000000   \n",
       "mean       9.860425  6.542966e+06     60.342856      2.070738        2.666256   \n",
       "std        5.681051  1.089114e+07     35.656865      1.078640        0.995766   \n",
       "min        0.000000  1.219000e+04     12.000000      0.000000        1.000000   \n",
       "25%        6.000000  3.400000e+06     40.000000      1.000000        2.500000   \n",
       "50%        9.000000  4.650000e+06     52.000000      2.000000        2.500000   \n",
       "75%       14.000000  6.800000e+06     69.800000      3.000000        2.700000   \n",
       "max       50.000000  7.630000e+08    900.000000     19.000000      100.000000   \n",
       "\n",
       "       floors_total   living_area         floor  kitchen_area       balcony  \\\n",
       "count  23679.000000  23679.000000  23679.000000  23679.000000  23679.000000   \n",
       "mean      10.677942     34.323689      5.891803     10.374472      0.591326   \n",
       "std        6.596024     21.706586      4.882818      5.715761      0.959529   \n",
       "min        1.000000      2.000000      1.000000      0.000000      0.000000   \n",
       "25%        5.000000     18.400000      2.000000      7.200000      0.000000   \n",
       "50%        9.000000     30.300000      4.000000      9.040000      0.000000   \n",
       "75%       16.000000     42.700000      8.000000     11.500000      1.000000   \n",
       "max       60.000000    409.700000     33.000000    112.000000      5.000000   \n",
       "\n",
       "       airports_nearest  city_centers_nearest  parks_around_3km  \\\n",
       "count      23679.000000          23679.000000      23679.000000   \n",
       "mean       28315.093712          13931.789772          0.469446   \n",
       "std        11091.667776           7552.653969          0.748725   \n",
       "min            0.000000            181.000000          0.000000   \n",
       "25%        21178.500000          10914.500000          0.000000   \n",
       "50%        26737.000000          13094.000000          0.000000   \n",
       "75%        34355.000000          15245.000000          1.000000   \n",
       "max        84869.000000          65968.000000          3.000000   \n",
       "\n",
       "       parks_nearest  ponds_around_3km  ponds_nearest  days_exposition  \\\n",
       "count   23679.000000      23679.000000   23679.000000     20499.000000   \n",
       "mean      467.216099          0.823683     508.815913       180.898288   \n",
       "std       200.663689          0.827837     172.385499       219.781544   \n",
       "min         1.000000          0.000000      13.000000         1.000000   \n",
       "25%       455.000000          0.000000     503.000000        45.000000   \n",
       "50%       455.000000          1.000000     503.000000        95.000000   \n",
       "75%       455.000000          1.000000     503.000000       232.000000   \n",
       "max      3190.000000          3.000000    1344.000000      1580.000000   \n",
       "\n",
       "       settlement_type  \n",
       "count     23679.000000  \n",
       "mean          0.453989  \n",
       "std           1.051379  \n",
       "min           0.000000  \n",
       "25%           0.000000  \n",
       "50%           0.000000  \n",
       "75%           0.000000  \n",
       "max           4.000000  "
      ]
     },
     "execution_count": 40,
     "metadata": {},
     "output_type": "execute_result"
    }
   ],
   "source": [
    "data.describe()"
   ]
  },
  {
   "cell_type": "markdown",
   "metadata": {},
   "source": [
    "    Сначала сравним общую площадь квартиры с жилой площадью, нет ли такого, что общая меньше, чем жилая, далее проверим, может ли быть так, что количество этажей в доме меньше этажа, где находится данная квартир и может ли быть, что кухня больше, чем общая площадь квартиры. А если есть, то удалим. "
   ]
  },
  {
   "cell_type": "code",
   "execution_count": 41,
   "metadata": {},
   "outputs": [],
   "source": [
    "data.drop(data[data['total_area'] < data['living_area']].index, inplace=True)\n",
    "data.drop(data[data['floors_total'] < data['floor']].index, inplace=True)\n",
    "data.drop(data[data['total_area'] < data['kitchen_area']].index, inplace=True)"
   ]
  },
  {
   "cell_type": "markdown",
   "metadata": {},
   "source": [
    "    Рассмотрим выбросы по каждому столбцу."
   ]
  },
  {
   "cell_type": "code",
   "execution_count": 42,
   "metadata": {},
   "outputs": [
    {
     "data": {
      "text/plain": [
       "(0.0, 15000000.0)"
      ]
     },
     "execution_count": 42,
     "metadata": {},
     "output_type": "execute_result"
    },
    {
     "data": {
      "image/png": "[encoded data removed]",
      "text/plain": [
       "<Figure size 432x216 with 1 Axes>"
      ]
     },
     "metadata": {
      "needs_background": "light"
     },
     "output_type": "display_data"
    }
   ],
   "source": [
    "data['last_price'].plot(kind='box', figsize=(6,3))\n",
    "plt.ylim(0, 15000000)"
   ]
  },
  {
   "cell_type": "markdown",
   "metadata": {},
   "source": [
    "    Удалим строки, где квартира стоит меньше 12 т.р. и больше 500000000 р."
   ]
  },
  {
   "cell_type": "code",
   "execution_count": 43,
   "metadata": {},
   "outputs": [],
   "source": [
    "data = data.drop(data['last_price'].idxmin()).reset_index(drop=True)\n",
    "data = data.drop(data.query('last_price > 500000000').index).reset_index(drop=True)"
   ]
  },
  {
   "cell_type": "code",
   "execution_count": 44,
   "metadata": {},
   "outputs": [
    {
     "data": {
      "text/plain": [
       "(0.0, 900.0)"
      ]
     },
     "execution_count": 44,
     "metadata": {},
     "output_type": "execute_result"
    },
    {
     "data": {
      "image/png": "[encoded data removed]",
      "text/plain": [
       "<Figure size 432x216 with 1 Axes>"
      ]
     },
     "metadata": {
      "needs_background": "light"
     },
     "output_type": "display_data"
    }
   ],
   "source": [
    "data['total_area'].plot(kind='box', figsize=(6,3))\n",
    "plt.ylim(0, 900)"
   ]
  },
  {
   "cell_type": "markdown",
   "metadata": {},
   "source": [
    "    На рынке недвижимости Санкт-Петербурга самая большая квартира имеет площадь 631 квадратный метр, а самая маленькая – 12 квадратных метров, это будет очень мешать при анализе данных, поэтому удалим строки, где площадь больше 500 кв. метров."
   ]
  },
  {
   "cell_type": "code",
   "execution_count": 45,
   "metadata": {},
   "outputs": [],
   "source": [
    "data = data.drop(data.query('total_area > 500').index).reset_index(drop=True)"
   ]
  },
  {
   "cell_type": "code",
   "execution_count": 46,
   "metadata": {},
   "outputs": [
    {
     "data": {
      "text/plain": [
       "(0.0, 20.0)"
      ]
     },
     "execution_count": 46,
     "metadata": {},
     "output_type": "execute_result"
    },
    {
     "data": {
      "image/png": "[encoded data removed]",
      "text/plain": [
       "<Figure size 432x216 with 1 Axes>"
      ]
     },
     "metadata": {
      "needs_background": "light"
     },
     "output_type": "display_data"
    }
   ],
   "source": [
    "data['rooms'].plot(kind='box', figsize=(6,3))\n",
    "plt.ylim(0, 20)"
   ]
  },
  {
   "cell_type": "markdown",
   "metadata": {},
   "source": [
    "    Удалим строки, где комнат больше, чем 6. "
   ]
  },
  {
   "cell_type": "code",
   "execution_count": 47,
   "metadata": {},
   "outputs": [],
   "source": [
    "data = data.drop(data.query('rooms > 6').index).reset_index(drop=True)"
   ]
  },
  {
   "cell_type": "code",
   "execution_count": 48,
   "metadata": {},
   "outputs": [
    {
     "data": {
      "text/plain": [
       "(0.0, 4.0)"
      ]
     },
     "execution_count": 48,
     "metadata": {},
     "output_type": "execute_result"
    },
    {
     "data": {
      "image/png": "[encoded data removed]",
      "text/plain": [
       "<Figure size 432x216 with 1 Axes>"
      ]
     },
     "metadata": {
      "needs_background": "light"
     },
     "output_type": "display_data"
    }
   ],
   "source": [
    "data['ceiling_height'].plot(kind='box', figsize=(6,3))\n",
    "plt.ylim(0, 4)"
   ]
  },
  {
   "cell_type": "markdown",
   "metadata": {},
   "source": [
    "    Сегодня минимальной нормой в России считается высота потолка 2,5 метра. В новостройках обычно это значение находится в пределах 2,5-2,7 метра. "
   ]
  },
  {
   "cell_type": "code",
   "execution_count": 49,
   "metadata": {},
   "outputs": [],
   "source": [
    "data = data.drop(data.query('ceiling_height > 3').index).reset_index(drop=True)\n",
    "data = data.drop(data.query('ceiling_height < 2.5').index).reset_index(drop=True)"
   ]
  },
  {
   "cell_type": "code",
   "execution_count": 50,
   "metadata": {},
   "outputs": [
    {
     "data": {
      "text/plain": [
       "(0.0, 60.0)"
      ]
     },
     "execution_count": 50,
     "metadata": {},
     "output_type": "execute_result"
    },
    {
     "data": {
      "image/png": "[encoded data removed]",
      "text/plain": [
       "<Figure size 432x216 with 1 Axes>"
      ]
     },
     "metadata": {
      "needs_background": "light"
     },
     "output_type": "display_data"
    }
   ],
   "source": [
    "data['floors_total'].plot(kind='box', figsize=(6,3))\n",
    "plt.ylim(0, 60)"
   ]
  },
  {
   "cell_type": "markdown",
   "metadata": {},
   "source": [
    "    Самое высокое жилое здание в Санкт-Петербурге составляет 37 этажей, поэтому выше удалим. "
   ]
  },
  {
   "cell_type": "code",
   "execution_count": 51,
   "metadata": {},
   "outputs": [],
   "source": [
    "data = data.drop(data.query('floors_total > 37').index).reset_index(drop=True)"
   ]
  },
  {
   "cell_type": "code",
   "execution_count": 52,
   "metadata": {},
   "outputs": [
    {
     "data": {
      "text/plain": [
       "(0.0, 450.0)"
      ]
     },
     "execution_count": 52,
     "metadata": {},
     "output_type": "execute_result"
    },
    {
     "data": {
      "image/png": "[encoded data removed]",
      "text/plain": [
       "<Figure size 432x216 with 1 Axes>"
      ]
     },
     "metadata": {
      "needs_background": "light"
     },
     "output_type": "display_data"
    }
   ],
   "source": [
    "data['living_area'].plot(kind='box', figsize=(6,3))\n",
    "plt.ylim(0, 450)"
   ]
  },
  {
   "cell_type": "code",
   "execution_count": 53,
   "metadata": {},
   "outputs": [
    {
     "data": {
      "text/plain": [
       "<AxesSubplot:>"
      ]
     },
     "execution_count": 53,
     "metadata": {},
     "output_type": "execute_result"
    },
    {
     "data": {
      "image/png": "[encoded data removed]",
      "text/plain": [
       "<Figure size 432x288 with 1 Axes>"
      ]
     },
     "metadata": {
      "needs_background": "light"
     },
     "output_type": "display_data"
    }
   ],
   "source": [
    "data['living_area'].hist(bins=30)"
   ]
  },
  {
   "cell_type": "markdown",
   "metadata": {},
   "source": [
    "    Квартиры с очень высокой жилой площадью (более 100 кв. метров) и меньшей (10 кв. метров) удалим, т.к. они являются выбросами. "
   ]
  },
  {
   "cell_type": "code",
   "execution_count": 54,
   "metadata": {},
   "outputs": [],
   "source": [
    "data = data.drop(data.query('living_area > 100').index).reset_index(drop=True)\n",
    "data = data.drop(data.query('living_area < 10').index).reset_index(drop=True)"
   ]
  },
  {
   "cell_type": "code",
   "execution_count": 55,
   "metadata": {},
   "outputs": [
    {
     "data": {
      "text/plain": [
       "(0.0, 50.0)"
      ]
     },
     "execution_count": 55,
     "metadata": {},
     "output_type": "execute_result"
    },
    {
     "data": {
      "image/png": "[encoded data removed]",
      "text/plain": [
       "<Figure size 432x216 with 1 Axes>"
      ]
     },
     "metadata": {
      "needs_background": "light"
     },
     "output_type": "display_data"
    }
   ],
   "source": [
    "data['kitchen_area'].plot(kind='box', figsize=(6,3))\n",
    "plt.ylim(0, 50)"
   ]
  },
  {
   "cell_type": "markdown",
   "metadata": {},
   "source": [
    "    Кухня с 20 кв. метрами - это очень здорово, но все же выходит за наши рамки, можно удалить. "
   ]
  },
  {
   "cell_type": "code",
   "execution_count": 56,
   "metadata": {},
   "outputs": [],
   "source": [
    "data = data.drop(data.query('kitchen_area > 20').index).reset_index(drop=True)"
   ]
  },
  {
   "cell_type": "markdown",
   "metadata": {},
   "source": [
    "    Так же, удалим те строки, где разница между общей площадью, жилой площадью и кухней выходит в \"минус\". "
   ]
  },
  {
   "cell_type": "code",
   "execution_count": 57,
   "metadata": {},
   "outputs": [],
   "source": [
    "data = data.drop(data[(data['total_area'] - data['living_area'] - data['kitchen_area']) < 0].index).reset_index(drop=True)"
   ]
  },
  {
   "cell_type": "markdown",
   "metadata": {},
   "source": [
    "    Так же удалим строку, где расстояние от аэропорта до дома равна 0. "
   ]
  },
  {
   "cell_type": "code",
   "execution_count": 58,
   "metadata": {},
   "outputs": [],
   "source": [
    "data = data.drop(data.query('airports_nearest == 0').index).reset_index(drop=True)"
   ]
  },
  {
   "cell_type": "markdown",
   "metadata": {},
   "source": [
    "    Переведем колонки 'ceiling_height', 'floors_total', 'last_price' и 'balcony' в целочисленный тип (int64), сделаем их более корректными. "
   ]
  },
  {
   "cell_type": "code",
   "execution_count": 59,
   "metadata": {},
   "outputs": [],
   "source": [
    "data.ceiling_height = data.ceiling_height.astype(np.int64)\n",
    "data.last_price = data.last_price.astype(np.int64)\n",
    "data.floors_total = data.floors_total.astype(np.int64)\n",
    "data.balcony = data.balcony.astype(np.int64)"
   ]
  },
  {
   "cell_type": "code",
   "execution_count": 60,
   "metadata": {},
   "outputs": [
    {
     "data": {
      "text/html": [
       "<div>\n",
       "<style scoped>\n",
       "    .dataframe tbody tr th:only-of-type {\n",
       "        vertical-align: middle;\n",
       "    }\n",
       "\n",
       "    .dataframe tbody tr th {\n",
       "        vertical-align: top;\n",
       "    }\n",
       "\n",
       "    .dataframe thead th {\n",
       "        text-align: right;\n",
       "    }\n",
       "</style>\n",
       "<table border=\"1\" class=\"dataframe\">\n",
       "  <thead>\n",
       "    <tr style=\"text-align: right;\">\n",
       "      <th></th>\n",
       "      <th>total_images</th>\n",
       "      <th>last_price</th>\n",
       "      <th>total_area</th>\n",
       "      <th>rooms</th>\n",
       "      <th>ceiling_height</th>\n",
       "      <th>floors_total</th>\n",
       "      <th>living_area</th>\n",
       "      <th>floor</th>\n",
       "      <th>kitchen_area</th>\n",
       "      <th>balcony</th>\n",
       "      <th>airports_nearest</th>\n",
       "      <th>city_centers_nearest</th>\n",
       "      <th>parks_around_3km</th>\n",
       "      <th>parks_nearest</th>\n",
       "      <th>ponds_around_3km</th>\n",
       "      <th>ponds_nearest</th>\n",
       "      <th>days_exposition</th>\n",
       "      <th>settlement_type</th>\n",
       "    </tr>\n",
       "  </thead>\n",
       "  <tbody>\n",
       "    <tr>\n",
       "      <th>count</th>\n",
       "      <td>20887.000000</td>\n",
       "      <td>2.088700e+04</td>\n",
       "      <td>20887.000000</td>\n",
       "      <td>20887.000000</td>\n",
       "      <td>20887.000000</td>\n",
       "      <td>20887.000000</td>\n",
       "      <td>20887.000000</td>\n",
       "      <td>20887.000000</td>\n",
       "      <td>20887.000000</td>\n",
       "      <td>20887.000000</td>\n",
       "      <td>20887.000000</td>\n",
       "      <td>20887.000000</td>\n",
       "      <td>20887.000000</td>\n",
       "      <td>20887.000000</td>\n",
       "      <td>20887.000000</td>\n",
       "      <td>20887.000000</td>\n",
       "      <td>18293.000000</td>\n",
       "      <td>20887.000000</td>\n",
       "    </tr>\n",
       "    <tr>\n",
       "      <th>mean</th>\n",
       "      <td>9.760425</td>\n",
       "      <td>5.287907e+06</td>\n",
       "      <td>54.721745</td>\n",
       "      <td>1.953081</td>\n",
       "      <td>2.045770</td>\n",
       "      <td>10.961411</td>\n",
       "      <td>31.121248</td>\n",
       "      <td>5.988079</td>\n",
       "      <td>9.326104</td>\n",
       "      <td>0.613157</td>\n",
       "      <td>28502.831953</td>\n",
       "      <td>14569.797099</td>\n",
       "      <td>0.411069</td>\n",
       "      <td>469.213195</td>\n",
       "      <td>0.778523</td>\n",
       "      <td>513.669842</td>\n",
       "      <td>174.162193</td>\n",
       "      <td>0.489922</td>\n",
       "    </tr>\n",
       "    <tr>\n",
       "      <th>std</th>\n",
       "      <td>5.586604</td>\n",
       "      <td>4.039406e+06</td>\n",
       "      <td>22.103990</td>\n",
       "      <td>0.921043</td>\n",
       "      <td>0.208991</td>\n",
       "      <td>6.604216</td>\n",
       "      <td>14.195177</td>\n",
       "      <td>4.924577</td>\n",
       "      <td>3.139315</td>\n",
       "      <td>0.962335</td>\n",
       "      <td>11344.662193</td>\n",
       "      <td>7327.031235</td>\n",
       "      <td>0.695141</td>\n",
       "      <td>194.547127</td>\n",
       "      <td>0.783137</td>\n",
       "      <td>166.106295</td>\n",
       "      <td>213.592307</td>\n",
       "      <td>1.086590</td>\n",
       "    </tr>\n",
       "    <tr>\n",
       "      <th>min</th>\n",
       "      <td>0.000000</td>\n",
       "      <td>4.300000e+05</td>\n",
       "      <td>14.000000</td>\n",
       "      <td>0.000000</td>\n",
       "      <td>2.000000</td>\n",
       "      <td>1.000000</td>\n",
       "      <td>10.000000</td>\n",
       "      <td>1.000000</td>\n",
       "      <td>0.000000</td>\n",
       "      <td>0.000000</td>\n",
       "      <td>6450.000000</td>\n",
       "      <td>318.000000</td>\n",
       "      <td>0.000000</td>\n",
       "      <td>1.000000</td>\n",
       "      <td>0.000000</td>\n",
       "      <td>13.000000</td>\n",
       "      <td>1.000000</td>\n",
       "      <td>0.000000</td>\n",
       "    </tr>\n",
       "    <tr>\n",
       "      <th>25%</th>\n",
       "      <td>6.000000</td>\n",
       "      <td>3.342500e+06</td>\n",
       "      <td>39.100000</td>\n",
       "      <td>1.000000</td>\n",
       "      <td>2.000000</td>\n",
       "      <td>5.000000</td>\n",
       "      <td>18.000000</td>\n",
       "      <td>2.000000</td>\n",
       "      <td>7.000000</td>\n",
       "      <td>0.000000</td>\n",
       "      <td>20726.500000</td>\n",
       "      <td>11827.000000</td>\n",
       "      <td>0.000000</td>\n",
       "      <td>455.000000</td>\n",
       "      <td>0.000000</td>\n",
       "      <td>503.000000</td>\n",
       "      <td>44.000000</td>\n",
       "      <td>0.000000</td>\n",
       "    </tr>\n",
       "    <tr>\n",
       "      <th>50%</th>\n",
       "      <td>9.000000</td>\n",
       "      <td>4.440000e+06</td>\n",
       "      <td>50.000000</td>\n",
       "      <td>2.000000</td>\n",
       "      <td>2.000000</td>\n",
       "      <td>9.000000</td>\n",
       "      <td>29.900000</td>\n",
       "      <td>4.000000</td>\n",
       "      <td>9.000000</td>\n",
       "      <td>0.000000</td>\n",
       "      <td>26737.000000</td>\n",
       "      <td>13094.000000</td>\n",
       "      <td>0.000000</td>\n",
       "      <td>455.000000</td>\n",
       "      <td>1.000000</td>\n",
       "      <td>503.000000</td>\n",
       "      <td>92.000000</td>\n",
       "      <td>0.000000</td>\n",
       "    </tr>\n",
       "    <tr>\n",
       "      <th>75%</th>\n",
       "      <td>14.000000</td>\n",
       "      <td>6.050000e+06</td>\n",
       "      <td>64.500000</td>\n",
       "      <td>3.000000</td>\n",
       "      <td>2.000000</td>\n",
       "      <td>16.000000</td>\n",
       "      <td>40.000000</td>\n",
       "      <td>8.000000</td>\n",
       "      <td>11.000000</td>\n",
       "      <td>1.000000</td>\n",
       "      <td>35134.000000</td>\n",
       "      <td>15561.000000</td>\n",
       "      <td>1.000000</td>\n",
       "      <td>455.000000</td>\n",
       "      <td>1.000000</td>\n",
       "      <td>503.000000</td>\n",
       "      <td>219.000000</td>\n",
       "      <td>0.000000</td>\n",
       "    </tr>\n",
       "    <tr>\n",
       "      <th>max</th>\n",
       "      <td>42.000000</td>\n",
       "      <td>1.400000e+08</td>\n",
       "      <td>494.100000</td>\n",
       "      <td>6.000000</td>\n",
       "      <td>3.000000</td>\n",
       "      <td>36.000000</td>\n",
       "      <td>100.000000</td>\n",
       "      <td>33.000000</td>\n",
       "      <td>20.000000</td>\n",
       "      <td>5.000000</td>\n",
       "      <td>84869.000000</td>\n",
       "      <td>65968.000000</td>\n",
       "      <td>3.000000</td>\n",
       "      <td>3190.000000</td>\n",
       "      <td>3.000000</td>\n",
       "      <td>1344.000000</td>\n",
       "      <td>1580.000000</td>\n",
       "      <td>4.000000</td>\n",
       "    </tr>\n",
       "  </tbody>\n",
       "</table>\n",
       "</div>"
      ],
      "text/plain": [
       "       total_images    last_price    total_area         rooms  ceiling_height  \\\n",
       "count  20887.000000  2.088700e+04  20887.000000  20887.000000    20887.000000   \n",
       "mean       9.760425  5.287907e+06     54.721745      1.953081        2.045770   \n",
       "std        5.586604  4.039406e+06     22.103990      0.921043        0.208991   \n",
       "min        0.000000  4.300000e+05     14.000000      0.000000        2.000000   \n",
       "25%        6.000000  3.342500e+06     39.100000      1.000000        2.000000   \n",
       "50%        9.000000  4.440000e+06     50.000000      2.000000        2.000000   \n",
       "75%       14.000000  6.050000e+06     64.500000      3.000000        2.000000   \n",
       "max       42.000000  1.400000e+08    494.100000      6.000000        3.000000   \n",
       "\n",
       "       floors_total   living_area         floor  kitchen_area       balcony  \\\n",
       "count  20887.000000  20887.000000  20887.000000  20887.000000  20887.000000   \n",
       "mean      10.961411     31.121248      5.988079      9.326104      0.613157   \n",
       "std        6.604216     14.195177      4.924577      3.139315      0.962335   \n",
       "min        1.000000     10.000000      1.000000      0.000000      0.000000   \n",
       "25%        5.000000     18.000000      2.000000      7.000000      0.000000   \n",
       "50%        9.000000     29.900000      4.000000      9.000000      0.000000   \n",
       "75%       16.000000     40.000000      8.000000     11.000000      1.000000   \n",
       "max       36.000000    100.000000     33.000000     20.000000      5.000000   \n",
       "\n",
       "       airports_nearest  city_centers_nearest  parks_around_3km  \\\n",
       "count      20887.000000          20887.000000      20887.000000   \n",
       "mean       28502.831953          14569.797099          0.411069   \n",
       "std        11344.662193           7327.031235          0.695141   \n",
       "min         6450.000000            318.000000          0.000000   \n",
       "25%        20726.500000          11827.000000          0.000000   \n",
       "50%        26737.000000          13094.000000          0.000000   \n",
       "75%        35134.000000          15561.000000          1.000000   \n",
       "max        84869.000000          65968.000000          3.000000   \n",
       "\n",
       "       parks_nearest  ponds_around_3km  ponds_nearest  days_exposition  \\\n",
       "count   20887.000000      20887.000000   20887.000000     18293.000000   \n",
       "mean      469.213195          0.778523     513.669842       174.162193   \n",
       "std       194.547127          0.783137     166.106295       213.592307   \n",
       "min         1.000000          0.000000      13.000000         1.000000   \n",
       "25%       455.000000          0.000000     503.000000        44.000000   \n",
       "50%       455.000000          1.000000     503.000000        92.000000   \n",
       "75%       455.000000          1.000000     503.000000       219.000000   \n",
       "max      3190.000000          3.000000    1344.000000      1580.000000   \n",
       "\n",
       "       settlement_type  \n",
       "count     20887.000000  \n",
       "mean          0.489922  \n",
       "std           1.086590  \n",
       "min           0.000000  \n",
       "25%           0.000000  \n",
       "50%           0.000000  \n",
       "75%           0.000000  \n",
       "max           4.000000  "
      ]
     },
     "execution_count": 60,
     "metadata": {},
     "output_type": "execute_result"
    }
   ],
   "source": [
    "data.describe()"
   ]
  },
  {
   "cell_type": "markdown",
   "metadata": {},
   "source": [
    "    Вывод: На данном этапе мы произвели предобработку данных для исследовательского анализа. \n",
    "    \n",
    "    Для удобства работы с данными мы:\n",
    "    \n",
    "    1. Изменили названия столбцов для удобства восприятия информации;\n",
    "    2. Изменили некорректные типы данных;\n",
    "    3. Убрали неявные дубликаты в названии населенных пунктов;\n",
    "    4. Обработали пропуски в данных с помощью медианы и дополнительных фичей;\n",
    "    5. Строки, где были аномальные значения и выбросы, - удалили. \n",
    "    \n",
    "    Данные готовы для дальнейшего исследовательского анализа."
   ]
  },
  {
   "cell_type": "markdown",
   "metadata": {},
   "source": [
    "### Посчитайте и добавьте в таблицу новые столбцы"
   ]
  },
  {
   "cell_type": "markdown",
   "metadata": {},
   "source": [
    "    Добавим новые столбцы в таблицу и приведем их к типу данных, для работы с ними. "
   ]
  },
  {
   "cell_type": "code",
   "execution_count": 61,
   "metadata": {},
   "outputs": [],
   "source": [
    "data['price_square_meter'] = (data['last_price'] / data['total_area']).astype('int')\n",
    "data['weekday_publication'] = data['first_day_exposition'].dt.weekday\n",
    "data['month_publication'] = data['first_day_exposition'].dt.month\n",
    "data['year_publication'] = data['first_day_exposition'].dt.year"
   ]
  },
  {
   "cell_type": "markdown",
   "metadata": {},
   "source": [
    "    Добавим тип этажа в доме"
   ]
  },
  {
   "cell_type": "code",
   "execution_count": 62,
   "metadata": {},
   "outputs": [],
   "source": [
    "def types_floor(row):\n",
    "    if row['floor'] == row['floors_total']:\n",
    "        return 'Последний'\n",
    "    elif row['floor'] == 0 or row['floor'] == 1:\n",
    "        return 'Первый'\n",
    "    return 'Другой'"
   ]
  },
  {
   "cell_type": "code",
   "execution_count": 63,
   "metadata": {},
   "outputs": [],
   "source": [
    "data['type_floor'] = data.apply(types_floor, axis=1)"
   ]
  },
  {
   "cell_type": "markdown",
   "metadata": {},
   "source": [
    "    Посчитаем и добавим в таблицу: расстояние в км до центра города и приведем к нужному типу данных для расстояния. "
   ]
  },
  {
   "cell_type": "code",
   "execution_count": 64,
   "metadata": {},
   "outputs": [],
   "source": [
    "data['city_centers_nearest_km'] = (data['city_centers_nearest'] / 1000).astype('int')"
   ]
  },
  {
   "cell_type": "markdown",
   "metadata": {},
   "source": [
    "### Проведите исследовательский анализ данных"
   ]
  },
  {
   "cell_type": "markdown",
   "metadata": {},
   "source": [
    "    Пройдемся по каждому столбцу и проанализируем."
   ]
  },
  {
   "cell_type": "code",
   "execution_count": 65,
   "metadata": {},
   "outputs": [
    {
     "data": {
      "text/plain": [
       "count    20887.000000\n",
       "mean        54.721745\n",
       "std         22.103990\n",
       "min         14.000000\n",
       "25%         39.100000\n",
       "50%         50.000000\n",
       "75%         64.500000\n",
       "max        494.100000\n",
       "Name: total_area, dtype: float64"
      ]
     },
     "execution_count": 65,
     "metadata": {},
     "output_type": "execute_result"
    },
    {
     "data": {
      "image/png": "[encoded data removed]",
      "text/plain": [
       "<Figure size 288x216 with 1 Axes>"
      ]
     },
     "metadata": {
      "needs_background": "light"
     },
     "output_type": "display_data"
    }
   ],
   "source": [
    "data['total_area'].hist(bins=40, grid=True, range=(0,250), figsize=(4,3))\n",
    "plt.title('Общая площадь квартиры')\n",
    "data['total_area'].describe()"
   ]
  },
  {
   "cell_type": "markdown",
   "metadata": {},
   "source": [
    "    Минимальная площадь квартиры составляет всего 14 кв. метров, хотя стандартный квадратный метраж должен составлят не менее 18 кв. метров на человека (в лучшем случает 33 кв.м.). Большинство квартир в объявлении варьируются от 45 до 50 кв. метров. Далее, с нарастанием общей площади график количество объявлении начинает уменьшаться. Нельзя говорить о том, что это выброс, ведь проанализировав различные сайты с рынком недвижимости, можно действительно встретить квартиры, превышающие 100 кв. метров."
   ]
  },
  {
   "cell_type": "code",
   "execution_count": 66,
   "metadata": {},
   "outputs": [
    {
     "data": {
      "text/plain": [
       "count    20887.000000\n",
       "mean        31.121248\n",
       "std         14.195177\n",
       "min         10.000000\n",
       "25%         18.000000\n",
       "50%         29.900000\n",
       "75%         40.000000\n",
       "max        100.000000\n",
       "Name: living_area, dtype: float64"
      ]
     },
     "execution_count": 66,
     "metadata": {},
     "output_type": "execute_result"
    },
    {
     "data": {
      "image/png": "[encoded data removed]",
      "text/plain": [
       "<Figure size 288x216 with 1 Axes>"
      ]
     },
     "metadata": {
      "needs_background": "light"
     },
     "output_type": "display_data"
    }
   ],
   "source": [
    "data['living_area'].hist(bins=30, grid=True, range=(0,100), figsize=(4,3))\n",
    "plt.title('Жилая площадь квартиры')\n",
    "data['living_area'].describe()"
   ]
  },
  {
   "cell_type": "markdown",
   "metadata": {},
   "source": [
    "    На данном графике наблюдается, что большинство квартир с жилой площадью составляет 17 - 20 кв.метров, что составляет около 4600 объявлений, на втором месте около 30 кв.метров составляют 3100 объявлений. После 45 кв.м. с увеличением количества жилой площади, количество объявлении начинает уменьшаться в связи с тем, что \"больших\" квартир у нас меньше, чем квартир поменьше."
   ]
  },
  {
   "cell_type": "code",
   "execution_count": 67,
   "metadata": {},
   "outputs": [
    {
     "data": {
      "text/plain": [
       "count    20887.000000\n",
       "mean         9.326104\n",
       "std          3.139315\n",
       "min          0.000000\n",
       "25%          7.000000\n",
       "50%          9.000000\n",
       "75%         11.000000\n",
       "max         20.000000\n",
       "Name: kitchen_area, dtype: float64"
      ]
     },
     "execution_count": 67,
     "metadata": {},
     "output_type": "execute_result"
    },
    {
     "data": {
      "image/png": "[encoded data removed]",
      "text/plain": [
       "<Figure size 288x216 with 1 Axes>"
      ]
     },
     "metadata": {
      "needs_background": "light"
     },
     "output_type": "display_data"
    }
   ],
   "source": [
    "data['kitchen_area'].hist(bins=30, grid=True, range=(0,25), figsize=(4,3))\n",
    "plt.title('Площадь кухни')\n",
    "data['kitchen_area'].describe()"
   ]
  },
  {
   "cell_type": "markdown",
   "metadata": {},
   "source": [
    "    Самая минимальная площадь кухни составляет 0 кв.м. Это связано с тем, что данные квартиры являются студиями. На графике можно увидеть, что большинство объявлении с кухней около 8-10 кв.метров., что в пределах разумного. "
   ]
  },
  {
   "cell_type": "code",
   "execution_count": 68,
   "metadata": {},
   "outputs": [
    {
     "data": {
      "text/plain": [
       "count    2.088700e+04\n",
       "mean     5.287907e+06\n",
       "std      4.039406e+06\n",
       "min      4.300000e+05\n",
       "25%      3.342500e+06\n",
       "50%      4.440000e+06\n",
       "75%      6.050000e+06\n",
       "max      1.400000e+08\n",
       "Name: last_price, dtype: float64"
      ]
     },
     "execution_count": 68,
     "metadata": {},
     "output_type": "execute_result"
    },
    {
     "data": {
      "image/png": "[encoded data removed]",
      "text/plain": [
       "<Figure size 288x216 with 1 Axes>"
      ]
     },
     "metadata": {
      "needs_background": "light"
     },
     "output_type": "display_data"
    }
   ],
   "source": [
    "data['last_price'].hist(bins=50, grid=True, range=(0,9000000), figsize=(4,3))\n",
    "plt.title('Цена квартиры')\n",
    "data['last_price'].describe()"
   ]
  },
  {
   "cell_type": "markdown",
   "metadata": {},
   "source": [
    "    Больше всего квартир с ценниками от 3.8 до 4.5 млн. рублей. Пик объявлении находится на позиции около 3.8 млн. рублей, минимальная стоимость составляет 430 тыс. руб. "
   ]
  },
  {
   "cell_type": "code",
   "execution_count": 69,
   "metadata": {},
   "outputs": [
    {
     "data": {
      "text/plain": [
       "count    20887.000000\n",
       "mean         1.953081\n",
       "std          0.921043\n",
       "min          0.000000\n",
       "25%          1.000000\n",
       "50%          2.000000\n",
       "75%          3.000000\n",
       "max          6.000000\n",
       "Name: rooms, dtype: float64"
      ]
     },
     "execution_count": 69,
     "metadata": {},
     "output_type": "execute_result"
    },
    {
     "data": {
      "image/png": "[encoded data removed]",
      "text/plain": [
       "<Figure size 288x216 with 1 Axes>"
      ]
     },
     "metadata": {
      "needs_background": "light"
     },
     "output_type": "display_data"
    }
   ],
   "source": [
    "data['rooms'].hist(bins=30, grid=True, range=(0,6), figsize=(4,3))\n",
    "plt.title('Количество комнат')\n",
    "data['rooms'].describe()"
   ]
  },
  {
   "cell_type": "markdown",
   "metadata": {},
   "source": [
    "    Максимальное количество объявлении с 1, 2 и 3 комнатами. Минимальное количество объявлении со студиями, 4, 5 и 6 комнатами."
   ]
  },
  {
   "cell_type": "code",
   "execution_count": 70,
   "metadata": {},
   "outputs": [
    {
     "data": {
      "text/plain": [
       "count    20887.000000\n",
       "mean         2.045770\n",
       "std          0.208991\n",
       "min          2.000000\n",
       "25%          2.000000\n",
       "50%          2.000000\n",
       "75%          2.000000\n",
       "max          3.000000\n",
       "Name: ceiling_height, dtype: float64"
      ]
     },
     "execution_count": 70,
     "metadata": {},
     "output_type": "execute_result"
    },
    {
     "data": {
      "image/png": "[encoded data removed]",
      "text/plain": [
       "<Figure size 288x216 with 1 Axes>"
      ]
     },
     "metadata": {
      "needs_background": "light"
     },
     "output_type": "display_data"
    }
   ],
   "source": [
    "data['ceiling_height'].hist(bins=30, grid=True, range=(2.5,3), figsize=(4,3))\n",
    "plt.title('Высота балконов')\n",
    "data['ceiling_height'].describe()"
   ]
  },
  {
   "cell_type": "markdown",
   "metadata": {},
   "source": [
    "    Большинство объявлении, где потолки около 2.5 метров. Вспоминая пропущенные значения, в данной колонке было их 9195. Если их не засчитывать, то 2.5 метров все равно будет большинство. Но в любом случае, высота потолков у нас \"в пределах разумного\" и по нормам СНиП. \n",
    "    \n",
    "    Стоит внимательно отнестись к данному пункту, считаю правильным добавить в Я.Недвижимость серию дома, т.к. в открытом доступе есть документы, где записаны параметры домов."
   ]
  },
  {
   "cell_type": "code",
   "execution_count": 71,
   "metadata": {},
   "outputs": [
    {
     "data": {
      "text/plain": [
       "count    20887.000000\n",
       "mean         5.988079\n",
       "std          4.924577\n",
       "min          1.000000\n",
       "25%          2.000000\n",
       "50%          4.000000\n",
       "75%          8.000000\n",
       "max         33.000000\n",
       "Name: floor, dtype: float64"
      ]
     },
     "execution_count": 71,
     "metadata": {},
     "output_type": "execute_result"
    },
    {
     "data": {
      "image/png": "[encoded data removed]",
      "text/plain": [
       "<Figure size 288x216 with 1 Axes>"
      ]
     },
     "metadata": {
      "needs_background": "light"
     },
     "output_type": "display_data"
    }
   ],
   "source": [
    "data['floor'].hist(bins=50, grid=True, range=(1,40), figsize=(4,3))\n",
    "plt.title('Этаж квартиры')\n",
    "data['floor'].describe()"
   ]
  },
  {
   "cell_type": "markdown",
   "metadata": {},
   "source": [
    "    Большинство квартир в объявлении находится с 1 по 5 этаж, после 5 этажа становится все меньше. "
   ]
  },
  {
   "cell_type": "code",
   "execution_count": 72,
   "metadata": {},
   "outputs": [
    {
     "data": {
      "text/plain": [
       "count      20887\n",
       "unique         3\n",
       "top       Другой\n",
       "freq       15428\n",
       "Name: type_floor, dtype: object"
      ]
     },
     "execution_count": 72,
     "metadata": {},
     "output_type": "execute_result"
    },
    {
     "data": {
      "image/png": "[encoded data removed]",
      "text/plain": [
       "<Figure size 288x216 with 1 Axes>"
      ]
     },
     "metadata": {
      "needs_background": "light"
     },
     "output_type": "display_data"
    }
   ],
   "source": [
    "data['type_floor'].hist(bins=10, grid=True, range=(0,3), figsize=(4,3))\n",
    "plt.title('Тип этажа')\n",
    "data['type_floor'].describe()"
   ]
  },
  {
   "cell_type": "markdown",
   "metadata": {},
   "source": [
    "    Меньше всего объявлении приходится, где расположение квартир находится на первом и последнем. "
   ]
  },
  {
   "cell_type": "code",
   "execution_count": 73,
   "metadata": {},
   "outputs": [
    {
     "data": {
      "text/plain": [
       "count    20887.000000\n",
       "mean        10.961411\n",
       "std          6.604216\n",
       "min          1.000000\n",
       "25%          5.000000\n",
       "50%          9.000000\n",
       "75%         16.000000\n",
       "max         36.000000\n",
       "Name: floors_total, dtype: float64"
      ]
     },
     "execution_count": 73,
     "metadata": {},
     "output_type": "execute_result"
    },
    {
     "data": {
      "image/png": "[encoded data removed]",
      "text/plain": [
       "<Figure size 288x216 with 1 Axes>"
      ]
     },
     "metadata": {
      "needs_background": "light"
     },
     "output_type": "display_data"
    }
   ],
   "source": [
    "data['floors_total'].hist(bins=50, grid=True, range=(0,33), figsize=(4,3))\n",
    "plt.title('Количество этажей в доме')\n",
    "data['floors_total'].describe()"
   ]
  },
  {
   "cell_type": "markdown",
   "metadata": {},
   "source": [
    "    Большинство объявлении, где общая этажность дома составляет 5 и 9 этажей. Минимальная этажность дома составляет 1 этаж, а максимальная - 36 этажей."
   ]
  },
  {
   "cell_type": "code",
   "execution_count": 74,
   "metadata": {},
   "outputs": [
    {
     "data": {
      "text/plain": [
       "count    20887.000000\n",
       "mean     14569.797099\n",
       "std       7327.031235\n",
       "min        318.000000\n",
       "25%      11827.000000\n",
       "50%      13094.000000\n",
       "75%      15561.000000\n",
       "max      65968.000000\n",
       "Name: city_centers_nearest, dtype: float64"
      ]
     },
     "execution_count": 74,
     "metadata": {},
     "output_type": "execute_result"
    },
    {
     "data": {
      "image/png": "[encoded data removed]",
      "text/plain": [
       "<Figure size 288x216 with 1 Axes>"
      ]
     },
     "metadata": {
      "needs_background": "light"
     },
     "output_type": "display_data"
    }
   ],
   "source": [
    "data['city_centers_nearest'].hist(bins=30, grid=True, range=(0,66000), figsize=(4,3))\n",
    "plt.title('Расстояние до центра города')\n",
    "data['city_centers_nearest'].describe()"
   ]
  },
  {
   "cell_type": "markdown",
   "metadata": {},
   "source": [
    "    Расстояние до центра города составляет от 318 метров до 65 км. Большинство квартир в объявлении находятся в 10 км от центра города. Примерно на таком расстоянии расположены спальные районы. "
   ]
  },
  {
   "cell_type": "code",
   "execution_count": 75,
   "metadata": {},
   "outputs": [
    {
     "data": {
      "text/plain": [
       "count    20887.000000\n",
       "mean     28502.831953\n",
       "std      11344.662193\n",
       "min       6450.000000\n",
       "25%      20726.500000\n",
       "50%      26737.000000\n",
       "75%      35134.000000\n",
       "max      84869.000000\n",
       "Name: airports_nearest, dtype: float64"
      ]
     },
     "execution_count": 75,
     "metadata": {},
     "output_type": "execute_result"
    },
    {
     "data": {
      "image/png": "[encoded data removed]",
      "text/plain": [
       "<Figure size 288x216 with 1 Axes>"
      ]
     },
     "metadata": {
      "needs_background": "light"
     },
     "output_type": "display_data"
    }
   ],
   "source": [
    "data['airports_nearest'].hist(bins=30, grid=True, range=(0,84000), figsize=(4,3))\n",
    "plt.title('Расстояние до аэропорта')\n",
    "data['airports_nearest'].describe()"
   ]
  },
  {
   "cell_type": "markdown",
   "metadata": {},
   "source": [
    "    Больше всего квартир находятся примерно в 26 км. от аэропорта."
   ]
  },
  {
   "cell_type": "code",
   "execution_count": 76,
   "metadata": {},
   "outputs": [
    {
     "data": {
      "text/plain": [
       "count    20887.000000\n",
       "mean       469.213195\n",
       "std        194.547127\n",
       "min          1.000000\n",
       "25%        455.000000\n",
       "50%        455.000000\n",
       "75%        455.000000\n",
       "max       3190.000000\n",
       "Name: parks_nearest, dtype: float64"
      ]
     },
     "execution_count": 76,
     "metadata": {},
     "output_type": "execute_result"
    },
    {
     "data": {
      "image/png": "[encoded data removed]",
      "text/plain": [
       "<Figure size 288x216 with 1 Axes>"
      ]
     },
     "metadata": {
      "needs_background": "light"
     },
     "output_type": "display_data"
    }
   ],
   "source": [
    "data['parks_nearest'].hist(bins=10, grid=True, range=(0,3200), figsize=(4,3))\n",
    "plt.title('Расстояние до парка')\n",
    "data['parks_nearest'].describe()"
   ]
  },
  {
   "cell_type": "markdown",
   "metadata": {},
   "source": [
    "    Большая часть квартир расположена в 500 метрах от парка, что очень даже хорошо. "
   ]
  },
  {
   "cell_type": "code",
   "execution_count": 77,
   "metadata": {},
   "outputs": [
    {
     "data": {
      "text/plain": [
       "Text(0.5, 1.0, 'Тип населенного пункта')"
      ]
     },
     "execution_count": 77,
     "metadata": {},
     "output_type": "execute_result"
    },
    {
     "data": {
      "image/png": "[encoded data removed]",
      "text/plain": [
       "<Figure size 288x216 with 1 Axes>"
      ]
     },
     "metadata": {
      "needs_background": "light"
     },
     "output_type": "display_data"
    }
   ],
   "source": [
    "data['settlement_type'].hist(bins=10, grid=True, range=(0,4), figsize=(4,3))\n",
    "plt.title('Тип населенного пункта')"
   ]
  },
  {
   "cell_type": "markdown",
   "metadata": {},
   "source": [
    "    Большинство квартир в объявлении находятся в Санкт-Петербурге, меньше всего в селах."
   ]
  },
  {
   "cell_type": "code",
   "execution_count": 78,
   "metadata": {},
   "outputs": [
    {
     "data": {
      "text/plain": [
       "count    20887.000000\n",
       "mean         2.581845\n",
       "std          1.793140\n",
       "min          0.000000\n",
       "25%          1.000000\n",
       "50%          3.000000\n",
       "75%          4.000000\n",
       "max          6.000000\n",
       "Name: weekday_publication, dtype: float64"
      ]
     },
     "execution_count": 78,
     "metadata": {},
     "output_type": "execute_result"
    },
    {
     "data": {
      "image/png": "[encoded data removed]",
      "text/plain": [
       "<Figure size 288x216 with 1 Axes>"
      ]
     },
     "metadata": {
      "needs_background": "light"
     },
     "output_type": "display_data"
    }
   ],
   "source": [
    "data['weekday_publication'].hist(bins=50, grid=True, range=(0,6), figsize=(4,3))\n",
    "plt.title('День публикации')\n",
    "data['weekday_publication'].describe()"
   ]
  },
  {
   "cell_type": "markdown",
   "metadata": {},
   "source": [
    "    Больше всего объявлении выставлялись с понедельника по пятницу, то есть в будние дни."
   ]
  },
  {
   "cell_type": "code",
   "execution_count": 79,
   "metadata": {},
   "outputs": [
    {
     "data": {
      "text/plain": [
       "count    20887.000000\n",
       "mean         6.409872\n",
       "std          3.491595\n",
       "min          1.000000\n",
       "25%          3.000000\n",
       "50%          6.000000\n",
       "75%         10.000000\n",
       "max         12.000000\n",
       "Name: month_publication, dtype: float64"
      ]
     },
     "execution_count": 79,
     "metadata": {},
     "output_type": "execute_result"
    },
    {
     "data": {
      "image/png": "[encoded data removed]",
      "text/plain": [
       "<Figure size 288x216 with 1 Axes>"
      ]
     },
     "metadata": {
      "needs_background": "light"
     },
     "output_type": "display_data"
    }
   ],
   "source": [
    "data['month_publication'].hist(bins=30, grid=True, range=(1,12), figsize=(4,3))\n",
    "plt.title('Месяц публикации')\n",
    "data['month_publication'].describe()"
   ]
  },
  {
   "cell_type": "markdown",
   "metadata": {},
   "source": [
    "    Максимальное количество объявлении наблюдается в феврале и в марте, меньше всего в мае. "
   ]
  },
  {
   "cell_type": "markdown",
   "metadata": {},
   "source": [
    "    Далее, посмотрим как быстро продавались квартиры. Для начала возьмем те значения, где нет пропусков."
   ]
  },
  {
   "cell_type": "code",
   "execution_count": 80,
   "metadata": {},
   "outputs": [],
   "source": [
    "selected_rows_days_exposition = data[~data['days_exposition'].isnull()]"
   ]
  },
  {
   "cell_type": "code",
   "execution_count": 81,
   "metadata": {},
   "outputs": [
    {
     "data": {
      "text/plain": [
       "count    18293.000000\n",
       "mean       174.162193\n",
       "std        213.592307\n",
       "min          1.000000\n",
       "25%         44.000000\n",
       "50%         92.000000\n",
       "75%        219.000000\n",
       "max       1580.000000\n",
       "Name: days_exposition, dtype: float64"
      ]
     },
     "execution_count": 81,
     "metadata": {},
     "output_type": "execute_result"
    },
    {
     "data": {
      "image/png": "[encoded data removed]",
      "text/plain": [
       "<Figure size 288x216 with 1 Axes>"
      ]
     },
     "metadata": {
      "needs_background": "light"
     },
     "output_type": "display_data"
    }
   ],
   "source": [
    "selected_rows_days_exposition['days_exposition'].hist(bins=100, grid=True, range=(1,300), figsize=(4,3))\n",
    "plt.title('Количество дней публикации')\n",
    "selected_rows_days_exposition['days_exposition'].describe()"
   ]
  },
  {
   "cell_type": "markdown",
   "metadata": {},
   "source": [
    "    Среднее количество дней до снятия публикации составляет 174 дня, а медианное значение составило 92. Большее количество объявлении, снятых с публикации составляет 45 дней, долгая продажа длится от 220 дней. \n",
    "    \n",
    "    Можно посмотреть, какие квартиры были наиболее продаваемые. "
   ]
  },
  {
   "cell_type": "code",
   "execution_count": 82,
   "metadata": {},
   "outputs": [
    {
     "data": {
      "text/html": [
       "<div>\n",
       "<style scoped>\n",
       "    .dataframe tbody tr th:only-of-type {\n",
       "        vertical-align: middle;\n",
       "    }\n",
       "\n",
       "    .dataframe tbody tr th {\n",
       "        vertical-align: top;\n",
       "    }\n",
       "\n",
       "    .dataframe thead th {\n",
       "        text-align: right;\n",
       "    }\n",
       "</style>\n",
       "<table border=\"1\" class=\"dataframe\">\n",
       "  <thead>\n",
       "    <tr style=\"text-align: right;\">\n",
       "      <th></th>\n",
       "      <th>total_images</th>\n",
       "      <th>last_price</th>\n",
       "      <th>total_area</th>\n",
       "      <th>rooms</th>\n",
       "      <th>ceiling_height</th>\n",
       "      <th>floors_total</th>\n",
       "      <th>living_area</th>\n",
       "      <th>floor</th>\n",
       "      <th>kitchen_area</th>\n",
       "      <th>balcony</th>\n",
       "      <th>...</th>\n",
       "      <th>parks_nearest</th>\n",
       "      <th>ponds_around_3km</th>\n",
       "      <th>ponds_nearest</th>\n",
       "      <th>days_exposition</th>\n",
       "      <th>settlement_type</th>\n",
       "      <th>price_square_meter</th>\n",
       "      <th>weekday_publication</th>\n",
       "      <th>month_publication</th>\n",
       "      <th>year_publication</th>\n",
       "      <th>city_centers_nearest_km</th>\n",
       "    </tr>\n",
       "  </thead>\n",
       "  <tbody>\n",
       "    <tr>\n",
       "      <th>count</th>\n",
       "      <td>4676.000000</td>\n",
       "      <td>4.676000e+03</td>\n",
       "      <td>4676.000000</td>\n",
       "      <td>4676.000000</td>\n",
       "      <td>4676.000000</td>\n",
       "      <td>4676.000000</td>\n",
       "      <td>4676.000000</td>\n",
       "      <td>4676.000000</td>\n",
       "      <td>4676.000000</td>\n",
       "      <td>4676.000000</td>\n",
       "      <td>...</td>\n",
       "      <td>4676.000000</td>\n",
       "      <td>4676.000000</td>\n",
       "      <td>4676.000000</td>\n",
       "      <td>4676.000000</td>\n",
       "      <td>4676.000000</td>\n",
       "      <td>4676.000000</td>\n",
       "      <td>4676.000000</td>\n",
       "      <td>4676.000000</td>\n",
       "      <td>4676.000000</td>\n",
       "      <td>4676.000000</td>\n",
       "    </tr>\n",
       "    <tr>\n",
       "      <th>mean</th>\n",
       "      <td>9.523524</td>\n",
       "      <td>4.927940e+06</td>\n",
       "      <td>50.836223</td>\n",
       "      <td>1.807742</td>\n",
       "      <td>2.033148</td>\n",
       "      <td>11.441617</td>\n",
       "      <td>28.742185</td>\n",
       "      <td>6.254491</td>\n",
       "      <td>8.997102</td>\n",
       "      <td>0.639435</td>\n",
       "      <td>...</td>\n",
       "      <td>464.626176</td>\n",
       "      <td>0.729897</td>\n",
       "      <td>520.359923</td>\n",
       "      <td>21.625749</td>\n",
       "      <td>0.421086</td>\n",
       "      <td>96292.259624</td>\n",
       "      <td>2.622968</td>\n",
       "      <td>6.845595</td>\n",
       "      <td>2017.737596</td>\n",
       "      <td>14.180282</td>\n",
       "    </tr>\n",
       "    <tr>\n",
       "      <th>std</th>\n",
       "      <td>5.718764</td>\n",
       "      <td>3.238961e+06</td>\n",
       "      <td>20.356894</td>\n",
       "      <td>0.879494</td>\n",
       "      <td>0.179042</td>\n",
       "      <td>6.479306</td>\n",
       "      <td>12.710571</td>\n",
       "      <td>4.874448</td>\n",
       "      <td>3.074325</td>\n",
       "      <td>0.943776</td>\n",
       "      <td>...</td>\n",
       "      <td>176.420321</td>\n",
       "      <td>0.775267</td>\n",
       "      <td>165.581362</td>\n",
       "      <td>12.271554</td>\n",
       "      <td>1.007340</td>\n",
       "      <td>33073.930517</td>\n",
       "      <td>1.787556</td>\n",
       "      <td>3.550899</td>\n",
       "      <td>0.741300</td>\n",
       "      <td>7.097051</td>\n",
       "    </tr>\n",
       "    <tr>\n",
       "      <th>min</th>\n",
       "      <td>0.000000</td>\n",
       "      <td>4.300000e+05</td>\n",
       "      <td>14.000000</td>\n",
       "      <td>0.000000</td>\n",
       "      <td>2.000000</td>\n",
       "      <td>1.000000</td>\n",
       "      <td>10.000000</td>\n",
       "      <td>1.000000</td>\n",
       "      <td>0.000000</td>\n",
       "      <td>0.000000</td>\n",
       "      <td>...</td>\n",
       "      <td>1.000000</td>\n",
       "      <td>0.000000</td>\n",
       "      <td>25.000000</td>\n",
       "      <td>1.000000</td>\n",
       "      <td>0.000000</td>\n",
       "      <td>7962.000000</td>\n",
       "      <td>0.000000</td>\n",
       "      <td>1.000000</td>\n",
       "      <td>2016.000000</td>\n",
       "      <td>0.000000</td>\n",
       "    </tr>\n",
       "    <tr>\n",
       "      <th>25%</th>\n",
       "      <td>5.000000</td>\n",
       "      <td>3.350000e+06</td>\n",
       "      <td>37.000000</td>\n",
       "      <td>1.000000</td>\n",
       "      <td>2.000000</td>\n",
       "      <td>5.000000</td>\n",
       "      <td>18.000000</td>\n",
       "      <td>3.000000</td>\n",
       "      <td>7.000000</td>\n",
       "      <td>0.000000</td>\n",
       "      <td>...</td>\n",
       "      <td>455.000000</td>\n",
       "      <td>0.000000</td>\n",
       "      <td>503.000000</td>\n",
       "      <td>11.000000</td>\n",
       "      <td>0.000000</td>\n",
       "      <td>79241.250000</td>\n",
       "      <td>1.000000</td>\n",
       "      <td>3.000000</td>\n",
       "      <td>2017.000000</td>\n",
       "      <td>11.000000</td>\n",
       "    </tr>\n",
       "    <tr>\n",
       "      <th>50%</th>\n",
       "      <td>9.000000</td>\n",
       "      <td>4.250000e+06</td>\n",
       "      <td>45.600000</td>\n",
       "      <td>2.000000</td>\n",
       "      <td>2.000000</td>\n",
       "      <td>9.000000</td>\n",
       "      <td>28.000000</td>\n",
       "      <td>5.000000</td>\n",
       "      <td>8.800000</td>\n",
       "      <td>0.000000</td>\n",
       "      <td>...</td>\n",
       "      <td>455.000000</td>\n",
       "      <td>1.000000</td>\n",
       "      <td>503.000000</td>\n",
       "      <td>21.000000</td>\n",
       "      <td>0.000000</td>\n",
       "      <td>95097.500000</td>\n",
       "      <td>3.000000</td>\n",
       "      <td>8.000000</td>\n",
       "      <td>2018.000000</td>\n",
       "      <td>13.000000</td>\n",
       "    </tr>\n",
       "    <tr>\n",
       "      <th>75%</th>\n",
       "      <td>14.000000</td>\n",
       "      <td>5.672500e+06</td>\n",
       "      <td>60.000000</td>\n",
       "      <td>2.000000</td>\n",
       "      <td>2.000000</td>\n",
       "      <td>16.000000</td>\n",
       "      <td>35.900000</td>\n",
       "      <td>9.000000</td>\n",
       "      <td>10.600000</td>\n",
       "      <td>1.000000</td>\n",
       "      <td>...</td>\n",
       "      <td>455.000000</td>\n",
       "      <td>1.000000</td>\n",
       "      <td>503.000000</td>\n",
       "      <td>32.000000</td>\n",
       "      <td>0.000000</td>\n",
       "      <td>110948.250000</td>\n",
       "      <td>4.000000</td>\n",
       "      <td>10.000000</td>\n",
       "      <td>2018.000000</td>\n",
       "      <td>15.000000</td>\n",
       "    </tr>\n",
       "    <tr>\n",
       "      <th>max</th>\n",
       "      <td>35.000000</td>\n",
       "      <td>6.500000e+07</td>\n",
       "      <td>494.100000</td>\n",
       "      <td>6.000000</td>\n",
       "      <td>3.000000</td>\n",
       "      <td>36.000000</td>\n",
       "      <td>95.000000</td>\n",
       "      <td>33.000000</td>\n",
       "      <td>20.000000</td>\n",
       "      <td>5.000000</td>\n",
       "      <td>...</td>\n",
       "      <td>3064.000000</td>\n",
       "      <td>3.000000</td>\n",
       "      <td>1299.000000</td>\n",
       "      <td>44.000000</td>\n",
       "      <td>4.000000</td>\n",
       "      <td>640422.000000</td>\n",
       "      <td>6.000000</td>\n",
       "      <td>12.000000</td>\n",
       "      <td>2019.000000</td>\n",
       "      <td>62.000000</td>\n",
       "    </tr>\n",
       "  </tbody>\n",
       "</table>\n",
       "<p>8 rows × 23 columns</p>\n",
       "</div>"
      ],
      "text/plain": [
       "       total_images    last_price   total_area        rooms  ceiling_height  \\\n",
       "count   4676.000000  4.676000e+03  4676.000000  4676.000000     4676.000000   \n",
       "mean       9.523524  4.927940e+06    50.836223     1.807742        2.033148   \n",
       "std        5.718764  3.238961e+06    20.356894     0.879494        0.179042   \n",
       "min        0.000000  4.300000e+05    14.000000     0.000000        2.000000   \n",
       "25%        5.000000  3.350000e+06    37.000000     1.000000        2.000000   \n",
       "50%        9.000000  4.250000e+06    45.600000     2.000000        2.000000   \n",
       "75%       14.000000  5.672500e+06    60.000000     2.000000        2.000000   \n",
       "max       35.000000  6.500000e+07   494.100000     6.000000        3.000000   \n",
       "\n",
       "       floors_total  living_area        floor  kitchen_area      balcony  ...  \\\n",
       "count   4676.000000  4676.000000  4676.000000   4676.000000  4676.000000  ...   \n",
       "mean      11.441617    28.742185     6.254491      8.997102     0.639435  ...   \n",
       "std        6.479306    12.710571     4.874448      3.074325     0.943776  ...   \n",
       "min        1.000000    10.000000     1.000000      0.000000     0.000000  ...   \n",
       "25%        5.000000    18.000000     3.000000      7.000000     0.000000  ...   \n",
       "50%        9.000000    28.000000     5.000000      8.800000     0.000000  ...   \n",
       "75%       16.000000    35.900000     9.000000     10.600000     1.000000  ...   \n",
       "max       36.000000    95.000000    33.000000     20.000000     5.000000  ...   \n",
       "\n",
       "       parks_nearest  ponds_around_3km  ponds_nearest  days_exposition  \\\n",
       "count    4676.000000       4676.000000    4676.000000      4676.000000   \n",
       "mean      464.626176          0.729897     520.359923        21.625749   \n",
       "std       176.420321          0.775267     165.581362        12.271554   \n",
       "min         1.000000          0.000000      25.000000         1.000000   \n",
       "25%       455.000000          0.000000     503.000000        11.000000   \n",
       "50%       455.000000          1.000000     503.000000        21.000000   \n",
       "75%       455.000000          1.000000     503.000000        32.000000   \n",
       "max      3064.000000          3.000000    1299.000000        44.000000   \n",
       "\n",
       "       settlement_type  price_square_meter  weekday_publication  \\\n",
       "count      4676.000000         4676.000000          4676.000000   \n",
       "mean          0.421086        96292.259624             2.622968   \n",
       "std           1.007340        33073.930517             1.787556   \n",
       "min           0.000000         7962.000000             0.000000   \n",
       "25%           0.000000        79241.250000             1.000000   \n",
       "50%           0.000000        95097.500000             3.000000   \n",
       "75%           0.000000       110948.250000             4.000000   \n",
       "max           4.000000       640422.000000             6.000000   \n",
       "\n",
       "       month_publication  year_publication  city_centers_nearest_km  \n",
       "count        4676.000000       4676.000000              4676.000000  \n",
       "mean            6.845595       2017.737596                14.180282  \n",
       "std             3.550899          0.741300                 7.097051  \n",
       "min             1.000000       2016.000000                 0.000000  \n",
       "25%             3.000000       2017.000000                11.000000  \n",
       "50%             8.000000       2018.000000                13.000000  \n",
       "75%            10.000000       2018.000000                15.000000  \n",
       "max            12.000000       2019.000000                62.000000  \n",
       "\n",
       "[8 rows x 23 columns]"
      ]
     },
     "execution_count": 82,
     "metadata": {},
     "output_type": "execute_result"
    }
   ],
   "source": [
    "selected_rows_days_exposition[selected_rows_days_exposition['days_exposition'] <= 45].describe()"
   ]
  },
  {
   "cell_type": "markdown",
   "metadata": {},
   "source": [
    "    По данной статистике можно увидеть, что средняя цена квартиры для \"быстрой продажи\" является в среднем около 5 млн.руб со средней общей площадью около 50 кв.м. и рядом с парком. \n",
    "    \n",
    "    Теперь рассмотрим в каком населенном пункте больше всего продавалось квартир."
   ]
  },
  {
   "cell_type": "code",
   "execution_count": 83,
   "metadata": {},
   "outputs": [
    {
     "data": {
      "text/html": [
       "<div>\n",
       "<style scoped>\n",
       "    .dataframe tbody tr th:only-of-type {\n",
       "        vertical-align: middle;\n",
       "    }\n",
       "\n",
       "    .dataframe tbody tr th {\n",
       "        vertical-align: top;\n",
       "    }\n",
       "\n",
       "    .dataframe thead th {\n",
       "        text-align: right;\n",
       "    }\n",
       "</style>\n",
       "<table border=\"1\" class=\"dataframe\">\n",
       "  <thead>\n",
       "    <tr style=\"text-align: right;\">\n",
       "      <th></th>\n",
       "      <th>days_exposition</th>\n",
       "    </tr>\n",
       "    <tr>\n",
       "      <th>settlement_type</th>\n",
       "      <th></th>\n",
       "    </tr>\n",
       "  </thead>\n",
       "  <tbody>\n",
       "    <tr>\n",
       "      <th>0</th>\n",
       "      <td>3855</td>\n",
       "    </tr>\n",
       "    <tr>\n",
       "      <th>1</th>\n",
       "      <td>259</td>\n",
       "    </tr>\n",
       "    <tr>\n",
       "      <th>2</th>\n",
       "      <td>44</td>\n",
       "    </tr>\n",
       "    <tr>\n",
       "      <th>3</th>\n",
       "      <td>450</td>\n",
       "    </tr>\n",
       "    <tr>\n",
       "      <th>4</th>\n",
       "      <td>68</td>\n",
       "    </tr>\n",
       "  </tbody>\n",
       "</table>\n",
       "</div>"
      ],
      "text/plain": [
       "                 days_exposition\n",
       "settlement_type                 \n",
       "0                           3855\n",
       "1                            259\n",
       "2                             44\n",
       "3                            450\n",
       "4                             68"
      ]
     },
     "execution_count": 83,
     "metadata": {},
     "output_type": "execute_result"
    }
   ],
   "source": [
    "selected_rows_days_exposition[selected_rows_days_exposition['days_exposition'] <= 45].pivot_table(index='settlement_type', values='days_exposition', aggfunc='count')"
   ]
  },
  {
   "cell_type": "markdown",
   "metadata": {},
   "source": [
    "    Довольно-таки, очевидно, что в самом Санкт-Петербурге. "
   ]
  },
  {
   "cell_type": "markdown",
   "metadata": {},
   "source": [
    "    Далее рассмотрим, какие факторы больше всего влияют на общую (полную) стоимость объекта."
   ]
  },
  {
   "cell_type": "markdown",
   "metadata": {},
   "source": [
    "Посмотрим тепловую карту для общей наглядности."
   ]
  },
  {
   "cell_type": "code",
   "execution_count": 84,
   "metadata": {},
   "outputs": [
    {
     "data": {
      "image/png": "[encoded data removed]",
      "text/plain": [
       "<Figure size 864x576 with 2 Axes>"
      ]
     },
     "metadata": {
      "needs_background": "light"
     },
     "output_type": "display_data"
    }
   ],
   "source": [
    "corrmat = data.corr()\n",
    "f, ax = plt.subplots(figsize=(12, 8))\n",
    "sns.heatmap(corrmat, vmax=.8, square=True);"
   ]
  },
  {
   "cell_type": "markdown",
   "metadata": {},
   "source": [
    "На графике корреляции можно увидеть зависимость величин. Рассмотрим полную стоимость объекта. "
   ]
  },
  {
   "cell_type": "code",
   "execution_count": 85,
   "metadata": {},
   "outputs": [
    {
     "name": "stdout",
     "output_type": "stream",
     "text": [
      "Корреляция Пирсона составляет: 0.6918815670553792\n"
     ]
    },
    {
     "data": {
      "image/png": "[encoded data removed]",
      "text/plain": [
       "<Figure size 504x216 with 1 Axes>"
      ]
     },
     "metadata": {
      "needs_background": "light"
     },
     "output_type": "display_data"
    }
   ],
   "source": [
    "data_total_area_pivot = data.pivot_table(index='total_area', values='last_price', aggfunc='median')\n",
    "data_total_area_pivot.plot(grid=True, style='o', figsize=(7, 3), title='Зависимость цены от общей площади')\n",
    "print(f\"Корреляция Пирсона составляет: {data['total_area'].corr(data['last_price'])}\")"
   ]
  },
  {
   "cell_type": "markdown",
   "metadata": {},
   "source": [
    "    По данному графику можно сделать вывод о том, что с увеличением общей площади квартиры растет и цена."
   ]
  },
  {
   "cell_type": "code",
   "execution_count": 86,
   "metadata": {},
   "outputs": [
    {
     "name": "stdout",
     "output_type": "stream",
     "text": [
      "Корреляция Пирсона составляет: 0.5465792643633225\n"
     ]
    },
    {
     "data": {
      "image/png": "[encoded data removed]",
      "text/plain": [
       "<Figure size 504x216 with 1 Axes>"
      ]
     },
     "metadata": {
      "needs_background": "light"
     },
     "output_type": "display_data"
    }
   ],
   "source": [
    "data_living_area_pivot = data.pivot_table(index='living_area', values='last_price', aggfunc='median')\n",
    "data_living_area_pivot.plot(grid=True, style='o', figsize=(7, 3), title='Зависимость цены от жилой площади')\n",
    "print(f\"Корреляция Пирсона составляет: {data['living_area'].corr(data['last_price'])}\")"
   ]
  },
  {
   "cell_type": "markdown",
   "metadata": {},
   "source": [
    "    По данному графику можно так же сделать вывод о том, что с увеличением жилой площади квартиры растет и цена, однако взаимосвязь не такая высокая."
   ]
  },
  {
   "cell_type": "code",
   "execution_count": 87,
   "metadata": {},
   "outputs": [
    {
     "name": "stdout",
     "output_type": "stream",
     "text": [
      "Корреляция Пирсона составляет: 0.43606870936626074\n"
     ]
    },
    {
     "data": {
      "image/png": "[encoded data removed]",
      "text/plain": [
       "<Figure size 504x216 with 1 Axes>"
      ]
     },
     "metadata": {
      "needs_background": "light"
     },
     "output_type": "display_data"
    }
   ],
   "source": [
    "data_kitchen_area_pivot = data.pivot_table(index='kitchen_area', values='last_price', aggfunc='median')\n",
    "data_kitchen_area_pivot.plot(grid=True, style='o', figsize=(7, 3), title='Зависимость цены от площади кухни')\n",
    "print(f\"Корреляция Пирсона составляет: {data['kitchen_area'].corr(data['last_price'])}\")"
   ]
  },
  {
   "cell_type": "markdown",
   "metadata": {},
   "source": [
    "Зависимость цены от площади кухни слабее, чем от общей и жилой площади, но тем не менее, зависимость присутствует."
   ]
  },
  {
   "cell_type": "code",
   "execution_count": 88,
   "metadata": {},
   "outputs": [
    {
     "name": "stdout",
     "output_type": "stream",
     "text": [
      "Корреляция Пирсона составляет: 0.3978579691702622\n"
     ]
    },
    {
     "data": {
      "image/png": "[encoded data removed]",
      "text/plain": [
       "<Figure size 504x216 with 1 Axes>"
      ]
     },
     "metadata": {
      "needs_background": "light"
     },
     "output_type": "display_data"
    }
   ],
   "source": [
    "data_rooms_pivot = data.pivot_table(index='rooms', values='last_price', aggfunc='median')\n",
    "data_rooms_pivot.plot(grid=True, style='o-', figsize=(7, 3), title='Зависимость цены от количества комнат')\n",
    "print(f\"Корреляция Пирсона составляет: {data['rooms'].corr(data['last_price'])}\")"
   ]
  },
  {
   "cell_type": "markdown",
   "metadata": {},
   "source": [
    "    Зависимость цены от количества комнат слабая, но видно, что с увеличением количества комнат растет и цена."
   ]
  },
  {
   "cell_type": "code",
   "execution_count": 89,
   "metadata": {},
   "outputs": [
    {
     "data": {
      "text/plain": [
       "<AxesSubplot:title={'center':'Зависимость цены от этажа'}, xlabel='type_floor'>"
      ]
     },
     "execution_count": 89,
     "metadata": {},
     "output_type": "execute_result"
    },
    {
     "data": {
      "image/png": "[encoded data removed]",
      "text/plain": [
       "<Figure size 504x216 with 1 Axes>"
      ]
     },
     "metadata": {
      "needs_background": "light"
     },
     "output_type": "display_data"
    }
   ],
   "source": [
    "data_floor_pivot = data.pivot_table(index='type_floor', values='last_price', aggfunc='median')\n",
    "data_floor_pivot.plot(grid=True, style='o-', figsize=(7, 3), title='Зависимость цены от этажа')"
   ]
  },
  {
   "cell_type": "markdown",
   "metadata": {},
   "source": [
    "    Цена зависит от того, на каком этаже находится квартира. На первом этаже находятся квартиры подешевле, на втором этаже чуть подороже, но самые дорогие не на первом и не на последнем."
   ]
  },
  {
   "cell_type": "code",
   "execution_count": 90,
   "metadata": {},
   "outputs": [
    {
     "data": {
      "text/plain": [
       "<AxesSubplot:title={'center':'Зависимость цены от дня публикации'}, xlabel='weekday_publication'>"
      ]
     },
     "execution_count": 90,
     "metadata": {},
     "output_type": "execute_result"
    },
    {
     "data": {
      "image/png": "[encoded data removed]",
      "text/plain": [
       "<Figure size 504x216 with 1 Axes>"
      ]
     },
     "metadata": {
      "needs_background": "light"
     },
     "output_type": "display_data"
    }
   ],
   "source": [
    "data_day_pivot = data.pivot_table(index='weekday_publication', values='last_price', aggfunc='median')\n",
    "data_day_pivot.plot(grid=True, style='o-', figsize=(7, 3), title='Зависимость цены от дня публикации')"
   ]
  },
  {
   "cell_type": "markdown",
   "metadata": {},
   "source": [
    "    На данном графике видно, что самые дорогие квартиры выставлены во вторник и в среду, дешевле всего в пятницу. Интересный фактор :)"
   ]
  },
  {
   "cell_type": "code",
   "execution_count": 91,
   "metadata": {},
   "outputs": [
    {
     "data": {
      "text/plain": [
       "<AxesSubplot:title={'center':'Зависимость цены от месяца публикации'}, xlabel='month_publication'>"
      ]
     },
     "execution_count": 91,
     "metadata": {},
     "output_type": "execute_result"
    },
    {
     "data": {
      "image/png": "[encoded data removed]",
      "text/plain": [
       "<Figure size 504x216 with 1 Axes>"
      ]
     },
     "metadata": {
      "needs_background": "light"
     },
     "output_type": "display_data"
    }
   ],
   "source": [
    "data_month_pivot = data.pivot_table(index='month_publication', values='last_price', aggfunc='median')\n",
    "data_month_pivot.plot(grid=True, style='o-', figsize=(7, 3), title='Зависимость цены от месяца публикации')"
   ]
  },
  {
   "cell_type": "markdown",
   "metadata": {},
   "source": [
    "    Объявления с более дорогими квартирами были размещены в апреле месяце, в июне дешевле всего. Может быть в июне люди хотят быстрее переехать из холодного Питера, поэтому ценник падает?)"
   ]
  },
  {
   "cell_type": "code",
   "execution_count": 92,
   "metadata": {},
   "outputs": [
    {
     "data": {
      "text/plain": [
       "<AxesSubplot:title={'center':'Зависимость цены от года публикации'}, xlabel='year_publication'>"
      ]
     },
     "execution_count": 92,
     "metadata": {},
     "output_type": "execute_result"
    },
    {
     "data": {
      "image/png": "[encoded data removed]",
      "text/plain": [
       "<Figure size 504x216 with 1 Axes>"
      ]
     },
     "metadata": {
      "needs_background": "light"
     },
     "output_type": "display_data"
    }
   ],
   "source": [
    "data_year_pivot = data.pivot_table(index='year_publication', values='last_price', aggfunc='median')\n",
    "data_year_pivot.plot(grid=True, style='o-', figsize=(7, 3), title='Зависимость цены от года публикации')"
   ]
  },
  {
   "cell_type": "markdown",
   "metadata": {},
   "source": [
    "    Пик дорогих квартир приходился в 2014 году, возможно из-за кризиса 2014-2015г., потом ценник начал падать и после 2017 года стал плавно повышаться, нужно понять почему. Рассмотрим площадь продаваемых квартир с каждым годом, т.к. по тепловой карте цена коррелирует с общей площадью квартир."
   ]
  },
  {
   "cell_type": "code",
   "execution_count": 93,
   "metadata": {},
   "outputs": [
    {
     "data": {
      "text/plain": [
       "<AxesSubplot:title={'center':'Динамика площади продаваемых квартир'}, xlabel='year_publication'>"
      ]
     },
     "execution_count": 93,
     "metadata": {},
     "output_type": "execute_result"
    },
    {
     "data": {
      "image/png": "[encoded data removed]",
      "text/plain": [
       "<Figure size 504x216 with 1 Axes>"
      ]
     },
     "metadata": {
      "needs_background": "light"
     },
     "output_type": "display_data"
    }
   ],
   "source": [
    "data_year_area_pivot = data.pivot_table(index='year_publication', values='total_area', aggfunc='median')\n",
    "data_year_area_pivot.plot(grid=True, style='o-', figsize=(7, 3), title='Динамика площади продаваемых квартир')"
   ]
  },
  {
   "cell_type": "markdown",
   "metadata": {},
   "source": [
    "    На графике видно, что с каждым годом площадь продаваемых квартир становится меньше. Т.е. с уменьшением площади квартир с каждым годом падала цена."
   ]
  },
  {
   "cell_type": "markdown",
   "metadata": {},
   "source": [
    "    Далее, посчитаем среднюю цену одного квадратного метра в 10 населённых пунктах с наибольшим числом объявлений."
   ]
  },
  {
   "cell_type": "code",
   "execution_count": 94,
   "metadata": {},
   "outputs": [
    {
     "data": {
      "text/html": [
       "<div>\n",
       "<style scoped>\n",
       "    .dataframe tbody tr th:only-of-type {\n",
       "        vertical-align: middle;\n",
       "    }\n",
       "\n",
       "    .dataframe tbody tr th {\n",
       "        vertical-align: top;\n",
       "    }\n",
       "\n",
       "    .dataframe thead th {\n",
       "        text-align: right;\n",
       "    }\n",
       "</style>\n",
       "<table border=\"1\" class=\"dataframe\">\n",
       "  <thead>\n",
       "    <tr style=\"text-align: right;\">\n",
       "      <th></th>\n",
       "      <th>price_square_meter</th>\n",
       "    </tr>\n",
       "    <tr>\n",
       "      <th>locality_name</th>\n",
       "      <th></th>\n",
       "    </tr>\n",
       "  </thead>\n",
       "  <tbody>\n",
       "    <tr>\n",
       "      <th>санкт-петербург</th>\n",
       "      <td>109180</td>\n",
       "    </tr>\n",
       "    <tr>\n",
       "      <th>пушкин</th>\n",
       "      <td>101593</td>\n",
       "    </tr>\n",
       "    <tr>\n",
       "      <th>деревня кудрово</th>\n",
       "      <td>95401</td>\n",
       "    </tr>\n",
       "    <tr>\n",
       "      <th>поселок парголово</th>\n",
       "      <td>90300</td>\n",
       "    </tr>\n",
       "    <tr>\n",
       "      <th>поселок мурино</th>\n",
       "      <td>85692</td>\n",
       "    </tr>\n",
       "    <tr>\n",
       "      <th>поселок шушары</th>\n",
       "      <td>78272</td>\n",
       "    </tr>\n",
       "    <tr>\n",
       "      <th>колпино</th>\n",
       "      <td>75384</td>\n",
       "    </tr>\n",
       "    <tr>\n",
       "      <th>гатчина</th>\n",
       "      <td>68557</td>\n",
       "    </tr>\n",
       "    <tr>\n",
       "      <th>всеволожск</th>\n",
       "      <td>68532</td>\n",
       "    </tr>\n",
       "    <tr>\n",
       "      <th>деревня бор</th>\n",
       "      <td>61140</td>\n",
       "    </tr>\n",
       "  </tbody>\n",
       "</table>\n",
       "</div>"
      ],
      "text/plain": [
       "                   price_square_meter\n",
       "locality_name                        \n",
       "санкт-петербург                109180\n",
       "пушкин                         101593\n",
       "деревня кудрово                 95401\n",
       "поселок парголово               90300\n",
       "поселок мурино                  85692\n",
       "поселок шушары                  78272\n",
       "колпино                         75384\n",
       "гатчина                         68557\n",
       "всеволожск                      68532\n",
       "деревня бор                     61140"
      ]
     },
     "execution_count": 94,
     "metadata": {},
     "output_type": "execute_result"
    }
   ],
   "source": [
    "locality_top_10 = data['locality_name'].value_counts().head(10)\n",
    "price_square_top_10 = data.query('locality_name in (@locality_top_10.index)').pivot_table(\n",
    "    index='locality_name', \n",
    "    values='price_square_meter').astype(int)\n",
    "price_square_top_10.sort_values('price_square_meter', ascending=False)"
   ]
  },
  {
   "cell_type": "markdown",
   "metadata": {},
   "source": [
    "    Наибольшая средняя стоимость одного квадратного метра приходится в Санкт-Петербурга, минимальная в деревне Бор. В Пушкине очень много достопримечательностей, что в принципе средняя цена в ней оправдана, далее идут очень развивающиеся в постройке жилых домов районы, расположенные недалеко от Санкт-Петербурга.\n",
    "    \n",
    "    Далее, рассмотрим зависимость стоимости объектов от расстояния до центра города."
   ]
  },
  {
   "cell_type": "code",
   "execution_count": 95,
   "metadata": {},
   "outputs": [
    {
     "data": {
      "text/html": [
       "<div>\n",
       "<style scoped>\n",
       "    .dataframe tbody tr th:only-of-type {\n",
       "        vertical-align: middle;\n",
       "    }\n",
       "\n",
       "    .dataframe tbody tr th {\n",
       "        vertical-align: top;\n",
       "    }\n",
       "\n",
       "    .dataframe thead th {\n",
       "        text-align: right;\n",
       "    }\n",
       "</style>\n",
       "<table border=\"1\" class=\"dataframe\">\n",
       "  <thead>\n",
       "    <tr style=\"text-align: right;\">\n",
       "      <th></th>\n",
       "      <th>balcony</th>\n",
       "      <th>last_price</th>\n",
       "    </tr>\n",
       "    <tr>\n",
       "      <th>locality_name</th>\n",
       "      <th></th>\n",
       "      <th></th>\n",
       "    </tr>\n",
       "  </thead>\n",
       "  <tbody>\n",
       "    <tr>\n",
       "      <th>санкт-петербург</th>\n",
       "      <td>13394</td>\n",
       "      <td>5190000.0</td>\n",
       "    </tr>\n",
       "    <tr>\n",
       "      <th>поселок мурино</th>\n",
       "      <td>548</td>\n",
       "      <td>3452500.0</td>\n",
       "    </tr>\n",
       "    <tr>\n",
       "      <th>поселок шушары</th>\n",
       "      <td>429</td>\n",
       "      <td>3950000.0</td>\n",
       "    </tr>\n",
       "    <tr>\n",
       "      <th>деревня кудрово</th>\n",
       "      <td>429</td>\n",
       "      <td>3890000.0</td>\n",
       "    </tr>\n",
       "    <tr>\n",
       "      <th>всеволожск</th>\n",
       "      <td>379</td>\n",
       "      <td>3450000.0</td>\n",
       "    </tr>\n",
       "    <tr>\n",
       "      <th>пушкин</th>\n",
       "      <td>329</td>\n",
       "      <td>4990000.0</td>\n",
       "    </tr>\n",
       "    <tr>\n",
       "      <th>поселок парголово</th>\n",
       "      <td>320</td>\n",
       "      <td>4115000.0</td>\n",
       "    </tr>\n",
       "    <tr>\n",
       "      <th>колпино</th>\n",
       "      <td>319</td>\n",
       "      <td>3600000.0</td>\n",
       "    </tr>\n",
       "    <tr>\n",
       "      <th>деревня бор</th>\n",
       "      <td>307</td>\n",
       "      <td>3000000.0</td>\n",
       "    </tr>\n",
       "    <tr>\n",
       "      <th>гатчина</th>\n",
       "      <td>293</td>\n",
       "      <td>3030000.0</td>\n",
       "    </tr>\n",
       "  </tbody>\n",
       "</table>\n",
       "</div>"
      ],
      "text/plain": [
       "                   balcony  last_price\n",
       "locality_name                         \n",
       "санкт-петербург      13394   5190000.0\n",
       "поселок мурино         548   3452500.0\n",
       "поселок шушары         429   3950000.0\n",
       "деревня кудрово        429   3890000.0\n",
       "всеволожск             379   3450000.0\n",
       "пушкин                 329   4990000.0\n",
       "поселок парголово      320   4115000.0\n",
       "колпино                319   3600000.0\n",
       "деревня бор            307   3000000.0\n",
       "гатчина                293   3030000.0"
      ]
     },
     "execution_count": 95,
     "metadata": {},
     "output_type": "execute_result"
    }
   ],
   "source": [
    "data.groupby('locality_name').agg({'balcony':'count', 'last_price':'median'}) \\\n",
    "    .sort_values(by = 'balcony', ascending = False) \\\n",
    "    .head(10)"
   ]
  },
  {
   "cell_type": "code",
   "execution_count": 96,
   "metadata": {},
   "outputs": [
    {
     "data": {
      "text/plain": [
       "<AxesSubplot:title={'center':'Средняя стоимость для каждого километра'}, xlabel='city_centers_nearest_km'>"
      ]
     },
     "execution_count": 96,
     "metadata": {},
     "output_type": "execute_result"
    },
    {
     "data": {
      "image/png": "[encoded data removed]",
      "text/plain": [
       "<Figure size 504x216 with 1 Axes>"
      ]
     },
     "metadata": {
      "needs_background": "light"
     },
     "output_type": "display_data"
    }
   ],
   "source": [
    "city_pivot_spb = data.query('locality_name == \"санкт-петербург\"').pivot_table(\n",
    "    index = 'city_centers_nearest_km', \n",
    "    values = 'price_square_meter')\n",
    "city_pivot_spb.plot(grid=True, style='o-', figsize=(7, 3), title = 'Средняя стоимость для каждого километра')"
   ]
  },
  {
   "cell_type": "markdown",
   "metadata": {},
   "source": [
    "    На данном графике можно увидеть до 6 км. ценник достаточно высокий, после 6 км. начинается спад, затем возрастает в 20 км от центра, далее идет на снижение. График с колебаниями, не монотонный. "
   ]
  },
  {
   "cell_type": "markdown",
   "metadata": {},
   "source": [
    "    В данном пункте провели исследование факторов, больше всего влияющие на общую (полную) стоимость объекта, построены к ним графики и сделаны выводы. "
   ]
  },
  {
   "cell_type": "markdown",
   "metadata": {},
   "source": [
    "### Общий вывод"
   ]
  },
  {
   "cell_type": "markdown",
   "metadata": {},
   "source": [
    "    Было проведено исследование рыночной стоимости недвижимости в г. Санкт-Петербурге и соседних населённых пунктов. Входные данные от Яндекс.Недвижимость - архив объявлений о продаже квартир за 2017-2019гг. Результаты исследования будут учтены при построении автоматизированной системы, которая будет отслеживать аномалии и мошенническую деятельность.\n",
    "    \n",
    "    В данном датасете были поставлены следующие цели:\n",
    "    \n",
    "    1) Использование Pandas для обработки данных;\n",
    "    2) Использование MatplotLib и Seaborn для построения графиков;\n",
    "    3) Поиск и понимание корреляций между переменными набора данных.\n",
    "    \n",
    "    Данных в датасете до очистки данных составило 23 699 строк, после обработки - 20 939 строк, в 14 колонках наблюдалось очень много пропусков. Те, которые можно было восстановить - восстановили медианой или с помощью новых \"фич\", более аномальные данные были удалены. \n",
    "    \n",
    "    В ходе исследования были поставлены следующие гипотезы:\n",
    "    \n",
    "    Гипотеза 1. Цена зависит от общей площади квартиры. \n",
    "    \n",
    "        Общая площадь большинства квартир в объявлении варьируются от 45 до 50 кв. метров, далее до 100 кв.метров объявлений плавно снижается. Корреляция по Пирсону составила 0.69 и это говорит о том, что с увеличением площади стоимость квартир увеличивается. \n",
    "        \n",
    "    Гипотеза 2. Цена зависит от жилой площади квартиры.\n",
    "    \n",
    "        В основном, жилая площадь составляет в большинстве случаев 17-20 кв. метров, а для более больших квартир от 40 до 50 кв. Корреляция по Пирсону составила 0.55, что тоже говорит о том, что с увеличением жилой площади увеличивается стоимость квартир, однако, данная зависимость слабее, чем с общей площадью. \n",
    "        \n",
    "    Гипотеза 3. Цена зависит от площади кухни.\n",
    "    \n",
    "        В основном общая площадь кухни в объявлениях составляет от 8 до 10 кв. метров. Корреляция по Пирсону составляет: 0.44, что говорит о небольшой зависимости.\n",
    "        \n",
    "    Гипотеза 4. Цена зависит от количества комнат.\n",
    "    \n",
    "        Максимальное количество объявлении с 1, 2 и 3 комнатами. Корреляция по Пирсону составила: 0.40, что говорит о небольшой зависимости от цены. \n",
    "        \n",
    "    Гипотеза 5. Цена зависит от этажа квартиры. \n",
    "    \n",
    "        В основном этажность домов составляют 5 и 9 этажей, большинство квартир расположены с 1 по 5 этаж, меньше всего объявлении приходятся, где расположение квартир находится на первом и последнем. \n",
    "        На первом этаже находятся квартиры подешевле, на втором этаже чуть подороже, но самые дорогие не на первом и не на последнем. Это говорит о том, что этаж, где расположена квартира, влияет на цену.\n",
    "        \n",
    "    Гипотеза 6. Цена зависит от даты размещения публикации. \n",
    "    \n",
    "        День публикации имеет зависимость от цены. По графику зависимости дороже выставляются квартиры во вторник и в среду, а дешевле - в пятницу. Очень интересный фактор. \n",
    "        \n",
    "        Месяц публикации тоже зависит от цены. Объявления с более дорогими квартирами были размещены в апреле месяце, в июне дешевле всего. \n",
    "        \n",
    "        Год публикации зависит от цены. Объявления с дорогими квартирами приходился в 2014 году, возможно из-за кризиса 2014-2015г., потом ценник начал падать в связи с уменьшением площади квартир. \n",
    "        \n",
    "     Гипотеза 7. Цена зависит от локации и расстояния от центра города. \n",
    "     \n",
    "         Высокая средняя цена квартиры приходится на Санкт-Петербург и близко находящиеся районы. Высокие цены наблюдаются до 6 км. от центра, однако г. Пушкин находится около 26 км. от центра города и стоит на 2-м месте по цене после Санкт-Петербурга. Это неудивительно, т.к. г. Пушкин является одним из достропримечательных и экологичных городов рядом с Санкт-Петербургом.\n",
    "         \n",
    "         \n",
    "     Подводя итог, были вынесены следующие рекомендации:\n",
    "     \n",
    "     1. Специалисты, занимающиеся разработкой Я.Недвижимость, должны включить в базу данных серии домов, которые находятся в открытом доступе. Тогда пропусков типа \"высота потолков\" не будет. Так же, там есть более дополнительна информация, например, год постройки дома, ширина стен и т.д.\n",
    "     \n",
    "     2. Важно так же добавить через Карты на каком расстоянии находится метро, электрички и т.д. Что так же может значительно влиять на цену. Так же, через карты можно добавить расстояние до ближайшего водоема или парка. "
   ]
  }
 ],
 "metadata": {
  "ExecuteTimeLog": [
   {
    "duration": 508,
    "start_time": "2023-01-20T19:50:27.229Z"
   },
   {
    "duration": 84,
    "start_time": "2023-01-20T19:50:37.505Z"
   },
   {
    "duration": 76,
    "start_time": "2023-01-20T19:53:08.533Z"
   },
   {
    "duration": 69,
    "start_time": "2023-01-20T19:53:45.419Z"
   },
   {
    "duration": 69,
    "start_time": "2023-01-20T19:53:52.211Z"
   },
   {
    "duration": 86,
    "start_time": "2023-01-20T19:54:02.419Z"
   },
   {
    "duration": 78,
    "start_time": "2023-01-20T19:54:53.452Z"
   },
   {
    "duration": 76,
    "start_time": "2023-01-20T19:54:58.099Z"
   },
   {
    "duration": 73,
    "start_time": "2023-01-20T19:55:34.236Z"
   },
   {
    "duration": 79,
    "start_time": "2023-01-20T19:55:42.244Z"
   },
   {
    "duration": 79,
    "start_time": "2023-01-20T19:55:59.493Z"
   },
   {
    "duration": 79,
    "start_time": "2023-01-20T19:56:35.772Z"
   },
   {
    "duration": 354,
    "start_time": "2023-01-20T19:56:40.333Z"
   },
   {
    "duration": 80,
    "start_time": "2023-01-20T19:56:50.348Z"
   },
   {
    "duration": 80,
    "start_time": "2023-01-20T19:57:24.557Z"
   },
   {
    "duration": 77,
    "start_time": "2023-01-20T19:57:54.988Z"
   },
   {
    "duration": 90,
    "start_time": "2023-01-20T19:58:13.222Z"
   },
   {
    "duration": 78,
    "start_time": "2023-01-20T19:58:25.765Z"
   },
   {
    "duration": 90,
    "start_time": "2023-01-20T19:58:30.556Z"
   },
   {
    "duration": 85,
    "start_time": "2023-01-20T19:58:56.477Z"
   },
   {
    "duration": 87,
    "start_time": "2023-01-20T19:59:01.820Z"
   },
   {
    "duration": 41,
    "start_time": "2023-01-20T20:00:24.022Z"
   },
   {
    "duration": 93,
    "start_time": "2023-01-20T20:00:32.125Z"
   },
   {
    "duration": 1700,
    "start_time": "2023-01-20T20:01:40.255Z"
   },
   {
    "duration": 353,
    "start_time": "2023-01-20T20:01:49.612Z"
   },
   {
    "duration": 822,
    "start_time": "2023-01-20T20:02:22.687Z"
   },
   {
    "duration": 945,
    "start_time": "2023-01-20T20:02:32.790Z"
   },
   {
    "duration": 116,
    "start_time": "2023-01-20T20:02:53.830Z"
   },
   {
    "duration": 85,
    "start_time": "2023-01-20T20:03:08.097Z"
   },
   {
    "duration": 94,
    "start_time": "2023-01-20T20:03:11.813Z"
   },
   {
    "duration": 120,
    "start_time": "2023-01-20T20:03:17.574Z"
   },
   {
    "duration": 78,
    "start_time": "2023-01-20T20:06:15.288Z"
   },
   {
    "duration": 123,
    "start_time": "2023-01-20T20:06:19.133Z"
   },
   {
    "duration": 99,
    "start_time": "2023-01-20T20:14:29.371Z"
   },
   {
    "duration": 6,
    "start_time": "2023-01-20T20:19:38.884Z"
   },
   {
    "duration": 68,
    "start_time": "2023-01-20T20:22:05.725Z"
   },
   {
    "duration": 14,
    "start_time": "2023-01-20T20:23:26.622Z"
   },
   {
    "duration": 1880,
    "start_time": "2023-01-20T20:25:06.703Z"
   },
   {
    "duration": 102,
    "start_time": "2023-01-20T20:25:26.606Z"
   },
   {
    "duration": 13,
    "start_time": "2023-01-20T20:25:53.654Z"
   },
   {
    "duration": 1686,
    "start_time": "2023-01-20T20:26:02.895Z"
   },
   {
    "duration": 148,
    "start_time": "2023-01-20T20:27:53.399Z"
   },
   {
    "duration": 4,
    "start_time": "2023-01-20T20:32:59.737Z"
   },
   {
    "duration": 20,
    "start_time": "2023-01-20T20:33:35.746Z"
   },
   {
    "duration": 13,
    "start_time": "2023-01-20T20:34:01.225Z"
   },
   {
    "duration": 1693,
    "start_time": "2023-01-20T20:39:04.276Z"
   },
   {
    "duration": 1874,
    "start_time": "2023-01-20T20:44:51.278Z"
   },
   {
    "duration": 23640,
    "start_time": "2023-01-20T20:45:09.697Z"
   },
   {
    "duration": 2554,
    "start_time": "2023-01-20T20:45:49.095Z"
   },
   {
    "duration": 94,
    "start_time": "2023-01-20T20:55:56.106Z"
   },
   {
    "duration": 6,
    "start_time": "2023-01-20T21:08:30.210Z"
   },
   {
    "duration": 4,
    "start_time": "2023-01-20T21:08:34.002Z"
   },
   {
    "duration": 25,
    "start_time": "2023-01-20T21:18:44.300Z"
   },
   {
    "duration": 14,
    "start_time": "2023-01-20T21:38:20.137Z"
   },
   {
    "duration": 3,
    "start_time": "2023-01-20T21:43:15.852Z"
   },
   {
    "duration": 39,
    "start_time": "2023-01-20T21:43:21.398Z"
   },
   {
    "duration": 8,
    "start_time": "2023-01-20T21:44:20.821Z"
   },
   {
    "duration": 4,
    "start_time": "2023-01-20T21:44:25.842Z"
   },
   {
    "duration": 9,
    "start_time": "2023-01-20T21:44:26.273Z"
   },
   {
    "duration": 99,
    "start_time": "2023-01-20T21:44:31.629Z"
   },
   {
    "duration": 14,
    "start_time": "2023-01-20T21:44:31.804Z"
   },
   {
    "duration": 1758,
    "start_time": "2023-01-20T21:44:32.426Z"
   },
   {
    "duration": 80,
    "start_time": "2023-01-20T21:44:34.186Z"
   },
   {
    "duration": 4,
    "start_time": "2023-01-20T21:44:35.042Z"
   },
   {
    "duration": 8,
    "start_time": "2023-01-20T21:44:35.570Z"
   },
   {
    "duration": 9,
    "start_time": "2023-01-20T21:47:08.476Z"
   },
   {
    "duration": 71,
    "start_time": "2023-01-20T21:47:17.142Z"
   },
   {
    "duration": 12,
    "start_time": "2023-01-20T21:47:22.251Z"
   },
   {
    "duration": 8,
    "start_time": "2023-01-20T21:47:35.151Z"
   },
   {
    "duration": 7,
    "start_time": "2023-01-20T21:48:09.660Z"
   },
   {
    "duration": 8,
    "start_time": "2023-01-20T21:48:20.811Z"
   },
   {
    "duration": 22,
    "start_time": "2023-01-20T21:48:33.062Z"
   },
   {
    "duration": 24,
    "start_time": "2023-01-20T21:49:14.396Z"
   },
   {
    "duration": 22,
    "start_time": "2023-01-20T21:49:19.158Z"
   },
   {
    "duration": 8,
    "start_time": "2023-01-20T21:49:25.573Z"
   },
   {
    "duration": 8,
    "start_time": "2023-01-20T21:49:39.195Z"
   },
   {
    "duration": 9,
    "start_time": "2023-01-20T21:49:42.988Z"
   },
   {
    "duration": 7,
    "start_time": "2023-01-20T21:50:12.367Z"
   },
   {
    "duration": 4,
    "start_time": "2023-01-20T21:50:50.395Z"
   },
   {
    "duration": 23,
    "start_time": "2023-01-20T21:50:54.415Z"
   },
   {
    "duration": 12,
    "start_time": "2023-01-20T21:51:06.324Z"
   },
   {
    "duration": 9,
    "start_time": "2023-01-20T21:52:10.277Z"
   },
   {
    "duration": 7,
    "start_time": "2023-01-20T21:52:23.829Z"
   },
   {
    "duration": 9,
    "start_time": "2023-01-20T21:52:27.525Z"
   },
   {
    "duration": 8,
    "start_time": "2023-01-20T21:52:52.261Z"
   },
   {
    "duration": 75,
    "start_time": "2023-01-20T21:53:25.597Z"
   },
   {
    "duration": 1435,
    "start_time": "2023-01-21T11:15:04.119Z"
   },
   {
    "duration": 16,
    "start_time": "2023-01-21T11:15:07.284Z"
   },
   {
    "duration": 1771,
    "start_time": "2023-01-21T11:15:09.507Z"
   },
   {
    "duration": 145,
    "start_time": "2023-01-21T11:15:15.070Z"
   },
   {
    "duration": 4,
    "start_time": "2023-01-21T11:15:22.371Z"
   },
   {
    "duration": 9,
    "start_time": "2023-01-21T11:15:23.092Z"
   },
   {
    "duration": 111,
    "start_time": "2023-01-21T11:23:45.854Z"
   },
   {
    "duration": 5,
    "start_time": "2023-01-21T11:28:25.269Z"
   },
   {
    "duration": 9,
    "start_time": "2023-01-21T11:28:32.200Z"
   },
   {
    "duration": 5,
    "start_time": "2023-01-21T11:28:42.184Z"
   },
   {
    "duration": 4,
    "start_time": "2023-01-21T11:28:49.176Z"
   },
   {
    "duration": 6,
    "start_time": "2023-01-21T11:35:52.419Z"
   },
   {
    "duration": 5,
    "start_time": "2023-01-21T11:36:01.931Z"
   },
   {
    "duration": 51,
    "start_time": "2023-01-21T11:36:13.915Z"
   },
   {
    "duration": 8,
    "start_time": "2023-01-21T11:56:34.097Z"
   },
   {
    "duration": 4,
    "start_time": "2023-01-21T12:06:04.906Z"
   },
   {
    "duration": 9,
    "start_time": "2023-01-21T12:06:11.935Z"
   },
   {
    "duration": 42,
    "start_time": "2023-01-21T12:06:39.776Z"
   },
   {
    "duration": 33,
    "start_time": "2023-01-21T12:08:56.872Z"
   },
   {
    "duration": 6,
    "start_time": "2023-01-21T12:26:36.064Z"
   },
   {
    "duration": 7,
    "start_time": "2023-01-21T12:34:04.265Z"
   },
   {
    "duration": 5,
    "start_time": "2023-01-21T12:34:11.239Z"
   },
   {
    "duration": 11,
    "start_time": "2023-01-21T12:37:38.954Z"
   },
   {
    "duration": 29,
    "start_time": "2023-01-21T12:37:45.393Z"
   },
   {
    "duration": 8,
    "start_time": "2023-01-21T12:38:50.409Z"
   },
   {
    "duration": 8,
    "start_time": "2023-01-21T12:45:40.104Z"
   },
   {
    "duration": 7,
    "start_time": "2023-01-21T12:45:49.515Z"
   },
   {
    "duration": 7,
    "start_time": "2023-01-21T12:45:53.628Z"
   },
   {
    "duration": 24,
    "start_time": "2023-01-21T12:46:19.004Z"
   },
   {
    "duration": 5,
    "start_time": "2023-01-21T12:48:38.277Z"
   },
   {
    "duration": 8,
    "start_time": "2023-01-21T12:52:17.399Z"
   },
   {
    "duration": 4,
    "start_time": "2023-01-21T12:52:23.535Z"
   },
   {
    "duration": 25,
    "start_time": "2023-01-21T12:54:26.240Z"
   },
   {
    "duration": 5,
    "start_time": "2023-01-21T13:01:41.348Z"
   },
   {
    "duration": 8,
    "start_time": "2023-01-21T13:01:51.184Z"
   },
   {
    "duration": 35,
    "start_time": "2023-01-21T13:01:58.201Z"
   },
   {
    "duration": 26878,
    "start_time": "2023-01-21T13:04:25.267Z"
   },
   {
    "duration": 6,
    "start_time": "2023-01-21T13:05:57.983Z"
   },
   {
    "duration": 6,
    "start_time": "2023-01-21T13:06:02.433Z"
   },
   {
    "duration": 7,
    "start_time": "2023-01-21T13:06:14.984Z"
   },
   {
    "duration": 4,
    "start_time": "2023-01-21T13:06:31.615Z"
   },
   {
    "duration": 16,
    "start_time": "2023-01-21T13:09:04.835Z"
   },
   {
    "duration": 8,
    "start_time": "2023-01-21T13:09:38.645Z"
   },
   {
    "duration": 331,
    "start_time": "2023-01-21T13:10:05.813Z"
   },
   {
    "duration": 14,
    "start_time": "2023-01-21T13:12:04.709Z"
   },
   {
    "duration": 51,
    "start_time": "2023-01-21T13:14:58.735Z"
   },
   {
    "duration": 59,
    "start_time": "2023-01-21T13:15:41.760Z"
   },
   {
    "duration": 20,
    "start_time": "2023-01-21T13:16:20.718Z"
   },
   {
    "duration": 50,
    "start_time": "2023-01-21T13:16:37.901Z"
   },
   {
    "duration": 12,
    "start_time": "2023-01-21T13:16:49.015Z"
   },
   {
    "duration": 14,
    "start_time": "2023-01-21T13:17:17.754Z"
   },
   {
    "duration": 20,
    "start_time": "2023-01-21T13:18:34.769Z"
   },
   {
    "duration": 17,
    "start_time": "2023-01-21T13:18:40.424Z"
   },
   {
    "duration": 25,
    "start_time": "2023-01-21T13:18:50.008Z"
   },
   {
    "duration": 8,
    "start_time": "2023-01-21T13:19:10.245Z"
   },
   {
    "duration": 71,
    "start_time": "2023-01-21T13:19:46.928Z"
   },
   {
    "duration": 15,
    "start_time": "2023-01-21T13:19:51.023Z"
   },
   {
    "duration": 189,
    "start_time": "2023-01-21T13:20:54.145Z"
   },
   {
    "duration": 7,
    "start_time": "2023-01-21T13:22:58.953Z"
   },
   {
    "duration": 12,
    "start_time": "2023-01-21T13:23:56.762Z"
   },
   {
    "duration": 12,
    "start_time": "2023-01-21T13:24:13.321Z"
   },
   {
    "duration": 18,
    "start_time": "2023-01-21T13:25:00.329Z"
   },
   {
    "duration": 13,
    "start_time": "2023-01-21T13:25:05.817Z"
   },
   {
    "duration": 13,
    "start_time": "2023-01-21T13:25:13.233Z"
   },
   {
    "duration": 9,
    "start_time": "2023-01-21T13:25:18.009Z"
   },
   {
    "duration": 8,
    "start_time": "2023-01-21T13:25:37.074Z"
   },
   {
    "duration": 9,
    "start_time": "2023-01-21T13:25:54.362Z"
   },
   {
    "duration": 9,
    "start_time": "2023-01-21T13:26:02.587Z"
   },
   {
    "duration": 11,
    "start_time": "2023-01-21T13:26:13.317Z"
   },
   {
    "duration": 10,
    "start_time": "2023-01-21T13:26:43.672Z"
   },
   {
    "duration": 11,
    "start_time": "2023-01-21T13:27:04.410Z"
   },
   {
    "duration": 11,
    "start_time": "2023-01-21T13:27:16.564Z"
   },
   {
    "duration": 12,
    "start_time": "2023-01-21T13:27:53.789Z"
   },
   {
    "duration": 12,
    "start_time": "2023-01-21T13:28:01.989Z"
   },
   {
    "duration": 50,
    "start_time": "2023-01-21T16:05:26.598Z"
   },
   {
    "duration": 1823,
    "start_time": "2023-01-21T16:05:33.234Z"
   },
   {
    "duration": 33,
    "start_time": "2023-01-21T16:05:35.062Z"
   },
   {
    "duration": 2187,
    "start_time": "2023-01-21T16:05:35.097Z"
   },
   {
    "duration": 159,
    "start_time": "2023-01-21T16:05:37.287Z"
   },
   {
    "duration": 3,
    "start_time": "2023-01-21T16:05:37.448Z"
   },
   {
    "duration": 22,
    "start_time": "2023-01-21T16:05:37.453Z"
   },
   {
    "duration": 4,
    "start_time": "2023-01-21T16:05:37.477Z"
   },
   {
    "duration": 12,
    "start_time": "2023-01-21T16:05:37.482Z"
   },
   {
    "duration": 77,
    "start_time": "2023-01-21T16:08:05.714Z"
   },
   {
    "duration": 257,
    "start_time": "2023-01-21T16:08:35.126Z"
   },
   {
    "duration": 745,
    "start_time": "2023-01-21T16:08:48.196Z"
   },
   {
    "duration": 43,
    "start_time": "2023-01-21T16:08:59.691Z"
   },
   {
    "duration": 9,
    "start_time": "2023-01-21T16:09:26.345Z"
   },
   {
    "duration": 38,
    "start_time": "2023-01-21T16:10:03.502Z"
   },
   {
    "duration": 9,
    "start_time": "2023-01-21T16:12:16.219Z"
   },
   {
    "duration": 17,
    "start_time": "2023-01-21T16:12:27.385Z"
   },
   {
    "duration": 16,
    "start_time": "2023-01-21T16:12:41.066Z"
   },
   {
    "duration": 38,
    "start_time": "2023-01-21T16:12:57.743Z"
   },
   {
    "duration": 18,
    "start_time": "2023-01-21T16:13:06.600Z"
   },
   {
    "duration": 29,
    "start_time": "2023-01-21T16:13:10.799Z"
   },
   {
    "duration": 14,
    "start_time": "2023-01-21T16:14:10.199Z"
   },
   {
    "duration": 12,
    "start_time": "2023-01-21T16:14:38.527Z"
   },
   {
    "duration": 14,
    "start_time": "2023-01-21T16:15:28.588Z"
   },
   {
    "duration": 12,
    "start_time": "2023-01-21T16:15:59.467Z"
   },
   {
    "duration": 11,
    "start_time": "2023-01-21T16:16:46.081Z"
   },
   {
    "duration": 474,
    "start_time": "2023-01-21T16:17:13.693Z"
   },
   {
    "duration": 9,
    "start_time": "2023-01-21T16:17:28.690Z"
   },
   {
    "duration": 8,
    "start_time": "2023-01-21T16:21:47.417Z"
   },
   {
    "duration": 9,
    "start_time": "2023-01-21T16:21:57.516Z"
   },
   {
    "duration": 480,
    "start_time": "2023-01-21T16:23:52.002Z"
   },
   {
    "duration": 10,
    "start_time": "2023-01-21T16:24:04.757Z"
   },
   {
    "duration": 31,
    "start_time": "2023-01-21T16:25:07.365Z"
   },
   {
    "duration": 25,
    "start_time": "2023-01-21T16:25:17.680Z"
   },
   {
    "duration": 44,
    "start_time": "2023-01-21T16:25:31.948Z"
   },
   {
    "duration": 18,
    "start_time": "2023-01-21T16:28:05.840Z"
   },
   {
    "duration": 10,
    "start_time": "2023-01-21T16:28:19.395Z"
   },
   {
    "duration": 5,
    "start_time": "2023-01-21T16:28:34.655Z"
   },
   {
    "duration": 6,
    "start_time": "2023-01-21T16:30:03.652Z"
   },
   {
    "duration": 51,
    "start_time": "2023-01-21T16:30:42.903Z"
   },
   {
    "duration": 45,
    "start_time": "2023-01-21T16:30:56.159Z"
   },
   {
    "duration": 47,
    "start_time": "2023-01-21T16:34:13.089Z"
   },
   {
    "duration": 1447,
    "start_time": "2023-01-21T16:34:21.695Z"
   },
   {
    "duration": 14,
    "start_time": "2023-01-21T16:34:23.144Z"
   },
   {
    "duration": 1912,
    "start_time": "2023-01-21T16:34:23.160Z"
   },
   {
    "duration": 165,
    "start_time": "2023-01-21T16:34:25.074Z"
   },
   {
    "duration": 4,
    "start_time": "2023-01-21T16:34:25.241Z"
   },
   {
    "duration": 24,
    "start_time": "2023-01-21T16:34:25.246Z"
   },
   {
    "duration": 4,
    "start_time": "2023-01-21T16:34:25.272Z"
   },
   {
    "duration": 485,
    "start_time": "2023-01-21T16:34:25.277Z"
   },
   {
    "duration": 6,
    "start_time": "2023-01-21T16:34:25.763Z"
   },
   {
    "duration": 460,
    "start_time": "2023-01-21T16:34:25.771Z"
   },
   {
    "duration": 42,
    "start_time": "2023-01-21T16:34:26.233Z"
   },
   {
    "duration": 44,
    "start_time": "2023-01-21T16:36:35.976Z"
   },
   {
    "duration": 100,
    "start_time": "2023-01-21T16:38:20.726Z"
   },
   {
    "duration": 15,
    "start_time": "2023-01-21T16:38:28.986Z"
   },
   {
    "duration": 9,
    "start_time": "2023-01-21T16:38:38.610Z"
   },
   {
    "duration": 7,
    "start_time": "2023-01-21T16:39:30.938Z"
   },
   {
    "duration": 14,
    "start_time": "2023-01-21T16:40:56.091Z"
   },
   {
    "duration": 9,
    "start_time": "2023-01-21T16:41:05.682Z"
   },
   {
    "duration": 110,
    "start_time": "2023-01-21T16:41:44.825Z"
   },
   {
    "duration": 17,
    "start_time": "2023-01-21T16:41:45.001Z"
   },
   {
    "duration": 1749,
    "start_time": "2023-01-21T16:41:45.357Z"
   },
   {
    "duration": 74,
    "start_time": "2023-01-21T16:41:47.108Z"
   },
   {
    "duration": 3,
    "start_time": "2023-01-21T16:41:47.183Z"
   },
   {
    "duration": 11,
    "start_time": "2023-01-21T16:41:47.188Z"
   },
   {
    "duration": 5,
    "start_time": "2023-01-21T16:41:47.650Z"
   },
   {
    "duration": 472,
    "start_time": "2023-01-21T16:41:48.859Z"
   },
   {
    "duration": 6,
    "start_time": "2023-01-21T16:41:49.334Z"
   },
   {
    "duration": 459,
    "start_time": "2023-01-21T16:41:49.771Z"
   },
   {
    "duration": 6,
    "start_time": "2023-01-21T16:42:25.643Z"
   },
   {
    "duration": 12,
    "start_time": "2023-01-21T16:43:41.484Z"
   },
   {
    "duration": 12,
    "start_time": "2023-01-21T16:43:44.390Z"
   },
   {
    "duration": 130,
    "start_time": "2023-01-21T19:57:51.334Z"
   },
   {
    "duration": 15,
    "start_time": "2023-01-21T19:57:51.494Z"
   },
   {
    "duration": 2281,
    "start_time": "2023-01-21T19:57:51.855Z"
   },
   {
    "duration": 90,
    "start_time": "2023-01-21T19:57:54.138Z"
   },
   {
    "duration": 3,
    "start_time": "2023-01-21T19:57:54.230Z"
   },
   {
    "duration": 11,
    "start_time": "2023-01-21T19:57:54.235Z"
   },
   {
    "duration": 3,
    "start_time": "2023-01-21T19:57:54.548Z"
   },
   {
    "duration": 584,
    "start_time": "2023-01-21T19:57:55.102Z"
   },
   {
    "duration": 11,
    "start_time": "2023-01-21T19:57:55.688Z"
   },
   {
    "duration": 561,
    "start_time": "2023-01-21T19:57:55.701Z"
   },
   {
    "duration": 20,
    "start_time": "2023-01-21T19:57:56.263Z"
   },
   {
    "duration": 26,
    "start_time": "2023-01-21T19:57:56.286Z"
   },
   {
    "duration": 118,
    "start_time": "2023-01-21T19:59:09.973Z"
   },
   {
    "duration": 21,
    "start_time": "2023-01-21T19:59:10.761Z"
   },
   {
    "duration": 1959,
    "start_time": "2023-01-21T19:59:13.119Z"
   },
   {
    "duration": 94,
    "start_time": "2023-01-21T19:59:15.080Z"
   },
   {
    "duration": 5,
    "start_time": "2023-01-21T19:59:18.560Z"
   },
   {
    "duration": 14,
    "start_time": "2023-01-21T19:59:19.088Z"
   },
   {
    "duration": 4,
    "start_time": "2023-01-21T19:59:39.059Z"
   },
   {
    "duration": 34,
    "start_time": "2023-01-21T20:00:03.682Z"
   },
   {
    "duration": 556,
    "start_time": "2023-01-21T20:00:17.971Z"
   },
   {
    "duration": 36,
    "start_time": "2023-01-21T20:00:28.065Z"
   },
   {
    "duration": 6,
    "start_time": "2023-01-21T20:01:21.049Z"
   },
   {
    "duration": 130,
    "start_time": "2023-01-21T20:01:29.840Z"
   },
   {
    "duration": 143,
    "start_time": "2023-01-21T20:01:34.397Z"
   },
   {
    "duration": 22,
    "start_time": "2023-01-21T20:01:56.995Z"
   },
   {
    "duration": 2298,
    "start_time": "2023-01-21T20:01:57.906Z"
   },
   {
    "duration": 97,
    "start_time": "2023-01-21T20:02:00.207Z"
   },
   {
    "duration": 3,
    "start_time": "2023-01-21T20:02:02.055Z"
   },
   {
    "duration": 10,
    "start_time": "2023-01-21T20:02:02.401Z"
   },
   {
    "duration": 4,
    "start_time": "2023-01-21T20:02:03.900Z"
   },
   {
    "duration": 32,
    "start_time": "2023-01-21T20:02:06.105Z"
   },
   {
    "duration": 5,
    "start_time": "2023-01-21T20:02:09.831Z"
   },
   {
    "duration": 575,
    "start_time": "2023-01-21T20:02:11.873Z"
   },
   {
    "duration": 47,
    "start_time": "2023-01-21T20:02:14.132Z"
   },
   {
    "duration": 122,
    "start_time": "2023-01-21T20:04:13.493Z"
   },
   {
    "duration": 26,
    "start_time": "2023-01-21T20:04:13.652Z"
   },
   {
    "duration": 2137,
    "start_time": "2023-01-21T20:04:13.997Z"
   },
   {
    "duration": 88,
    "start_time": "2023-01-21T20:04:16.136Z"
   },
   {
    "duration": 4,
    "start_time": "2023-01-21T20:04:16.226Z"
   },
   {
    "duration": 16,
    "start_time": "2023-01-21T20:04:16.232Z"
   },
   {
    "duration": 4,
    "start_time": "2023-01-21T20:04:17.797Z"
   },
   {
    "duration": 159,
    "start_time": "2023-01-21T20:04:19.087Z"
   },
   {
    "duration": 56,
    "start_time": "2023-01-21T20:04:28.951Z"
   },
   {
    "duration": 130,
    "start_time": "2023-01-21T20:04:58.962Z"
   },
   {
    "duration": 15,
    "start_time": "2023-01-21T20:04:59.129Z"
   },
   {
    "duration": 2284,
    "start_time": "2023-01-21T20:04:59.442Z"
   },
   {
    "duration": 99,
    "start_time": "2023-01-21T20:05:01.729Z"
   },
   {
    "duration": 3,
    "start_time": "2023-01-21T20:05:01.830Z"
   },
   {
    "duration": 29,
    "start_time": "2023-01-21T20:05:01.835Z"
   },
   {
    "duration": 12,
    "start_time": "2023-01-21T20:05:02.266Z"
   },
   {
    "duration": 169,
    "start_time": "2023-01-21T20:05:56.756Z"
   },
   {
    "duration": 154,
    "start_time": "2023-01-21T20:07:11.993Z"
   },
   {
    "duration": 150,
    "start_time": "2023-01-21T20:07:25.406Z"
   },
   {
    "duration": 40,
    "start_time": "2023-01-21T20:07:25.558Z"
   },
   {
    "duration": 2159,
    "start_time": "2023-01-21T20:07:25.861Z"
   },
   {
    "duration": 110,
    "start_time": "2023-01-21T20:07:28.024Z"
   },
   {
    "duration": 7,
    "start_time": "2023-01-21T20:07:28.137Z"
   },
   {
    "duration": 17,
    "start_time": "2023-01-21T20:07:28.148Z"
   },
   {
    "duration": 41,
    "start_time": "2023-01-21T20:07:28.174Z"
   },
   {
    "duration": 181,
    "start_time": "2023-01-21T20:07:29.890Z"
   },
   {
    "duration": 27,
    "start_time": "2023-01-21T20:07:35.904Z"
   },
   {
    "duration": 83,
    "start_time": "2023-01-21T20:07:50.026Z"
   },
   {
    "duration": 39,
    "start_time": "2023-01-21T20:07:50.213Z"
   },
   {
    "duration": 7,
    "start_time": "2023-01-21T20:07:50.411Z"
   },
   {
    "duration": 9,
    "start_time": "2023-01-21T20:08:32.008Z"
   },
   {
    "duration": 163,
    "start_time": "2023-01-21T20:08:43.198Z"
   },
   {
    "duration": 34,
    "start_time": "2023-01-21T20:08:43.365Z"
   },
   {
    "duration": 2911,
    "start_time": "2023-01-21T20:08:43.689Z"
   },
   {
    "duration": 96,
    "start_time": "2023-01-21T20:08:46.604Z"
   },
   {
    "duration": 8,
    "start_time": "2023-01-21T20:08:46.702Z"
   },
   {
    "duration": 17,
    "start_time": "2023-01-21T20:08:46.716Z"
   },
   {
    "duration": 5,
    "start_time": "2023-01-21T20:08:46.735Z"
   },
   {
    "duration": 254,
    "start_time": "2023-01-21T20:08:46.742Z"
   },
   {
    "duration": 230,
    "start_time": "2023-01-21T20:13:59.909Z"
   },
   {
    "duration": 253,
    "start_time": "2023-01-21T20:14:11.828Z"
   },
   {
    "duration": 255,
    "start_time": "2023-01-21T20:14:21.565Z"
   },
   {
    "duration": 1291,
    "start_time": "2023-01-21T20:15:39.146Z"
   },
   {
    "duration": 90,
    "start_time": "2023-01-21T20:20:37.247Z"
   },
   {
    "duration": 504,
    "start_time": "2023-01-21T20:20:59.293Z"
   },
   {
    "duration": 279,
    "start_time": "2023-01-21T20:22:47.428Z"
   },
   {
    "duration": 57,
    "start_time": "2023-01-21T20:23:11.551Z"
   },
   {
    "duration": 2972,
    "start_time": "2023-01-21T20:29:12.748Z"
   },
   {
    "duration": 4518,
    "start_time": "2023-01-21T20:29:30.893Z"
   },
   {
    "duration": 27,
    "start_time": "2023-01-21T20:31:16.832Z"
   },
   {
    "duration": 24,
    "start_time": "2023-01-21T20:31:22.097Z"
   },
   {
    "duration": 27,
    "start_time": "2023-01-21T20:31:27.932Z"
   },
   {
    "duration": 344,
    "start_time": "2023-01-21T20:32:29.675Z"
   },
   {
    "duration": 967,
    "start_time": "2023-01-21T20:34:49.499Z"
   },
   {
    "duration": 1819,
    "start_time": "2023-01-21T20:34:57.798Z"
   },
   {
    "duration": 2513,
    "start_time": "2023-01-21T20:35:09.900Z"
   },
   {
    "duration": 2941,
    "start_time": "2023-01-21T20:35:25.869Z"
   },
   {
    "duration": 41,
    "start_time": "2023-01-21T20:36:17.816Z"
   },
   {
    "duration": 577,
    "start_time": "2023-01-21T20:36:26.765Z"
   },
   {
    "duration": 1446,
    "start_time": "2023-01-21T20:37:06.152Z"
   },
   {
    "duration": 183,
    "start_time": "2023-01-21T20:39:09.595Z"
   },
   {
    "duration": 19,
    "start_time": "2023-01-21T20:39:11.634Z"
   },
   {
    "duration": 2337,
    "start_time": "2023-01-21T20:39:11.965Z"
   },
   {
    "duration": 91,
    "start_time": "2023-01-21T20:39:14.304Z"
   },
   {
    "duration": 8,
    "start_time": "2023-01-21T20:39:14.397Z"
   },
   {
    "duration": 12,
    "start_time": "2023-01-21T20:39:14.409Z"
   },
   {
    "duration": 4,
    "start_time": "2023-01-21T20:39:14.422Z"
   },
   {
    "duration": 21,
    "start_time": "2023-01-21T20:39:14.428Z"
   },
   {
    "duration": 165,
    "start_time": "2023-01-21T20:39:54.050Z"
   },
   {
    "duration": 9,
    "start_time": "2023-01-21T20:40:18.843Z"
   },
   {
    "duration": 10,
    "start_time": "2023-01-21T20:40:55.546Z"
   },
   {
    "duration": 129,
    "start_time": "2023-01-21T20:42:14.085Z"
   },
   {
    "duration": 23,
    "start_time": "2023-01-21T20:42:26.487Z"
   },
   {
    "duration": 18,
    "start_time": "2023-01-21T20:42:36.501Z"
   },
   {
    "duration": 50,
    "start_time": "2023-01-21T20:42:54.276Z"
   },
   {
    "duration": 195,
    "start_time": "2023-01-21T20:43:05.358Z"
   },
   {
    "duration": 25,
    "start_time": "2023-01-21T20:43:06.049Z"
   },
   {
    "duration": 2700,
    "start_time": "2023-01-21T20:43:09.526Z"
   },
   {
    "duration": 105,
    "start_time": "2023-01-21T20:43:12.228Z"
   },
   {
    "duration": 10,
    "start_time": "2023-01-21T20:43:15.417Z"
   },
   {
    "duration": 10,
    "start_time": "2023-01-21T20:43:15.646Z"
   },
   {
    "duration": 5,
    "start_time": "2023-01-21T20:43:16.153Z"
   },
   {
    "duration": 70,
    "start_time": "2023-01-21T20:43:35.923Z"
   },
   {
    "duration": 46,
    "start_time": "2023-01-21T20:43:38.734Z"
   },
   {
    "duration": 1785,
    "start_time": "2023-01-21T20:44:24.826Z"
   },
   {
    "duration": 20,
    "start_time": "2023-01-21T20:44:26.625Z"
   },
   {
    "duration": 2666,
    "start_time": "2023-01-21T20:44:26.647Z"
   },
   {
    "duration": 221,
    "start_time": "2023-01-21T20:44:29.315Z"
   },
   {
    "duration": 4,
    "start_time": "2023-01-21T20:44:29.540Z"
   },
   {
    "duration": 20,
    "start_time": "2023-01-21T20:44:29.546Z"
   },
   {
    "duration": 55,
    "start_time": "2023-01-21T20:44:29.569Z"
   },
   {
    "duration": 206,
    "start_time": "2023-01-21T20:44:33.812Z"
   },
   {
    "duration": 30,
    "start_time": "2023-01-21T20:44:53.602Z"
   },
   {
    "duration": 47,
    "start_time": "2023-01-21T20:44:55.365Z"
   },
   {
    "duration": 162,
    "start_time": "2023-01-21T20:45:36.864Z"
   },
   {
    "duration": 23,
    "start_time": "2023-01-21T20:45:37.029Z"
   },
   {
    "duration": 2135,
    "start_time": "2023-01-21T20:45:37.056Z"
   },
   {
    "duration": 88,
    "start_time": "2023-01-21T20:45:39.196Z"
   },
   {
    "duration": 5,
    "start_time": "2023-01-21T20:45:39.288Z"
   },
   {
    "duration": 24,
    "start_time": "2023-01-21T20:45:39.296Z"
   },
   {
    "duration": 4,
    "start_time": "2023-01-21T20:45:39.322Z"
   },
   {
    "duration": 20,
    "start_time": "2023-01-21T20:45:47.909Z"
   },
   {
    "duration": 31,
    "start_time": "2023-01-21T20:45:50.298Z"
   },
   {
    "duration": 1470,
    "start_time": "2023-01-21T20:46:43.713Z"
   },
   {
    "duration": 28,
    "start_time": "2023-01-21T20:46:45.193Z"
   },
   {
    "duration": 2356,
    "start_time": "2023-01-21T20:46:45.223Z"
   },
   {
    "duration": 240,
    "start_time": "2023-01-21T20:46:47.581Z"
   },
   {
    "duration": 6,
    "start_time": "2023-01-21T20:46:47.824Z"
   },
   {
    "duration": 17,
    "start_time": "2023-01-21T20:46:47.831Z"
   },
   {
    "duration": 5,
    "start_time": "2023-01-21T20:46:47.850Z"
   },
   {
    "duration": 175,
    "start_time": "2023-01-21T20:47:02.611Z"
   },
   {
    "duration": 22,
    "start_time": "2023-01-21T20:47:23.419Z"
   },
   {
    "duration": 50,
    "start_time": "2023-01-21T20:47:25.072Z"
   },
   {
    "duration": 7,
    "start_time": "2023-01-21T20:47:48.395Z"
   },
   {
    "duration": 11,
    "start_time": "2023-01-21T20:48:35.565Z"
   },
   {
    "duration": 38,
    "start_time": "2023-01-21T20:48:37.400Z"
   },
   {
    "duration": 140,
    "start_time": "2023-01-21T20:49:34.607Z"
   },
   {
    "duration": 37,
    "start_time": "2023-01-21T20:49:34.752Z"
   },
   {
    "duration": 2276,
    "start_time": "2023-01-21T20:49:35.097Z"
   },
   {
    "duration": 78,
    "start_time": "2023-01-21T20:49:37.387Z"
   },
   {
    "duration": 4,
    "start_time": "2023-01-21T20:49:37.470Z"
   },
   {
    "duration": 14,
    "start_time": "2023-01-21T20:49:37.477Z"
   },
   {
    "duration": 4,
    "start_time": "2023-01-21T20:49:37.640Z"
   },
   {
    "duration": 20,
    "start_time": "2023-01-21T20:49:38.992Z"
   },
   {
    "duration": 5,
    "start_time": "2023-01-21T20:49:40.549Z"
   },
   {
    "duration": 78,
    "start_time": "2023-01-21T20:50:11.847Z"
   },
   {
    "duration": 24,
    "start_time": "2023-01-21T20:50:17.904Z"
   },
   {
    "duration": 7,
    "start_time": "2023-01-21T20:52:16.310Z"
   },
   {
    "duration": 14,
    "start_time": "2023-01-21T20:52:17.395Z"
   },
   {
    "duration": 1639,
    "start_time": "2023-01-21T20:52:33.035Z"
   },
   {
    "duration": 26,
    "start_time": "2023-01-21T20:52:34.680Z"
   },
   {
    "duration": 2534,
    "start_time": "2023-01-21T20:52:34.715Z"
   },
   {
    "duration": 186,
    "start_time": "2023-01-21T20:52:37.252Z"
   },
   {
    "duration": 4,
    "start_time": "2023-01-21T20:52:37.440Z"
   },
   {
    "duration": 41,
    "start_time": "2023-01-21T20:52:37.446Z"
   },
   {
    "duration": 13,
    "start_time": "2023-01-21T20:52:37.494Z"
   },
   {
    "duration": 25,
    "start_time": "2023-01-21T20:52:37.514Z"
   },
   {
    "duration": 6,
    "start_time": "2023-01-21T20:52:37.541Z"
   },
   {
    "duration": 87,
    "start_time": "2023-01-21T20:52:37.549Z"
   },
   {
    "duration": 8,
    "start_time": "2023-01-21T20:52:37.638Z"
   },
   {
    "duration": 12,
    "start_time": "2023-01-21T20:52:37.648Z"
   },
   {
    "duration": 13,
    "start_time": "2023-01-21T20:54:19.914Z"
   },
   {
    "duration": 10,
    "start_time": "2023-01-21T20:54:20.352Z"
   },
   {
    "duration": 18,
    "start_time": "2023-01-21T20:54:20.794Z"
   },
   {
    "duration": 1761,
    "start_time": "2023-01-21T20:54:30.680Z"
   },
   {
    "duration": 18,
    "start_time": "2023-01-21T20:54:32.444Z"
   },
   {
    "duration": 3070,
    "start_time": "2023-01-21T20:54:32.464Z"
   },
   {
    "duration": 252,
    "start_time": "2023-01-21T20:54:35.536Z"
   },
   {
    "duration": 4,
    "start_time": "2023-01-21T20:54:35.803Z"
   },
   {
    "duration": 66,
    "start_time": "2023-01-21T20:54:35.809Z"
   },
   {
    "duration": 54,
    "start_time": "2023-01-21T20:54:35.878Z"
   },
   {
    "duration": 20,
    "start_time": "2023-01-21T20:54:35.934Z"
   },
   {
    "duration": 7,
    "start_time": "2023-01-21T20:54:35.956Z"
   },
   {
    "duration": 74,
    "start_time": "2023-01-21T20:54:35.965Z"
   },
   {
    "duration": 9,
    "start_time": "2023-01-21T20:54:36.042Z"
   },
   {
    "duration": 59,
    "start_time": "2023-01-21T20:54:36.054Z"
   },
   {
    "duration": 58,
    "start_time": "2023-01-21T20:55:28.891Z"
   },
   {
    "duration": 6,
    "start_time": "2023-01-21T20:56:13.228Z"
   },
   {
    "duration": 18,
    "start_time": "2023-01-21T20:57:34.580Z"
   },
   {
    "duration": 16,
    "start_time": "2023-01-21T20:57:48.617Z"
   },
   {
    "duration": 94,
    "start_time": "2023-01-21T20:58:07.114Z"
   },
   {
    "duration": 7,
    "start_time": "2023-01-21T20:58:57.752Z"
   },
   {
    "duration": 27,
    "start_time": "2023-01-21T20:59:37.213Z"
   },
   {
    "duration": 34,
    "start_time": "2023-01-21T20:59:44.616Z"
   },
   {
    "duration": 90,
    "start_time": "2023-01-21T21:00:05.258Z"
   },
   {
    "duration": 54,
    "start_time": "2023-01-21T21:00:24.654Z"
   },
   {
    "duration": 116,
    "start_time": "2023-01-21T21:00:54.909Z"
   },
   {
    "duration": 169,
    "start_time": "2023-01-21T21:02:16.433Z"
   },
   {
    "duration": 20,
    "start_time": "2023-01-21T21:02:16.605Z"
   },
   {
    "duration": 2210,
    "start_time": "2023-01-21T21:02:16.626Z"
   },
   {
    "duration": 107,
    "start_time": "2023-01-21T21:02:18.838Z"
   },
   {
    "duration": 4,
    "start_time": "2023-01-21T21:02:18.947Z"
   },
   {
    "duration": 20,
    "start_time": "2023-01-21T21:02:18.953Z"
   },
   {
    "duration": 43,
    "start_time": "2023-01-21T21:02:18.975Z"
   },
   {
    "duration": 20,
    "start_time": "2023-01-21T21:02:19.020Z"
   },
   {
    "duration": 5,
    "start_time": "2023-01-21T21:02:19.042Z"
   },
   {
    "duration": 66,
    "start_time": "2023-01-21T21:02:19.049Z"
   },
   {
    "duration": 9,
    "start_time": "2023-01-21T21:02:19.117Z"
   },
   {
    "duration": 8,
    "start_time": "2023-01-21T21:02:49.243Z"
   },
   {
    "duration": 168,
    "start_time": "2023-01-21T21:06:48.151Z"
   },
   {
    "duration": 17,
    "start_time": "2023-01-21T21:06:48.321Z"
   },
   {
    "duration": 2542,
    "start_time": "2023-01-21T21:06:48.616Z"
   },
   {
    "duration": 115,
    "start_time": "2023-01-21T21:06:51.160Z"
   },
   {
    "duration": 6,
    "start_time": "2023-01-21T21:06:51.286Z"
   },
   {
    "duration": 55,
    "start_time": "2023-01-21T21:06:51.295Z"
   },
   {
    "duration": 5,
    "start_time": "2023-01-21T21:06:51.352Z"
   },
   {
    "duration": 30,
    "start_time": "2023-01-21T21:06:51.359Z"
   },
   {
    "duration": 32,
    "start_time": "2023-01-21T21:06:51.396Z"
   },
   {
    "duration": 52,
    "start_time": "2023-01-21T21:06:51.430Z"
   },
   {
    "duration": 13,
    "start_time": "2023-01-21T21:06:51.490Z"
   },
   {
    "duration": 19,
    "start_time": "2023-01-21T21:07:02.442Z"
   },
   {
    "duration": 41,
    "start_time": "2023-01-21T21:11:28.906Z"
   },
   {
    "duration": 46,
    "start_time": "2023-01-21T21:12:45.996Z"
   },
   {
    "duration": 38,
    "start_time": "2023-01-21T21:12:51.996Z"
   },
   {
    "duration": 604,
    "start_time": "2023-01-21T21:14:15.939Z"
   },
   {
    "duration": 463,
    "start_time": "2023-01-21T21:14:21.410Z"
   },
   {
    "duration": 3,
    "start_time": "2023-01-21T21:14:39.841Z"
   },
   {
    "duration": 9,
    "start_time": "2023-01-21T21:14:40.017Z"
   },
   {
    "duration": 5,
    "start_time": "2023-01-21T21:14:40.994Z"
   },
   {
    "duration": 8,
    "start_time": "2023-01-21T21:14:42.225Z"
   },
   {
    "duration": 4,
    "start_time": "2023-01-21T21:14:42.638Z"
   },
   {
    "duration": 15,
    "start_time": "2023-01-21T21:14:42.886Z"
   },
   {
    "duration": 8,
    "start_time": "2023-01-21T21:14:43.732Z"
   },
   {
    "duration": 28,
    "start_time": "2023-01-21T21:14:47.064Z"
   },
   {
    "duration": 7,
    "start_time": "2023-01-21T21:15:18.524Z"
   },
   {
    "duration": 90,
    "start_time": "2023-01-21T21:15:28.709Z"
   },
   {
    "duration": 9,
    "start_time": "2023-01-21T21:16:08.633Z"
   },
   {
    "duration": 4,
    "start_time": "2023-01-21T21:16:08.806Z"
   },
   {
    "duration": 14,
    "start_time": "2023-01-21T21:16:08.996Z"
   },
   {
    "duration": 8,
    "start_time": "2023-01-21T21:16:09.150Z"
   },
   {
    "duration": 79,
    "start_time": "2023-01-21T21:16:09.522Z"
   },
   {
    "duration": 25,
    "start_time": "2023-01-21T21:16:10.168Z"
   },
   {
    "duration": 130,
    "start_time": "2023-01-21T21:19:04.201Z"
   },
   {
    "duration": 17,
    "start_time": "2023-01-21T21:19:04.447Z"
   },
   {
    "duration": 2517,
    "start_time": "2023-01-21T21:19:04.795Z"
   },
   {
    "duration": 97,
    "start_time": "2023-01-21T21:19:07.314Z"
   },
   {
    "duration": 4,
    "start_time": "2023-01-21T21:19:07.413Z"
   },
   {
    "duration": 12,
    "start_time": "2023-01-21T21:19:07.418Z"
   },
   {
    "duration": 3,
    "start_time": "2023-01-21T21:19:07.432Z"
   },
   {
    "duration": 44,
    "start_time": "2023-01-21T21:19:07.437Z"
   },
   {
    "duration": 21,
    "start_time": "2023-01-21T21:19:07.487Z"
   },
   {
    "duration": 19,
    "start_time": "2023-01-21T21:19:07.511Z"
   },
   {
    "duration": 5,
    "start_time": "2023-01-21T21:19:07.532Z"
   },
   {
    "duration": 84,
    "start_time": "2023-01-21T21:19:07.539Z"
   },
   {
    "duration": 12,
    "start_time": "2023-01-21T21:19:07.928Z"
   },
   {
    "duration": 713,
    "start_time": "2023-01-21T21:19:32.010Z"
   },
   {
    "duration": 14,
    "start_time": "2023-01-21T21:24:00.563Z"
   },
   {
    "duration": 4,
    "start_time": "2023-01-21T21:25:00.113Z"
   },
   {
    "duration": 9,
    "start_time": "2023-01-21T21:25:11.924Z"
   },
   {
    "duration": 8,
    "start_time": "2023-01-21T21:29:13.511Z"
   },
   {
    "duration": 9,
    "start_time": "2023-01-21T21:29:43.037Z"
   },
   {
    "duration": 142,
    "start_time": "2023-01-21T21:36:37.963Z"
   },
   {
    "duration": 17,
    "start_time": "2023-01-21T21:36:38.118Z"
   },
   {
    "duration": 2836,
    "start_time": "2023-01-21T21:36:38.720Z"
   },
   {
    "duration": 127,
    "start_time": "2023-01-21T21:36:41.559Z"
   },
   {
    "duration": 13,
    "start_time": "2023-01-21T21:36:41.689Z"
   },
   {
    "duration": 12,
    "start_time": "2023-01-21T21:36:42.427Z"
   },
   {
    "duration": 23,
    "start_time": "2023-01-21T21:38:45.700Z"
   },
   {
    "duration": 32,
    "start_time": "2023-01-21T21:39:00.172Z"
   },
   {
    "duration": 2245,
    "start_time": "2023-01-21T21:41:45.527Z"
   },
   {
    "duration": 4,
    "start_time": "2023-01-21T21:44:41.955Z"
   },
   {
    "duration": 20,
    "start_time": "2023-01-21T21:44:43.410Z"
   },
   {
    "duration": 11,
    "start_time": "2023-01-21T21:44:43.895Z"
   },
   {
    "duration": 19,
    "start_time": "2023-01-21T21:44:44.323Z"
   },
   {
    "duration": 5,
    "start_time": "2023-01-21T21:44:44.833Z"
   },
   {
    "duration": 5,
    "start_time": "2023-01-21T21:44:47.296Z"
   },
   {
    "duration": 2376,
    "start_time": "2023-01-21T21:44:53.098Z"
   },
   {
    "duration": 158,
    "start_time": "2023-01-21T21:45:03.451Z"
   },
   {
    "duration": 21,
    "start_time": "2023-01-21T21:45:03.625Z"
   },
   {
    "duration": 2444,
    "start_time": "2023-01-21T21:45:04.001Z"
   },
   {
    "duration": 338,
    "start_time": "2023-01-21T21:45:06.447Z"
   },
   {
    "duration": 13,
    "start_time": "2023-01-21T21:45:06.794Z"
   },
   {
    "duration": 15,
    "start_time": "2023-01-21T21:45:06.811Z"
   },
   {
    "duration": 32,
    "start_time": "2023-01-21T21:45:06.829Z"
   },
   {
    "duration": 2399,
    "start_time": "2023-01-21T21:45:06.868Z"
   },
   {
    "duration": 10,
    "start_time": "2023-01-21T21:45:09.269Z"
   },
   {
    "duration": 42,
    "start_time": "2023-01-21T21:45:09.283Z"
   },
   {
    "duration": 7,
    "start_time": "2023-01-21T21:45:09.328Z"
   },
   {
    "duration": 22,
    "start_time": "2023-01-21T21:45:09.337Z"
   },
   {
    "duration": 4,
    "start_time": "2023-01-21T21:45:09.361Z"
   },
   {
    "duration": 40,
    "start_time": "2023-01-21T21:45:09.369Z"
   },
   {
    "duration": 10,
    "start_time": "2023-01-21T21:45:18.101Z"
   },
   {
    "duration": 260,
    "start_time": "2023-01-21T21:55:47.326Z"
   },
   {
    "duration": 9,
    "start_time": "2023-01-21T21:56:36.640Z"
   },
   {
    "duration": 271,
    "start_time": "2023-01-21T21:59:02.246Z"
   },
   {
    "duration": 9,
    "start_time": "2023-01-21T21:59:09.626Z"
   },
   {
    "duration": 117,
    "start_time": "2023-01-21T22:00:10.864Z"
   },
   {
    "duration": 22,
    "start_time": "2023-01-21T22:00:11.039Z"
   },
   {
    "duration": 1965,
    "start_time": "2023-01-21T22:00:11.320Z"
   },
   {
    "duration": 71,
    "start_time": "2023-01-21T22:00:13.287Z"
   },
   {
    "duration": 14,
    "start_time": "2023-01-21T22:00:13.367Z"
   },
   {
    "duration": 11,
    "start_time": "2023-01-21T22:00:13.384Z"
   },
   {
    "duration": 17,
    "start_time": "2023-01-21T22:00:13.397Z"
   },
   {
    "duration": 2286,
    "start_time": "2023-01-21T22:00:13.416Z"
   },
   {
    "duration": 4,
    "start_time": "2023-01-21T22:00:15.705Z"
   },
   {
    "duration": 16,
    "start_time": "2023-01-21T22:00:15.711Z"
   },
   {
    "duration": 5,
    "start_time": "2023-01-21T22:00:15.728Z"
   },
   {
    "duration": 36,
    "start_time": "2023-01-21T22:00:15.735Z"
   },
   {
    "duration": 5,
    "start_time": "2023-01-21T22:00:15.772Z"
   },
   {
    "duration": 6,
    "start_time": "2023-01-21T22:00:15.780Z"
   },
   {
    "duration": 10,
    "start_time": "2023-01-21T22:00:15.788Z"
   },
   {
    "duration": 21,
    "start_time": "2023-01-21T22:02:34.863Z"
   },
   {
    "duration": 10,
    "start_time": "2023-01-21T22:03:05.496Z"
   },
   {
    "duration": 6,
    "start_time": "2023-01-21T22:06:33.623Z"
   },
   {
    "duration": 65,
    "start_time": "2023-01-21T22:09:25.519Z"
   },
   {
    "duration": 6,
    "start_time": "2023-01-21T22:10:36.094Z"
   },
   {
    "duration": 733,
    "start_time": "2023-01-21T22:11:10.000Z"
   },
   {
    "duration": 9,
    "start_time": "2023-01-21T22:11:29.881Z"
   },
   {
    "duration": 9,
    "start_time": "2023-01-21T22:11:34.878Z"
   },
   {
    "duration": 7,
    "start_time": "2023-01-21T22:11:42.215Z"
   },
   {
    "duration": 8,
    "start_time": "2023-01-21T22:12:01.923Z"
   },
   {
    "duration": 52,
    "start_time": "2023-01-21T22:13:17.097Z"
   },
   {
    "duration": 416,
    "start_time": "2023-01-21T22:13:21.679Z"
   },
   {
    "duration": 34,
    "start_time": "2023-01-21T22:13:45.602Z"
   },
   {
    "duration": 4,
    "start_time": "2023-01-21T22:13:58.385Z"
   },
   {
    "duration": 554,
    "start_time": "2023-01-21T22:14:04.551Z"
   },
   {
    "duration": 46,
    "start_time": "2023-01-21T22:14:25.329Z"
   },
   {
    "duration": 7,
    "start_time": "2023-01-21T22:14:46.664Z"
   },
   {
    "duration": 8,
    "start_time": "2023-01-21T22:14:58.322Z"
   },
   {
    "duration": 51,
    "start_time": "2023-01-21T22:15:20.664Z"
   },
   {
    "duration": 77,
    "start_time": "2023-01-21T22:17:08.089Z"
   },
   {
    "duration": 14,
    "start_time": "2023-01-21T22:18:34.950Z"
   },
   {
    "duration": 29,
    "start_time": "2023-01-21T22:18:39.992Z"
   },
   {
    "duration": 6,
    "start_time": "2023-01-21T22:19:47.764Z"
   },
   {
    "duration": 67,
    "start_time": "2023-01-21T22:19:58.366Z"
   },
   {
    "duration": 25,
    "start_time": "2023-01-21T22:20:39.137Z"
   },
   {
    "duration": 29,
    "start_time": "2023-01-21T22:21:47.789Z"
   },
   {
    "duration": 22,
    "start_time": "2023-01-21T22:23:33.540Z"
   },
   {
    "duration": 58,
    "start_time": "2023-01-21T22:23:41.932Z"
   },
   {
    "duration": 12,
    "start_time": "2023-01-21T22:25:00.470Z"
   },
   {
    "duration": 58,
    "start_time": "2023-01-21T22:25:35.815Z"
   },
   {
    "duration": 113,
    "start_time": "2023-01-21T22:26:22.031Z"
   },
   {
    "duration": 14,
    "start_time": "2023-01-21T22:26:22.211Z"
   },
   {
    "duration": 1946,
    "start_time": "2023-01-21T22:26:22.513Z"
   },
   {
    "duration": 69,
    "start_time": "2023-01-21T22:26:24.461Z"
   },
   {
    "duration": 3,
    "start_time": "2023-01-21T22:26:24.532Z"
   },
   {
    "duration": 13,
    "start_time": "2023-01-21T22:26:24.537Z"
   },
   {
    "duration": 29,
    "start_time": "2023-01-21T22:26:24.551Z"
   },
   {
    "duration": 1934,
    "start_time": "2023-01-21T22:26:24.581Z"
   },
   {
    "duration": 4,
    "start_time": "2023-01-21T22:26:26.517Z"
   },
   {
    "duration": 17,
    "start_time": "2023-01-21T22:26:26.524Z"
   },
   {
    "duration": 5,
    "start_time": "2023-01-21T22:26:26.543Z"
   },
   {
    "duration": 17,
    "start_time": "2023-01-21T22:26:26.567Z"
   },
   {
    "duration": 4,
    "start_time": "2023-01-21T22:26:26.585Z"
   },
   {
    "duration": 4,
    "start_time": "2023-01-21T22:26:26.590Z"
   },
   {
    "duration": 72,
    "start_time": "2023-01-21T22:26:26.596Z"
   },
   {
    "duration": 53,
    "start_time": "2023-01-21T22:26:27.107Z"
   },
   {
    "duration": 9,
    "start_time": "2023-01-21T22:26:28.921Z"
   },
   {
    "duration": 7,
    "start_time": "2023-01-21T22:26:47.929Z"
   },
   {
    "duration": 53,
    "start_time": "2023-01-21T22:26:53.033Z"
   },
   {
    "duration": 7,
    "start_time": "2023-01-21T22:26:56.247Z"
   },
   {
    "duration": 1275,
    "start_time": "2023-01-21T22:27:45.259Z"
   },
   {
    "duration": 14,
    "start_time": "2023-01-21T22:27:46.536Z"
   },
   {
    "duration": 1993,
    "start_time": "2023-01-21T22:27:46.551Z"
   },
   {
    "duration": 146,
    "start_time": "2023-01-21T22:27:48.546Z"
   },
   {
    "duration": 3,
    "start_time": "2023-01-21T22:27:48.693Z"
   },
   {
    "duration": 11,
    "start_time": "2023-01-21T22:27:48.698Z"
   },
   {
    "duration": 16,
    "start_time": "2023-01-21T22:27:48.710Z"
   },
   {
    "duration": 1994,
    "start_time": "2023-01-21T22:27:48.727Z"
   },
   {
    "duration": 3,
    "start_time": "2023-01-21T22:27:50.723Z"
   },
   {
    "duration": 18,
    "start_time": "2023-01-21T22:27:50.728Z"
   },
   {
    "duration": 5,
    "start_time": "2023-01-21T22:27:50.747Z"
   },
   {
    "duration": 16,
    "start_time": "2023-01-21T22:27:50.767Z"
   },
   {
    "duration": 4,
    "start_time": "2023-01-21T22:27:50.942Z"
   },
   {
    "duration": 4,
    "start_time": "2023-01-21T22:27:51.591Z"
   },
   {
    "duration": 7,
    "start_time": "2023-01-21T22:27:52.105Z"
   },
   {
    "duration": 49,
    "start_time": "2023-01-21T22:27:52.970Z"
   },
   {
    "duration": 6,
    "start_time": "2023-01-21T22:27:59.912Z"
   },
   {
    "duration": 11,
    "start_time": "2023-01-21T22:28:10.338Z"
   },
   {
    "duration": 148,
    "start_time": "2023-01-21T22:30:06.683Z"
   },
   {
    "duration": 118,
    "start_time": "2023-01-21T22:30:13.170Z"
   },
   {
    "duration": 14,
    "start_time": "2023-01-21T22:30:13.342Z"
   },
   {
    "duration": 1987,
    "start_time": "2023-01-21T22:30:13.666Z"
   },
   {
    "duration": 179,
    "start_time": "2023-01-21T22:30:15.655Z"
   },
   {
    "duration": 3,
    "start_time": "2023-01-21T22:30:15.836Z"
   },
   {
    "duration": 14,
    "start_time": "2023-01-21T22:30:15.841Z"
   },
   {
    "duration": 24,
    "start_time": "2023-01-21T22:30:15.856Z"
   },
   {
    "duration": 1992,
    "start_time": "2023-01-21T22:30:15.882Z"
   },
   {
    "duration": 3,
    "start_time": "2023-01-21T22:30:17.876Z"
   },
   {
    "duration": 16,
    "start_time": "2023-01-21T22:30:17.882Z"
   },
   {
    "duration": 6,
    "start_time": "2023-01-21T22:30:17.899Z"
   },
   {
    "duration": 19,
    "start_time": "2023-01-21T22:30:17.906Z"
   },
   {
    "duration": 3,
    "start_time": "2023-01-21T22:30:17.926Z"
   },
   {
    "duration": 4,
    "start_time": "2023-01-21T22:30:17.931Z"
   },
   {
    "duration": 51,
    "start_time": "2023-01-21T22:30:17.936Z"
   },
   {
    "duration": 56,
    "start_time": "2023-01-21T22:30:23.112Z"
   },
   {
    "duration": 39,
    "start_time": "2023-01-21T22:30:26.504Z"
   },
   {
    "duration": 13,
    "start_time": "2023-01-21T22:30:36.251Z"
   },
   {
    "duration": 121,
    "start_time": "2023-01-21T22:32:29.835Z"
   },
   {
    "duration": 18,
    "start_time": "2023-01-21T22:32:30.018Z"
   },
   {
    "duration": 1780,
    "start_time": "2023-01-21T22:32:30.380Z"
   },
   {
    "duration": 210,
    "start_time": "2023-01-21T22:32:32.162Z"
   },
   {
    "duration": 3,
    "start_time": "2023-01-21T22:32:32.374Z"
   },
   {
    "duration": 15,
    "start_time": "2023-01-21T22:32:32.379Z"
   },
   {
    "duration": 15,
    "start_time": "2023-01-21T22:32:32.395Z"
   },
   {
    "duration": 1879,
    "start_time": "2023-01-21T22:32:32.411Z"
   },
   {
    "duration": 4,
    "start_time": "2023-01-21T22:32:34.291Z"
   },
   {
    "duration": 26,
    "start_time": "2023-01-21T22:32:34.297Z"
   },
   {
    "duration": 6,
    "start_time": "2023-01-21T22:32:34.324Z"
   },
   {
    "duration": 26,
    "start_time": "2023-01-21T22:32:34.331Z"
   },
   {
    "duration": 10,
    "start_time": "2023-01-21T22:32:34.358Z"
   },
   {
    "duration": 4,
    "start_time": "2023-01-21T22:32:34.370Z"
   },
   {
    "duration": 13,
    "start_time": "2023-01-21T22:32:38.755Z"
   },
   {
    "duration": 9,
    "start_time": "2023-01-21T22:32:47.074Z"
   },
   {
    "duration": 61,
    "start_time": "2023-01-21T22:33:21.116Z"
   },
   {
    "duration": 27,
    "start_time": "2023-01-21T22:34:26.494Z"
   },
   {
    "duration": 98,
    "start_time": "2023-01-21T22:35:22.412Z"
   },
   {
    "duration": 27,
    "start_time": "2023-01-21T22:35:50.188Z"
   },
   {
    "duration": 19,
    "start_time": "2023-01-21T22:36:38.278Z"
   },
   {
    "duration": 13,
    "start_time": "2023-01-21T22:36:45.508Z"
   },
   {
    "duration": 27,
    "start_time": "2023-01-21T22:36:50.198Z"
   },
   {
    "duration": 54,
    "start_time": "2023-01-21T22:41:12.384Z"
   },
   {
    "duration": 10,
    "start_time": "2023-01-21T22:41:26.504Z"
   },
   {
    "duration": 8,
    "start_time": "2023-01-21T22:42:00.912Z"
   },
   {
    "duration": 2165,
    "start_time": "2023-01-21T22:43:42.129Z"
   },
   {
    "duration": 20,
    "start_time": "2023-01-21T22:44:28.889Z"
   },
   {
    "duration": 105,
    "start_time": "2023-01-21T22:44:42.016Z"
   },
   {
    "duration": 15,
    "start_time": "2023-01-21T22:44:42.177Z"
   },
   {
    "duration": 1790,
    "start_time": "2023-01-21T22:44:42.489Z"
   },
   {
    "duration": 226,
    "start_time": "2023-01-21T22:44:44.281Z"
   },
   {
    "duration": 3,
    "start_time": "2023-01-21T22:44:44.508Z"
   },
   {
    "duration": 11,
    "start_time": "2023-01-21T22:44:44.513Z"
   },
   {
    "duration": 14,
    "start_time": "2023-01-21T22:44:44.525Z"
   },
   {
    "duration": 1942,
    "start_time": "2023-01-21T22:44:44.541Z"
   },
   {
    "duration": 4,
    "start_time": "2023-01-21T22:44:46.485Z"
   },
   {
    "duration": 21,
    "start_time": "2023-01-21T22:44:46.490Z"
   },
   {
    "duration": 5,
    "start_time": "2023-01-21T22:44:46.514Z"
   },
   {
    "duration": 16,
    "start_time": "2023-01-21T22:44:46.520Z"
   },
   {
    "duration": 3,
    "start_time": "2023-01-21T22:44:46.538Z"
   },
   {
    "duration": 26,
    "start_time": "2023-01-21T22:44:46.542Z"
   },
   {
    "duration": 21,
    "start_time": "2023-01-21T22:44:46.569Z"
   },
   {
    "duration": 9,
    "start_time": "2023-01-21T22:44:46.613Z"
   },
   {
    "duration": 708,
    "start_time": "2023-01-21T22:45:16.432Z"
   },
   {
    "duration": 6,
    "start_time": "2023-01-21T22:45:37.633Z"
   },
   {
    "duration": 34,
    "start_time": "2023-01-21T22:46:47.081Z"
   },
   {
    "duration": 6,
    "start_time": "2023-01-21T22:47:21.003Z"
   },
   {
    "duration": 6,
    "start_time": "2023-01-21T22:47:42.233Z"
   },
   {
    "duration": 506,
    "start_time": "2023-01-21T22:49:50.207Z"
   },
   {
    "duration": 25,
    "start_time": "2023-01-21T22:50:59.658Z"
   },
   {
    "duration": 5,
    "start_time": "2023-01-21T22:51:47.604Z"
   },
   {
    "duration": 23,
    "start_time": "2023-01-21T22:51:48.070Z"
   },
   {
    "duration": 4,
    "start_time": "2023-01-21T22:52:29.276Z"
   },
   {
    "duration": 37,
    "start_time": "2023-01-21T22:52:33.491Z"
   },
   {
    "duration": 226,
    "start_time": "2023-01-21T22:53:44.412Z"
   },
   {
    "duration": 16,
    "start_time": "2023-01-21T22:54:32.732Z"
   },
   {
    "duration": 42,
    "start_time": "2023-01-21T22:54:44.028Z"
   },
   {
    "duration": 34,
    "start_time": "2023-01-21T22:54:48.756Z"
   },
   {
    "duration": 42,
    "start_time": "2023-01-21T22:55:00.820Z"
   },
   {
    "duration": 32,
    "start_time": "2023-01-21T22:56:17.630Z"
   },
   {
    "duration": 6,
    "start_time": "2023-01-21T22:58:36.711Z"
   },
   {
    "duration": 6,
    "start_time": "2023-01-21T22:58:52.525Z"
   },
   {
    "duration": 4,
    "start_time": "2023-01-21T22:59:01.502Z"
   },
   {
    "duration": 31,
    "start_time": "2023-01-21T22:59:26.519Z"
   },
   {
    "duration": 13,
    "start_time": "2023-01-21T22:59:49.063Z"
   },
   {
    "duration": 18,
    "start_time": "2023-01-21T22:59:54.912Z"
   },
   {
    "duration": 14,
    "start_time": "2023-01-21T23:00:05.463Z"
   },
   {
    "duration": 15,
    "start_time": "2023-01-21T23:00:17.422Z"
   },
   {
    "duration": 1799,
    "start_time": "2023-01-21T23:01:05.159Z"
   },
   {
    "duration": 45,
    "start_time": "2023-01-21T23:02:09.640Z"
   },
   {
    "duration": 48,
    "start_time": "2023-01-21T23:02:14.023Z"
   },
   {
    "duration": 3,
    "start_time": "2023-01-21T23:02:21.463Z"
   },
   {
    "duration": 17,
    "start_time": "2023-01-21T23:02:38.096Z"
   },
   {
    "duration": 16,
    "start_time": "2023-01-21T23:03:00.630Z"
   },
   {
    "duration": 708,
    "start_time": "2023-01-21T23:04:54.601Z"
   },
   {
    "duration": 11,
    "start_time": "2023-01-21T23:05:49.080Z"
   },
   {
    "duration": 351,
    "start_time": "2023-01-21T23:06:46.241Z"
   },
   {
    "duration": 428,
    "start_time": "2023-01-21T23:07:00.741Z"
   },
   {
    "duration": 38,
    "start_time": "2023-01-21T23:07:15.120Z"
   },
   {
    "duration": 14,
    "start_time": "2023-01-21T23:07:37.065Z"
   },
   {
    "duration": 9,
    "start_time": "2023-01-21T23:07:45.313Z"
   },
   {
    "duration": 6,
    "start_time": "2023-01-21T23:08:02.194Z"
   },
   {
    "duration": 6,
    "start_time": "2023-01-21T23:08:10.641Z"
   },
   {
    "duration": 56,
    "start_time": "2023-01-21T23:08:17.038Z"
   },
   {
    "duration": 26,
    "start_time": "2023-01-21T23:09:30.795Z"
   },
   {
    "duration": 17,
    "start_time": "2023-01-21T23:13:55.315Z"
   },
   {
    "duration": 60,
    "start_time": "2023-01-21T23:14:04.380Z"
   },
   {
    "duration": 4,
    "start_time": "2023-01-21T23:17:38.758Z"
   },
   {
    "duration": 56,
    "start_time": "2023-01-21T23:17:43.557Z"
   },
   {
    "duration": 7,
    "start_time": "2023-01-21T23:19:07.512Z"
   },
   {
    "duration": 7,
    "start_time": "2023-01-21T23:19:17.308Z"
   },
   {
    "duration": 8,
    "start_time": "2023-01-21T23:19:25.244Z"
   },
   {
    "duration": 6,
    "start_time": "2023-01-21T23:19:41.757Z"
   },
   {
    "duration": 11,
    "start_time": "2023-01-21T23:19:52.974Z"
   },
   {
    "duration": 7,
    "start_time": "2023-01-21T23:19:57.117Z"
   },
   {
    "duration": 2297,
    "start_time": "2023-01-22T13:35:48.508Z"
   },
   {
    "duration": 17,
    "start_time": "2023-01-22T13:35:50.807Z"
   },
   {
    "duration": 2115,
    "start_time": "2023-01-22T13:35:50.826Z"
   },
   {
    "duration": 187,
    "start_time": "2023-01-22T13:35:52.943Z"
   },
   {
    "duration": 3,
    "start_time": "2023-01-22T13:35:53.131Z"
   },
   {
    "duration": 27,
    "start_time": "2023-01-22T13:35:53.136Z"
   },
   {
    "duration": 35,
    "start_time": "2023-01-22T13:35:53.167Z"
   },
   {
    "duration": 2217,
    "start_time": "2023-01-22T13:35:53.204Z"
   },
   {
    "duration": 4,
    "start_time": "2023-01-22T13:35:55.424Z"
   },
   {
    "duration": 29,
    "start_time": "2023-01-22T13:35:55.430Z"
   },
   {
    "duration": 6,
    "start_time": "2023-01-22T13:35:55.460Z"
   },
   {
    "duration": 34,
    "start_time": "2023-01-22T13:35:55.468Z"
   },
   {
    "duration": 3,
    "start_time": "2023-01-22T13:35:55.504Z"
   },
   {
    "duration": 4,
    "start_time": "2023-01-22T13:35:55.509Z"
   },
   {
    "duration": 11,
    "start_time": "2023-01-22T13:35:55.515Z"
   },
   {
    "duration": 15,
    "start_time": "2023-01-22T13:35:55.528Z"
   },
   {
    "duration": 36,
    "start_time": "2023-01-22T13:40:22.277Z"
   },
   {
    "duration": 5,
    "start_time": "2023-01-22T13:40:40.331Z"
   },
   {
    "duration": 614,
    "start_time": "2023-01-22T13:41:42.617Z"
   },
   {
    "duration": 554,
    "start_time": "2023-01-22T13:41:54.280Z"
   },
   {
    "duration": 621,
    "start_time": "2023-01-22T13:42:09.518Z"
   },
   {
    "duration": 44,
    "start_time": "2023-01-22T13:43:09.103Z"
   },
   {
    "duration": 56,
    "start_time": "2023-01-22T13:43:33.501Z"
   },
   {
    "duration": 87,
    "start_time": "2023-01-22T13:44:08.010Z"
   },
   {
    "duration": 3,
    "start_time": "2023-01-22T13:44:52.923Z"
   },
   {
    "duration": 4,
    "start_time": "2023-01-22T13:45:08.097Z"
   },
   {
    "duration": 44,
    "start_time": "2023-01-22T13:45:18.871Z"
   },
   {
    "duration": 40,
    "start_time": "2023-01-22T13:45:42.716Z"
   },
   {
    "duration": 8,
    "start_time": "2023-01-22T13:46:05.876Z"
   },
   {
    "duration": 9,
    "start_time": "2023-01-22T13:46:32.285Z"
   },
   {
    "duration": 6,
    "start_time": "2023-01-22T13:46:49.692Z"
   },
   {
    "duration": 6,
    "start_time": "2023-01-22T13:46:50.113Z"
   },
   {
    "duration": 10,
    "start_time": "2023-01-22T13:46:58.875Z"
   },
   {
    "duration": 15,
    "start_time": "2023-01-22T13:46:59.176Z"
   },
   {
    "duration": 7,
    "start_time": "2023-01-22T13:47:05.680Z"
   },
   {
    "duration": 6,
    "start_time": "2023-01-22T13:47:06.522Z"
   },
   {
    "duration": 6,
    "start_time": "2023-01-22T13:47:14.099Z"
   },
   {
    "duration": 7,
    "start_time": "2023-01-22T13:47:14.272Z"
   },
   {
    "duration": 7,
    "start_time": "2023-01-22T13:47:22.082Z"
   },
   {
    "duration": 15,
    "start_time": "2023-01-22T13:47:22.247Z"
   },
   {
    "duration": 8,
    "start_time": "2023-01-22T13:47:28.883Z"
   },
   {
    "duration": 12,
    "start_time": "2023-01-22T13:47:29.066Z"
   },
   {
    "duration": 7,
    "start_time": "2023-01-22T13:47:43.011Z"
   },
   {
    "duration": 6,
    "start_time": "2023-01-22T13:47:43.592Z"
   },
   {
    "duration": 6,
    "start_time": "2023-01-22T13:47:50.293Z"
   },
   {
    "duration": 7,
    "start_time": "2023-01-22T13:47:50.490Z"
   },
   {
    "duration": 6,
    "start_time": "2023-01-22T13:48:12.331Z"
   },
   {
    "duration": 7,
    "start_time": "2023-01-22T13:48:12.480Z"
   },
   {
    "duration": 7,
    "start_time": "2023-01-22T13:48:19.533Z"
   },
   {
    "duration": 6,
    "start_time": "2023-01-22T13:48:20.901Z"
   },
   {
    "duration": 6,
    "start_time": "2023-01-22T13:48:30.629Z"
   },
   {
    "duration": 8,
    "start_time": "2023-01-22T13:48:30.789Z"
   },
   {
    "duration": 26,
    "start_time": "2023-01-22T13:49:10.792Z"
   },
   {
    "duration": 20,
    "start_time": "2023-01-22T13:49:17.602Z"
   },
   {
    "duration": 8,
    "start_time": "2023-01-22T13:49:57.880Z"
   },
   {
    "duration": 347,
    "start_time": "2023-01-22T13:50:52.039Z"
   },
   {
    "duration": 5,
    "start_time": "2023-01-22T13:51:39.580Z"
   },
   {
    "duration": 40,
    "start_time": "2023-01-22T13:53:28.817Z"
   },
   {
    "duration": 630,
    "start_time": "2023-01-22T13:53:38.412Z"
   },
   {
    "duration": 13,
    "start_time": "2023-01-22T13:53:58.813Z"
   },
   {
    "duration": 21,
    "start_time": "2023-01-22T13:55:23.773Z"
   },
   {
    "duration": 7,
    "start_time": "2023-01-22T13:56:25.878Z"
   },
   {
    "duration": 11,
    "start_time": "2023-01-22T13:57:31.408Z"
   },
   {
    "duration": 23,
    "start_time": "2023-01-22T13:57:40.884Z"
   },
   {
    "duration": 58,
    "start_time": "2023-01-22T13:57:50.861Z"
   },
   {
    "duration": 57,
    "start_time": "2023-01-22T13:58:04.486Z"
   },
   {
    "duration": 8,
    "start_time": "2023-01-22T13:59:25.275Z"
   },
   {
    "duration": 8,
    "start_time": "2023-01-22T13:59:32.825Z"
   },
   {
    "duration": 9,
    "start_time": "2023-01-22T13:59:39.484Z"
   },
   {
    "duration": 11,
    "start_time": "2023-01-22T14:00:06.662Z"
   },
   {
    "duration": 57,
    "start_time": "2023-01-22T14:00:53.888Z"
   },
   {
    "duration": 55,
    "start_time": "2023-01-22T14:01:01.284Z"
   },
   {
    "duration": 12,
    "start_time": "2023-01-22T14:01:29.783Z"
   },
   {
    "duration": 64,
    "start_time": "2023-01-22T14:01:46.939Z"
   },
   {
    "duration": 219,
    "start_time": "2023-01-22T14:04:42.519Z"
   },
   {
    "duration": 17419,
    "start_time": "2023-01-22T14:11:48.680Z"
   },
   {
    "duration": 154,
    "start_time": "2023-01-22T14:12:47.813Z"
   },
   {
    "duration": 32,
    "start_time": "2023-01-22T14:12:59.435Z"
   },
   {
    "duration": 2209,
    "start_time": "2023-01-22T14:13:35.339Z"
   },
   {
    "duration": 57,
    "start_time": "2023-01-22T14:13:46.584Z"
   },
   {
    "duration": 92,
    "start_time": "2023-01-22T14:14:29.535Z"
   },
   {
    "duration": 180,
    "start_time": "2023-01-22T14:16:54.385Z"
   },
   {
    "duration": 21,
    "start_time": "2023-01-22T14:16:54.567Z"
   },
   {
    "duration": 2946,
    "start_time": "2023-01-22T14:16:54.882Z"
   },
   {
    "duration": 118,
    "start_time": "2023-01-22T14:16:57.836Z"
   },
   {
    "duration": 5,
    "start_time": "2023-01-22T14:16:57.959Z"
   },
   {
    "duration": 22,
    "start_time": "2023-01-22T14:16:57.969Z"
   },
   {
    "duration": 121,
    "start_time": "2023-01-22T14:16:57.996Z"
   },
   {
    "duration": 3339,
    "start_time": "2023-01-22T14:16:58.122Z"
   },
   {
    "duration": 7,
    "start_time": "2023-01-22T14:17:01.463Z"
   },
   {
    "duration": 95,
    "start_time": "2023-01-22T14:17:01.475Z"
   },
   {
    "duration": 51,
    "start_time": "2023-01-22T14:17:01.574Z"
   },
   {
    "duration": 99,
    "start_time": "2023-01-22T14:17:01.630Z"
   },
   {
    "duration": 22,
    "start_time": "2023-01-22T14:17:01.738Z"
   },
   {
    "duration": 51,
    "start_time": "2023-01-22T14:17:01.763Z"
   },
   {
    "duration": 35,
    "start_time": "2023-01-22T14:17:01.818Z"
   },
   {
    "duration": 197,
    "start_time": "2023-01-22T14:17:01.857Z"
   },
   {
    "duration": 6,
    "start_time": "2023-01-22T14:17:02.056Z"
   },
   {
    "duration": 6,
    "start_time": "2023-01-22T14:17:31.688Z"
   },
   {
    "duration": 12,
    "start_time": "2023-01-22T14:17:42.193Z"
   },
   {
    "duration": 7,
    "start_time": "2023-01-22T14:17:51.740Z"
   },
   {
    "duration": 9,
    "start_time": "2023-01-22T14:18:13.716Z"
   },
   {
    "duration": 8,
    "start_time": "2023-01-22T14:19:24.219Z"
   },
   {
    "duration": 10,
    "start_time": "2023-01-22T14:19:45.493Z"
   },
   {
    "duration": 10,
    "start_time": "2023-01-22T14:19:57.998Z"
   },
   {
    "duration": 13,
    "start_time": "2023-01-22T14:21:37.504Z"
   },
   {
    "duration": 13,
    "start_time": "2023-01-22T14:21:55.000Z"
   },
   {
    "duration": 17,
    "start_time": "2023-01-22T14:23:03.512Z"
   },
   {
    "duration": 10,
    "start_time": "2023-01-22T14:23:17.004Z"
   },
   {
    "duration": 7,
    "start_time": "2023-01-22T14:23:28.019Z"
   },
   {
    "duration": 8,
    "start_time": "2023-01-22T14:25:27.890Z"
   },
   {
    "duration": 6,
    "start_time": "2023-01-22T14:25:45.992Z"
   },
   {
    "duration": 89,
    "start_time": "2023-01-22T14:26:11.476Z"
   },
   {
    "duration": 87,
    "start_time": "2023-01-22T14:26:19.476Z"
   },
   {
    "duration": 19,
    "start_time": "2023-01-22T14:26:37.092Z"
   },
   {
    "duration": 28,
    "start_time": "2023-01-22T14:26:50.290Z"
   },
   {
    "duration": 44,
    "start_time": "2023-01-22T14:26:55.178Z"
   },
   {
    "duration": 54,
    "start_time": "2023-01-22T14:28:45.481Z"
   },
   {
    "duration": 104,
    "start_time": "2023-01-22T14:30:09.119Z"
   },
   {
    "duration": 55,
    "start_time": "2023-01-22T14:30:23.468Z"
   },
   {
    "duration": 12,
    "start_time": "2023-01-22T14:30:41.917Z"
   },
   {
    "duration": 62,
    "start_time": "2023-01-22T14:30:50.826Z"
   },
   {
    "duration": 8,
    "start_time": "2023-01-22T14:31:08.921Z"
   },
   {
    "duration": 34,
    "start_time": "2023-01-22T14:31:16.432Z"
   },
   {
    "duration": 10,
    "start_time": "2023-01-22T14:32:25.416Z"
   },
   {
    "duration": 114,
    "start_time": "2023-01-22T14:33:44.282Z"
   },
   {
    "duration": 97,
    "start_time": "2023-01-22T14:34:04.807Z"
   },
   {
    "duration": 7,
    "start_time": "2023-01-22T14:34:18.715Z"
   },
   {
    "duration": 46,
    "start_time": "2023-01-22T14:34:32.175Z"
   },
   {
    "duration": 189,
    "start_time": "2023-01-22T14:34:58.719Z"
   },
   {
    "duration": 25,
    "start_time": "2023-01-22T14:34:58.914Z"
   },
   {
    "duration": 2978,
    "start_time": "2023-01-22T14:34:59.138Z"
   },
   {
    "duration": 104,
    "start_time": "2023-01-22T14:35:02.118Z"
   },
   {
    "duration": 12,
    "start_time": "2023-01-22T14:35:02.224Z"
   },
   {
    "duration": 44,
    "start_time": "2023-01-22T14:35:02.239Z"
   },
   {
    "duration": 64,
    "start_time": "2023-01-22T14:35:02.285Z"
   },
   {
    "duration": 3032,
    "start_time": "2023-01-22T14:35:02.356Z"
   },
   {
    "duration": 12,
    "start_time": "2023-01-22T14:35:05.392Z"
   },
   {
    "duration": 48,
    "start_time": "2023-01-22T14:35:05.406Z"
   },
   {
    "duration": 25,
    "start_time": "2023-01-22T14:35:05.461Z"
   },
   {
    "duration": 48,
    "start_time": "2023-01-22T14:35:05.488Z"
   },
   {
    "duration": 20,
    "start_time": "2023-01-22T14:35:05.538Z"
   },
   {
    "duration": 80,
    "start_time": "2023-01-22T14:35:05.560Z"
   },
   {
    "duration": 43,
    "start_time": "2023-01-22T14:35:05.641Z"
   },
   {
    "duration": 122,
    "start_time": "2023-01-22T14:35:05.686Z"
   },
   {
    "duration": 108,
    "start_time": "2023-01-22T14:35:05.810Z"
   },
   {
    "duration": 55,
    "start_time": "2023-01-22T14:35:43.149Z"
   },
   {
    "duration": 48,
    "start_time": "2023-01-22T14:35:50.321Z"
   },
   {
    "duration": 92,
    "start_time": "2023-01-22T14:35:56.385Z"
   },
   {
    "duration": 220,
    "start_time": "2023-01-22T14:37:16.434Z"
   },
   {
    "duration": 19,
    "start_time": "2023-01-22T14:37:16.665Z"
   },
   {
    "duration": 2823,
    "start_time": "2023-01-22T14:37:16.895Z"
   },
   {
    "duration": 91,
    "start_time": "2023-01-22T14:37:19.721Z"
   },
   {
    "duration": 4,
    "start_time": "2023-01-22T14:37:19.817Z"
   },
   {
    "duration": 15,
    "start_time": "2023-01-22T14:37:19.824Z"
   },
   {
    "duration": 42,
    "start_time": "2023-01-22T14:37:19.841Z"
   },
   {
    "duration": 3154,
    "start_time": "2023-01-22T14:37:19.884Z"
   },
   {
    "duration": 11,
    "start_time": "2023-01-22T14:37:23.040Z"
   },
   {
    "duration": 76,
    "start_time": "2023-01-22T14:37:23.052Z"
   },
   {
    "duration": 7,
    "start_time": "2023-01-22T14:37:23.130Z"
   },
   {
    "duration": 76,
    "start_time": "2023-01-22T14:37:23.140Z"
   },
   {
    "duration": 10,
    "start_time": "2023-01-22T14:37:23.219Z"
   },
   {
    "duration": 9,
    "start_time": "2023-01-22T14:37:23.231Z"
   },
   {
    "duration": 13,
    "start_time": "2023-01-22T14:37:23.585Z"
   },
   {
    "duration": 95,
    "start_time": "2023-01-22T14:37:23.832Z"
   },
   {
    "duration": 95,
    "start_time": "2023-01-22T14:37:27.467Z"
   },
   {
    "duration": 13,
    "start_time": "2023-01-22T14:37:52.433Z"
   },
   {
    "duration": 101,
    "start_time": "2023-01-22T14:38:01.929Z"
   },
   {
    "duration": 104,
    "start_time": "2023-01-22T14:38:57.777Z"
   },
   {
    "duration": 19,
    "start_time": "2023-01-22T14:38:57.921Z"
   },
   {
    "duration": 98,
    "start_time": "2023-01-22T14:38:58.115Z"
   },
   {
    "duration": 17,
    "start_time": "2023-01-22T14:42:49.680Z"
   },
   {
    "duration": 18,
    "start_time": "2023-01-22T14:42:56.501Z"
   },
   {
    "duration": 1618,
    "start_time": "2023-01-22T15:24:20.340Z"
   },
   {
    "duration": 16,
    "start_time": "2023-01-22T15:24:21.960Z"
   },
   {
    "duration": 2158,
    "start_time": "2023-01-22T15:24:21.978Z"
   },
   {
    "duration": 173,
    "start_time": "2023-01-22T15:24:24.138Z"
   },
   {
    "duration": 4,
    "start_time": "2023-01-22T15:24:24.313Z"
   },
   {
    "duration": 43,
    "start_time": "2023-01-22T15:24:24.319Z"
   },
   {
    "duration": 19,
    "start_time": "2023-01-22T15:24:27.354Z"
   },
   {
    "duration": 2268,
    "start_time": "2023-01-22T15:24:27.524Z"
   },
   {
    "duration": 4,
    "start_time": "2023-01-22T15:24:29.794Z"
   },
   {
    "duration": 26,
    "start_time": "2023-01-22T15:24:29.799Z"
   },
   {
    "duration": 14,
    "start_time": "2023-01-22T15:24:29.827Z"
   },
   {
    "duration": 22,
    "start_time": "2023-01-22T15:24:29.843Z"
   },
   {
    "duration": 3,
    "start_time": "2023-01-22T15:24:29.867Z"
   },
   {
    "duration": 12,
    "start_time": "2023-01-22T15:24:29.872Z"
   },
   {
    "duration": 11,
    "start_time": "2023-01-22T15:24:29.885Z"
   },
   {
    "duration": 67,
    "start_time": "2023-01-22T15:24:29.898Z"
   },
   {
    "duration": 68,
    "start_time": "2023-01-22T15:24:30.393Z"
   },
   {
    "duration": 111,
    "start_time": "2023-01-22T15:24:31.589Z"
   },
   {
    "duration": 6,
    "start_time": "2023-01-22T15:24:55.780Z"
   },
   {
    "duration": 59,
    "start_time": "2023-01-22T15:27:31.235Z"
   },
   {
    "duration": 10,
    "start_time": "2023-01-22T15:28:25.789Z"
   },
   {
    "duration": 9,
    "start_time": "2023-01-22T15:28:49.907Z"
   },
   {
    "duration": 15,
    "start_time": "2023-01-22T15:28:51.612Z"
   },
   {
    "duration": 40,
    "start_time": "2023-01-22T15:29:10.885Z"
   },
   {
    "duration": 18,
    "start_time": "2023-01-22T15:34:57.713Z"
   },
   {
    "duration": 5,
    "start_time": "2023-01-22T15:36:24.749Z"
   },
   {
    "duration": 632,
    "start_time": "2023-01-22T15:41:08.804Z"
   },
   {
    "duration": 15,
    "start_time": "2023-01-22T15:41:51.205Z"
   },
   {
    "duration": 10,
    "start_time": "2023-01-22T15:42:04.804Z"
   },
   {
    "duration": 12,
    "start_time": "2023-01-22T15:43:28.300Z"
   },
   {
    "duration": 13,
    "start_time": "2023-01-22T15:52:16.674Z"
   },
   {
    "duration": 10,
    "start_time": "2023-01-22T15:54:27.401Z"
   },
   {
    "duration": 4,
    "start_time": "2023-01-22T15:54:53.067Z"
   },
   {
    "duration": 5,
    "start_time": "2023-01-22T15:54:57.953Z"
   },
   {
    "duration": 116,
    "start_time": "2023-01-22T15:55:16.943Z"
   },
   {
    "duration": 16,
    "start_time": "2023-01-22T15:55:17.081Z"
   },
   {
    "duration": 2176,
    "start_time": "2023-01-22T15:55:17.568Z"
   },
   {
    "duration": 75,
    "start_time": "2023-01-22T15:55:19.746Z"
   },
   {
    "duration": 18,
    "start_time": "2023-01-22T15:55:19.823Z"
   },
   {
    "duration": 17,
    "start_time": "2023-01-22T15:55:19.843Z"
   },
   {
    "duration": 17,
    "start_time": "2023-01-22T15:55:19.862Z"
   },
   {
    "duration": 2072,
    "start_time": "2023-01-22T15:55:19.881Z"
   },
   {
    "duration": 4,
    "start_time": "2023-01-22T15:55:21.955Z"
   },
   {
    "duration": 36,
    "start_time": "2023-01-22T15:55:21.960Z"
   },
   {
    "duration": 13,
    "start_time": "2023-01-22T15:55:21.998Z"
   },
   {
    "duration": 31,
    "start_time": "2023-01-22T15:55:22.013Z"
   },
   {
    "duration": 4,
    "start_time": "2023-01-22T15:55:22.046Z"
   },
   {
    "duration": 24,
    "start_time": "2023-01-22T15:55:22.051Z"
   },
   {
    "duration": 14,
    "start_time": "2023-01-22T15:55:22.077Z"
   },
   {
    "duration": 59,
    "start_time": "2023-01-22T15:55:22.093Z"
   },
   {
    "duration": 54,
    "start_time": "2023-01-22T15:55:22.154Z"
   },
   {
    "duration": 8,
    "start_time": "2023-01-22T15:55:22.210Z"
   },
   {
    "duration": 37,
    "start_time": "2023-01-22T15:55:22.219Z"
   },
   {
    "duration": 9,
    "start_time": "2023-01-22T15:55:33.258Z"
   },
   {
    "duration": 14,
    "start_time": "2023-01-22T15:56:23.523Z"
   },
   {
    "duration": 18,
    "start_time": "2023-01-22T15:56:33.123Z"
   },
   {
    "duration": 12,
    "start_time": "2023-01-22T16:03:27.372Z"
   },
   {
    "duration": 9,
    "start_time": "2023-01-22T16:03:44.483Z"
   },
   {
    "duration": 13,
    "start_time": "2023-01-22T16:04:25.593Z"
   },
   {
    "duration": 9,
    "start_time": "2023-01-22T16:04:25.859Z"
   },
   {
    "duration": 14,
    "start_time": "2023-01-22T16:04:29.884Z"
   },
   {
    "duration": 9,
    "start_time": "2023-01-22T16:04:30.044Z"
   },
   {
    "duration": 12,
    "start_time": "2023-01-22T16:04:34.282Z"
   },
   {
    "duration": 9,
    "start_time": "2023-01-22T16:04:35.005Z"
   },
   {
    "duration": 112,
    "start_time": "2023-01-22T16:04:45.429Z"
   },
   {
    "duration": 16,
    "start_time": "2023-01-22T16:04:45.565Z"
   },
   {
    "duration": 2181,
    "start_time": "2023-01-22T16:04:45.996Z"
   },
   {
    "duration": 95,
    "start_time": "2023-01-22T16:04:48.179Z"
   },
   {
    "duration": 4,
    "start_time": "2023-01-22T16:04:48.275Z"
   },
   {
    "duration": 25,
    "start_time": "2023-01-22T16:04:48.281Z"
   },
   {
    "duration": 18,
    "start_time": "2023-01-22T16:04:48.308Z"
   },
   {
    "duration": 2292,
    "start_time": "2023-01-22T16:04:48.339Z"
   },
   {
    "duration": 8,
    "start_time": "2023-01-22T16:04:50.633Z"
   },
   {
    "duration": 19,
    "start_time": "2023-01-22T16:04:50.643Z"
   },
   {
    "duration": 6,
    "start_time": "2023-01-22T16:04:50.664Z"
   },
   {
    "duration": 17,
    "start_time": "2023-01-22T16:04:50.673Z"
   },
   {
    "duration": 3,
    "start_time": "2023-01-22T16:04:50.692Z"
   },
   {
    "duration": 8,
    "start_time": "2023-01-22T16:04:50.697Z"
   },
   {
    "duration": 33,
    "start_time": "2023-01-22T16:04:50.707Z"
   },
   {
    "duration": 59,
    "start_time": "2023-01-22T16:04:50.742Z"
   },
   {
    "duration": 71,
    "start_time": "2023-01-22T16:04:50.803Z"
   },
   {
    "duration": 9,
    "start_time": "2023-01-22T16:04:50.876Z"
   },
   {
    "duration": 23,
    "start_time": "2023-01-22T16:04:50.886Z"
   },
   {
    "duration": 30,
    "start_time": "2023-01-22T16:04:50.910Z"
   },
   {
    "duration": 15,
    "start_time": "2023-01-22T16:04:50.942Z"
   },
   {
    "duration": 11,
    "start_time": "2023-01-22T16:05:25.559Z"
   },
   {
    "duration": 11,
    "start_time": "2023-01-22T16:05:28.132Z"
   },
   {
    "duration": 11,
    "start_time": "2023-01-22T16:06:53.619Z"
   },
   {
    "duration": 9,
    "start_time": "2023-01-22T16:06:54.126Z"
   },
   {
    "duration": 129,
    "start_time": "2023-01-22T16:07:23.592Z"
   },
   {
    "duration": 16,
    "start_time": "2023-01-22T16:07:23.776Z"
   },
   {
    "duration": 2268,
    "start_time": "2023-01-22T16:07:24.382Z"
   },
   {
    "duration": 92,
    "start_time": "2023-01-22T16:07:26.653Z"
   },
   {
    "duration": 4,
    "start_time": "2023-01-22T16:07:26.747Z"
   },
   {
    "duration": 80,
    "start_time": "2023-01-22T16:07:26.753Z"
   },
   {
    "duration": 122,
    "start_time": "2023-01-22T16:07:26.834Z"
   },
   {
    "duration": 2169,
    "start_time": "2023-01-22T16:07:26.958Z"
   },
   {
    "duration": 5,
    "start_time": "2023-01-22T16:07:29.129Z"
   },
   {
    "duration": 54,
    "start_time": "2023-01-22T16:07:29.141Z"
   },
   {
    "duration": 44,
    "start_time": "2023-01-22T16:07:29.197Z"
   },
   {
    "duration": 84,
    "start_time": "2023-01-22T16:07:29.244Z"
   },
   {
    "duration": 51,
    "start_time": "2023-01-22T16:07:29.330Z"
   },
   {
    "duration": 97,
    "start_time": "2023-01-22T16:07:29.383Z"
   },
   {
    "duration": 49,
    "start_time": "2023-01-22T16:07:29.482Z"
   },
   {
    "duration": 89,
    "start_time": "2023-01-22T16:07:29.533Z"
   },
   {
    "duration": 66,
    "start_time": "2023-01-22T16:07:29.624Z"
   },
   {
    "duration": 8,
    "start_time": "2023-01-22T16:07:29.692Z"
   },
   {
    "duration": 64,
    "start_time": "2023-01-22T16:07:29.703Z"
   },
   {
    "duration": 77,
    "start_time": "2023-01-22T16:07:29.769Z"
   },
   {
    "duration": 73,
    "start_time": "2023-01-22T16:07:29.849Z"
   },
   {
    "duration": 8,
    "start_time": "2023-01-22T16:10:03.417Z"
   },
   {
    "duration": 9,
    "start_time": "2023-01-22T16:10:04.357Z"
   },
   {
    "duration": 11,
    "start_time": "2023-01-22T16:10:18.183Z"
   },
   {
    "duration": 239,
    "start_time": "2023-01-22T18:10:01.845Z"
   },
   {
    "duration": 12,
    "start_time": "2023-01-22T18:10:20.268Z"
   },
   {
    "duration": 11,
    "start_time": "2023-01-22T18:11:36.174Z"
   },
   {
    "duration": 11,
    "start_time": "2023-01-22T18:11:41.581Z"
   },
   {
    "duration": 8,
    "start_time": "2023-01-22T18:11:46.279Z"
   },
   {
    "duration": 9,
    "start_time": "2023-01-22T18:11:48.127Z"
   },
   {
    "duration": 123,
    "start_time": "2023-01-22T18:11:59.273Z"
   },
   {
    "duration": 18,
    "start_time": "2023-01-22T18:11:59.429Z"
   },
   {
    "duration": 2099,
    "start_time": "2023-01-22T18:11:59.902Z"
   },
   {
    "duration": 95,
    "start_time": "2023-01-22T18:12:02.003Z"
   },
   {
    "duration": 4,
    "start_time": "2023-01-22T18:12:02.099Z"
   },
   {
    "duration": 42,
    "start_time": "2023-01-22T18:12:02.105Z"
   },
   {
    "duration": 45,
    "start_time": "2023-01-22T18:12:02.148Z"
   },
   {
    "duration": 2069,
    "start_time": "2023-01-22T18:12:02.196Z"
   },
   {
    "duration": 4,
    "start_time": "2023-01-22T18:12:04.268Z"
   },
   {
    "duration": 31,
    "start_time": "2023-01-22T18:12:04.274Z"
   },
   {
    "duration": 8,
    "start_time": "2023-01-22T18:12:04.307Z"
   },
   {
    "duration": 40,
    "start_time": "2023-01-22T18:12:04.317Z"
   },
   {
    "duration": 5,
    "start_time": "2023-01-22T18:12:04.359Z"
   },
   {
    "duration": 11,
    "start_time": "2023-01-22T18:12:04.366Z"
   },
   {
    "duration": 30,
    "start_time": "2023-01-22T18:12:04.378Z"
   },
   {
    "duration": 70,
    "start_time": "2023-01-22T18:12:04.410Z"
   },
   {
    "duration": 79,
    "start_time": "2023-01-22T18:12:04.482Z"
   },
   {
    "duration": 9,
    "start_time": "2023-01-22T18:12:04.564Z"
   },
   {
    "duration": 27,
    "start_time": "2023-01-22T18:12:04.575Z"
   },
   {
    "duration": 11,
    "start_time": "2023-01-22T18:12:04.604Z"
   },
   {
    "duration": 33,
    "start_time": "2023-01-22T18:12:04.618Z"
   },
   {
    "duration": 1771,
    "start_time": "2023-01-22T18:15:57.221Z"
   },
   {
    "duration": 215,
    "start_time": "2023-01-22T18:16:05.927Z"
   },
   {
    "duration": 455,
    "start_time": "2023-01-22T18:16:18.832Z"
   },
   {
    "duration": 8,
    "start_time": "2023-01-22T18:16:37.580Z"
   },
   {
    "duration": 9,
    "start_time": "2023-01-22T18:17:40.224Z"
   },
   {
    "duration": 170,
    "start_time": "2023-01-22T18:17:46.182Z"
   },
   {
    "duration": 24,
    "start_time": "2023-01-22T18:18:12.456Z"
   },
   {
    "duration": 12,
    "start_time": "2023-01-22T18:18:25.959Z"
   },
   {
    "duration": 127,
    "start_time": "2023-01-22T18:18:33.271Z"
   },
   {
    "duration": 20,
    "start_time": "2023-01-22T18:18:33.428Z"
   },
   {
    "duration": 2159,
    "start_time": "2023-01-22T18:18:33.878Z"
   },
   {
    "duration": 80,
    "start_time": "2023-01-22T18:18:36.039Z"
   },
   {
    "duration": 4,
    "start_time": "2023-01-22T18:18:36.139Z"
   },
   {
    "duration": 34,
    "start_time": "2023-01-22T18:18:36.145Z"
   },
   {
    "duration": 35,
    "start_time": "2023-01-22T18:18:36.181Z"
   },
   {
    "duration": 2354,
    "start_time": "2023-01-22T18:18:36.218Z"
   },
   {
    "duration": 4,
    "start_time": "2023-01-22T18:18:38.574Z"
   },
   {
    "duration": 54,
    "start_time": "2023-01-22T18:18:38.580Z"
   },
   {
    "duration": 17,
    "start_time": "2023-01-22T18:18:38.636Z"
   },
   {
    "duration": 41,
    "start_time": "2023-01-22T18:18:38.656Z"
   },
   {
    "duration": 36,
    "start_time": "2023-01-22T18:18:38.699Z"
   },
   {
    "duration": 39,
    "start_time": "2023-01-22T18:18:38.736Z"
   },
   {
    "duration": 16,
    "start_time": "2023-01-22T18:18:38.777Z"
   },
   {
    "duration": 125,
    "start_time": "2023-01-22T18:18:38.795Z"
   },
   {
    "duration": 91,
    "start_time": "2023-01-22T18:18:38.923Z"
   },
   {
    "duration": 23,
    "start_time": "2023-01-22T18:18:39.017Z"
   },
   {
    "duration": 48,
    "start_time": "2023-01-22T18:18:39.042Z"
   },
   {
    "duration": 194,
    "start_time": "2023-01-22T18:18:39.092Z"
   },
   {
    "duration": 10,
    "start_time": "2023-01-22T18:18:39.287Z"
   },
   {
    "duration": 45,
    "start_time": "2023-01-22T18:18:39.298Z"
   },
   {
    "duration": 77,
    "start_time": "2023-01-22T18:18:58.954Z"
   },
   {
    "duration": 6,
    "start_time": "2023-01-22T18:19:52.236Z"
   },
   {
    "duration": 113,
    "start_time": "2023-01-22T18:19:56.378Z"
   },
   {
    "duration": 20,
    "start_time": "2023-01-22T18:19:56.535Z"
   },
   {
    "duration": 2520,
    "start_time": "2023-01-22T18:19:56.981Z"
   },
   {
    "duration": 108,
    "start_time": "2023-01-22T18:19:59.503Z"
   },
   {
    "duration": 4,
    "start_time": "2023-01-22T18:19:59.613Z"
   },
   {
    "duration": 64,
    "start_time": "2023-01-22T18:19:59.620Z"
   },
   {
    "duration": 58,
    "start_time": "2023-01-22T18:19:59.687Z"
   },
   {
    "duration": 2427,
    "start_time": "2023-01-22T18:19:59.761Z"
   },
   {
    "duration": 5,
    "start_time": "2023-01-22T18:20:02.190Z"
   },
   {
    "duration": 55,
    "start_time": "2023-01-22T18:20:02.198Z"
   },
   {
    "duration": 27,
    "start_time": "2023-01-22T18:20:02.255Z"
   },
   {
    "duration": 56,
    "start_time": "2023-01-22T18:20:02.286Z"
   },
   {
    "duration": 19,
    "start_time": "2023-01-22T18:20:02.345Z"
   },
   {
    "duration": 34,
    "start_time": "2023-01-22T18:20:02.366Z"
   },
   {
    "duration": 27,
    "start_time": "2023-01-22T18:20:02.403Z"
   },
   {
    "duration": 85,
    "start_time": "2023-01-22T18:20:02.432Z"
   },
   {
    "duration": 59,
    "start_time": "2023-01-22T18:20:02.519Z"
   },
   {
    "duration": 8,
    "start_time": "2023-01-22T18:20:02.580Z"
   },
   {
    "duration": 45,
    "start_time": "2023-01-22T18:20:02.590Z"
   },
   {
    "duration": 8,
    "start_time": "2023-01-22T18:20:02.754Z"
   },
   {
    "duration": 10,
    "start_time": "2023-01-22T18:20:09.737Z"
   },
   {
    "duration": 6,
    "start_time": "2023-01-22T18:20:15.210Z"
   },
   {
    "duration": 6,
    "start_time": "2023-01-22T18:20:45.234Z"
   },
   {
    "duration": 6,
    "start_time": "2023-01-22T18:20:45.994Z"
   },
   {
    "duration": 122,
    "start_time": "2023-01-22T18:22:38.011Z"
   },
   {
    "duration": 18,
    "start_time": "2023-01-22T18:22:38.158Z"
   },
   {
    "duration": 2098,
    "start_time": "2023-01-22T18:22:38.594Z"
   },
   {
    "duration": 88,
    "start_time": "2023-01-22T18:22:40.693Z"
   },
   {
    "duration": 3,
    "start_time": "2023-01-22T18:22:40.783Z"
   },
   {
    "duration": 30,
    "start_time": "2023-01-22T18:22:40.788Z"
   },
   {
    "duration": 22,
    "start_time": "2023-01-22T18:22:40.819Z"
   },
   {
    "duration": 2105,
    "start_time": "2023-01-22T18:22:40.843Z"
   },
   {
    "duration": 5,
    "start_time": "2023-01-22T18:22:42.950Z"
   },
   {
    "duration": 52,
    "start_time": "2023-01-22T18:22:42.957Z"
   },
   {
    "duration": 20,
    "start_time": "2023-01-22T18:22:43.012Z"
   },
   {
    "duration": 36,
    "start_time": "2023-01-22T18:22:43.035Z"
   },
   {
    "duration": 5,
    "start_time": "2023-01-22T18:22:43.073Z"
   },
   {
    "duration": 21,
    "start_time": "2023-01-22T18:22:43.080Z"
   },
   {
    "duration": 33,
    "start_time": "2023-01-22T18:22:43.104Z"
   },
   {
    "duration": 72,
    "start_time": "2023-01-22T18:22:43.140Z"
   },
   {
    "duration": 55,
    "start_time": "2023-01-22T18:22:43.214Z"
   },
   {
    "duration": 8,
    "start_time": "2023-01-22T18:22:43.271Z"
   },
   {
    "duration": 15,
    "start_time": "2023-01-22T18:22:43.281Z"
   },
   {
    "duration": 6,
    "start_time": "2023-01-22T18:22:43.297Z"
   },
   {
    "duration": 7,
    "start_time": "2023-01-22T18:22:58.657Z"
   },
   {
    "duration": 12,
    "start_time": "2023-01-22T18:23:49.402Z"
   },
   {
    "duration": 74,
    "start_time": "2023-01-22T18:23:54.415Z"
   },
   {
    "duration": 6,
    "start_time": "2023-01-22T18:23:55.305Z"
   },
   {
    "duration": 32,
    "start_time": "2023-01-22T18:24:03.347Z"
   },
   {
    "duration": 6,
    "start_time": "2023-01-22T18:24:03.930Z"
   },
   {
    "duration": 112,
    "start_time": "2023-01-22T18:24:11.034Z"
   },
   {
    "duration": 17,
    "start_time": "2023-01-22T18:24:11.201Z"
   },
   {
    "duration": 2017,
    "start_time": "2023-01-22T18:24:11.627Z"
   },
   {
    "duration": 78,
    "start_time": "2023-01-22T18:24:13.646Z"
   },
   {
    "duration": 16,
    "start_time": "2023-01-22T18:24:13.725Z"
   },
   {
    "duration": 11,
    "start_time": "2023-01-22T18:24:13.744Z"
   },
   {
    "duration": 17,
    "start_time": "2023-01-22T18:24:13.757Z"
   },
   {
    "duration": 2426,
    "start_time": "2023-01-22T18:24:13.776Z"
   },
   {
    "duration": 5,
    "start_time": "2023-01-22T18:24:16.205Z"
   },
   {
    "duration": 39,
    "start_time": "2023-01-22T18:24:16.212Z"
   },
   {
    "duration": 7,
    "start_time": "2023-01-22T18:24:16.254Z"
   },
   {
    "duration": 20,
    "start_time": "2023-01-22T18:24:16.264Z"
   },
   {
    "duration": 4,
    "start_time": "2023-01-22T18:24:16.286Z"
   },
   {
    "duration": 6,
    "start_time": "2023-01-22T18:24:16.291Z"
   },
   {
    "duration": 8,
    "start_time": "2023-01-22T18:24:16.298Z"
   },
   {
    "duration": 90,
    "start_time": "2023-01-22T18:24:16.308Z"
   },
   {
    "duration": 68,
    "start_time": "2023-01-22T18:24:16.400Z"
   },
   {
    "duration": 8,
    "start_time": "2023-01-22T18:24:16.469Z"
   },
   {
    "duration": 34,
    "start_time": "2023-01-22T18:24:17.146Z"
   },
   {
    "duration": 7,
    "start_time": "2023-01-22T18:24:18.019Z"
   },
   {
    "duration": 12,
    "start_time": "2023-01-22T18:24:56.522Z"
   },
   {
    "duration": 29,
    "start_time": "2023-01-22T18:25:10.857Z"
   },
   {
    "duration": 132,
    "start_time": "2023-01-22T18:25:23.949Z"
   },
   {
    "duration": 17,
    "start_time": "2023-01-22T18:25:24.089Z"
   },
   {
    "duration": 2069,
    "start_time": "2023-01-22T18:25:24.562Z"
   },
   {
    "duration": 76,
    "start_time": "2023-01-22T18:25:26.640Z"
   },
   {
    "duration": 4,
    "start_time": "2023-01-22T18:25:26.717Z"
   },
   {
    "duration": 23,
    "start_time": "2023-01-22T18:25:26.723Z"
   },
   {
    "duration": 20,
    "start_time": "2023-01-22T18:25:26.748Z"
   },
   {
    "duration": 2090,
    "start_time": "2023-01-22T18:25:26.769Z"
   },
   {
    "duration": 6,
    "start_time": "2023-01-22T18:25:28.861Z"
   },
   {
    "duration": 24,
    "start_time": "2023-01-22T18:25:28.870Z"
   },
   {
    "duration": 8,
    "start_time": "2023-01-22T18:25:28.897Z"
   },
   {
    "duration": 54,
    "start_time": "2023-01-22T18:25:28.907Z"
   },
   {
    "duration": 5,
    "start_time": "2023-01-22T18:25:28.964Z"
   },
   {
    "duration": 23,
    "start_time": "2023-01-22T18:25:28.972Z"
   },
   {
    "duration": 7,
    "start_time": "2023-01-22T18:25:29.954Z"
   },
   {
    "duration": 64,
    "start_time": "2023-01-22T18:25:30.674Z"
   },
   {
    "duration": 56,
    "start_time": "2023-01-22T18:25:34.882Z"
   },
   {
    "duration": 9,
    "start_time": "2023-01-22T18:25:35.354Z"
   },
   {
    "duration": 32,
    "start_time": "2023-01-22T18:25:39.090Z"
   },
   {
    "duration": 6,
    "start_time": "2023-01-22T18:25:57.907Z"
   },
   {
    "duration": 6,
    "start_time": "2023-01-22T18:26:24.244Z"
   },
   {
    "duration": 9,
    "start_time": "2023-01-22T18:26:29.938Z"
   },
   {
    "duration": 15,
    "start_time": "2023-01-22T18:26:42.900Z"
   },
   {
    "duration": 10,
    "start_time": "2023-01-22T18:26:47.592Z"
   },
   {
    "duration": 39,
    "start_time": "2023-01-22T18:27:25.219Z"
   },
   {
    "duration": 13,
    "start_time": "2023-01-22T18:28:47.761Z"
   },
   {
    "duration": 307,
    "start_time": "2023-01-22T18:29:23.565Z"
   },
   {
    "duration": 311,
    "start_time": "2023-01-22T18:29:40.253Z"
   },
   {
    "duration": 74,
    "start_time": "2023-01-22T18:30:33.477Z"
   },
   {
    "duration": 69,
    "start_time": "2023-01-22T18:30:42.757Z"
   },
   {
    "duration": 463,
    "start_time": "2023-01-22T18:30:59.604Z"
   },
   {
    "duration": 119,
    "start_time": "2023-01-22T18:34:36.830Z"
   },
   {
    "duration": 16,
    "start_time": "2023-01-22T18:34:37.010Z"
   },
   {
    "duration": 2083,
    "start_time": "2023-01-22T18:34:37.429Z"
   },
   {
    "duration": 93,
    "start_time": "2023-01-22T18:34:39.515Z"
   },
   {
    "duration": 4,
    "start_time": "2023-01-22T18:34:39.609Z"
   },
   {
    "duration": 14,
    "start_time": "2023-01-22T18:34:39.615Z"
   },
   {
    "duration": 18,
    "start_time": "2023-01-22T18:34:39.640Z"
   },
   {
    "duration": 2007,
    "start_time": "2023-01-22T18:34:39.659Z"
   },
   {
    "duration": 3,
    "start_time": "2023-01-22T18:34:41.668Z"
   },
   {
    "duration": 28,
    "start_time": "2023-01-22T18:34:41.673Z"
   },
   {
    "duration": 29,
    "start_time": "2023-01-22T18:34:41.704Z"
   },
   {
    "duration": 28,
    "start_time": "2023-01-22T18:34:41.736Z"
   },
   {
    "duration": 3,
    "start_time": "2023-01-22T18:34:41.766Z"
   },
   {
    "duration": 34,
    "start_time": "2023-01-22T18:34:41.771Z"
   },
   {
    "duration": 25,
    "start_time": "2023-01-22T18:34:41.807Z"
   },
   {
    "duration": 79,
    "start_time": "2023-01-22T18:34:41.834Z"
   },
   {
    "duration": 51,
    "start_time": "2023-01-22T18:34:41.915Z"
   },
   {
    "duration": 8,
    "start_time": "2023-01-22T18:34:41.967Z"
   },
   {
    "duration": 11,
    "start_time": "2023-01-22T18:34:56.967Z"
   },
   {
    "duration": 567,
    "start_time": "2023-01-22T18:36:16.606Z"
   },
   {
    "duration": 19,
    "start_time": "2023-01-22T18:37:07.215Z"
   },
   {
    "duration": 36,
    "start_time": "2023-01-22T18:37:33.872Z"
   },
   {
    "duration": 13,
    "start_time": "2023-01-22T18:45:59.034Z"
   },
   {
    "duration": 8,
    "start_time": "2023-01-22T18:46:12.708Z"
   },
   {
    "duration": 9,
    "start_time": "2023-01-22T18:46:18.482Z"
   },
   {
    "duration": 9,
    "start_time": "2023-01-22T18:46:22.589Z"
   },
   {
    "duration": 17,
    "start_time": "2023-01-22T18:46:41.586Z"
   },
   {
    "duration": 70,
    "start_time": "2023-01-22T18:46:47.836Z"
   },
   {
    "duration": 10,
    "start_time": "2023-01-22T18:46:52.773Z"
   },
   {
    "duration": 10,
    "start_time": "2023-01-22T18:47:56.439Z"
   },
   {
    "duration": 12,
    "start_time": "2023-01-22T18:48:01.668Z"
   },
   {
    "duration": 21,
    "start_time": "2023-01-22T18:48:17.011Z"
   },
   {
    "duration": 1124,
    "start_time": "2023-01-22T18:48:26.955Z"
   },
   {
    "duration": 8,
    "start_time": "2023-01-22T18:48:44.995Z"
   },
   {
    "duration": 47,
    "start_time": "2023-01-22T18:48:54.923Z"
   },
   {
    "duration": 37,
    "start_time": "2023-01-22T18:49:57.717Z"
   },
   {
    "duration": 11,
    "start_time": "2023-01-22T18:51:10.501Z"
   },
   {
    "duration": 15,
    "start_time": "2023-01-22T18:54:05.445Z"
   },
   {
    "duration": 24,
    "start_time": "2023-01-22T18:54:45.541Z"
   },
   {
    "duration": 91,
    "start_time": "2023-01-22T18:54:57.085Z"
   },
   {
    "duration": 10,
    "start_time": "2023-01-22T18:55:01.710Z"
   },
   {
    "duration": 7,
    "start_time": "2023-01-22T18:57:48.126Z"
   },
   {
    "duration": 9,
    "start_time": "2023-01-22T18:58:13.054Z"
   },
   {
    "duration": 1200,
    "start_time": "2023-01-22T19:00:28.972Z"
   },
   {
    "duration": 1201,
    "start_time": "2023-01-22T19:00:38.432Z"
   },
   {
    "duration": 23,
    "start_time": "2023-01-22T19:00:47.247Z"
   },
   {
    "duration": 10,
    "start_time": "2023-01-22T19:00:56.503Z"
   },
   {
    "duration": 6,
    "start_time": "2023-01-22T19:01:42.912Z"
   },
   {
    "duration": 5,
    "start_time": "2023-01-22T19:02:21.424Z"
   },
   {
    "duration": 1084,
    "start_time": "2023-01-22T19:02:34.545Z"
   },
   {
    "duration": 1184,
    "start_time": "2023-01-22T19:02:42.240Z"
   },
   {
    "duration": 14,
    "start_time": "2023-01-22T19:02:47.256Z"
   },
   {
    "duration": 279,
    "start_time": "2023-01-22T19:06:07.082Z"
   },
   {
    "duration": 6,
    "start_time": "2023-01-22T19:06:11.252Z"
   },
   {
    "duration": 5,
    "start_time": "2023-01-22T19:06:24.954Z"
   },
   {
    "duration": 7,
    "start_time": "2023-01-22T19:06:41.457Z"
   },
   {
    "duration": 1315,
    "start_time": "2023-01-22T19:06:48.882Z"
   },
   {
    "duration": 87,
    "start_time": "2023-01-22T19:06:58.185Z"
   },
   {
    "duration": 5,
    "start_time": "2023-01-22T19:07:01.865Z"
   },
   {
    "duration": 11,
    "start_time": "2023-01-22T19:09:53.693Z"
   },
   {
    "duration": 4,
    "start_time": "2023-01-22T19:10:19.899Z"
   },
   {
    "duration": 4,
    "start_time": "2023-01-22T19:10:27.427Z"
   },
   {
    "duration": 25,
    "start_time": "2023-01-22T19:11:25.308Z"
   },
   {
    "duration": 8,
    "start_time": "2023-01-22T19:11:38.329Z"
   },
   {
    "duration": 135,
    "start_time": "2023-01-22T19:11:42.772Z"
   },
   {
    "duration": 15,
    "start_time": "2023-01-22T19:11:42.952Z"
   },
   {
    "duration": 2402,
    "start_time": "2023-01-22T19:11:43.365Z"
   },
   {
    "duration": 88,
    "start_time": "2023-01-22T19:11:45.769Z"
   },
   {
    "duration": 3,
    "start_time": "2023-01-22T19:11:45.859Z"
   },
   {
    "duration": 49,
    "start_time": "2023-01-22T19:11:45.865Z"
   },
   {
    "duration": 38,
    "start_time": "2023-01-22T19:11:45.916Z"
   },
   {
    "duration": 2272,
    "start_time": "2023-01-22T19:11:45.956Z"
   },
   {
    "duration": 9,
    "start_time": "2023-01-22T19:11:48.230Z"
   },
   {
    "duration": 53,
    "start_time": "2023-01-22T19:11:48.244Z"
   },
   {
    "duration": 23,
    "start_time": "2023-01-22T19:11:48.299Z"
   },
   {
    "duration": 50,
    "start_time": "2023-01-22T19:11:48.324Z"
   },
   {
    "duration": 13,
    "start_time": "2023-01-22T19:11:48.377Z"
   },
   {
    "duration": 23,
    "start_time": "2023-01-22T19:11:48.392Z"
   },
   {
    "duration": 31,
    "start_time": "2023-01-22T19:11:48.418Z"
   },
   {
    "duration": 87,
    "start_time": "2023-01-22T19:11:48.451Z"
   },
   {
    "duration": 55,
    "start_time": "2023-01-22T19:11:48.541Z"
   },
   {
    "duration": 10,
    "start_time": "2023-01-22T19:11:48.598Z"
   },
   {
    "duration": 46,
    "start_time": "2023-01-22T19:11:48.610Z"
   },
   {
    "duration": 37,
    "start_time": "2023-01-22T19:11:48.658Z"
   },
   {
    "duration": 125,
    "start_time": "2023-01-22T19:12:03.474Z"
   },
   {
    "duration": 17,
    "start_time": "2023-01-22T19:12:03.627Z"
   },
   {
    "duration": 2233,
    "start_time": "2023-01-22T19:12:04.101Z"
   },
   {
    "duration": 80,
    "start_time": "2023-01-22T19:12:06.340Z"
   },
   {
    "duration": 4,
    "start_time": "2023-01-22T19:12:06.422Z"
   },
   {
    "duration": 11,
    "start_time": "2023-01-22T19:12:06.441Z"
   },
   {
    "duration": 21,
    "start_time": "2023-01-22T19:12:06.454Z"
   },
   {
    "duration": 2458,
    "start_time": "2023-01-22T19:12:06.477Z"
   },
   {
    "duration": 6,
    "start_time": "2023-01-22T19:12:08.940Z"
   },
   {
    "duration": 32,
    "start_time": "2023-01-22T19:12:08.949Z"
   },
   {
    "duration": 9,
    "start_time": "2023-01-22T19:12:08.984Z"
   },
   {
    "duration": 49,
    "start_time": "2023-01-22T19:12:08.997Z"
   },
   {
    "duration": 17,
    "start_time": "2023-01-22T19:12:09.049Z"
   },
   {
    "duration": 77,
    "start_time": "2023-01-22T19:12:09.068Z"
   },
   {
    "duration": 27,
    "start_time": "2023-01-22T19:12:09.148Z"
   },
   {
    "duration": 94,
    "start_time": "2023-01-22T19:12:09.177Z"
   },
   {
    "duration": 101,
    "start_time": "2023-01-22T19:12:09.274Z"
   },
   {
    "duration": 10,
    "start_time": "2023-01-22T19:12:09.377Z"
   },
   {
    "duration": 25,
    "start_time": "2023-01-22T19:12:09.389Z"
   },
   {
    "duration": 29,
    "start_time": "2023-01-22T19:12:09.416Z"
   },
   {
    "duration": 117,
    "start_time": "2023-01-22T19:12:22.262Z"
   },
   {
    "duration": 19,
    "start_time": "2023-01-22T19:12:22.382Z"
   },
   {
    "duration": 2044,
    "start_time": "2023-01-22T19:12:22.403Z"
   },
   {
    "duration": 75,
    "start_time": "2023-01-22T19:12:24.448Z"
   },
   {
    "duration": 16,
    "start_time": "2023-01-22T19:12:24.525Z"
   },
   {
    "duration": 32,
    "start_time": "2023-01-22T19:12:24.542Z"
   },
   {
    "duration": 49,
    "start_time": "2023-01-22T19:12:24.576Z"
   },
   {
    "duration": 2086,
    "start_time": "2023-01-22T19:12:24.627Z"
   },
   {
    "duration": 4,
    "start_time": "2023-01-22T19:12:26.715Z"
   },
   {
    "duration": 36,
    "start_time": "2023-01-22T19:12:26.721Z"
   },
   {
    "duration": 5,
    "start_time": "2023-01-22T19:12:26.759Z"
   },
   {
    "duration": 23,
    "start_time": "2023-01-22T19:12:26.766Z"
   },
   {
    "duration": 4,
    "start_time": "2023-01-22T19:12:26.791Z"
   },
   {
    "duration": 4,
    "start_time": "2023-01-22T19:12:32.734Z"
   },
   {
    "duration": 17,
    "start_time": "2023-01-22T19:12:32.740Z"
   },
   {
    "duration": 66,
    "start_time": "2023-01-22T19:12:32.760Z"
   },
   {
    "duration": 59,
    "start_time": "2023-01-22T19:12:32.829Z"
   },
   {
    "duration": 8,
    "start_time": "2023-01-22T19:12:32.890Z"
   },
   {
    "duration": 40,
    "start_time": "2023-01-22T19:12:32.901Z"
   },
   {
    "duration": 10,
    "start_time": "2023-01-22T19:12:32.943Z"
   },
   {
    "duration": 41,
    "start_time": "2023-01-22T19:13:00.540Z"
   },
   {
    "duration": 2257,
    "start_time": "2023-01-22T19:14:33.429Z"
   },
   {
    "duration": 45,
    "start_time": "2023-01-22T19:15:18.074Z"
   },
   {
    "duration": 15,
    "start_time": "2023-01-22T19:16:08.647Z"
   },
   {
    "duration": 49,
    "start_time": "2023-01-22T19:16:19.294Z"
   },
   {
    "duration": 4,
    "start_time": "2023-01-22T19:16:46.974Z"
   },
   {
    "duration": 12,
    "start_time": "2023-01-22T19:16:53.173Z"
   },
   {
    "duration": 14,
    "start_time": "2023-01-22T19:18:30.926Z"
   },
   {
    "duration": 9,
    "start_time": "2023-01-22T19:18:45.071Z"
   },
   {
    "duration": 11,
    "start_time": "2023-01-22T19:18:51.815Z"
   },
   {
    "duration": 7,
    "start_time": "2023-01-22T19:19:02.046Z"
   },
   {
    "duration": 41,
    "start_time": "2023-01-22T19:19:18.853Z"
   },
   {
    "duration": 6,
    "start_time": "2023-01-22T19:19:50.439Z"
   },
   {
    "duration": 11,
    "start_time": "2023-01-22T19:19:57.598Z"
   },
   {
    "duration": 140,
    "start_time": "2023-01-22T19:20:28.888Z"
   },
   {
    "duration": 29,
    "start_time": "2023-01-22T19:20:29.031Z"
   },
   {
    "duration": 2107,
    "start_time": "2023-01-22T19:20:29.464Z"
   },
   {
    "duration": 95,
    "start_time": "2023-01-22T19:20:31.574Z"
   },
   {
    "duration": 3,
    "start_time": "2023-01-22T19:20:31.671Z"
   },
   {
    "duration": 17,
    "start_time": "2023-01-22T19:20:31.678Z"
   },
   {
    "duration": 45,
    "start_time": "2023-01-22T19:20:31.697Z"
   },
   {
    "duration": 2541,
    "start_time": "2023-01-22T19:20:31.744Z"
   },
   {
    "duration": 4,
    "start_time": "2023-01-22T19:20:34.288Z"
   },
   {
    "duration": 22,
    "start_time": "2023-01-22T19:20:34.294Z"
   },
   {
    "duration": 22,
    "start_time": "2023-01-22T19:20:34.318Z"
   },
   {
    "duration": 19,
    "start_time": "2023-01-22T19:20:34.344Z"
   },
   {
    "duration": 4,
    "start_time": "2023-01-22T19:20:34.365Z"
   },
   {
    "duration": 8,
    "start_time": "2023-01-22T19:20:34.371Z"
   },
   {
    "duration": 7,
    "start_time": "2023-01-22T19:20:34.381Z"
   },
   {
    "duration": 89,
    "start_time": "2023-01-22T19:20:34.390Z"
   },
   {
    "duration": 66,
    "start_time": "2023-01-22T19:20:34.481Z"
   },
   {
    "duration": 8,
    "start_time": "2023-01-22T19:20:34.549Z"
   },
   {
    "duration": 22,
    "start_time": "2023-01-22T19:20:34.558Z"
   },
   {
    "duration": 10,
    "start_time": "2023-01-22T19:20:34.582Z"
   },
   {
    "duration": 4,
    "start_time": "2023-01-22T19:20:34.594Z"
   },
   {
    "duration": 10,
    "start_time": "2023-01-22T19:20:34.600Z"
   },
   {
    "duration": 9,
    "start_time": "2023-01-22T19:20:51.495Z"
   },
   {
    "duration": 9,
    "start_time": "2023-01-22T19:21:01.223Z"
   },
   {
    "duration": 14,
    "start_time": "2023-01-22T19:21:01.496Z"
   },
   {
    "duration": 28,
    "start_time": "2023-01-22T19:21:27.487Z"
   },
   {
    "duration": 12,
    "start_time": "2023-01-22T19:22:02.936Z"
   },
   {
    "duration": 11,
    "start_time": "2023-01-22T19:22:03.072Z"
   },
   {
    "duration": 14,
    "start_time": "2023-01-22T19:22:05.400Z"
   },
   {
    "duration": 4,
    "start_time": "2023-01-22T19:25:58.802Z"
   },
   {
    "duration": 118,
    "start_time": "2023-01-22T19:26:05.352Z"
   },
   {
    "duration": 106,
    "start_time": "2023-01-22T19:26:14.258Z"
   },
   {
    "duration": 15,
    "start_time": "2023-01-22T19:26:17.305Z"
   },
   {
    "duration": 2270,
    "start_time": "2023-01-22T19:26:48.616Z"
   },
   {
    "duration": 28,
    "start_time": "2023-01-22T19:30:36.532Z"
   },
   {
    "duration": 3,
    "start_time": "2023-01-22T19:30:45.221Z"
   },
   {
    "duration": 116,
    "start_time": "2023-01-22T19:30:45.557Z"
   },
   {
    "duration": 16,
    "start_time": "2023-01-22T19:30:46.187Z"
   },
   {
    "duration": 25,
    "start_time": "2023-01-22T19:30:49.363Z"
   },
   {
    "duration": 29,
    "start_time": "2023-01-22T19:32:19.053Z"
   },
   {
    "duration": 4,
    "start_time": "2023-01-22T19:32:29.382Z"
   },
   {
    "duration": 2355,
    "start_time": "2023-01-22T19:35:01.981Z"
   },
   {
    "duration": 81,
    "start_time": "2023-01-22T19:35:04.342Z"
   },
   {
    "duration": 3,
    "start_time": "2023-01-22T19:36:40.197Z"
   },
   {
    "duration": 118,
    "start_time": "2023-01-22T19:36:40.391Z"
   },
   {
    "duration": 16,
    "start_time": "2023-01-22T19:36:40.701Z"
   },
   {
    "duration": 2165,
    "start_time": "2023-01-22T19:36:41.786Z"
   },
   {
    "duration": 100,
    "start_time": "2023-01-22T19:36:43.953Z"
   },
   {
    "duration": 4,
    "start_time": "2023-01-22T19:37:41.678Z"
   },
   {
    "duration": 12,
    "start_time": "2023-01-22T19:37:43.861Z"
   },
   {
    "duration": 10,
    "start_time": "2023-01-22T19:38:15.754Z"
   },
   {
    "duration": 12,
    "start_time": "2023-01-22T19:38:49.166Z"
   },
   {
    "duration": 18,
    "start_time": "2023-01-22T19:38:51.221Z"
   },
   {
    "duration": 2094,
    "start_time": "2023-01-22T19:38:54.117Z"
   },
   {
    "duration": 10,
    "start_time": "2023-01-22T19:43:00.497Z"
   },
   {
    "duration": 16,
    "start_time": "2023-01-22T19:43:07.072Z"
   },
   {
    "duration": 2093,
    "start_time": "2023-01-22T19:43:20.633Z"
   },
   {
    "duration": 10,
    "start_time": "2023-01-22T19:48:11.816Z"
   },
   {
    "duration": 3,
    "start_time": "2023-01-22T20:12:15.891Z"
   },
   {
    "duration": 122,
    "start_time": "2023-01-22T20:12:16.051Z"
   },
   {
    "duration": 18,
    "start_time": "2023-01-22T20:12:16.202Z"
   },
   {
    "duration": 14,
    "start_time": "2023-01-22T20:12:16.635Z"
   },
   {
    "duration": 21,
    "start_time": "2023-01-22T20:12:16.793Z"
   },
   {
    "duration": 2134,
    "start_time": "2023-01-22T20:12:16.948Z"
   },
   {
    "duration": 2083,
    "start_time": "2023-01-22T20:12:19.085Z"
   },
   {
    "duration": 663,
    "start_time": "2023-01-22T20:12:21.170Z"
   },
   {
    "duration": 4,
    "start_time": "2023-01-22T20:12:21.839Z"
   },
   {
    "duration": 33,
    "start_time": "2023-01-22T20:12:21.845Z"
   },
   {
    "duration": 29,
    "start_time": "2023-01-22T20:12:21.880Z"
   },
   {
    "duration": 8,
    "start_time": "2023-01-22T20:12:21.911Z"
   },
   {
    "duration": 33,
    "start_time": "2023-01-22T20:12:21.921Z"
   },
   {
    "duration": 4,
    "start_time": "2023-01-22T20:12:22.987Z"
   },
   {
    "duration": 7,
    "start_time": "2023-01-22T20:12:24.098Z"
   },
   {
    "duration": 58,
    "start_time": "2023-01-22T20:12:24.571Z"
   },
   {
    "duration": 54,
    "start_time": "2023-01-22T20:12:25.956Z"
   },
   {
    "duration": 7,
    "start_time": "2023-01-22T20:12:47.570Z"
   },
   {
    "duration": 9,
    "start_time": "2023-01-22T20:13:20.747Z"
   },
   {
    "duration": 11,
    "start_time": "2023-01-22T20:13:42.012Z"
   },
   {
    "duration": 7,
    "start_time": "2023-01-22T20:14:41.980Z"
   },
   {
    "duration": 57,
    "start_time": "2023-01-22T20:16:54.758Z"
   },
   {
    "duration": 40,
    "start_time": "2023-01-22T20:20:48.727Z"
   },
   {
    "duration": 4,
    "start_time": "2023-01-22T20:21:02.793Z"
   },
   {
    "duration": 16,
    "start_time": "2023-01-22T20:21:28.863Z"
   },
   {
    "duration": 5,
    "start_time": "2023-01-22T20:22:01.399Z"
   },
   {
    "duration": 30,
    "start_time": "2023-01-22T20:25:13.087Z"
   },
   {
    "duration": 6,
    "start_time": "2023-01-22T20:25:13.527Z"
   },
   {
    "duration": 1197,
    "start_time": "2023-01-22T20:27:06.661Z"
   },
   {
    "duration": 123,
    "start_time": "2023-01-22T20:27:07.860Z"
   },
   {
    "duration": 17,
    "start_time": "2023-01-22T20:27:07.985Z"
   },
   {
    "duration": 11,
    "start_time": "2023-01-22T20:27:08.007Z"
   },
   {
    "duration": 36,
    "start_time": "2023-01-22T20:27:08.019Z"
   },
   {
    "duration": 2133,
    "start_time": "2023-01-22T20:27:08.058Z"
   },
   {
    "duration": 2168,
    "start_time": "2023-01-22T20:27:10.193Z"
   },
   {
    "duration": 79,
    "start_time": "2023-01-22T20:27:12.363Z"
   },
   {
    "duration": 4,
    "start_time": "2023-01-22T20:27:12.444Z"
   },
   {
    "duration": 6,
    "start_time": "2023-01-22T20:27:12.451Z"
   },
   {
    "duration": 25,
    "start_time": "2023-01-22T20:27:12.460Z"
   },
   {
    "duration": 6,
    "start_time": "2023-01-22T20:27:12.487Z"
   },
   {
    "duration": 21,
    "start_time": "2023-01-22T20:27:12.495Z"
   },
   {
    "duration": 24,
    "start_time": "2023-01-22T20:27:12.518Z"
   },
   {
    "duration": 61,
    "start_time": "2023-01-22T20:27:12.544Z"
   },
   {
    "duration": 4,
    "start_time": "2023-01-22T20:27:12.607Z"
   },
   {
    "duration": 28,
    "start_time": "2023-01-22T20:27:12.613Z"
   },
   {
    "duration": 7,
    "start_time": "2023-01-22T20:27:12.643Z"
   },
   {
    "duration": 58,
    "start_time": "2023-01-22T20:27:12.652Z"
   },
   {
    "duration": 74,
    "start_time": "2023-01-22T20:27:12.712Z"
   },
   {
    "duration": 7,
    "start_time": "2023-01-22T20:27:12.788Z"
   },
   {
    "duration": 14,
    "start_time": "2023-01-22T20:27:12.796Z"
   },
   {
    "duration": 22,
    "start_time": "2023-01-22T20:27:12.888Z"
   },
   {
    "duration": 13,
    "start_time": "2023-01-22T20:27:13.824Z"
   },
   {
    "duration": 9,
    "start_time": "2023-01-22T20:27:49.098Z"
   },
   {
    "duration": 119,
    "start_time": "2023-01-22T20:32:12.277Z"
   },
   {
    "duration": 16,
    "start_time": "2023-01-22T20:32:26.204Z"
   },
   {
    "duration": 10,
    "start_time": "2023-01-22T20:34:15.554Z"
   },
   {
    "duration": 17,
    "start_time": "2023-01-22T20:34:25.136Z"
   },
   {
    "duration": 14,
    "start_time": "2023-01-22T20:34:32.372Z"
   },
   {
    "duration": 6,
    "start_time": "2023-01-22T20:37:48.470Z"
   },
   {
    "duration": 18,
    "start_time": "2023-01-22T20:37:49.114Z"
   },
   {
    "duration": 11,
    "start_time": "2023-01-22T20:39:52.174Z"
   },
   {
    "duration": 17,
    "start_time": "2023-01-22T20:40:38.887Z"
   },
   {
    "duration": 18,
    "start_time": "2023-01-22T20:40:39.237Z"
   },
   {
    "duration": 6,
    "start_time": "2023-01-22T20:40:49.734Z"
   },
   {
    "duration": 21,
    "start_time": "2023-01-22T20:42:35.000Z"
   },
   {
    "duration": 9,
    "start_time": "2023-01-22T20:44:54.329Z"
   },
   {
    "duration": 12,
    "start_time": "2023-01-22T20:51:10.453Z"
   },
   {
    "duration": 14,
    "start_time": "2023-01-22T20:51:37.484Z"
   },
   {
    "duration": 21,
    "start_time": "2023-01-22T20:51:42.458Z"
   },
   {
    "duration": 28,
    "start_time": "2023-01-22T20:51:47.652Z"
   },
   {
    "duration": 22,
    "start_time": "2023-01-22T20:52:05.360Z"
   },
   {
    "duration": 12,
    "start_time": "2023-01-22T20:52:20.508Z"
   },
   {
    "duration": 30,
    "start_time": "2023-01-22T20:53:07.588Z"
   },
   {
    "duration": 16,
    "start_time": "2023-01-22T20:53:08.804Z"
   },
   {
    "duration": 25,
    "start_time": "2023-01-22T20:53:46.785Z"
   },
   {
    "duration": 12,
    "start_time": "2023-01-22T20:53:47.456Z"
   },
   {
    "duration": 9,
    "start_time": "2023-01-22T20:56:40.170Z"
   },
   {
    "duration": 11,
    "start_time": "2023-01-22T20:57:05.320Z"
   },
   {
    "duration": 10,
    "start_time": "2023-01-22T20:57:29.104Z"
   },
   {
    "duration": 37,
    "start_time": "2023-01-22T20:57:44.672Z"
   },
   {
    "duration": 9,
    "start_time": "2023-01-22T20:58:28.655Z"
   },
   {
    "duration": 10,
    "start_time": "2023-01-22T21:00:09.878Z"
   },
   {
    "duration": 3,
    "start_time": "2023-01-22T21:00:15.485Z"
   },
   {
    "duration": 3,
    "start_time": "2023-01-22T21:00:17.525Z"
   },
   {
    "duration": 3,
    "start_time": "2023-01-22T21:00:42.117Z"
   },
   {
    "duration": 11,
    "start_time": "2023-01-22T21:00:43.174Z"
   },
   {
    "duration": 3,
    "start_time": "2023-01-22T21:02:17.409Z"
   },
   {
    "duration": 265,
    "start_time": "2023-01-22T21:02:49.036Z"
   },
   {
    "duration": 19,
    "start_time": "2023-01-22T21:03:19.291Z"
   },
   {
    "duration": 12,
    "start_time": "2023-01-22T21:03:44.460Z"
   },
   {
    "duration": 1170,
    "start_time": "2023-01-22T21:07:24.152Z"
   },
   {
    "duration": 142,
    "start_time": "2023-01-22T21:07:25.324Z"
   },
   {
    "duration": 19,
    "start_time": "2023-01-22T21:07:25.468Z"
   },
   {
    "duration": 11,
    "start_time": "2023-01-22T21:07:25.489Z"
   },
   {
    "duration": 50,
    "start_time": "2023-01-22T21:07:25.503Z"
   },
   {
    "duration": 2137,
    "start_time": "2023-01-22T21:07:25.555Z"
   },
   {
    "duration": 2371,
    "start_time": "2023-01-22T21:07:27.694Z"
   },
   {
    "duration": 94,
    "start_time": "2023-01-22T21:07:30.066Z"
   },
   {
    "duration": 4,
    "start_time": "2023-01-22T21:07:30.161Z"
   },
   {
    "duration": 41,
    "start_time": "2023-01-22T21:07:30.166Z"
   },
   {
    "duration": 55,
    "start_time": "2023-01-22T21:07:30.210Z"
   },
   {
    "duration": 40,
    "start_time": "2023-01-22T21:07:30.267Z"
   },
   {
    "duration": 59,
    "start_time": "2023-01-22T21:07:30.308Z"
   },
   {
    "duration": 12,
    "start_time": "2023-01-22T21:07:30.369Z"
   },
   {
    "duration": 78,
    "start_time": "2023-01-22T21:07:30.382Z"
   },
   {
    "duration": 27,
    "start_time": "2023-01-22T21:07:30.462Z"
   },
   {
    "duration": 43,
    "start_time": "2023-01-22T21:07:30.490Z"
   },
   {
    "duration": 49,
    "start_time": "2023-01-22T21:07:30.535Z"
   },
   {
    "duration": 97,
    "start_time": "2023-01-22T21:07:30.585Z"
   },
   {
    "duration": 73,
    "start_time": "2023-01-22T21:07:30.684Z"
   },
   {
    "duration": 6,
    "start_time": "2023-01-22T21:07:30.759Z"
   },
   {
    "duration": 64,
    "start_time": "2023-01-22T21:07:30.766Z"
   },
   {
    "duration": 73,
    "start_time": "2023-01-22T21:07:30.832Z"
   },
   {
    "duration": 28,
    "start_time": "2023-01-22T21:07:30.906Z"
   },
   {
    "duration": 46,
    "start_time": "2023-01-22T21:07:30.935Z"
   },
   {
    "duration": 46,
    "start_time": "2023-01-22T21:07:30.983Z"
   },
   {
    "duration": 79,
    "start_time": "2023-01-22T21:07:31.031Z"
   },
   {
    "duration": 58,
    "start_time": "2023-01-22T21:07:31.112Z"
   },
   {
    "duration": 88,
    "start_time": "2023-01-22T21:07:31.172Z"
   },
   {
    "duration": 64,
    "start_time": "2023-01-22T21:07:31.262Z"
   },
   {
    "duration": 63,
    "start_time": "2023-01-22T21:07:31.328Z"
   },
   {
    "duration": 42,
    "start_time": "2023-01-22T21:07:31.393Z"
   },
   {
    "duration": 67,
    "start_time": "2023-01-22T21:07:31.436Z"
   },
   {
    "duration": 49,
    "start_time": "2023-01-22T21:07:31.505Z"
   },
   {
    "duration": 2,
    "start_time": "2023-01-22T21:07:34.924Z"
   },
   {
    "duration": 114,
    "start_time": "2023-01-22T21:07:34.993Z"
   },
   {
    "duration": 16,
    "start_time": "2023-01-22T21:07:45.555Z"
   },
   {
    "duration": 17,
    "start_time": "2023-01-22T21:07:50.659Z"
   },
   {
    "duration": 14,
    "start_time": "2023-01-22T21:07:57.916Z"
   },
   {
    "duration": 13,
    "start_time": "2023-01-22T21:08:29.921Z"
   },
   {
    "duration": 18,
    "start_time": "2023-01-22T21:08:40.491Z"
   },
   {
    "duration": 21,
    "start_time": "2023-01-22T21:08:49.653Z"
   },
   {
    "duration": 16,
    "start_time": "2023-01-22T21:08:55.148Z"
   },
   {
    "duration": 34,
    "start_time": "2023-01-22T21:11:05.701Z"
   },
   {
    "duration": 3,
    "start_time": "2023-01-22T21:11:06.191Z"
   },
   {
    "duration": 3,
    "start_time": "2023-01-22T21:11:06.616Z"
   },
   {
    "duration": 13,
    "start_time": "2023-01-22T21:11:07.314Z"
   },
   {
    "duration": 3,
    "start_time": "2023-01-22T21:11:08.362Z"
   },
   {
    "duration": 14,
    "start_time": "2023-01-22T21:11:09.979Z"
   },
   {
    "duration": 6,
    "start_time": "2023-01-22T21:11:17.264Z"
   },
   {
    "duration": 8,
    "start_time": "2023-01-22T21:13:47.460Z"
   },
   {
    "duration": 13,
    "start_time": "2023-01-22T21:13:50.021Z"
   },
   {
    "duration": 5,
    "start_time": "2023-01-22T21:13:50.413Z"
   },
   {
    "duration": 14,
    "start_time": "2023-01-22T21:15:04.885Z"
   },
   {
    "duration": 4,
    "start_time": "2023-01-22T21:15:05.305Z"
   },
   {
    "duration": 432,
    "start_time": "2023-01-22T21:16:01.970Z"
   },
   {
    "duration": 8,
    "start_time": "2023-01-22T21:16:02.404Z"
   },
   {
    "duration": 7,
    "start_time": "2023-01-22T21:16:10.492Z"
   },
   {
    "duration": 13,
    "start_time": "2023-01-22T21:16:19.606Z"
   },
   {
    "duration": 35,
    "start_time": "2023-01-22T21:17:14.754Z"
   },
   {
    "duration": 11,
    "start_time": "2023-01-22T21:17:44.183Z"
   },
   {
    "duration": 1209,
    "start_time": "2023-01-22T21:22:08.882Z"
   },
   {
    "duration": 131,
    "start_time": "2023-01-22T21:22:10.094Z"
   },
   {
    "duration": 27,
    "start_time": "2023-01-22T21:22:10.227Z"
   },
   {
    "duration": 15,
    "start_time": "2023-01-22T21:22:10.257Z"
   },
   {
    "duration": 23,
    "start_time": "2023-01-22T21:22:10.276Z"
   },
   {
    "duration": 2262,
    "start_time": "2023-01-22T21:22:10.301Z"
   },
   {
    "duration": 2152,
    "start_time": "2023-01-22T21:22:12.565Z"
   },
   {
    "duration": 95,
    "start_time": "2023-01-22T21:22:14.720Z"
   },
   {
    "duration": 5,
    "start_time": "2023-01-22T21:22:14.816Z"
   },
   {
    "duration": 28,
    "start_time": "2023-01-22T21:22:14.823Z"
   },
   {
    "duration": 70,
    "start_time": "2023-01-22T21:22:14.853Z"
   },
   {
    "duration": 38,
    "start_time": "2023-01-22T21:22:14.925Z"
   },
   {
    "duration": 49,
    "start_time": "2023-01-22T21:22:14.965Z"
   },
   {
    "duration": 49,
    "start_time": "2023-01-22T21:22:15.017Z"
   },
   {
    "duration": 83,
    "start_time": "2023-01-22T21:22:15.068Z"
   },
   {
    "duration": 17,
    "start_time": "2023-01-22T21:22:15.154Z"
   },
   {
    "duration": 23,
    "start_time": "2023-01-22T21:22:15.173Z"
   },
   {
    "duration": 20,
    "start_time": "2023-01-22T21:22:15.197Z"
   },
   {
    "duration": 95,
    "start_time": "2023-01-22T21:22:15.219Z"
   },
   {
    "duration": 63,
    "start_time": "2023-01-22T21:22:15.316Z"
   },
   {
    "duration": 6,
    "start_time": "2023-01-22T21:22:15.381Z"
   },
   {
    "duration": 22,
    "start_time": "2023-01-22T21:22:15.389Z"
   },
   {
    "duration": 36,
    "start_time": "2023-01-22T21:22:15.414Z"
   },
   {
    "duration": 12,
    "start_time": "2023-01-22T21:22:15.452Z"
   },
   {
    "duration": 21,
    "start_time": "2023-01-22T21:22:15.465Z"
   },
   {
    "duration": 25,
    "start_time": "2023-01-22T21:22:15.488Z"
   },
   {
    "duration": 26,
    "start_time": "2023-01-22T21:22:15.515Z"
   },
   {
    "duration": 76,
    "start_time": "2023-01-22T21:22:15.542Z"
   },
   {
    "duration": 74,
    "start_time": "2023-01-22T21:22:15.619Z"
   },
   {
    "duration": 83,
    "start_time": "2023-01-22T21:22:15.696Z"
   },
   {
    "duration": 50,
    "start_time": "2023-01-22T21:22:15.781Z"
   },
   {
    "duration": 15,
    "start_time": "2023-01-22T21:22:15.833Z"
   },
   {
    "duration": 60,
    "start_time": "2023-01-22T21:22:15.850Z"
   },
   {
    "duration": 117,
    "start_time": "2023-01-22T21:22:53.147Z"
   },
   {
    "duration": 4,
    "start_time": "2023-01-22T21:22:56.810Z"
   },
   {
    "duration": 4,
    "start_time": "2023-01-22T21:22:57.095Z"
   },
   {
    "duration": 52,
    "start_time": "2023-01-22T21:25:10.889Z"
   },
   {
    "duration": 8,
    "start_time": "2023-01-22T21:25:18.860Z"
   },
   {
    "duration": 3,
    "start_time": "2023-01-22T21:25:44.945Z"
   },
   {
    "duration": 52,
    "start_time": "2023-01-22T21:25:45.325Z"
   },
   {
    "duration": 6,
    "start_time": "2023-01-22T21:25:46.086Z"
   },
   {
    "duration": 4,
    "start_time": "2023-01-22T21:26:57.778Z"
   },
   {
    "duration": 6,
    "start_time": "2023-01-22T21:27:03.878Z"
   },
   {
    "duration": 3,
    "start_time": "2023-01-22T21:28:26.874Z"
   },
   {
    "duration": 5,
    "start_time": "2023-01-22T21:28:29.822Z"
   },
   {
    "duration": 3,
    "start_time": "2023-01-22T21:28:42.117Z"
   },
   {
    "duration": 52,
    "start_time": "2023-01-22T21:28:42.484Z"
   },
   {
    "duration": 4,
    "start_time": "2023-01-22T21:28:42.809Z"
   },
   {
    "duration": 6,
    "start_time": "2023-01-22T21:28:43.525Z"
   },
   {
    "duration": 67,
    "start_time": "2023-01-22T21:29:27.348Z"
   },
   {
    "duration": 7,
    "start_time": "2023-01-22T21:29:31.518Z"
   },
   {
    "duration": 7,
    "start_time": "2023-01-22T21:29:31.750Z"
   },
   {
    "duration": 5,
    "start_time": "2023-01-22T21:29:53.088Z"
   },
   {
    "duration": 5,
    "start_time": "2023-01-22T21:32:23.080Z"
   },
   {
    "duration": 12,
    "start_time": "2023-01-22T21:32:24.879Z"
   },
   {
    "duration": 5,
    "start_time": "2023-01-22T21:36:18.510Z"
   },
   {
    "duration": 3,
    "start_time": "2023-01-22T21:37:56.415Z"
   },
   {
    "duration": 1235,
    "start_time": "2023-01-22T21:38:05.885Z"
   },
   {
    "duration": 136,
    "start_time": "2023-01-22T21:38:07.122Z"
   },
   {
    "duration": 18,
    "start_time": "2023-01-22T21:38:07.260Z"
   },
   {
    "duration": 10,
    "start_time": "2023-01-22T21:38:07.280Z"
   },
   {
    "duration": 25,
    "start_time": "2023-01-22T21:38:07.291Z"
   },
   {
    "duration": 2331,
    "start_time": "2023-01-22T21:38:07.341Z"
   },
   {
    "duration": 2083,
    "start_time": "2023-01-22T21:38:09.674Z"
   },
   {
    "duration": 74,
    "start_time": "2023-01-22T21:38:11.760Z"
   },
   {
    "duration": 5,
    "start_time": "2023-01-22T21:38:11.836Z"
   },
   {
    "duration": 6,
    "start_time": "2023-01-22T21:38:11.844Z"
   },
   {
    "duration": 19,
    "start_time": "2023-01-22T21:38:11.851Z"
   },
   {
    "duration": 8,
    "start_time": "2023-01-22T21:38:11.871Z"
   },
   {
    "duration": 19,
    "start_time": "2023-01-22T21:38:11.881Z"
   },
   {
    "duration": 5,
    "start_time": "2023-01-22T21:38:11.903Z"
   },
   {
    "duration": 67,
    "start_time": "2023-01-22T21:38:11.910Z"
   },
   {
    "duration": 4,
    "start_time": "2023-01-22T21:38:11.978Z"
   },
   {
    "duration": 19,
    "start_time": "2023-01-22T21:38:11.983Z"
   },
   {
    "duration": 20,
    "start_time": "2023-01-22T21:38:12.004Z"
   },
   {
    "duration": 62,
    "start_time": "2023-01-22T21:38:12.026Z"
   },
   {
    "duration": 60,
    "start_time": "2023-01-22T21:38:12.090Z"
   },
   {
    "duration": 5,
    "start_time": "2023-01-22T21:38:12.152Z"
   },
   {
    "duration": 13,
    "start_time": "2023-01-22T21:38:12.159Z"
   },
   {
    "duration": 25,
    "start_time": "2023-01-22T21:38:12.174Z"
   },
   {
    "duration": 11,
    "start_time": "2023-01-22T21:38:12.201Z"
   },
   {
    "duration": 34,
    "start_time": "2023-01-22T21:38:12.213Z"
   },
   {
    "duration": 19,
    "start_time": "2023-01-22T21:38:12.249Z"
   },
   {
    "duration": 10,
    "start_time": "2023-01-22T21:38:12.271Z"
   },
   {
    "duration": 13,
    "start_time": "2023-01-22T21:38:12.285Z"
   },
   {
    "duration": 44,
    "start_time": "2023-01-22T21:38:12.300Z"
   },
   {
    "duration": 47,
    "start_time": "2023-01-22T21:38:12.346Z"
   },
   {
    "duration": 25,
    "start_time": "2023-01-22T21:38:12.395Z"
   },
   {
    "duration": 18,
    "start_time": "2023-01-22T21:38:12.422Z"
   },
   {
    "duration": 17,
    "start_time": "2023-01-22T21:38:12.442Z"
   },
   {
    "duration": 8,
    "start_time": "2023-01-22T21:38:12.461Z"
   },
   {
    "duration": 56,
    "start_time": "2023-01-22T21:38:12.471Z"
   },
   {
    "duration": 11,
    "start_time": "2023-01-22T21:38:12.529Z"
   },
   {
    "duration": 3,
    "start_time": "2023-01-22T21:38:12.542Z"
   },
   {
    "duration": 12,
    "start_time": "2023-01-22T21:38:12.547Z"
   },
   {
    "duration": 6,
    "start_time": "2023-01-22T21:38:12.560Z"
   },
   {
    "duration": 5,
    "start_time": "2023-01-22T21:38:18.867Z"
   },
   {
    "duration": 116,
    "start_time": "2023-01-22T21:41:26.962Z"
   },
   {
    "duration": 2923,
    "start_time": "2023-01-22T21:41:32.232Z"
   },
   {
    "duration": 10538,
    "start_time": "2023-01-22T21:41:42.269Z"
   },
   {
    "duration": 3,
    "start_time": "2023-01-22T21:41:55.956Z"
   },
   {
    "duration": 27,
    "start_time": "2023-01-22T21:42:05.140Z"
   },
   {
    "duration": 4,
    "start_time": "2023-01-22T21:42:48.244Z"
   },
   {
    "duration": 1203,
    "start_time": "2023-01-22T21:43:04.839Z"
   },
   {
    "duration": 1308,
    "start_time": "2023-01-22T21:43:34.006Z"
   },
   {
    "duration": 130,
    "start_time": "2023-01-22T21:43:35.317Z"
   },
   {
    "duration": 17,
    "start_time": "2023-01-22T21:43:35.449Z"
   },
   {
    "duration": 11,
    "start_time": "2023-01-22T21:43:35.468Z"
   },
   {
    "duration": 17,
    "start_time": "2023-01-22T21:43:35.480Z"
   },
   {
    "duration": 2047,
    "start_time": "2023-01-22T21:43:35.498Z"
   },
   {
    "duration": 2227,
    "start_time": "2023-01-22T21:43:37.546Z"
   },
   {
    "duration": 82,
    "start_time": "2023-01-22T21:43:39.775Z"
   },
   {
    "duration": 4,
    "start_time": "2023-01-22T21:43:39.859Z"
   },
   {
    "duration": 7,
    "start_time": "2023-01-22T21:43:39.866Z"
   },
   {
    "duration": 20,
    "start_time": "2023-01-22T21:43:39.875Z"
   },
   {
    "duration": 6,
    "start_time": "2023-01-22T21:43:39.897Z"
   },
   {
    "duration": 40,
    "start_time": "2023-01-22T21:43:39.905Z"
   },
   {
    "duration": 5,
    "start_time": "2023-01-22T21:43:39.946Z"
   },
   {
    "duration": 40,
    "start_time": "2023-01-22T21:43:39.953Z"
   },
   {
    "duration": 4,
    "start_time": "2023-01-22T21:43:39.995Z"
   },
   {
    "duration": 40,
    "start_time": "2023-01-22T21:43:40.000Z"
   },
   {
    "duration": 6,
    "start_time": "2023-01-22T21:43:40.042Z"
   },
   {
    "duration": 90,
    "start_time": "2023-01-22T21:43:40.050Z"
   },
   {
    "duration": 77,
    "start_time": "2023-01-22T21:43:40.143Z"
   },
   {
    "duration": 21,
    "start_time": "2023-01-22T21:43:40.222Z"
   },
   {
    "duration": 11,
    "start_time": "2023-01-22T21:43:40.245Z"
   },
   {
    "duration": 33,
    "start_time": "2023-01-22T21:43:40.258Z"
   },
   {
    "duration": 12,
    "start_time": "2023-01-22T21:43:40.293Z"
   },
   {
    "duration": 9,
    "start_time": "2023-01-22T21:43:40.307Z"
   },
   {
    "duration": 15,
    "start_time": "2023-01-22T21:43:40.339Z"
   },
   {
    "duration": 8,
    "start_time": "2023-01-22T21:43:40.356Z"
   },
   {
    "duration": 8,
    "start_time": "2023-01-22T21:43:40.367Z"
   },
   {
    "duration": 25,
    "start_time": "2023-01-22T21:43:40.377Z"
   },
   {
    "duration": 66,
    "start_time": "2023-01-22T21:43:40.404Z"
   },
   {
    "duration": 4,
    "start_time": "2023-01-22T21:43:40.471Z"
   },
   {
    "duration": 10,
    "start_time": "2023-01-22T21:43:40.476Z"
   },
   {
    "duration": 16,
    "start_time": "2023-01-22T21:43:40.488Z"
   },
   {
    "duration": 4,
    "start_time": "2023-01-22T21:43:40.507Z"
   },
   {
    "duration": 91,
    "start_time": "2023-01-22T21:43:40.513Z"
   },
   {
    "duration": 3,
    "start_time": "2023-01-22T21:43:40.606Z"
   },
   {
    "duration": 6,
    "start_time": "2023-01-22T21:43:40.611Z"
   },
   {
    "duration": 30,
    "start_time": "2023-01-22T21:43:40.619Z"
   },
   {
    "duration": 7,
    "start_time": "2023-01-22T21:43:40.651Z"
   },
   {
    "duration": 9,
    "start_time": "2023-01-22T21:43:40.660Z"
   },
   {
    "duration": 2871,
    "start_time": "2023-01-22T21:43:40.671Z"
   },
   {
    "duration": 2,
    "start_time": "2023-01-22T21:43:43.544Z"
   },
   {
    "duration": 38,
    "start_time": "2023-01-22T21:43:43.548Z"
   },
   {
    "duration": 59,
    "start_time": "2023-01-22T21:43:45.791Z"
   },
   {
    "duration": 12,
    "start_time": "2023-01-22T21:44:03.291Z"
   },
   {
    "duration": 18,
    "start_time": "2023-01-22T21:44:52.649Z"
   },
   {
    "duration": 14,
    "start_time": "2023-01-22T21:45:08.595Z"
   },
   {
    "duration": 21,
    "start_time": "2023-01-22T21:45:51.177Z"
   },
   {
    "duration": 4,
    "start_time": "2023-01-22T21:47:39.641Z"
   },
   {
    "duration": 106,
    "start_time": "2023-01-22T21:50:14.595Z"
   },
   {
    "duration": 8,
    "start_time": "2023-01-22T21:50:17.630Z"
   },
   {
    "duration": 1183,
    "start_time": "2023-01-22T21:50:50.671Z"
   },
   {
    "duration": 129,
    "start_time": "2023-01-22T21:50:51.856Z"
   },
   {
    "duration": 16,
    "start_time": "2023-01-22T21:50:51.987Z"
   },
   {
    "duration": 10,
    "start_time": "2023-01-22T21:50:52.005Z"
   },
   {
    "duration": 35,
    "start_time": "2023-01-22T21:50:52.017Z"
   },
   {
    "duration": 2033,
    "start_time": "2023-01-22T21:50:52.054Z"
   },
   {
    "duration": 2144,
    "start_time": "2023-01-22T21:50:54.089Z"
   },
   {
    "duration": 87,
    "start_time": "2023-01-22T21:50:56.235Z"
   },
   {
    "duration": 3,
    "start_time": "2023-01-22T21:50:56.324Z"
   },
   {
    "duration": 23,
    "start_time": "2023-01-22T21:50:56.329Z"
   },
   {
    "duration": 44,
    "start_time": "2023-01-22T21:50:56.353Z"
   },
   {
    "duration": 6,
    "start_time": "2023-01-22T21:50:56.399Z"
   },
   {
    "duration": 35,
    "start_time": "2023-01-22T21:50:56.407Z"
   },
   {
    "duration": 6,
    "start_time": "2023-01-22T21:50:56.444Z"
   },
   {
    "duration": 53,
    "start_time": "2023-01-22T21:50:56.452Z"
   },
   {
    "duration": 4,
    "start_time": "2023-01-22T21:50:56.508Z"
   },
   {
    "duration": 23,
    "start_time": "2023-01-22T21:50:56.514Z"
   },
   {
    "duration": 20,
    "start_time": "2023-01-22T21:50:56.539Z"
   },
   {
    "duration": 88,
    "start_time": "2023-01-22T21:50:56.560Z"
   },
   {
    "duration": 56,
    "start_time": "2023-01-22T21:50:56.651Z"
   },
   {
    "duration": 5,
    "start_time": "2023-01-22T21:50:56.709Z"
   },
   {
    "duration": 29,
    "start_time": "2023-01-22T21:50:56.716Z"
   },
   {
    "duration": 42,
    "start_time": "2023-01-22T21:50:56.747Z"
   },
   {
    "duration": 13,
    "start_time": "2023-01-22T21:50:56.791Z"
   },
   {
    "duration": 32,
    "start_time": "2023-01-22T21:50:56.805Z"
   },
   {
    "duration": 26,
    "start_time": "2023-01-22T21:50:56.839Z"
   },
   {
    "duration": 21,
    "start_time": "2023-01-22T21:50:56.867Z"
   },
   {
    "duration": 25,
    "start_time": "2023-01-22T21:50:56.891Z"
   },
   {
    "duration": 40,
    "start_time": "2023-01-22T21:50:56.918Z"
   },
   {
    "duration": 47,
    "start_time": "2023-01-22T21:50:56.960Z"
   },
   {
    "duration": 15,
    "start_time": "2023-01-22T21:50:57.009Z"
   },
   {
    "duration": 33,
    "start_time": "2023-01-22T21:50:57.025Z"
   },
   {
    "duration": 25,
    "start_time": "2023-01-22T21:50:57.061Z"
   },
   {
    "duration": 29,
    "start_time": "2023-01-22T21:50:57.089Z"
   },
   {
    "duration": 69,
    "start_time": "2023-01-22T21:50:57.120Z"
   },
   {
    "duration": 4,
    "start_time": "2023-01-22T21:50:57.191Z"
   },
   {
    "duration": 28,
    "start_time": "2023-01-22T21:50:57.196Z"
   },
   {
    "duration": 12,
    "start_time": "2023-01-22T21:50:57.226Z"
   },
   {
    "duration": 24,
    "start_time": "2023-01-22T21:50:57.240Z"
   },
   {
    "duration": 14,
    "start_time": "2023-01-22T21:50:57.265Z"
   },
   {
    "duration": 2902,
    "start_time": "2023-01-22T21:50:57.280Z"
   },
   {
    "duration": 3,
    "start_time": "2023-01-22T21:51:00.185Z"
   },
   {
    "duration": 59,
    "start_time": "2023-01-22T21:51:00.190Z"
   },
   {
    "duration": 17,
    "start_time": "2023-01-22T21:51:03.393Z"
   },
   {
    "duration": 55,
    "start_time": "2023-01-23T15:42:03.843Z"
   },
   {
    "duration": 1516,
    "start_time": "2023-01-23T15:42:09.328Z"
   },
   {
    "duration": 191,
    "start_time": "2023-01-23T15:42:11.708Z"
   },
   {
    "duration": 18,
    "start_time": "2023-01-23T15:42:12.315Z"
   },
   {
    "duration": 11,
    "start_time": "2023-01-23T15:42:14.424Z"
   },
   {
    "duration": 18,
    "start_time": "2023-01-23T15:42:15.706Z"
   },
   {
    "duration": 2194,
    "start_time": "2023-01-23T15:42:16.408Z"
   },
   {
    "duration": 2309,
    "start_time": "2023-01-23T15:42:18.605Z"
   },
   {
    "duration": 85,
    "start_time": "2023-01-23T15:42:20.916Z"
   },
   {
    "duration": 4,
    "start_time": "2023-01-23T15:42:21.003Z"
   },
   {
    "duration": 9,
    "start_time": "2023-01-23T15:42:23.530Z"
   },
   {
    "duration": 76,
    "start_time": "2023-01-23T15:43:51.865Z"
   },
   {
    "duration": 45,
    "start_time": "2023-01-23T15:47:52.090Z"
   },
   {
    "duration": 3,
    "start_time": "2023-01-23T15:47:54.311Z"
   },
   {
    "duration": 14,
    "start_time": "2023-01-23T15:47:55.116Z"
   },
   {
    "duration": 7,
    "start_time": "2023-01-23T15:49:51.530Z"
   },
   {
    "duration": 13,
    "start_time": "2023-01-23T15:50:08.876Z"
   },
   {
    "duration": 3,
    "start_time": "2023-01-23T15:50:45.171Z"
   },
   {
    "duration": 42,
    "start_time": "2023-01-23T15:50:45.478Z"
   },
   {
    "duration": 12,
    "start_time": "2023-01-23T15:50:51.805Z"
   },
   {
    "duration": 3,
    "start_time": "2023-01-23T15:50:52.228Z"
   },
   {
    "duration": 26,
    "start_time": "2023-01-23T15:50:52.803Z"
   },
   {
    "duration": 4,
    "start_time": "2023-01-23T15:50:57.052Z"
   },
   {
    "duration": 4,
    "start_time": "2023-01-23T15:50:57.244Z"
   },
   {
    "duration": 4,
    "start_time": "2023-01-23T15:50:57.564Z"
   },
   {
    "duration": 4,
    "start_time": "2023-01-23T15:50:57.987Z"
   },
   {
    "duration": 3,
    "start_time": "2023-01-23T15:50:58.612Z"
   },
   {
    "duration": 3,
    "start_time": "2023-01-23T15:50:59.060Z"
   },
   {
    "duration": 28,
    "start_time": "2023-01-23T15:50:59.526Z"
   },
   {
    "duration": 3,
    "start_time": "2023-01-23T15:51:06.659Z"
   },
   {
    "duration": 119,
    "start_time": "2023-01-23T15:51:06.819Z"
   },
   {
    "duration": 16,
    "start_time": "2023-01-23T15:51:06.972Z"
   },
   {
    "duration": 11,
    "start_time": "2023-01-23T15:51:07.275Z"
   },
   {
    "duration": 16,
    "start_time": "2023-01-23T15:51:07.452Z"
   },
   {
    "duration": 2212,
    "start_time": "2023-01-23T15:51:07.613Z"
   },
   {
    "duration": 2185,
    "start_time": "2023-01-23T15:51:09.828Z"
   },
   {
    "duration": 106,
    "start_time": "2023-01-23T15:51:12.015Z"
   },
   {
    "duration": 3,
    "start_time": "2023-01-23T15:51:12.123Z"
   },
   {
    "duration": 14,
    "start_time": "2023-01-23T15:51:12.128Z"
   },
   {
    "duration": 29,
    "start_time": "2023-01-23T15:51:12.144Z"
   },
   {
    "duration": 0,
    "start_time": "2023-01-23T15:51:12.175Z"
   },
   {
    "duration": 0,
    "start_time": "2023-01-23T15:51:12.185Z"
   },
   {
    "duration": 0,
    "start_time": "2023-01-23T15:51:12.186Z"
   },
   {
    "duration": 0,
    "start_time": "2023-01-23T15:51:12.188Z"
   },
   {
    "duration": 6,
    "start_time": "2023-01-23T15:51:12.363Z"
   },
   {
    "duration": 1623,
    "start_time": "2023-01-23T15:51:12.725Z"
   },
   {
    "duration": 4,
    "start_time": "2023-01-23T15:51:14.351Z"
   },
   {
    "duration": 5,
    "start_time": "2023-01-23T15:51:16.462Z"
   },
   {
    "duration": 42,
    "start_time": "2023-01-23T15:51:16.469Z"
   },
   {
    "duration": 85,
    "start_time": "2023-01-23T15:51:16.514Z"
   },
   {
    "duration": 64,
    "start_time": "2023-01-23T15:51:16.601Z"
   },
   {
    "duration": 20,
    "start_time": "2023-01-23T15:51:16.667Z"
   },
   {
    "duration": 24,
    "start_time": "2023-01-23T15:51:16.692Z"
   },
   {
    "duration": 25,
    "start_time": "2023-01-23T15:51:17.274Z"
   },
   {
    "duration": 15,
    "start_time": "2023-01-23T15:51:19.470Z"
   },
   {
    "duration": 11,
    "start_time": "2023-01-23T15:51:19.524Z"
   },
   {
    "duration": 24,
    "start_time": "2023-01-23T15:51:22.190Z"
   },
   {
    "duration": 39,
    "start_time": "2023-01-23T15:51:22.667Z"
   },
   {
    "duration": 4,
    "start_time": "2023-01-23T15:51:22.902Z"
   },
   {
    "duration": 14,
    "start_time": "2023-01-23T15:51:23.278Z"
   },
   {
    "duration": 3,
    "start_time": "2023-01-23T15:51:23.469Z"
   },
   {
    "duration": 56,
    "start_time": "2023-01-23T15:51:23.662Z"
   },
   {
    "duration": 4,
    "start_time": "2023-01-23T15:51:27.182Z"
   },
   {
    "duration": 3,
    "start_time": "2023-01-23T15:51:29.053Z"
   },
   {
    "duration": 4,
    "start_time": "2023-01-23T15:51:30.337Z"
   },
   {
    "duration": 3,
    "start_time": "2023-01-23T15:51:31.245Z"
   },
   {
    "duration": 3035,
    "start_time": "2023-01-23T15:51:31.685Z"
   },
   {
    "duration": 3,
    "start_time": "2023-01-23T15:51:34.722Z"
   },
   {
    "duration": 35,
    "start_time": "2023-01-23T15:51:34.727Z"
   },
   {
    "duration": 6,
    "start_time": "2023-01-23T15:51:49.023Z"
   },
   {
    "duration": 3,
    "start_time": "2023-01-23T15:54:30.149Z"
   },
   {
    "duration": 80,
    "start_time": "2023-01-23T15:54:33.182Z"
   },
   {
    "duration": 3,
    "start_time": "2023-01-23T15:54:33.473Z"
   },
   {
    "duration": 3,
    "start_time": "2023-01-23T15:54:33.878Z"
   },
   {
    "duration": 6,
    "start_time": "2023-01-23T15:54:34.394Z"
   },
   {
    "duration": 10,
    "start_time": "2023-01-23T15:55:21.499Z"
   },
   {
    "duration": 3,
    "start_time": "2023-01-23T15:55:31.726Z"
   },
   {
    "duration": 116,
    "start_time": "2023-01-23T15:55:31.903Z"
   },
   {
    "duration": 18,
    "start_time": "2023-01-23T15:55:32.052Z"
   },
   {
    "duration": 14,
    "start_time": "2023-01-23T15:55:32.377Z"
   },
   {
    "duration": 21,
    "start_time": "2023-01-23T15:55:32.562Z"
   },
   {
    "duration": 2055,
    "start_time": "2023-01-23T15:55:32.700Z"
   },
   {
    "duration": 2404,
    "start_time": "2023-01-23T15:55:34.758Z"
   },
   {
    "duration": 93,
    "start_time": "2023-01-23T15:55:37.165Z"
   },
   {
    "duration": 5,
    "start_time": "2023-01-23T15:55:37.261Z"
   },
   {
    "duration": 19,
    "start_time": "2023-01-23T15:55:37.267Z"
   },
   {
    "duration": 20,
    "start_time": "2023-01-23T15:55:37.289Z"
   },
   {
    "duration": 6,
    "start_time": "2023-01-23T15:55:40.072Z"
   },
   {
    "duration": 22,
    "start_time": "2023-01-23T15:55:40.637Z"
   },
   {
    "duration": 6,
    "start_time": "2023-01-23T15:55:41.174Z"
   },
   {
    "duration": 26,
    "start_time": "2023-01-23T15:55:42.093Z"
   },
   {
    "duration": 6,
    "start_time": "2023-01-23T15:55:42.383Z"
   },
   {
    "duration": 182,
    "start_time": "2023-01-23T15:55:42.880Z"
   },
   {
    "duration": 4,
    "start_time": "2023-01-23T15:55:43.064Z"
   },
   {
    "duration": 5,
    "start_time": "2023-01-23T15:55:44.293Z"
   },
   {
    "duration": 8,
    "start_time": "2023-01-23T15:55:45.638Z"
   },
   {
    "duration": 67,
    "start_time": "2023-01-23T15:55:45.870Z"
   },
   {
    "duration": 61,
    "start_time": "2023-01-23T15:55:46.221Z"
   },
   {
    "duration": 7,
    "start_time": "2023-01-23T15:55:46.429Z"
   },
   {
    "duration": 13,
    "start_time": "2023-01-23T15:55:46.877Z"
   },
   {
    "duration": 24,
    "start_time": "2023-01-23T15:55:47.397Z"
   },
   {
    "duration": 13,
    "start_time": "2023-01-23T15:55:47.918Z"
   },
   {
    "duration": 10,
    "start_time": "2023-01-23T15:55:48.092Z"
   },
   {
    "duration": 24,
    "start_time": "2023-01-23T15:55:48.413Z"
   },
   {
    "duration": 55,
    "start_time": "2023-01-23T15:55:51.566Z"
   },
   {
    "duration": 4,
    "start_time": "2023-01-23T15:55:51.735Z"
   },
   {
    "duration": 15,
    "start_time": "2023-01-23T15:55:52.166Z"
   },
   {
    "duration": 3,
    "start_time": "2023-01-23T15:55:54.149Z"
   },
   {
    "duration": 56,
    "start_time": "2023-01-23T15:55:54.406Z"
   },
   {
    "duration": 3,
    "start_time": "2023-01-23T15:55:54.638Z"
   },
   {
    "duration": 3,
    "start_time": "2023-01-23T15:55:54.832Z"
   },
   {
    "duration": 8,
    "start_time": "2023-01-23T15:55:55.021Z"
   },
   {
    "duration": 4,
    "start_time": "2023-01-23T15:55:55.423Z"
   },
   {
    "duration": 3,
    "start_time": "2023-01-23T15:55:55.702Z"
   },
   {
    "duration": 3344,
    "start_time": "2023-01-23T15:55:55.973Z"
   },
   {
    "duration": 29,
    "start_time": "2023-01-23T15:55:59.320Z"
   },
   {
    "duration": 12,
    "start_time": "2023-01-23T15:55:59.351Z"
   },
   {
    "duration": 1369,
    "start_time": "2023-01-24T19:47:38.083Z"
   },
   {
    "duration": 144,
    "start_time": "2023-01-24T19:47:43.056Z"
   },
   {
    "duration": 366,
    "start_time": "2023-01-24T19:47:53.661Z"
   },
   {
    "duration": 16,
    "start_time": "2023-01-24T19:48:06.515Z"
   },
   {
    "duration": 8,
    "start_time": "2023-01-24T19:48:34.199Z"
   },
   {
    "duration": 20,
    "start_time": "2023-01-24T19:48:42.850Z"
   },
   {
    "duration": 2047,
    "start_time": "2023-01-24T19:48:44.747Z"
   },
   {
    "duration": 1969,
    "start_time": "2023-01-24T19:50:04.404Z"
   },
   {
    "duration": 77,
    "start_time": "2023-01-24T19:51:08.434Z"
   },
   {
    "duration": 3,
    "start_time": "2023-01-24T19:51:54.195Z"
   },
   {
    "duration": 8,
    "start_time": "2023-01-24T19:52:28.191Z"
   },
   {
    "duration": 4,
    "start_time": "2023-01-24T19:52:57.741Z"
   },
   {
    "duration": 19,
    "start_time": "2023-01-24T19:54:09.741Z"
   },
   {
    "duration": 6,
    "start_time": "2023-01-24T19:55:03.732Z"
   },
   {
    "duration": 16,
    "start_time": "2023-01-24T19:55:17.184Z"
   },
   {
    "duration": 4,
    "start_time": "2023-01-24T19:55:18.942Z"
   },
   {
    "duration": 43,
    "start_time": "2023-01-24T19:55:40.433Z"
   },
   {
    "duration": 4,
    "start_time": "2023-01-24T19:55:43.767Z"
   },
   {
    "duration": 3,
    "start_time": "2023-01-24T19:56:00.330Z"
   },
   {
    "duration": 6,
    "start_time": "2023-01-24T19:56:18.823Z"
   },
   {
    "duration": 64,
    "start_time": "2023-01-24T19:56:26.528Z"
   },
   {
    "duration": 55,
    "start_time": "2023-01-24T19:56:42.431Z"
   },
   {
    "duration": 6,
    "start_time": "2023-01-24T19:56:42.933Z"
   },
   {
    "duration": 7,
    "start_time": "2023-01-24T19:56:54.631Z"
   },
   {
    "duration": 29,
    "start_time": "2023-01-24T19:57:21.943Z"
   },
   {
    "duration": 21,
    "start_time": "2023-01-24T19:57:28.446Z"
   },
   {
    "duration": 14,
    "start_time": "2023-01-24T19:57:56.866Z"
   },
   {
    "duration": 9,
    "start_time": "2023-01-24T19:57:57.430Z"
   },
   {
    "duration": 20,
    "start_time": "2023-01-24T19:58:19.531Z"
   },
   {
    "duration": 35,
    "start_time": "2023-01-24T19:58:32.262Z"
   },
   {
    "duration": 3,
    "start_time": "2023-01-24T19:58:33.151Z"
   },
   {
    "duration": 18,
    "start_time": "2023-01-24T19:59:48.752Z"
   },
   {
    "duration": 3,
    "start_time": "2023-01-24T20:00:16.781Z"
   },
   {
    "duration": 47,
    "start_time": "2023-01-24T20:00:22.321Z"
   },
   {
    "duration": 3,
    "start_time": "2023-01-24T20:00:22.678Z"
   },
   {
    "duration": 3,
    "start_time": "2023-01-24T20:00:23.038Z"
   },
   {
    "duration": 8,
    "start_time": "2023-01-24T20:00:23.350Z"
   },
   {
    "duration": 4,
    "start_time": "2023-01-24T20:00:32.086Z"
   },
   {
    "duration": 3,
    "start_time": "2023-01-24T20:00:32.530Z"
   },
   {
    "duration": 2746,
    "start_time": "2023-01-24T20:00:32.929Z"
   },
   {
    "duration": 27,
    "start_time": "2023-01-24T20:00:35.677Z"
   },
   {
    "duration": 72,
    "start_time": "2023-01-24T20:01:42.737Z"
   },
   {
    "duration": 16,
    "start_time": "2023-01-24T20:02:04.328Z"
   },
   {
    "duration": 110,
    "start_time": "2023-01-24T20:02:43.042Z"
   },
   {
    "duration": 18,
    "start_time": "2023-01-24T20:03:04.678Z"
   },
   {
    "duration": 103,
    "start_time": "2023-01-24T20:03:14.322Z"
   },
   {
    "duration": 11,
    "start_time": "2023-01-24T20:05:23.777Z"
   },
   {
    "duration": 112,
    "start_time": "2023-01-24T20:05:34.282Z"
   },
   {
    "duration": 13,
    "start_time": "2023-01-24T20:06:00.534Z"
   },
   {
    "duration": 104,
    "start_time": "2023-01-24T20:06:05.530Z"
   },
   {
    "duration": 22,
    "start_time": "2023-01-24T20:06:23.531Z"
   },
   {
    "duration": 92,
    "start_time": "2023-01-24T20:06:32.937Z"
   },
   {
    "duration": 10,
    "start_time": "2023-01-24T20:06:45.973Z"
   },
   {
    "duration": 95,
    "start_time": "2023-01-24T20:06:54.637Z"
   },
   {
    "duration": 146,
    "start_time": "2023-01-24T20:07:02.074Z"
   },
   {
    "duration": 20,
    "start_time": "2023-01-24T20:08:48.721Z"
   },
   {
    "duration": 90,
    "start_time": "2023-01-24T20:08:54.443Z"
   },
   {
    "duration": 11,
    "start_time": "2023-01-24T20:09:40.931Z"
   },
   {
    "duration": 72,
    "start_time": "2023-01-24T20:09:47.098Z"
   },
   {
    "duration": 13,
    "start_time": "2023-01-24T20:10:51.859Z"
   },
   {
    "duration": 67,
    "start_time": "2023-01-24T20:10:55.980Z"
   },
   {
    "duration": 12,
    "start_time": "2023-01-24T20:16:21.724Z"
   },
   {
    "duration": 3,
    "start_time": "2023-01-24T20:17:12.894Z"
   },
   {
    "duration": 435,
    "start_time": "2023-01-24T20:17:18.591Z"
   },
   {
    "duration": 5,
    "start_time": "2023-01-24T20:18:46.168Z"
   },
   {
    "duration": 194,
    "start_time": "2023-01-24T20:20:44.323Z"
   },
   {
    "duration": 212,
    "start_time": "2023-01-24T20:22:55.821Z"
   },
   {
    "duration": 164,
    "start_time": "2023-01-24T20:24:13.235Z"
   },
   {
    "duration": 152,
    "start_time": "2023-01-24T20:25:05.003Z"
   },
   {
    "duration": 156,
    "start_time": "2023-01-24T20:26:11.795Z"
   },
   {
    "duration": 144,
    "start_time": "2023-01-24T20:32:50.166Z"
   },
   {
    "duration": 163,
    "start_time": "2023-01-24T20:33:18.750Z"
   },
   {
    "duration": 144,
    "start_time": "2023-01-24T20:33:25.480Z"
   },
   {
    "duration": 183,
    "start_time": "2023-01-24T20:34:16.310Z"
   },
   {
    "duration": 216,
    "start_time": "2023-01-24T20:34:53.463Z"
   },
   {
    "duration": 148,
    "start_time": "2023-01-24T20:35:39.493Z"
   },
   {
    "duration": 134,
    "start_time": "2023-01-24T20:37:18.035Z"
   },
   {
    "duration": 159,
    "start_time": "2023-01-24T20:37:58.096Z"
   },
   {
    "duration": 27,
    "start_time": "2023-01-24T20:39:07.359Z"
   },
   {
    "duration": 15,
    "start_time": "2023-01-24T20:40:52.480Z"
   },
   {
    "duration": 114,
    "start_time": "2023-01-24T20:40:53.787Z"
   },
   {
    "duration": 137,
    "start_time": "2023-01-24T20:41:03.940Z"
   },
   {
    "duration": 114,
    "start_time": "2023-01-24T20:41:59.020Z"
   },
   {
    "duration": 163,
    "start_time": "2023-01-24T20:43:06.762Z"
   },
   {
    "duration": 252,
    "start_time": "2023-01-24T20:44:36.348Z"
   },
   {
    "duration": 137,
    "start_time": "2023-01-24T20:45:19.847Z"
   },
   {
    "duration": 6,
    "start_time": "2023-01-24T20:47:12.745Z"
   },
   {
    "duration": 219,
    "start_time": "2023-01-24T20:48:11.935Z"
   },
   {
    "duration": 183,
    "start_time": "2023-01-24T20:49:04.999Z"
   },
   {
    "duration": 14,
    "start_time": "2023-01-24T20:49:47.933Z"
   },
   {
    "duration": 830,
    "start_time": "2023-01-24T20:52:28.546Z"
   },
   {
    "duration": 189,
    "start_time": "2023-01-24T20:53:03.742Z"
   },
   {
    "duration": 128,
    "start_time": "2023-01-24T20:53:59.456Z"
   },
   {
    "duration": 150,
    "start_time": "2023-01-24T20:54:34.150Z"
   },
   {
    "duration": 138,
    "start_time": "2023-01-24T20:55:21.230Z"
   },
   {
    "duration": 129,
    "start_time": "2023-01-24T20:55:27.135Z"
   },
   {
    "duration": 127,
    "start_time": "2023-01-24T20:55:57.466Z"
   },
   {
    "duration": 142,
    "start_time": "2023-01-24T20:56:24.928Z"
   },
   {
    "duration": 149,
    "start_time": "2023-01-24T20:56:56.460Z"
   },
   {
    "duration": 141,
    "start_time": "2023-01-24T20:57:19.148Z"
   },
   {
    "duration": 27,
    "start_time": "2023-01-24T20:58:19.580Z"
   },
   {
    "duration": 158,
    "start_time": "2023-01-24T21:01:03.574Z"
   },
   {
    "duration": 1045,
    "start_time": "2023-01-24T21:05:49.212Z"
   },
   {
    "duration": 114,
    "start_time": "2023-01-24T21:05:50.259Z"
   },
   {
    "duration": 15,
    "start_time": "2023-01-24T21:05:50.374Z"
   },
   {
    "duration": 8,
    "start_time": "2023-01-24T21:05:50.390Z"
   },
   {
    "duration": 16,
    "start_time": "2023-01-24T21:05:50.400Z"
   },
   {
    "duration": 1851,
    "start_time": "2023-01-24T21:05:50.417Z"
   },
   {
    "duration": 1918,
    "start_time": "2023-01-24T21:05:52.270Z"
   },
   {
    "duration": 69,
    "start_time": "2023-01-24T21:05:54.190Z"
   },
   {
    "duration": 3,
    "start_time": "2023-01-24T21:05:54.261Z"
   },
   {
    "duration": 11,
    "start_time": "2023-01-24T21:05:54.266Z"
   },
   {
    "duration": 5,
    "start_time": "2023-01-24T21:05:54.278Z"
   },
   {
    "duration": 17,
    "start_time": "2023-01-24T21:05:54.285Z"
   },
   {
    "duration": 5,
    "start_time": "2023-01-24T21:05:54.303Z"
   },
   {
    "duration": 20,
    "start_time": "2023-01-24T21:05:54.310Z"
   },
   {
    "duration": 18,
    "start_time": "2023-01-24T21:05:54.331Z"
   },
   {
    "duration": 35,
    "start_time": "2023-01-24T21:05:54.350Z"
   },
   {
    "duration": 3,
    "start_time": "2023-01-24T21:05:54.387Z"
   },
   {
    "duration": 4,
    "start_time": "2023-01-24T21:05:54.626Z"
   },
   {
    "duration": 6,
    "start_time": "2023-01-24T21:05:55.102Z"
   },
   {
    "duration": 49,
    "start_time": "2023-01-24T21:05:55.258Z"
   },
   {
    "duration": 47,
    "start_time": "2023-01-24T21:05:55.602Z"
   },
   {
    "duration": 5,
    "start_time": "2023-01-24T21:05:55.771Z"
   },
   {
    "duration": 7,
    "start_time": "2023-01-24T21:05:56.089Z"
   },
   {
    "duration": 22,
    "start_time": "2023-01-24T21:05:56.577Z"
   },
   {
    "duration": 11,
    "start_time": "2023-01-24T21:05:57.036Z"
   },
   {
    "duration": 9,
    "start_time": "2023-01-24T21:05:57.210Z"
   },
   {
    "duration": 22,
    "start_time": "2023-01-24T21:05:57.706Z"
   },
   {
    "duration": 32,
    "start_time": "2023-01-24T21:05:58.034Z"
   },
   {
    "duration": 2,
    "start_time": "2023-01-24T21:05:58.203Z"
   },
   {
    "duration": 13,
    "start_time": "2023-01-24T21:05:58.493Z"
   },
   {
    "duration": 3,
    "start_time": "2023-01-24T21:05:58.834Z"
   },
   {
    "duration": 42,
    "start_time": "2023-01-24T21:05:59.011Z"
   },
   {
    "duration": 4,
    "start_time": "2023-01-24T21:05:59.170Z"
   },
   {
    "duration": 3,
    "start_time": "2023-01-24T21:05:59.355Z"
   },
   {
    "duration": 8,
    "start_time": "2023-01-24T21:05:59.509Z"
   },
   {
    "duration": 4,
    "start_time": "2023-01-24T21:05:59.827Z"
   },
   {
    "duration": 3,
    "start_time": "2023-01-24T21:06:00.002Z"
   },
   {
    "duration": 2468,
    "start_time": "2023-01-24T21:06:00.172Z"
   },
   {
    "duration": 28,
    "start_time": "2023-01-24T21:06:02.642Z"
   },
   {
    "duration": 65,
    "start_time": "2023-01-24T21:06:02.671Z"
   },
   {
    "duration": 18,
    "start_time": "2023-01-24T21:06:02.750Z"
   },
   {
    "duration": 129,
    "start_time": "2023-01-24T21:06:02.769Z"
   },
   {
    "duration": 18,
    "start_time": "2023-01-24T21:06:02.900Z"
   },
   {
    "duration": 95,
    "start_time": "2023-01-24T21:06:02.920Z"
   },
   {
    "duration": 12,
    "start_time": "2023-01-24T21:06:03.017Z"
   },
   {
    "duration": 107,
    "start_time": "2023-01-24T21:06:03.030Z"
   },
   {
    "duration": 12,
    "start_time": "2023-01-24T21:06:03.148Z"
   },
   {
    "duration": 111,
    "start_time": "2023-01-24T21:06:03.161Z"
   },
   {
    "duration": 19,
    "start_time": "2023-01-24T21:06:03.274Z"
   },
   {
    "duration": 105,
    "start_time": "2023-01-24T21:06:03.379Z"
   },
   {
    "duration": 11,
    "start_time": "2023-01-24T21:06:03.721Z"
   },
   {
    "duration": 85,
    "start_time": "2023-01-24T21:06:03.892Z"
   },
   {
    "duration": 141,
    "start_time": "2023-01-24T21:06:04.061Z"
   },
   {
    "duration": 20,
    "start_time": "2023-01-24T21:06:04.429Z"
   },
   {
    "duration": 85,
    "start_time": "2023-01-24T21:06:04.594Z"
   },
   {
    "duration": 11,
    "start_time": "2023-01-24T21:06:04.915Z"
   },
   {
    "duration": 9,
    "start_time": "2023-01-24T21:06:05.255Z"
   },
   {
    "duration": 12,
    "start_time": "2023-01-24T21:06:05.594Z"
   },
   {
    "duration": 63,
    "start_time": "2023-01-24T21:06:05.764Z"
   },
   {
    "duration": 15,
    "start_time": "2023-01-24T21:06:06.450Z"
   },
   {
    "duration": 3,
    "start_time": "2023-01-24T21:06:06.771Z"
   },
   {
    "duration": 394,
    "start_time": "2023-01-24T21:06:06.942Z"
   },
   {
    "duration": 4,
    "start_time": "2023-01-24T21:06:07.354Z"
   },
   {
    "duration": 161,
    "start_time": "2023-01-24T21:06:07.850Z"
   },
   {
    "duration": 137,
    "start_time": "2023-01-24T21:06:08.195Z"
   },
   {
    "duration": 145,
    "start_time": "2023-01-24T21:06:08.558Z"
   },
   {
    "duration": 149,
    "start_time": "2023-01-24T21:06:08.907Z"
   },
   {
    "duration": 151,
    "start_time": "2023-01-24T21:06:09.267Z"
   },
   {
    "duration": 145,
    "start_time": "2023-01-24T21:06:09.676Z"
   },
   {
    "duration": 171,
    "start_time": "2023-01-24T21:06:10.053Z"
   },
   {
    "duration": 110,
    "start_time": "2023-01-24T21:06:10.467Z"
   },
   {
    "duration": 152,
    "start_time": "2023-01-24T21:06:10.963Z"
   },
   {
    "duration": 250,
    "start_time": "2023-01-24T21:06:11.347Z"
   },
   {
    "duration": 147,
    "start_time": "2023-01-24T21:06:11.748Z"
   },
   {
    "duration": 120,
    "start_time": "2023-01-24T21:06:12.100Z"
   },
   {
    "duration": 119,
    "start_time": "2023-01-24T21:06:12.443Z"
   },
   {
    "duration": 173,
    "start_time": "2023-01-24T21:06:12.763Z"
   },
   {
    "duration": 154,
    "start_time": "2023-01-24T21:06:13.059Z"
   },
   {
    "duration": 7,
    "start_time": "2023-01-24T21:06:13.533Z"
   },
   {
    "duration": 256,
    "start_time": "2023-01-24T21:06:13.690Z"
   },
   {
    "duration": 69,
    "start_time": "2023-01-24T21:06:14.027Z"
   },
   {
    "duration": 12,
    "start_time": "2023-01-24T21:06:14.370Z"
   },
   {
    "duration": 934,
    "start_time": "2023-01-24T21:06:15.073Z"
   },
   {
    "duration": 150,
    "start_time": "2023-01-24T21:06:16.009Z"
   },
   {
    "duration": 155,
    "start_time": "2023-01-24T21:06:16.160Z"
   },
   {
    "duration": 256,
    "start_time": "2023-01-24T21:06:16.317Z"
   },
   {
    "duration": 146,
    "start_time": "2023-01-24T21:06:16.575Z"
   },
   {
    "duration": 127,
    "start_time": "2023-01-24T21:06:16.834Z"
   },
   {
    "duration": 151,
    "start_time": "2023-01-24T21:06:17.302Z"
   },
   {
    "duration": 127,
    "start_time": "2023-01-24T21:06:17.834Z"
   },
   {
    "duration": 130,
    "start_time": "2023-01-24T21:06:18.259Z"
   },
   {
    "duration": 26,
    "start_time": "2023-01-24T21:06:18.866Z"
   },
   {
    "duration": 150,
    "start_time": "2023-01-24T21:06:19.267Z"
   },
   {
    "duration": 1119,
    "start_time": "2023-01-25T09:06:13.178Z"
   },
   {
    "duration": 132,
    "start_time": "2023-01-25T09:06:14.299Z"
   },
   {
    "duration": 18,
    "start_time": "2023-01-25T09:06:14.433Z"
   },
   {
    "duration": 11,
    "start_time": "2023-01-25T09:06:14.453Z"
   },
   {
    "duration": 17,
    "start_time": "2023-01-25T09:06:14.465Z"
   },
   {
    "duration": 2326,
    "start_time": "2023-01-25T09:06:14.484Z"
   },
   {
    "duration": 2262,
    "start_time": "2023-01-25T09:06:16.812Z"
   },
   {
    "duration": 93,
    "start_time": "2023-01-25T09:06:19.076Z"
   },
   {
    "duration": 4,
    "start_time": "2023-01-25T09:06:19.170Z"
   },
   {
    "duration": 10,
    "start_time": "2023-01-25T09:06:19.176Z"
   },
   {
    "duration": 5,
    "start_time": "2023-01-25T09:06:19.188Z"
   },
   {
    "duration": 32,
    "start_time": "2023-01-25T09:06:19.194Z"
   },
   {
    "duration": 5,
    "start_time": "2023-01-25T09:06:19.228Z"
   },
   {
    "duration": 20,
    "start_time": "2023-01-25T09:06:19.235Z"
   },
   {
    "duration": 5,
    "start_time": "2023-01-25T09:06:19.256Z"
   },
   {
    "duration": 59,
    "start_time": "2023-01-25T09:06:19.263Z"
   },
   {
    "duration": 4,
    "start_time": "2023-01-25T09:06:19.324Z"
   },
   {
    "duration": 10,
    "start_time": "2023-01-25T09:06:19.329Z"
   },
   {
    "duration": 8,
    "start_time": "2023-01-25T09:06:19.341Z"
   },
   {
    "duration": 80,
    "start_time": "2023-01-25T09:06:19.351Z"
   },
   {
    "duration": 54,
    "start_time": "2023-01-25T09:06:19.434Z"
   },
   {
    "duration": 5,
    "start_time": "2023-01-25T09:06:19.490Z"
   },
   {
    "duration": 29,
    "start_time": "2023-01-25T09:06:19.497Z"
   },
   {
    "duration": 24,
    "start_time": "2023-01-25T09:06:19.528Z"
   },
   {
    "duration": 13,
    "start_time": "2023-01-25T09:06:19.554Z"
   },
   {
    "duration": 9,
    "start_time": "2023-01-25T09:06:19.569Z"
   },
   {
    "duration": 48,
    "start_time": "2023-01-25T09:06:19.580Z"
   },
   {
    "duration": 36,
    "start_time": "2023-01-25T09:06:19.634Z"
   },
   {
    "duration": 3,
    "start_time": "2023-01-25T09:06:19.672Z"
   },
   {
    "duration": 21,
    "start_time": "2023-01-25T09:06:19.676Z"
   },
   {
    "duration": 25,
    "start_time": "2023-01-25T09:06:19.698Z"
   },
   {
    "duration": 54,
    "start_time": "2023-01-25T09:06:19.724Z"
   },
   {
    "duration": 3,
    "start_time": "2023-01-25T09:06:19.780Z"
   },
   {
    "duration": 8,
    "start_time": "2023-01-25T09:06:19.785Z"
   },
   {
    "duration": 16,
    "start_time": "2023-01-25T09:06:19.794Z"
   },
   {
    "duration": 11,
    "start_time": "2023-01-25T09:06:19.811Z"
   },
   {
    "duration": 6,
    "start_time": "2023-01-25T09:06:19.824Z"
   },
   {
    "duration": 3004,
    "start_time": "2023-01-25T09:06:19.832Z"
   },
   {
    "duration": 25,
    "start_time": "2023-01-25T09:06:22.837Z"
   },
   {
    "duration": 89,
    "start_time": "2023-01-25T09:06:22.865Z"
   },
   {
    "duration": 17,
    "start_time": "2023-01-25T09:06:22.956Z"
   },
   {
    "duration": 128,
    "start_time": "2023-01-25T09:06:22.975Z"
   },
   {
    "duration": 30,
    "start_time": "2023-01-25T09:06:23.105Z"
   },
   {
    "duration": 114,
    "start_time": "2023-01-25T09:06:23.136Z"
   },
   {
    "duration": 12,
    "start_time": "2023-01-25T09:06:23.252Z"
   },
   {
    "duration": 142,
    "start_time": "2023-01-25T09:06:23.265Z"
   },
   {
    "duration": 22,
    "start_time": "2023-01-25T09:06:23.408Z"
   },
   {
    "duration": 161,
    "start_time": "2023-01-25T09:06:23.432Z"
   },
   {
    "duration": 34,
    "start_time": "2023-01-25T09:06:23.595Z"
   },
   {
    "duration": 121,
    "start_time": "2023-01-25T09:06:23.631Z"
   },
   {
    "duration": 12,
    "start_time": "2023-01-25T09:06:23.755Z"
   },
   {
    "duration": 111,
    "start_time": "2023-01-25T09:06:23.768Z"
   },
   {
    "duration": 177,
    "start_time": "2023-01-25T09:06:23.880Z"
   },
   {
    "duration": 23,
    "start_time": "2023-01-25T09:06:24.059Z"
   },
   {
    "duration": 126,
    "start_time": "2023-01-25T09:06:24.084Z"
   },
   {
    "duration": 16,
    "start_time": "2023-01-25T09:06:24.212Z"
   },
   {
    "duration": 12,
    "start_time": "2023-01-25T09:06:24.230Z"
   },
   {
    "duration": 12,
    "start_time": "2023-01-25T09:06:24.244Z"
   },
   {
    "duration": 117,
    "start_time": "2023-01-25T09:06:24.258Z"
   },
   {
    "duration": 16,
    "start_time": "2023-01-25T09:06:24.377Z"
   },
   {
    "duration": 10,
    "start_time": "2023-01-25T09:06:24.395Z"
   },
   {
    "duration": 539,
    "start_time": "2023-01-25T09:06:24.406Z"
   },
   {
    "duration": 5,
    "start_time": "2023-01-25T09:06:24.946Z"
   },
   {
    "duration": 254,
    "start_time": "2023-01-25T09:06:24.953Z"
   },
   {
    "duration": 174,
    "start_time": "2023-01-25T09:06:25.209Z"
   },
   {
    "duration": 221,
    "start_time": "2023-01-25T09:06:25.385Z"
   },
   {
    "duration": 268,
    "start_time": "2023-01-25T09:06:25.608Z"
   },
   {
    "duration": 214,
    "start_time": "2023-01-25T09:06:25.878Z"
   },
   {
    "duration": 193,
    "start_time": "2023-01-25T09:06:26.095Z"
   },
   {
    "duration": 288,
    "start_time": "2023-01-25T09:06:26.290Z"
   },
   {
    "duration": 145,
    "start_time": "2023-01-25T09:06:26.580Z"
   },
   {
    "duration": 218,
    "start_time": "2023-01-25T09:06:26.727Z"
   },
   {
    "duration": 305,
    "start_time": "2023-01-25T09:06:26.947Z"
   },
   {
    "duration": 181,
    "start_time": "2023-01-25T09:06:27.254Z"
   },
   {
    "duration": 150,
    "start_time": "2023-01-25T09:06:27.437Z"
   },
   {
    "duration": 161,
    "start_time": "2023-01-25T09:06:27.590Z"
   },
   {
    "duration": 208,
    "start_time": "2023-01-25T09:06:27.753Z"
   },
   {
    "duration": 163,
    "start_time": "2023-01-25T09:06:27.963Z"
   },
   {
    "duration": 9,
    "start_time": "2023-01-25T09:06:28.128Z"
   },
   {
    "duration": 279,
    "start_time": "2023-01-25T09:06:28.138Z"
   },
   {
    "duration": 74,
    "start_time": "2023-01-25T09:06:28.420Z"
   },
   {
    "duration": 28,
    "start_time": "2023-01-25T09:06:28.501Z"
   },
   {
    "duration": 1004,
    "start_time": "2023-01-25T09:06:28.530Z"
   },
   {
    "duration": 203,
    "start_time": "2023-01-25T09:06:29.536Z"
   },
   {
    "duration": 176,
    "start_time": "2023-01-25T09:06:29.740Z"
   },
   {
    "duration": 316,
    "start_time": "2023-01-25T09:06:29.920Z"
   },
   {
    "duration": 175,
    "start_time": "2023-01-25T09:06:30.238Z"
   },
   {
    "duration": 183,
    "start_time": "2023-01-25T09:06:30.415Z"
   },
   {
    "duration": 200,
    "start_time": "2023-01-25T09:06:30.601Z"
   },
   {
    "duration": 159,
    "start_time": "2023-01-25T09:06:30.803Z"
   },
   {
    "duration": 184,
    "start_time": "2023-01-25T09:06:30.964Z"
   },
   {
    "duration": 27,
    "start_time": "2023-01-25T09:06:31.150Z"
   },
   {
    "duration": 227,
    "start_time": "2023-01-25T09:06:31.179Z"
   },
   {
    "duration": 25,
    "start_time": "2023-01-25T09:12:09.211Z"
   },
   {
    "duration": 15,
    "start_time": "2023-01-25T09:14:23.773Z"
   },
   {
    "duration": 83,
    "start_time": "2023-01-25T19:10:23.366Z"
   },
   {
    "duration": 66,
    "start_time": "2023-01-25T19:10:44.922Z"
   },
   {
    "duration": 1392,
    "start_time": "2023-01-25T19:13:52.761Z"
   },
   {
    "duration": 181,
    "start_time": "2023-01-25T19:13:54.155Z"
   },
   {
    "duration": 15,
    "start_time": "2023-01-25T19:13:54.337Z"
   },
   {
    "duration": 10,
    "start_time": "2023-01-25T19:13:54.722Z"
   },
   {
    "duration": 14,
    "start_time": "2023-01-25T19:13:56.128Z"
   },
   {
    "duration": 2220,
    "start_time": "2023-01-25T19:13:56.953Z"
   },
   {
    "duration": 1983,
    "start_time": "2023-01-25T19:14:08.798Z"
   },
   {
    "duration": 3,
    "start_time": "2023-01-25T19:15:58.202Z"
   },
   {
    "duration": 100,
    "start_time": "2023-01-25T19:15:58.351Z"
   },
   {
    "duration": 15,
    "start_time": "2023-01-25T19:15:58.656Z"
   },
   {
    "duration": 9,
    "start_time": "2023-01-25T19:15:58.975Z"
   },
   {
    "duration": 15,
    "start_time": "2023-01-25T19:15:59.418Z"
   },
   {
    "duration": 2098,
    "start_time": "2023-01-25T19:15:59.580Z"
   },
   {
    "duration": 1896,
    "start_time": "2023-01-25T19:16:01.681Z"
   },
   {
    "duration": 89,
    "start_time": "2023-01-25T19:16:03.579Z"
   },
   {
    "duration": 4,
    "start_time": "2023-01-25T19:16:03.671Z"
   },
   {
    "duration": 14,
    "start_time": "2023-01-25T19:16:03.677Z"
   },
   {
    "duration": 20,
    "start_time": "2023-01-25T19:16:03.693Z"
   },
   {
    "duration": 40,
    "start_time": "2023-01-25T19:16:03.715Z"
   },
   {
    "duration": 5,
    "start_time": "2023-01-25T19:16:03.757Z"
   },
   {
    "duration": 16,
    "start_time": "2023-01-25T19:16:04.014Z"
   },
   {
    "duration": 4,
    "start_time": "2023-01-25T19:16:04.183Z"
   },
   {
    "duration": 37,
    "start_time": "2023-01-25T19:16:04.542Z"
   },
   {
    "duration": 4,
    "start_time": "2023-01-25T19:16:04.739Z"
   },
   {
    "duration": 5,
    "start_time": "2023-01-25T19:16:05.303Z"
   },
   {
    "duration": 6,
    "start_time": "2023-01-25T19:16:06.687Z"
   },
   {
    "duration": 69,
    "start_time": "2023-01-25T19:16:06.980Z"
   },
   {
    "duration": 50,
    "start_time": "2023-01-25T19:16:07.704Z"
   },
   {
    "duration": 6,
    "start_time": "2023-01-25T19:16:08.366Z"
   },
   {
    "duration": 8,
    "start_time": "2023-01-25T19:16:08.974Z"
   },
   {
    "duration": 28,
    "start_time": "2023-01-25T19:16:10.063Z"
   },
   {
    "duration": 17,
    "start_time": "2023-01-25T19:16:11.102Z"
   },
   {
    "duration": 11,
    "start_time": "2023-01-25T19:16:11.454Z"
   },
   {
    "duration": 21,
    "start_time": "2023-01-25T19:16:13.606Z"
   },
   {
    "duration": 33,
    "start_time": "2023-01-25T19:16:14.218Z"
   },
   {
    "duration": 4,
    "start_time": "2023-01-25T19:16:14.366Z"
   },
   {
    "duration": 12,
    "start_time": "2023-01-25T19:16:14.523Z"
   },
   {
    "duration": 4,
    "start_time": "2023-01-25T19:16:14.831Z"
   },
   {
    "duration": 67,
    "start_time": "2023-01-25T19:16:15.017Z"
   },
   {
    "duration": 4,
    "start_time": "2023-01-25T19:16:15.169Z"
   },
   {
    "duration": 4,
    "start_time": "2023-01-25T19:16:15.503Z"
   },
   {
    "duration": 7,
    "start_time": "2023-01-25T19:16:15.682Z"
   },
   {
    "duration": 4,
    "start_time": "2023-01-25T19:16:16.255Z"
   },
   {
    "duration": 3,
    "start_time": "2023-01-25T19:16:16.444Z"
   },
   {
    "duration": 2630,
    "start_time": "2023-01-25T19:16:16.617Z"
   },
   {
    "duration": 23,
    "start_time": "2023-01-25T19:16:19.248Z"
   },
   {
    "duration": 100,
    "start_time": "2023-01-25T19:16:19.273Z"
   },
   {
    "duration": 16,
    "start_time": "2023-01-25T19:16:19.374Z"
   },
   {
    "duration": 99,
    "start_time": "2023-01-25T19:16:19.480Z"
   },
   {
    "duration": 14,
    "start_time": "2023-01-25T19:16:23.167Z"
   },
   {
    "duration": 86,
    "start_time": "2023-01-25T19:16:23.358Z"
   },
   {
    "duration": 15,
    "start_time": "2023-01-25T19:16:24.025Z"
   },
   {
    "duration": 118,
    "start_time": "2023-01-25T19:16:24.212Z"
   },
   {
    "duration": 12,
    "start_time": "2023-01-25T19:16:24.602Z"
   },
   {
    "duration": 111,
    "start_time": "2023-01-25T19:16:24.917Z"
   },
   {
    "duration": 18,
    "start_time": "2023-01-25T19:16:25.703Z"
   },
   {
    "duration": 104,
    "start_time": "2023-01-25T19:16:25.927Z"
   },
   {
    "duration": 11,
    "start_time": "2023-01-25T19:16:26.525Z"
   },
   {
    "duration": 101,
    "start_time": "2023-01-25T19:16:26.727Z"
   },
   {
    "duration": 217,
    "start_time": "2023-01-25T19:16:26.918Z"
   },
   {
    "duration": 20,
    "start_time": "2023-01-25T19:16:27.449Z"
   },
   {
    "duration": 99,
    "start_time": "2023-01-25T19:16:27.918Z"
   },
   {
    "duration": 13,
    "start_time": "2023-01-25T19:16:28.334Z"
   },
   {
    "duration": 13,
    "start_time": "2023-01-25T19:16:29.203Z"
   },
   {
    "duration": 12,
    "start_time": "2023-01-25T19:16:30.020Z"
   },
   {
    "duration": 61,
    "start_time": "2023-01-25T19:16:30.388Z"
   },
   {
    "duration": 14,
    "start_time": "2023-01-25T19:17:15.886Z"
   },
   {
    "duration": 132,
    "start_time": "2023-01-25T19:20:31.490Z"
   },
   {
    "duration": 3,
    "start_time": "2023-01-25T19:21:17.979Z"
   },
   {
    "duration": 5,
    "start_time": "2023-01-25T19:21:42.100Z"
   },
   {
    "duration": 5,
    "start_time": "2023-01-25T19:22:17.753Z"
   },
   {
    "duration": 67,
    "start_time": "2023-01-25T19:22:22.922Z"
   },
   {
    "duration": 12,
    "start_time": "2023-01-25T19:22:34.819Z"
   },
   {
    "duration": 5,
    "start_time": "2023-01-25T19:23:18.354Z"
   },
   {
    "duration": 3,
    "start_time": "2023-01-25T19:23:55.701Z"
   },
   {
    "duration": 118,
    "start_time": "2023-01-25T19:23:55.866Z"
   },
   {
    "duration": 15,
    "start_time": "2023-01-25T19:23:56.024Z"
   },
   {
    "duration": 10,
    "start_time": "2023-01-25T19:23:56.289Z"
   },
   {
    "duration": 19,
    "start_time": "2023-01-25T19:23:56.745Z"
   },
   {
    "duration": 2191,
    "start_time": "2023-01-25T19:23:56.907Z"
   },
   {
    "duration": 1857,
    "start_time": "2023-01-25T19:23:59.100Z"
   },
   {
    "duration": 88,
    "start_time": "2023-01-25T19:24:00.959Z"
   },
   {
    "duration": 3,
    "start_time": "2023-01-25T19:24:01.049Z"
   },
   {
    "duration": 41,
    "start_time": "2023-01-25T19:24:01.054Z"
   },
   {
    "duration": 4,
    "start_time": "2023-01-25T19:24:06.464Z"
   },
   {
    "duration": 99,
    "start_time": "2023-01-25T19:24:07.106Z"
   },
   {
    "duration": 3,
    "start_time": "2023-01-25T19:24:08.596Z"
   },
   {
    "duration": 14,
    "start_time": "2023-01-25T19:24:09.128Z"
   },
   {
    "duration": 6,
    "start_time": "2023-01-25T19:24:09.651Z"
   },
   {
    "duration": 15,
    "start_time": "2023-01-25T19:24:10.465Z"
   },
   {
    "duration": 5,
    "start_time": "2023-01-25T19:24:10.650Z"
   },
   {
    "duration": 186,
    "start_time": "2023-01-25T19:24:11.042Z"
   },
   {
    "duration": 4,
    "start_time": "2023-01-25T19:24:11.259Z"
   },
   {
    "duration": 6,
    "start_time": "2023-01-25T19:24:13.025Z"
   },
   {
    "duration": 8,
    "start_time": "2023-01-25T19:24:13.827Z"
   },
   {
    "duration": 58,
    "start_time": "2023-01-25T19:24:14.007Z"
   },
   {
    "duration": 51,
    "start_time": "2023-01-25T19:24:14.331Z"
   },
   {
    "duration": 5,
    "start_time": "2023-01-25T19:24:14.725Z"
   },
   {
    "duration": 7,
    "start_time": "2023-01-25T19:24:15.329Z"
   },
   {
    "duration": 20,
    "start_time": "2023-01-25T19:24:16.056Z"
   },
   {
    "duration": 15,
    "start_time": "2023-01-25T19:24:16.641Z"
   },
   {
    "duration": 9,
    "start_time": "2023-01-25T19:24:16.841Z"
   },
   {
    "duration": 20,
    "start_time": "2023-01-25T19:24:17.744Z"
   },
   {
    "duration": 33,
    "start_time": "2023-01-25T19:24:18.266Z"
   },
   {
    "duration": 4,
    "start_time": "2023-01-25T19:24:18.473Z"
   },
   {
    "duration": 13,
    "start_time": "2023-01-25T19:24:18.724Z"
   },
   {
    "duration": 3,
    "start_time": "2023-01-25T19:24:19.468Z"
   },
   {
    "duration": 62,
    "start_time": "2023-01-25T19:24:19.924Z"
   },
   {
    "duration": 3,
    "start_time": "2023-01-25T19:24:20.082Z"
   },
   {
    "duration": 4,
    "start_time": "2023-01-25T19:24:20.426Z"
   },
   {
    "duration": 13,
    "start_time": "2023-01-25T19:24:20.605Z"
   },
   {
    "duration": 4,
    "start_time": "2023-01-25T19:24:21.273Z"
   },
   {
    "duration": 4,
    "start_time": "2023-01-25T19:24:21.787Z"
   },
   {
    "duration": 2985,
    "start_time": "2023-01-25T19:24:22.001Z"
   },
   {
    "duration": 32,
    "start_time": "2023-01-25T19:24:24.988Z"
   },
   {
    "duration": 220,
    "start_time": "2023-01-25T19:24:25.021Z"
   },
   {
    "duration": 14,
    "start_time": "2023-01-25T19:24:26.129Z"
   },
   {
    "duration": 120,
    "start_time": "2023-01-25T19:24:26.849Z"
   },
   {
    "duration": 14,
    "start_time": "2023-01-25T19:24:27.361Z"
   },
   {
    "duration": 92,
    "start_time": "2023-01-25T19:24:27.547Z"
   },
   {
    "duration": 10,
    "start_time": "2023-01-25T19:24:27.891Z"
   },
   {
    "duration": 104,
    "start_time": "2023-01-25T19:24:28.074Z"
   },
   {
    "duration": 14,
    "start_time": "2023-01-25T19:24:28.427Z"
   },
   {
    "duration": 114,
    "start_time": "2023-01-25T19:24:28.627Z"
   },
   {
    "duration": 17,
    "start_time": "2023-01-25T19:24:28.973Z"
   },
   {
    "duration": 98,
    "start_time": "2023-01-25T19:24:29.153Z"
   },
   {
    "duration": 10,
    "start_time": "2023-01-25T19:24:29.529Z"
   },
   {
    "duration": 84,
    "start_time": "2023-01-25T19:24:29.726Z"
   },
   {
    "duration": 151,
    "start_time": "2023-01-25T19:24:29.895Z"
   },
   {
    "duration": 17,
    "start_time": "2023-01-25T19:24:30.296Z"
   },
   {
    "duration": 100,
    "start_time": "2023-01-25T19:24:30.522Z"
   },
   {
    "duration": 9,
    "start_time": "2023-01-25T19:24:31.065Z"
   },
   {
    "duration": 11,
    "start_time": "2023-01-25T19:24:31.393Z"
   },
   {
    "duration": 13,
    "start_time": "2023-01-25T19:24:31.723Z"
   },
   {
    "duration": 8,
    "start_time": "2023-01-25T19:24:32.054Z"
   },
   {
    "duration": 82,
    "start_time": "2023-01-25T19:24:32.225Z"
   },
   {
    "duration": 16,
    "start_time": "2023-01-25T20:00:04.339Z"
   },
   {
    "duration": 170,
    "start_time": "2023-01-25T20:00:09.645Z"
   },
   {
    "duration": 161,
    "start_time": "2023-01-25T20:00:39.558Z"
   },
   {
    "duration": 16,
    "start_time": "2023-01-25T20:01:20.266Z"
   },
   {
    "duration": 2,
    "start_time": "2023-01-25T20:01:30.356Z"
   },
   {
    "duration": 126,
    "start_time": "2023-01-25T20:01:30.506Z"
   },
   {
    "duration": 13,
    "start_time": "2023-01-25T20:01:30.647Z"
   },
   {
    "duration": 8,
    "start_time": "2023-01-25T20:01:30.949Z"
   },
   {
    "duration": 12,
    "start_time": "2023-01-25T20:01:31.393Z"
   },
   {
    "duration": 1977,
    "start_time": "2023-01-25T20:01:31.545Z"
   },
   {
    "duration": 1911,
    "start_time": "2023-01-25T20:01:33.524Z"
   },
   {
    "duration": 82,
    "start_time": "2023-01-25T20:01:35.438Z"
   },
   {
    "duration": 5,
    "start_time": "2023-01-25T20:01:35.521Z"
   },
   {
    "duration": 22,
    "start_time": "2023-01-25T20:01:35.532Z"
   },
   {
    "duration": 28,
    "start_time": "2023-01-25T20:01:35.556Z"
   },
   {
    "duration": 36,
    "start_time": "2023-01-25T20:01:35.586Z"
   },
   {
    "duration": 6,
    "start_time": "2023-01-25T20:01:35.758Z"
   },
   {
    "duration": 15,
    "start_time": "2023-01-25T20:01:36.553Z"
   },
   {
    "duration": 5,
    "start_time": "2023-01-25T20:01:36.738Z"
   },
   {
    "duration": 205,
    "start_time": "2023-01-25T20:01:37.062Z"
   },
   {
    "duration": 3,
    "start_time": "2023-01-25T20:01:37.269Z"
   },
   {
    "duration": 4,
    "start_time": "2023-01-25T20:01:37.735Z"
   },
   {
    "duration": 5,
    "start_time": "2023-01-25T20:01:38.535Z"
   },
   {
    "duration": 58,
    "start_time": "2023-01-25T20:01:38.700Z"
   },
   {
    "duration": 54,
    "start_time": "2023-01-25T20:01:39.035Z"
   },
   {
    "duration": 6,
    "start_time": "2023-01-25T20:01:39.385Z"
   },
   {
    "duration": 9,
    "start_time": "2023-01-25T20:01:39.733Z"
   },
   {
    "duration": 23,
    "start_time": "2023-01-25T20:01:40.227Z"
   },
   {
    "duration": 16,
    "start_time": "2023-01-25T20:01:40.739Z"
   },
   {
    "duration": 9,
    "start_time": "2023-01-25T20:01:40.930Z"
   },
   {
    "duration": 21,
    "start_time": "2023-01-25T20:01:41.384Z"
   },
   {
    "duration": 42,
    "start_time": "2023-01-25T20:01:41.880Z"
   },
   {
    "duration": 4,
    "start_time": "2023-01-25T20:01:42.036Z"
   },
   {
    "duration": 13,
    "start_time": "2023-01-25T20:01:42.235Z"
   },
   {
    "duration": 3,
    "start_time": "2023-01-25T20:01:42.595Z"
   },
   {
    "duration": 50,
    "start_time": "2023-01-25T20:01:42.770Z"
   },
   {
    "duration": 4,
    "start_time": "2023-01-25T20:01:42.939Z"
   },
   {
    "duration": 4,
    "start_time": "2023-01-25T20:01:43.290Z"
   },
   {
    "duration": 7,
    "start_time": "2023-01-25T20:01:43.458Z"
   },
   {
    "duration": 3,
    "start_time": "2023-01-25T20:01:43.848Z"
   },
   {
    "duration": 3,
    "start_time": "2023-01-25T20:01:44.037Z"
   },
   {
    "duration": 3319,
    "start_time": "2023-01-25T20:01:44.237Z"
   },
   {
    "duration": 24,
    "start_time": "2023-01-25T20:01:47.558Z"
   },
   {
    "duration": 79,
    "start_time": "2023-01-25T20:01:47.584Z"
   },
   {
    "duration": 19,
    "start_time": "2023-01-25T20:01:47.665Z"
   },
   {
    "duration": 132,
    "start_time": "2023-01-25T20:01:47.685Z"
   },
   {
    "duration": 18,
    "start_time": "2023-01-25T20:01:47.818Z"
   },
   {
    "duration": 105,
    "start_time": "2023-01-25T20:01:47.840Z"
   },
   {
    "duration": 9,
    "start_time": "2023-01-25T20:01:47.947Z"
   },
   {
    "duration": 216,
    "start_time": "2023-01-25T20:01:47.958Z"
   },
   {
    "duration": 9,
    "start_time": "2023-01-25T20:01:48.177Z"
   },
   {
    "duration": 145,
    "start_time": "2023-01-25T20:01:48.188Z"
   },
   {
    "duration": 21,
    "start_time": "2023-01-25T20:01:48.335Z"
   },
   {
    "duration": 109,
    "start_time": "2023-01-25T20:01:48.358Z"
   },
   {
    "duration": 9,
    "start_time": "2023-01-25T20:01:48.469Z"
   },
   {
    "duration": 96,
    "start_time": "2023-01-25T20:01:48.661Z"
   },
   {
    "duration": 141,
    "start_time": "2023-01-25T20:01:48.865Z"
   },
   {
    "duration": 16,
    "start_time": "2023-01-25T20:01:49.494Z"
   },
   {
    "duration": 93,
    "start_time": "2023-01-25T20:01:49.659Z"
   },
   {
    "duration": 10,
    "start_time": "2023-01-25T20:01:50.056Z"
   },
   {
    "duration": 11,
    "start_time": "2023-01-25T20:01:50.473Z"
   },
   {
    "duration": 9,
    "start_time": "2023-01-25T20:01:50.890Z"
   },
   {
    "duration": 7,
    "start_time": "2023-01-25T20:01:51.297Z"
   },
   {
    "duration": 73,
    "start_time": "2023-01-25T20:01:51.497Z"
   },
   {
    "duration": 12,
    "start_time": "2023-01-25T20:01:52.993Z"
   },
   {
    "duration": 4,
    "start_time": "2023-01-25T20:01:53.935Z"
   },
   {
    "duration": 392,
    "start_time": "2023-01-25T20:01:54.135Z"
   },
   {
    "duration": 5,
    "start_time": "2023-01-25T20:01:54.529Z"
   },
   {
    "duration": 181,
    "start_time": "2023-01-25T20:01:55.250Z"
   },
   {
    "duration": 147,
    "start_time": "2023-01-25T20:01:56.090Z"
   },
   {
    "duration": 269,
    "start_time": "2023-01-25T20:01:56.831Z"
   },
   {
    "duration": 180,
    "start_time": "2023-01-25T20:01:57.762Z"
   },
   {
    "duration": 162,
    "start_time": "2023-01-25T20:01:58.143Z"
   },
   {
    "duration": 151,
    "start_time": "2023-01-25T20:01:58.735Z"
   },
   {
    "duration": 177,
    "start_time": "2023-01-25T20:01:59.305Z"
   },
   {
    "duration": 136,
    "start_time": "2023-01-25T20:01:59.762Z"
   },
   {
    "duration": 176,
    "start_time": "2023-01-25T20:02:00.642Z"
   },
   {
    "duration": 149,
    "start_time": "2023-01-25T20:02:01.035Z"
   },
   {
    "duration": 154,
    "start_time": "2023-01-25T20:02:01.402Z"
   },
   {
    "duration": 127,
    "start_time": "2023-01-25T20:02:01.780Z"
   },
   {
    "duration": 135,
    "start_time": "2023-01-25T20:02:02.196Z"
   },
   {
    "duration": 289,
    "start_time": "2023-01-25T20:02:02.569Z"
   },
   {
    "duration": 175,
    "start_time": "2023-01-25T20:02:02.970Z"
   },
   {
    "duration": 8,
    "start_time": "2023-01-25T20:02:03.761Z"
   },
   {
    "duration": 255,
    "start_time": "2023-01-25T20:02:04.002Z"
   },
   {
    "duration": 69,
    "start_time": "2023-01-25T20:02:04.769Z"
   },
   {
    "duration": 12,
    "start_time": "2023-01-25T20:02:05.393Z"
   },
   {
    "duration": 1003,
    "start_time": "2023-01-25T20:02:06.465Z"
   },
   {
    "duration": 173,
    "start_time": "2023-01-25T20:02:07.470Z"
   },
   {
    "duration": 142,
    "start_time": "2023-01-25T20:02:07.645Z"
   },
   {
    "duration": 176,
    "start_time": "2023-01-25T20:02:07.789Z"
   },
   {
    "duration": 145,
    "start_time": "2023-01-25T20:02:08.004Z"
   },
   {
    "duration": 139,
    "start_time": "2023-01-25T20:02:08.341Z"
   },
   {
    "duration": 163,
    "start_time": "2023-01-25T20:02:09.298Z"
   },
   {
    "duration": 214,
    "start_time": "2023-01-25T20:02:09.743Z"
   },
   {
    "duration": 141,
    "start_time": "2023-01-25T20:02:10.344Z"
   },
   {
    "duration": 160,
    "start_time": "2023-01-25T20:02:11.303Z"
   },
   {
    "duration": 72,
    "start_time": "2023-01-25T20:03:00.937Z"
   },
   {
    "duration": 30717,
    "start_time": "2023-01-25T20:03:07.244Z"
   },
   {
    "duration": 132,
    "start_time": "2023-01-25T20:05:44.429Z"
   },
   {
    "duration": 137,
    "start_time": "2023-01-25T20:06:40.638Z"
   },
   {
    "duration": 133,
    "start_time": "2023-01-25T20:07:11.733Z"
   },
   {
    "duration": 3,
    "start_time": "2023-01-25T20:07:16.572Z"
   },
   {
    "duration": 132,
    "start_time": "2023-01-25T20:07:16.731Z"
   },
   {
    "duration": 15,
    "start_time": "2023-01-25T20:07:16.891Z"
   },
   {
    "duration": 9,
    "start_time": "2023-01-25T20:07:17.224Z"
   },
   {
    "duration": 14,
    "start_time": "2023-01-25T20:07:17.695Z"
   },
   {
    "duration": 2155,
    "start_time": "2023-01-25T20:07:17.841Z"
   },
   {
    "duration": 1835,
    "start_time": "2023-01-25T20:07:19.998Z"
   },
   {
    "duration": 77,
    "start_time": "2023-01-25T20:07:21.834Z"
   },
   {
    "duration": 4,
    "start_time": "2023-01-25T20:07:21.913Z"
   },
   {
    "duration": 31,
    "start_time": "2023-01-25T20:07:21.918Z"
   },
   {
    "duration": 36,
    "start_time": "2023-01-25T20:07:21.951Z"
   },
   {
    "duration": 29,
    "start_time": "2023-01-25T20:07:21.988Z"
   },
   {
    "duration": 36,
    "start_time": "2023-01-25T20:07:22.018Z"
   },
   {
    "duration": 16,
    "start_time": "2023-01-25T20:07:22.564Z"
   },
   {
    "duration": 5,
    "start_time": "2023-01-25T20:07:22.732Z"
   },
   {
    "duration": 191,
    "start_time": "2023-01-25T20:07:23.069Z"
   },
   {
    "duration": 4,
    "start_time": "2023-01-25T20:07:23.262Z"
   },
   {
    "duration": 3,
    "start_time": "2023-01-25T20:07:23.707Z"
   },
   {
    "duration": 6,
    "start_time": "2023-01-25T20:07:24.536Z"
   },
   {
    "duration": 54,
    "start_time": "2023-01-25T20:07:24.695Z"
   },
   {
    "duration": 49,
    "start_time": "2023-01-25T20:07:25.331Z"
   },
   {
    "duration": 5,
    "start_time": "2023-01-25T20:07:25.667Z"
   },
   {
    "duration": 7,
    "start_time": "2023-01-25T20:07:25.981Z"
   },
   {
    "duration": 20,
    "start_time": "2023-01-25T20:07:26.453Z"
   },
   {
    "duration": 12,
    "start_time": "2023-01-25T20:07:26.972Z"
   },
   {
    "duration": 9,
    "start_time": "2023-01-25T20:07:27.133Z"
   },
   {
    "duration": 20,
    "start_time": "2023-01-25T20:07:27.659Z"
   },
   {
    "duration": 38,
    "start_time": "2023-01-25T20:07:28.212Z"
   },
   {
    "duration": 3,
    "start_time": "2023-01-25T20:07:28.389Z"
   },
   {
    "duration": 12,
    "start_time": "2023-01-25T20:07:28.573Z"
   },
   {
    "duration": 3,
    "start_time": "2023-01-25T20:07:28.933Z"
   },
   {
    "duration": 44,
    "start_time": "2023-01-25T20:07:29.143Z"
   },
   {
    "duration": 8,
    "start_time": "2023-01-25T20:07:29.326Z"
   },
   {
    "duration": 4,
    "start_time": "2023-01-25T20:07:29.694Z"
   },
   {
    "duration": 6,
    "start_time": "2023-01-25T20:07:29.869Z"
   },
   {
    "duration": 4,
    "start_time": "2023-01-25T20:07:30.226Z"
   },
   {
    "duration": 3,
    "start_time": "2023-01-25T20:07:30.422Z"
   },
   {
    "duration": 2675,
    "start_time": "2023-01-25T20:07:30.573Z"
   },
   {
    "duration": 23,
    "start_time": "2023-01-25T20:07:33.249Z"
   },
   {
    "duration": 82,
    "start_time": "2023-01-25T20:07:33.274Z"
   },
   {
    "duration": 14,
    "start_time": "2023-01-25T20:07:33.357Z"
   },
   {
    "duration": 305,
    "start_time": "2023-01-25T20:07:33.372Z"
   },
   {
    "duration": 13,
    "start_time": "2023-01-25T20:07:33.678Z"
   },
   {
    "duration": 107,
    "start_time": "2023-01-25T20:07:33.693Z"
   },
   {
    "duration": 22,
    "start_time": "2023-01-25T20:07:33.801Z"
   },
   {
    "duration": 115,
    "start_time": "2023-01-25T20:07:33.824Z"
   },
   {
    "duration": 10,
    "start_time": "2023-01-25T20:07:33.941Z"
   },
   {
    "duration": 110,
    "start_time": "2023-01-25T20:07:33.953Z"
   },
   {
    "duration": 18,
    "start_time": "2023-01-25T20:07:34.085Z"
   },
   {
    "duration": 96,
    "start_time": "2023-01-25T20:07:34.265Z"
   },
   {
    "duration": 10,
    "start_time": "2023-01-25T20:07:34.652Z"
   },
   {
    "duration": 90,
    "start_time": "2023-01-25T20:07:34.829Z"
   },
   {
    "duration": 143,
    "start_time": "2023-01-25T20:07:35.036Z"
   },
   {
    "duration": 19,
    "start_time": "2023-01-25T20:07:35.398Z"
   },
   {
    "duration": 91,
    "start_time": "2023-01-25T20:07:35.590Z"
   },
   {
    "duration": 10,
    "start_time": "2023-01-25T20:07:35.932Z"
   },
   {
    "duration": 9,
    "start_time": "2023-01-25T20:07:36.268Z"
   },
   {
    "duration": 11,
    "start_time": "2023-01-25T20:07:36.607Z"
   },
   {
    "duration": 7,
    "start_time": "2023-01-25T20:07:36.987Z"
   },
   {
    "duration": 59,
    "start_time": "2023-01-25T20:07:37.151Z"
   },
   {
    "duration": 10,
    "start_time": "2023-01-25T20:07:38.636Z"
   },
   {
    "duration": 3,
    "start_time": "2023-01-25T20:07:39.494Z"
   },
   {
    "duration": 384,
    "start_time": "2023-01-25T20:07:39.662Z"
   },
   {
    "duration": 4,
    "start_time": "2023-01-25T20:07:40.048Z"
   },
   {
    "duration": 154,
    "start_time": "2023-01-25T20:07:40.637Z"
   },
   {
    "duration": 140,
    "start_time": "2023-01-25T20:07:41.260Z"
   },
   {
    "duration": 147,
    "start_time": "2023-01-25T20:07:41.580Z"
   },
   {
    "duration": 177,
    "start_time": "2023-01-25T20:07:41.901Z"
   },
   {
    "duration": 149,
    "start_time": "2023-01-25T20:07:42.237Z"
   },
   {
    "duration": 149,
    "start_time": "2023-01-25T20:07:42.580Z"
   },
   {
    "duration": 185,
    "start_time": "2023-01-25T20:07:42.933Z"
   },
   {
    "duration": 126,
    "start_time": "2023-01-25T20:07:43.279Z"
   },
   {
    "duration": 160,
    "start_time": "2023-01-25T20:07:43.996Z"
   },
   {
    "duration": 129,
    "start_time": "2023-01-25T20:07:44.373Z"
   },
   {
    "duration": 143,
    "start_time": "2023-01-25T20:07:44.755Z"
   },
   {
    "duration": 131,
    "start_time": "2023-01-25T20:07:45.092Z"
   },
   {
    "duration": 120,
    "start_time": "2023-01-25T20:07:45.490Z"
   },
   {
    "duration": 172,
    "start_time": "2023-01-25T20:07:45.875Z"
   },
   {
    "duration": 147,
    "start_time": "2023-01-25T20:07:46.204Z"
   },
   {
    "duration": 9,
    "start_time": "2023-01-25T20:07:46.964Z"
   },
   {
    "duration": 233,
    "start_time": "2023-01-25T20:07:47.140Z"
   },
   {
    "duration": 68,
    "start_time": "2023-01-25T20:07:47.676Z"
   },
   {
    "duration": 14,
    "start_time": "2023-01-25T20:07:48.059Z"
   },
   {
    "duration": 869,
    "start_time": "2023-01-25T20:07:48.764Z"
   },
   {
    "duration": 153,
    "start_time": "2023-01-25T20:07:49.636Z"
   },
   {
    "duration": 151,
    "start_time": "2023-01-25T20:07:49.791Z"
   },
   {
    "duration": 150,
    "start_time": "2023-01-25T20:07:50.228Z"
   },
   {
    "duration": 141,
    "start_time": "2023-01-25T20:07:50.707Z"
   },
   {
    "duration": 385,
    "start_time": "2023-01-25T20:07:51.045Z"
   },
   {
    "duration": 152,
    "start_time": "2023-01-25T20:07:51.788Z"
   },
   {
    "duration": 141,
    "start_time": "2023-01-25T20:07:52.204Z"
   },
   {
    "duration": 133,
    "start_time": "2023-01-25T20:07:52.621Z"
   },
   {
    "duration": 146,
    "start_time": "2023-01-25T20:07:53.030Z"
   },
   {
    "duration": 23,
    "start_time": "2023-01-25T20:07:53.874Z"
   },
   {
    "duration": 18,
    "start_time": "2023-01-25T20:07:54.805Z"
   },
   {
    "duration": 154,
    "start_time": "2023-01-25T20:07:54.989Z"
   },
   {
    "duration": 74,
    "start_time": "2023-01-25T20:11:57.223Z"
   },
   {
    "duration": 45427,
    "start_time": "2023-01-25T20:12:02.012Z"
   },
   {
    "duration": 151,
    "start_time": "2023-01-25T20:13:25.651Z"
   },
   {
    "duration": 79,
    "start_time": "2023-01-25T20:13:39.628Z"
   },
   {
    "duration": 84,
    "start_time": "2023-01-25T20:13:57.650Z"
   },
   {
    "duration": 71,
    "start_time": "2023-01-25T20:14:03.309Z"
   },
   {
    "duration": 129,
    "start_time": "2023-01-25T20:14:17.232Z"
   },
   {
    "duration": 9,
    "start_time": "2023-01-25T20:16:27.505Z"
   },
   {
    "duration": 137,
    "start_time": "2023-01-25T20:18:24.448Z"
   },
   {
    "duration": 150,
    "start_time": "2023-01-25T20:18:40.154Z"
   },
   {
    "duration": 298,
    "start_time": "2023-01-25T20:19:07.295Z"
   },
   {
    "duration": 183,
    "start_time": "2023-01-25T20:19:31.749Z"
   },
   {
    "duration": 131,
    "start_time": "2023-01-25T20:19:43.920Z"
   },
   {
    "duration": 1333,
    "start_time": "2023-01-25T21:06:57.631Z"
   },
   {
    "duration": 205,
    "start_time": "2023-01-25T21:06:58.967Z"
   },
   {
    "duration": 21,
    "start_time": "2023-01-25T21:06:59.174Z"
   },
   {
    "duration": 11,
    "start_time": "2023-01-25T21:06:59.197Z"
   },
   {
    "duration": 20,
    "start_time": "2023-01-25T21:06:59.209Z"
   },
   {
    "duration": 2747,
    "start_time": "2023-01-25T21:06:59.231Z"
   },
   {
    "duration": 2137,
    "start_time": "2023-01-25T21:07:01.980Z"
   },
   {
    "duration": 86,
    "start_time": "2023-01-25T21:07:04.119Z"
   },
   {
    "duration": 3,
    "start_time": "2023-01-25T21:07:04.207Z"
   },
   {
    "duration": 30,
    "start_time": "2023-01-25T21:07:04.213Z"
   },
   {
    "duration": 6,
    "start_time": "2023-01-25T21:07:04.245Z"
   },
   {
    "duration": 19,
    "start_time": "2023-01-25T21:07:04.253Z"
   },
   {
    "duration": 6,
    "start_time": "2023-01-25T21:07:04.273Z"
   },
   {
    "duration": 27,
    "start_time": "2023-01-25T21:07:04.283Z"
   },
   {
    "duration": 8,
    "start_time": "2023-01-25T21:07:04.312Z"
   },
   {
    "duration": 44,
    "start_time": "2023-01-25T21:07:04.321Z"
   },
   {
    "duration": 3,
    "start_time": "2023-01-25T21:07:04.367Z"
   },
   {
    "duration": 19,
    "start_time": "2023-01-25T21:07:04.371Z"
   },
   {
    "duration": 16,
    "start_time": "2023-01-25T21:07:04.392Z"
   },
   {
    "duration": 63,
    "start_time": "2023-01-25T21:07:04.410Z"
   },
   {
    "duration": 55,
    "start_time": "2023-01-25T21:07:04.474Z"
   },
   {
    "duration": 6,
    "start_time": "2023-01-25T21:07:04.531Z"
   },
   {
    "duration": 15,
    "start_time": "2023-01-25T21:07:04.538Z"
   },
   {
    "duration": 35,
    "start_time": "2023-01-25T21:07:04.555Z"
   },
   {
    "duration": 12,
    "start_time": "2023-01-25T21:07:04.592Z"
   },
   {
    "duration": 8,
    "start_time": "2023-01-25T21:07:04.605Z"
   },
   {
    "duration": 26,
    "start_time": "2023-01-25T21:07:04.615Z"
   },
   {
    "duration": 56,
    "start_time": "2023-01-25T21:07:04.645Z"
   },
   {
    "duration": 3,
    "start_time": "2023-01-25T21:07:04.703Z"
   },
   {
    "duration": 44,
    "start_time": "2023-01-25T21:07:04.707Z"
   },
   {
    "duration": 7,
    "start_time": "2023-01-25T21:07:04.753Z"
   },
   {
    "duration": 53,
    "start_time": "2023-01-25T21:07:04.762Z"
   },
   {
    "duration": 4,
    "start_time": "2023-01-25T21:07:04.817Z"
   },
   {
    "duration": 8,
    "start_time": "2023-01-25T21:07:04.822Z"
   },
   {
    "duration": 13,
    "start_time": "2023-01-25T21:07:04.831Z"
   },
   {
    "duration": 7,
    "start_time": "2023-01-25T21:07:04.845Z"
   },
   {
    "duration": 14,
    "start_time": "2023-01-25T21:07:04.854Z"
   },
   {
    "duration": 2905,
    "start_time": "2023-01-25T21:07:04.870Z"
   },
   {
    "duration": 29,
    "start_time": "2023-01-25T21:07:07.777Z"
   },
   {
    "duration": 88,
    "start_time": "2023-01-25T21:07:07.807Z"
   },
   {
    "duration": 20,
    "start_time": "2023-01-25T21:07:07.897Z"
   },
   {
    "duration": 132,
    "start_time": "2023-01-25T21:07:07.919Z"
   },
   {
    "duration": 31,
    "start_time": "2023-01-25T21:07:08.053Z"
   },
   {
    "duration": 110,
    "start_time": "2023-01-25T21:07:08.086Z"
   },
   {
    "duration": 11,
    "start_time": "2023-01-25T21:07:08.198Z"
   },
   {
    "duration": 124,
    "start_time": "2023-01-25T21:07:08.211Z"
   },
   {
    "duration": 13,
    "start_time": "2023-01-25T21:07:08.337Z"
   },
   {
    "duration": 134,
    "start_time": "2023-01-25T21:07:08.352Z"
   },
   {
    "duration": 23,
    "start_time": "2023-01-25T21:07:08.487Z"
   },
   {
    "duration": 122,
    "start_time": "2023-01-25T21:07:08.511Z"
   },
   {
    "duration": 12,
    "start_time": "2023-01-25T21:07:08.635Z"
   },
   {
    "duration": 111,
    "start_time": "2023-01-25T21:07:08.648Z"
   },
   {
    "duration": 184,
    "start_time": "2023-01-25T21:07:08.760Z"
   },
   {
    "duration": 22,
    "start_time": "2023-01-25T21:07:08.946Z"
   },
   {
    "duration": 119,
    "start_time": "2023-01-25T21:07:08.970Z"
   },
   {
    "duration": 14,
    "start_time": "2023-01-25T21:07:09.091Z"
   },
   {
    "duration": 14,
    "start_time": "2023-01-25T21:07:09.107Z"
   },
   {
    "duration": 33,
    "start_time": "2023-01-25T21:07:09.123Z"
   },
   {
    "duration": 17,
    "start_time": "2023-01-25T21:07:09.159Z"
   },
   {
    "duration": 93,
    "start_time": "2023-01-25T21:07:09.179Z"
   },
   {
    "duration": 15,
    "start_time": "2023-01-25T21:07:09.274Z"
   },
   {
    "duration": 4,
    "start_time": "2023-01-25T21:07:09.291Z"
   },
   {
    "duration": 663,
    "start_time": "2023-01-25T21:07:09.298Z"
   },
   {
    "duration": 4,
    "start_time": "2023-01-25T21:07:09.963Z"
   },
   {
    "duration": 200,
    "start_time": "2023-01-25T21:07:09.969Z"
   },
   {
    "duration": 169,
    "start_time": "2023-01-25T21:07:10.171Z"
   },
   {
    "duration": 198,
    "start_time": "2023-01-25T21:07:10.342Z"
   },
   {
    "duration": 212,
    "start_time": "2023-01-25T21:07:10.542Z"
   },
   {
    "duration": 186,
    "start_time": "2023-01-25T21:07:10.756Z"
   },
   {
    "duration": 171,
    "start_time": "2023-01-25T21:07:10.944Z"
   },
   {
    "duration": 205,
    "start_time": "2023-01-25T21:07:11.118Z"
   },
   {
    "duration": 137,
    "start_time": "2023-01-25T21:07:11.325Z"
   },
   {
    "duration": 211,
    "start_time": "2023-01-25T21:07:11.463Z"
   },
   {
    "duration": 282,
    "start_time": "2023-01-25T21:07:11.677Z"
   },
   {
    "duration": 196,
    "start_time": "2023-01-25T21:07:11.961Z"
   },
   {
    "duration": 159,
    "start_time": "2023-01-25T21:07:12.159Z"
   },
   {
    "duration": 206,
    "start_time": "2023-01-25T21:07:12.321Z"
   },
   {
    "duration": 222,
    "start_time": "2023-01-25T21:07:12.529Z"
   },
   {
    "duration": 179,
    "start_time": "2023-01-25T21:07:12.753Z"
   },
   {
    "duration": 8,
    "start_time": "2023-01-25T21:07:12.934Z"
   },
   {
    "duration": 282,
    "start_time": "2023-01-25T21:07:12.943Z"
   },
   {
    "duration": 112,
    "start_time": "2023-01-25T21:07:13.233Z"
   },
   {
    "duration": 15,
    "start_time": "2023-01-25T21:07:13.347Z"
   },
   {
    "duration": 979,
    "start_time": "2023-01-25T21:07:13.364Z"
   },
   {
    "duration": 184,
    "start_time": "2023-01-25T21:07:14.345Z"
   },
   {
    "duration": 271,
    "start_time": "2023-01-25T21:07:14.530Z"
   },
   {
    "duration": 189,
    "start_time": "2023-01-25T21:07:14.802Z"
   },
   {
    "duration": 163,
    "start_time": "2023-01-25T21:07:14.993Z"
   },
   {
    "duration": 166,
    "start_time": "2023-01-25T21:07:15.158Z"
   },
   {
    "duration": 192,
    "start_time": "2023-01-25T21:07:15.326Z"
   },
   {
    "duration": 184,
    "start_time": "2023-01-25T21:07:15.520Z"
   },
   {
    "duration": 174,
    "start_time": "2023-01-25T21:07:15.706Z"
   },
   {
    "duration": 165,
    "start_time": "2023-01-25T21:07:15.884Z"
   },
   {
    "duration": 43,
    "start_time": "2023-01-25T21:07:16.051Z"
   },
   {
    "duration": 15,
    "start_time": "2023-01-25T21:07:16.096Z"
   },
   {
    "duration": 234,
    "start_time": "2023-01-25T21:07:16.113Z"
   },
   {
    "duration": 15,
    "start_time": "2023-01-25T21:07:24.828Z"
   }
  ],
  "kernelspec": {
   "display_name": "Python 3 (ipykernel)",
   "language": "python",
   "name": "python3"
  },
  "language_info": {
   "codemirror_mode": {
    "name": "ipython",
    "version": 3
   },
   "file_extension": ".py",
   "mimetype": "text/x-python",
   "name": "python",
   "nbconvert_exporter": "python",
   "pygments_lexer": "ipython3",
   "version": "3.9.13"
  },
  "toc": {
   "base_numbering": 1,
   "nav_menu": {},
   "number_sections": true,
   "sideBar": true,
   "skip_h1_title": true,
   "title_cell": "Table of Contents",
   "title_sidebar": "Contents",
   "toc_cell": false,
   "toc_position": {},
   "toc_section_display": true,
   "toc_window_display": true
  }
 },
 "nbformat": 4,
 "nbformat_minor": 2
}
